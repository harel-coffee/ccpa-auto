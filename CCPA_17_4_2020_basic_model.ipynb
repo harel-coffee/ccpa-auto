{
 "cells": [
  {
   "cell_type": "code",
   "execution_count": 471,
   "metadata": {},
   "outputs": [],
   "source": [
    "import itertools\n",
    "import sys, os\n",
    "\n",
    "import numpy as np\n",
    "import pandas as pd\n",
    "from scipy.special import comb\n",
    "from scipy import stats\n",
    "import scipy.cluster.hierarchy as hac\n",
    "import matplotlib.pyplot as plt\n",
    "plt.style.use('classic')\n",
    "%matplotlib inline\n",
    "import numpy as np\n",
    "import pandas as pd\n",
    "import seaborn as sns\n",
    "from sklearn.decomposition import PCA\n",
    "from sklearn.preprocessing import StandardScaler\n",
    "from sklearn import metrics\n",
    "import statsmodels.api as sm\n",
    "\n",
    "sns.set(rc={'figure.figsize':(15,8)})\n",
    "sns.set_context('poster')\n",
    "from sklearn.model_selection import train_test_split"
   ]
  },
  {
   "cell_type": "code",
   "execution_count": 472,
   "metadata": {},
   "outputs": [
    {
     "name": "stdout",
     "output_type": "stream",
     "text": [
      "The autoreload extension is already loaded. To reload it, use:\n",
      "  %reload_ext autoreload\n"
     ]
    }
   ],
   "source": [
    "%load_ext autoreload\n",
    "%autoreload 2\n",
    "import CCPA_lib as cp\n"
   ]
  },
  {
   "cell_type": "code",
   "execution_count": 473,
   "metadata": {},
   "outputs": [],
   "source": [
    "sns.set(rc={'figure.figsize':(15,8)})\n",
    "sns.set_context('talk')\n",
    "sns.set_style('white')"
   ]
  },
  {
   "cell_type": "code",
   "execution_count": 474,
   "metadata": {},
   "outputs": [],
   "source": [
    "\n",
    "ppallete = 'RdYlGn'#'YlGn_d' #\"BuGn_d\"\n",
    "porder = ['MED4',  'MIT9312','MIT0604', 'Natl2A', 'MIT9313']\n",
    "ppallete = [ '#62A586', '#face6e','#f79934', '#7A9BC8', '#F47681', ]\n",
    "psizes = [150,120,200,120,350]\n",
    "pmarkers = ['o', 's', '^', 'D', '*']\n",
    "\n",
    "# #ffd7a1\n",
    "    \n",
    "pedge = 'green'\n",
    "apallete = \"spring\"\n",
    "aorder = ['DE', 'DE1', '1A3', 'ATCC', 'BS11']\n",
    "amarkers = ['P', 'X', 'h', '<','>']\n",
    "apallete = ['#6dad36', '#c7e89f', '#f5c4e1', '#d5579d', '#8a0850']\n",
    "\n",
    "aedge='orange'\n",
    "epallete = ['#6cf0ba', '#d13f75', '#eeb7cb', '#b9d2d8', '#407f90']\n",
    "#sns.diverging_palette(355, 217, s=74, l=50, n=4) #'Paired' # 'BrBG'# \"coolwarm\"\n",
    "eorder = ['e1','e3', 'e4', 'e5', 'e6']\n",
    "#aedge='orange'\n"
   ]
  },
  {
   "cell_type": "code",
   "execution_count": 475,
   "metadata": {},
   "outputs": [],
   "source": [
    "from sympy import *"
   ]
  },
  {
   "cell_type": "code",
   "execution_count": 476,
   "metadata": {},
   "outputs": [],
   "source": [
    "df = pd.read_pickle('CCPA.pkl.gz')\n",
    "df.loc[df.PRO == 'C9B', 'PRO'] = 'MIT0604'"
   ]
  },
  {
   "cell_type": "raw",
   "metadata": {},
   "source": [
    "dfw = df.loc[(df.experiment.isin(['e1', 'e3', 'e4','e5', 'e6']))]"
   ]
  },
  {
   "cell_type": "code",
   "execution_count": 477,
   "metadata": {},
   "outputs": [],
   "source": [
    "fcm_data_dpath = r'fcm_and_fl'\n",
    "fcm_csv_fnames = [ n for n in os.listdir(fcm_data_dpath) if n.endswith('.csv')]\n",
    "def _load_fcm_fl_csv(data_dpath, fname):\n",
    "    df = pd.read_csv(os.path.join(data_dpath, fname), index_col=0, header=None).T\n",
    "    #df = df.reset_index()\n",
    "    # remove rows and columns that are all nan\n",
    "    df = df.dropna(how='all')\n",
    "    df = df.loc[:, df.columns.notnull()] \n",
    "    df['Sample'] = os.path.splitext(fname)[0]\n",
    "    df.VALUE = pd.to_numeric(df.VALUE)\n",
    "    df.day = pd.to_numeric(df.day)\n",
    "    df['MODE'] = df.EXP.str.split('_', expand=True)[1]\n",
    "    #df = df.melt(id_vars=[ 'Sample', 'PRO', 'ALT', 'EXP', 'METHOD','day'],\n",
    "        #value_vars=['N', 'P', 'TMM', 'N+P+TMM', 'Control ', 'Transfer to Pro99 1:15'],\n",
    "        #value_name='FL',\n",
    "        #var_name ='Mode'\n",
    "    #            )\n",
    "    return df\n",
    "fcm_temp_dfs = [_load_fcm_fl_csv(fcm_data_dpath, fname) for fname in fcm_csv_fnames]\n",
    "fcm_df = pd.concat(fcm_temp_dfs)\n",
    "#df.loc[df.FL < 100, 'FL'] = 0\n",
    "fcm_df.loc[fcm_df['MODE']== 'PRO99','MODE'] = 'pro99'\n",
    "fcm_df.loc[fcm_df.Sample == '9313 LD_FL1', 'PRO'] = 'MIT9313'"
   ]
  },
  {
   "cell_type": "code",
   "execution_count": 478,
   "metadata": {},
   "outputs": [],
   "source": [
    "fcm_dfn = fcm_df.loc[fcm_df.MODE.isin(['lowN']) & fcm_df.METHOD.isin(['FCM'])]"
   ]
  },
  {
   "cell_type": "code",
   "execution_count": 479,
   "metadata": {},
   "outputs": [
    {
     "data": {
      "text/plain": [
       "MED4       48\n",
       "MIT9313    36\n",
       "MIT9312    24\n",
       "Name: PRO, dtype: int64"
      ]
     },
     "execution_count": 479,
     "metadata": {},
     "output_type": "execute_result"
    }
   ],
   "source": [
    "fcm_dfn.PRO.value_counts()\n"
   ]
  },
  {
   "cell_type": "code",
   "execution_count": 480,
   "metadata": {},
   "outputs": [],
   "source": [
    "reference_days = fcm_dfn.loc[fcm_dfn.PRO== 'MIT9313'].day.unique().tolist()"
   ]
  },
  {
   "cell_type": "code",
   "execution_count": 481,
   "metadata": {},
   "outputs": [
    {
     "data": {
      "text/plain": [
       "34.0"
      ]
     },
     "execution_count": 481,
     "metadata": {},
     "output_type": "execute_result"
    }
   ],
   "source": [
    "max(reference_days)"
   ]
  },
  {
   "cell_type": "code",
   "execution_count": 482,
   "metadata": {},
   "outputs": [],
   "source": [
    "import model.basic_model_lib"
   ]
  },
  {
   "cell_type": "code",
   "execution_count": 483,
   "metadata": {},
   "outputs": [],
   "source": [
    "m = model.basic_model_lib.ModelProALT()"
   ]
  },
  {
   "cell_type": "raw",
   "metadata": {},
   "source": [
    "init_printing()\n",
    "for i in m.intermediate_variables.values():\n",
    "    display(i.symbol, i.formula)\n",
    "    print()\n",
    "\n",
    "for i in m.variables.values():\n",
    "    display(i.symbol, i.formula)\n",
    "    print()\n"
   ]
  },
  {
   "cell_type": "code",
   "execution_count": 484,
   "metadata": {},
   "outputs": [
    {
     "name": "stdout",
     "output_type": "stream",
     "text": [
      "gamma_n_p 0.04\n",
      "gamma_c_p 0.04\n",
      "gamma_n_a 0.04\n",
      "gamma_c_a 0.04\n",
      "excretion_n_p 0.01\n",
      "excretion_c_p 0.01\n",
      "excretion_n_a 0.01\n",
      "excretion_c_a 0.01\n",
      "v_n_max_p 1.9e-09\n",
      "v_c_max_p 8e-09\n",
      "v_n_max_a 1.9e-09\n",
      "v_c_max_a 8e-09\n",
      "mu_inf_p 0.86\n",
      "mu_inf_a 0.86\n",
      "k_n_p 0.11008885160313818\n",
      "k_c_p 0.11008885160313818\n",
      "k_n_a 0.11008885160313818\n",
      "k_c_a 0.11008885160313818\n",
      "q_n_min_p 7e-10\n",
      "q_c_min_p 3e-11\n",
      "q_n_min_a 7e-10\n",
      "q_c_min_a 3e-11\n",
      "q_n_max_p 1.5e-09\n",
      "q_c_max_p 6e-09\n",
      "q_n_max_a 1.5e-09\n",
      "q_c_max_a 6e-09\n",
      "mortality_p 0.1\n",
      "mortality_a 0.1\n",
      "r0_p 0.18\n",
      "r0_a 0.18\n",
      "b_p 0.01\n",
      "b_a 0.01\n",
      "delta_t 1.1574074074074073e-05\n"
     ]
    }
   ],
   "source": [
    "m.print_param_values()"
   ]
  },
  {
   "cell_type": "code",
   "execution_count": 486,
   "metadata": {},
   "outputs": [
    {
     "name": "stdout",
     "output_type": "stream",
     "text": [
      "."
     ]
    }
   ],
   "source": [
    "param_values = [1.9e-09, 0.86, 0.11, 7e-10,1.5e-09]\n",
    "param_names = [\n",
    "'v_n_max_p',\n",
    "'mu_inf_p', \n",
    "'k_n_p' ,\n",
    "'q_n_min_p' ,\n",
    "'q_n_max_p' ,\n",
    "]\n",
    "ref_df =  fcm_dfn.loc[fcm_dfn.PRO== 'MIT9313']\n",
    "m = model.basic_model_lib.ModelProALT()\n",
    "m.disable_organism('ALT')\n",
    "m.override_initial_values({\n",
    "    'b_n_a': 0,\n",
    "    'b_c_a': 0,\n",
    "    'x_a': 0,\n",
    "})\n",
    "m.override_param_values({i : k for i, k in zip(param_names, param_values)})\n",
    "reference_days = ref_df['day'].unique().tolist()\n",
    "max_day = int(ref_df['day'].max()) + 1\n",
    "m.set_referece_times(reference_days)\n",
    "_, ref_res = m.simulate(num_iterations=max_day*3600*24, collect_every=None)\n",
    "ref_res_df = pd.DataFrame(ref_res)\n",
    "t = pd.merge(ref_res_df[['day', 'x_p']], ref_df[['day', 'VALUE']], on='day')\n",
    "#print(t)\n",
    "#if np.isfinite(t).any().any() or t.isna().any().any() or (t.shape[0] == 0):\n"
   ]
  },
  {
   "cell_type": "code",
   "execution_count": 491,
   "metadata": {},
   "outputs": [
    {
     "data": {
      "text/plain": [
       "False"
      ]
     },
     "execution_count": 491,
     "metadata": {},
     "output_type": "execute_result"
    }
   ],
   "source": [
    "(~np.isfinite(t)).any().any()"
   ]
  },
  {
   "cell_type": "code",
   "execution_count": 533,
   "metadata": {},
   "outputs": [
    {
     "data": {
      "text/html": [
       "<div>\n",
       "<style scoped>\n",
       "    .dataframe tbody tr th:only-of-type {\n",
       "        vertical-align: middle;\n",
       "    }\n",
       "\n",
       "    .dataframe tbody tr th {\n",
       "        vertical-align: top;\n",
       "    }\n",
       "\n",
       "    .dataframe thead th {\n",
       "        text-align: right;\n",
       "    }\n",
       "</style>\n",
       "<table border=\"1\" class=\"dataframe\">\n",
       "  <thead>\n",
       "    <tr style=\"text-align: right;\">\n",
       "      <th></th>\n",
       "      <th>day</th>\n",
       "      <th>VALUE</th>\n",
       "      <th>EXP</th>\n",
       "      <th>METHOD</th>\n",
       "      <th>PRO</th>\n",
       "      <th>ALT</th>\n",
       "      <th>Sample</th>\n",
       "      <th>MODE</th>\n",
       "    </tr>\n",
       "  </thead>\n",
       "  <tbody>\n",
       "    <tr>\n",
       "      <th>1</th>\n",
       "      <td>8.0</td>\n",
       "      <td>2.115254e+06</td>\n",
       "      <td>9313_lowN_1</td>\n",
       "      <td>FCM</td>\n",
       "      <td>MIT9313</td>\n",
       "      <td>NaN</td>\n",
       "      <td>9313 lowN_FCM1</td>\n",
       "      <td>lowN</td>\n",
       "    </tr>\n",
       "    <tr>\n",
       "      <th>2</th>\n",
       "      <td>11.0</td>\n",
       "      <td>4.784504e+06</td>\n",
       "      <td>9313_lowN_1</td>\n",
       "      <td>FCM</td>\n",
       "      <td>MIT9313</td>\n",
       "      <td>NaN</td>\n",
       "      <td>9313 lowN_FCM1</td>\n",
       "      <td>lowN</td>\n",
       "    </tr>\n",
       "    <tr>\n",
       "      <th>3</th>\n",
       "      <td>13.0</td>\n",
       "      <td>1.158547e+07</td>\n",
       "      <td>9313_lowN_1</td>\n",
       "      <td>FCM</td>\n",
       "      <td>MIT9313</td>\n",
       "      <td>NaN</td>\n",
       "      <td>9313 lowN_FCM1</td>\n",
       "      <td>lowN</td>\n",
       "    </tr>\n",
       "    <tr>\n",
       "      <th>4</th>\n",
       "      <td>15.0</td>\n",
       "      <td>2.935981e+07</td>\n",
       "      <td>9313_lowN_1</td>\n",
       "      <td>FCM</td>\n",
       "      <td>MIT9313</td>\n",
       "      <td>NaN</td>\n",
       "      <td>9313 lowN_FCM1</td>\n",
       "      <td>lowN</td>\n",
       "    </tr>\n",
       "    <tr>\n",
       "      <th>5</th>\n",
       "      <td>18.0</td>\n",
       "      <td>4.145666e+07</td>\n",
       "      <td>9313_lowN_1</td>\n",
       "      <td>FCM</td>\n",
       "      <td>MIT9313</td>\n",
       "      <td>NaN</td>\n",
       "      <td>9313 lowN_FCM1</td>\n",
       "      <td>lowN</td>\n",
       "    </tr>\n",
       "    <tr>\n",
       "      <th>6</th>\n",
       "      <td>20.0</td>\n",
       "      <td>3.365617e+07</td>\n",
       "      <td>9313_lowN_1</td>\n",
       "      <td>FCM</td>\n",
       "      <td>MIT9313</td>\n",
       "      <td>NaN</td>\n",
       "      <td>9313 lowN_FCM1</td>\n",
       "      <td>lowN</td>\n",
       "    </tr>\n",
       "    <tr>\n",
       "      <th>7</th>\n",
       "      <td>22.0</td>\n",
       "      <td>2.762228e+07</td>\n",
       "      <td>9313_lowN_1</td>\n",
       "      <td>FCM</td>\n",
       "      <td>MIT9313</td>\n",
       "      <td>NaN</td>\n",
       "      <td>9313 lowN_FCM1</td>\n",
       "      <td>lowN</td>\n",
       "    </tr>\n",
       "    <tr>\n",
       "      <th>8</th>\n",
       "      <td>25.0</td>\n",
       "      <td>2.921065e+06</td>\n",
       "      <td>9313_lowN_1</td>\n",
       "      <td>FCM</td>\n",
       "      <td>MIT9313</td>\n",
       "      <td>NaN</td>\n",
       "      <td>9313 lowN_FCM1</td>\n",
       "      <td>lowN</td>\n",
       "    </tr>\n",
       "    <tr>\n",
       "      <th>9</th>\n",
       "      <td>28.0</td>\n",
       "      <td>1.468281e+06</td>\n",
       "      <td>9313_lowN_1</td>\n",
       "      <td>FCM</td>\n",
       "      <td>MIT9313</td>\n",
       "      <td>NaN</td>\n",
       "      <td>9313 lowN_FCM1</td>\n",
       "      <td>lowN</td>\n",
       "    </tr>\n",
       "    <tr>\n",
       "      <th>10</th>\n",
       "      <td>29.0</td>\n",
       "      <td>7.360775e+04</td>\n",
       "      <td>9313_lowN_1</td>\n",
       "      <td>FCM</td>\n",
       "      <td>MIT9313</td>\n",
       "      <td>NaN</td>\n",
       "      <td>9313 lowN_FCM1</td>\n",
       "      <td>lowN</td>\n",
       "    </tr>\n",
       "    <tr>\n",
       "      <th>11</th>\n",
       "      <td>32.0</td>\n",
       "      <td>7.748184e+03</td>\n",
       "      <td>9313_lowN_1</td>\n",
       "      <td>FCM</td>\n",
       "      <td>MIT9313</td>\n",
       "      <td>NaN</td>\n",
       "      <td>9313 lowN_FCM1</td>\n",
       "      <td>lowN</td>\n",
       "    </tr>\n",
       "    <tr>\n",
       "      <th>12</th>\n",
       "      <td>34.0</td>\n",
       "      <td>0.000000e+00</td>\n",
       "      <td>9313_lowN_1</td>\n",
       "      <td>FCM</td>\n",
       "      <td>MIT9313</td>\n",
       "      <td>NaN</td>\n",
       "      <td>9313 lowN_FCM1</td>\n",
       "      <td>lowN</td>\n",
       "    </tr>\n",
       "    <tr>\n",
       "      <th>1</th>\n",
       "      <td>8.0</td>\n",
       "      <td>2.917191e+06</td>\n",
       "      <td>9313_lowN_2</td>\n",
       "      <td>FCM</td>\n",
       "      <td>MIT9313</td>\n",
       "      <td>NaN</td>\n",
       "      <td>9313 lowN_FCM2</td>\n",
       "      <td>lowN</td>\n",
       "    </tr>\n",
       "    <tr>\n",
       "      <th>2</th>\n",
       "      <td>11.0</td>\n",
       "      <td>5.952542e+06</td>\n",
       "      <td>9313_lowN_2</td>\n",
       "      <td>FCM</td>\n",
       "      <td>MIT9313</td>\n",
       "      <td>NaN</td>\n",
       "      <td>9313 lowN_FCM2</td>\n",
       "      <td>lowN</td>\n",
       "    </tr>\n",
       "    <tr>\n",
       "      <th>3</th>\n",
       "      <td>13.0</td>\n",
       "      <td>1.972107e+07</td>\n",
       "      <td>9313_lowN_2</td>\n",
       "      <td>FCM</td>\n",
       "      <td>MIT9313</td>\n",
       "      <td>NaN</td>\n",
       "      <td>9313 lowN_FCM2</td>\n",
       "      <td>lowN</td>\n",
       "    </tr>\n",
       "    <tr>\n",
       "      <th>4</th>\n",
       "      <td>15.0</td>\n",
       "      <td>2.553027e+07</td>\n",
       "      <td>9313_lowN_2</td>\n",
       "      <td>FCM</td>\n",
       "      <td>MIT9313</td>\n",
       "      <td>NaN</td>\n",
       "      <td>9313 lowN_FCM2</td>\n",
       "      <td>lowN</td>\n",
       "    </tr>\n",
       "    <tr>\n",
       "      <th>5</th>\n",
       "      <td>18.0</td>\n",
       "      <td>3.481259e+07</td>\n",
       "      <td>9313_lowN_2</td>\n",
       "      <td>FCM</td>\n",
       "      <td>MIT9313</td>\n",
       "      <td>NaN</td>\n",
       "      <td>9313 lowN_FCM2</td>\n",
       "      <td>lowN</td>\n",
       "    </tr>\n",
       "    <tr>\n",
       "      <th>6</th>\n",
       "      <td>20.0</td>\n",
       "      <td>3.946538e+07</td>\n",
       "      <td>9313_lowN_2</td>\n",
       "      <td>FCM</td>\n",
       "      <td>MIT9313</td>\n",
       "      <td>NaN</td>\n",
       "      <td>9313 lowN_FCM2</td>\n",
       "      <td>lowN</td>\n",
       "    </tr>\n",
       "    <tr>\n",
       "      <th>7</th>\n",
       "      <td>22.0</td>\n",
       "      <td>1.928329e+07</td>\n",
       "      <td>9313_lowN_2</td>\n",
       "      <td>FCM</td>\n",
       "      <td>MIT9313</td>\n",
       "      <td>NaN</td>\n",
       "      <td>9313 lowN_FCM2</td>\n",
       "      <td>lowN</td>\n",
       "    </tr>\n",
       "    <tr>\n",
       "      <th>8</th>\n",
       "      <td>25.0</td>\n",
       "      <td>1.876998e+06</td>\n",
       "      <td>9313_lowN_2</td>\n",
       "      <td>FCM</td>\n",
       "      <td>MIT9313</td>\n",
       "      <td>NaN</td>\n",
       "      <td>9313 lowN_FCM2</td>\n",
       "      <td>lowN</td>\n",
       "    </tr>\n",
       "    <tr>\n",
       "      <th>9</th>\n",
       "      <td>28.0</td>\n",
       "      <td>8.523002e+05</td>\n",
       "      <td>9313_lowN_2</td>\n",
       "      <td>FCM</td>\n",
       "      <td>MIT9313</td>\n",
       "      <td>NaN</td>\n",
       "      <td>9313 lowN_FCM2</td>\n",
       "      <td>lowN</td>\n",
       "    </tr>\n",
       "    <tr>\n",
       "      <th>10</th>\n",
       "      <td>29.0</td>\n",
       "      <td>5.617433e+04</td>\n",
       "      <td>9313_lowN_2</td>\n",
       "      <td>FCM</td>\n",
       "      <td>MIT9313</td>\n",
       "      <td>NaN</td>\n",
       "      <td>9313 lowN_FCM2</td>\n",
       "      <td>lowN</td>\n",
       "    </tr>\n",
       "    <tr>\n",
       "      <th>11</th>\n",
       "      <td>32.0</td>\n",
       "      <td>7.748184e+04</td>\n",
       "      <td>9313_lowN_2</td>\n",
       "      <td>FCM</td>\n",
       "      <td>MIT9313</td>\n",
       "      <td>NaN</td>\n",
       "      <td>9313 lowN_FCM2</td>\n",
       "      <td>lowN</td>\n",
       "    </tr>\n",
       "    <tr>\n",
       "      <th>12</th>\n",
       "      <td>34.0</td>\n",
       "      <td>0.000000e+00</td>\n",
       "      <td>9313_lowN_2</td>\n",
       "      <td>FCM</td>\n",
       "      <td>MIT9313</td>\n",
       "      <td>NaN</td>\n",
       "      <td>9313 lowN_FCM2</td>\n",
       "      <td>lowN</td>\n",
       "    </tr>\n",
       "    <tr>\n",
       "      <th>1</th>\n",
       "      <td>8.0</td>\n",
       "      <td>2.657627e+06</td>\n",
       "      <td>9313_lowN_3</td>\n",
       "      <td>FCM</td>\n",
       "      <td>MIT9313</td>\n",
       "      <td>NaN</td>\n",
       "      <td>9313 lowN_FCM3</td>\n",
       "      <td>lowN</td>\n",
       "    </tr>\n",
       "    <tr>\n",
       "      <th>2</th>\n",
       "      <td>11.0</td>\n",
       "      <td>4.513317e+06</td>\n",
       "      <td>9313_lowN_3</td>\n",
       "      <td>FCM</td>\n",
       "      <td>MIT9313</td>\n",
       "      <td>NaN</td>\n",
       "      <td>9313 lowN_FCM3</td>\n",
       "      <td>lowN</td>\n",
       "    </tr>\n",
       "    <tr>\n",
       "      <th>3</th>\n",
       "      <td>13.0</td>\n",
       "      <td>1.384019e+07</td>\n",
       "      <td>9313_lowN_3</td>\n",
       "      <td>FCM</td>\n",
       "      <td>MIT9313</td>\n",
       "      <td>NaN</td>\n",
       "      <td>9313 lowN_FCM3</td>\n",
       "      <td>lowN</td>\n",
       "    </tr>\n",
       "    <tr>\n",
       "      <th>4</th>\n",
       "      <td>15.0</td>\n",
       "      <td>2.964068e+07</td>\n",
       "      <td>9313_lowN_3</td>\n",
       "      <td>FCM</td>\n",
       "      <td>MIT9313</td>\n",
       "      <td>NaN</td>\n",
       "      <td>9313 lowN_FCM3</td>\n",
       "      <td>lowN</td>\n",
       "    </tr>\n",
       "    <tr>\n",
       "      <th>5</th>\n",
       "      <td>18.0</td>\n",
       "      <td>3.786538e+07</td>\n",
       "      <td>9313_lowN_3</td>\n",
       "      <td>FCM</td>\n",
       "      <td>MIT9313</td>\n",
       "      <td>NaN</td>\n",
       "      <td>9313 lowN_FCM3</td>\n",
       "      <td>lowN</td>\n",
       "    </tr>\n",
       "    <tr>\n",
       "      <th>6</th>\n",
       "      <td>20.0</td>\n",
       "      <td>2.691913e+07</td>\n",
       "      <td>9313_lowN_3</td>\n",
       "      <td>FCM</td>\n",
       "      <td>MIT9313</td>\n",
       "      <td>NaN</td>\n",
       "      <td>9313 lowN_FCM3</td>\n",
       "      <td>lowN</td>\n",
       "    </tr>\n",
       "    <tr>\n",
       "      <th>7</th>\n",
       "      <td>22.0</td>\n",
       "      <td>2.287845e+07</td>\n",
       "      <td>9313_lowN_3</td>\n",
       "      <td>FCM</td>\n",
       "      <td>MIT9313</td>\n",
       "      <td>NaN</td>\n",
       "      <td>9313 lowN_FCM3</td>\n",
       "      <td>lowN</td>\n",
       "    </tr>\n",
       "    <tr>\n",
       "      <th>8</th>\n",
       "      <td>25.0</td>\n",
       "      <td>1.528329e+06</td>\n",
       "      <td>9313_lowN_3</td>\n",
       "      <td>FCM</td>\n",
       "      <td>MIT9313</td>\n",
       "      <td>NaN</td>\n",
       "      <td>9313 lowN_FCM3</td>\n",
       "      <td>lowN</td>\n",
       "    </tr>\n",
       "    <tr>\n",
       "      <th>9</th>\n",
       "      <td>28.0</td>\n",
       "      <td>1.154479e+06</td>\n",
       "      <td>9313_lowN_3</td>\n",
       "      <td>FCM</td>\n",
       "      <td>MIT9313</td>\n",
       "      <td>NaN</td>\n",
       "      <td>9313 lowN_FCM3</td>\n",
       "      <td>lowN</td>\n",
       "    </tr>\n",
       "    <tr>\n",
       "      <th>10</th>\n",
       "      <td>29.0</td>\n",
       "      <td>9.878935e+04</td>\n",
       "      <td>9313_lowN_3</td>\n",
       "      <td>FCM</td>\n",
       "      <td>MIT9313</td>\n",
       "      <td>NaN</td>\n",
       "      <td>9313 lowN_FCM3</td>\n",
       "      <td>lowN</td>\n",
       "    </tr>\n",
       "    <tr>\n",
       "      <th>11</th>\n",
       "      <td>32.0</td>\n",
       "      <td>6.004843e+04</td>\n",
       "      <td>9313_lowN_3</td>\n",
       "      <td>FCM</td>\n",
       "      <td>MIT9313</td>\n",
       "      <td>NaN</td>\n",
       "      <td>9313 lowN_FCM3</td>\n",
       "      <td>lowN</td>\n",
       "    </tr>\n",
       "    <tr>\n",
       "      <th>12</th>\n",
       "      <td>34.0</td>\n",
       "      <td>0.000000e+00</td>\n",
       "      <td>9313_lowN_3</td>\n",
       "      <td>FCM</td>\n",
       "      <td>MIT9313</td>\n",
       "      <td>NaN</td>\n",
       "      <td>9313 lowN_FCM3</td>\n",
       "      <td>lowN</td>\n",
       "    </tr>\n",
       "  </tbody>\n",
       "</table>\n",
       "</div>"
      ],
      "text/plain": [
       "0    day         VALUE          EXP METHOD      PRO  ALT          Sample  MODE\n",
       "1    8.0  2.115254e+06  9313_lowN_1    FCM  MIT9313  NaN  9313 lowN_FCM1  lowN\n",
       "2   11.0  4.784504e+06  9313_lowN_1    FCM  MIT9313  NaN  9313 lowN_FCM1  lowN\n",
       "3   13.0  1.158547e+07  9313_lowN_1    FCM  MIT9313  NaN  9313 lowN_FCM1  lowN\n",
       "4   15.0  2.935981e+07  9313_lowN_1    FCM  MIT9313  NaN  9313 lowN_FCM1  lowN\n",
       "5   18.0  4.145666e+07  9313_lowN_1    FCM  MIT9313  NaN  9313 lowN_FCM1  lowN\n",
       "6   20.0  3.365617e+07  9313_lowN_1    FCM  MIT9313  NaN  9313 lowN_FCM1  lowN\n",
       "7   22.0  2.762228e+07  9313_lowN_1    FCM  MIT9313  NaN  9313 lowN_FCM1  lowN\n",
       "8   25.0  2.921065e+06  9313_lowN_1    FCM  MIT9313  NaN  9313 lowN_FCM1  lowN\n",
       "9   28.0  1.468281e+06  9313_lowN_1    FCM  MIT9313  NaN  9313 lowN_FCM1  lowN\n",
       "10  29.0  7.360775e+04  9313_lowN_1    FCM  MIT9313  NaN  9313 lowN_FCM1  lowN\n",
       "11  32.0  7.748184e+03  9313_lowN_1    FCM  MIT9313  NaN  9313 lowN_FCM1  lowN\n",
       "12  34.0  0.000000e+00  9313_lowN_1    FCM  MIT9313  NaN  9313 lowN_FCM1  lowN\n",
       "1    8.0  2.917191e+06  9313_lowN_2    FCM  MIT9313  NaN  9313 lowN_FCM2  lowN\n",
       "2   11.0  5.952542e+06  9313_lowN_2    FCM  MIT9313  NaN  9313 lowN_FCM2  lowN\n",
       "3   13.0  1.972107e+07  9313_lowN_2    FCM  MIT9313  NaN  9313 lowN_FCM2  lowN\n",
       "4   15.0  2.553027e+07  9313_lowN_2    FCM  MIT9313  NaN  9313 lowN_FCM2  lowN\n",
       "5   18.0  3.481259e+07  9313_lowN_2    FCM  MIT9313  NaN  9313 lowN_FCM2  lowN\n",
       "6   20.0  3.946538e+07  9313_lowN_2    FCM  MIT9313  NaN  9313 lowN_FCM2  lowN\n",
       "7   22.0  1.928329e+07  9313_lowN_2    FCM  MIT9313  NaN  9313 lowN_FCM2  lowN\n",
       "8   25.0  1.876998e+06  9313_lowN_2    FCM  MIT9313  NaN  9313 lowN_FCM2  lowN\n",
       "9   28.0  8.523002e+05  9313_lowN_2    FCM  MIT9313  NaN  9313 lowN_FCM2  lowN\n",
       "10  29.0  5.617433e+04  9313_lowN_2    FCM  MIT9313  NaN  9313 lowN_FCM2  lowN\n",
       "11  32.0  7.748184e+04  9313_lowN_2    FCM  MIT9313  NaN  9313 lowN_FCM2  lowN\n",
       "12  34.0  0.000000e+00  9313_lowN_2    FCM  MIT9313  NaN  9313 lowN_FCM2  lowN\n",
       "1    8.0  2.657627e+06  9313_lowN_3    FCM  MIT9313  NaN  9313 lowN_FCM3  lowN\n",
       "2   11.0  4.513317e+06  9313_lowN_3    FCM  MIT9313  NaN  9313 lowN_FCM3  lowN\n",
       "3   13.0  1.384019e+07  9313_lowN_3    FCM  MIT9313  NaN  9313 lowN_FCM3  lowN\n",
       "4   15.0  2.964068e+07  9313_lowN_3    FCM  MIT9313  NaN  9313 lowN_FCM3  lowN\n",
       "5   18.0  3.786538e+07  9313_lowN_3    FCM  MIT9313  NaN  9313 lowN_FCM3  lowN\n",
       "6   20.0  2.691913e+07  9313_lowN_3    FCM  MIT9313  NaN  9313 lowN_FCM3  lowN\n",
       "7   22.0  2.287845e+07  9313_lowN_3    FCM  MIT9313  NaN  9313 lowN_FCM3  lowN\n",
       "8   25.0  1.528329e+06  9313_lowN_3    FCM  MIT9313  NaN  9313 lowN_FCM3  lowN\n",
       "9   28.0  1.154479e+06  9313_lowN_3    FCM  MIT9313  NaN  9313 lowN_FCM3  lowN\n",
       "10  29.0  9.878935e+04  9313_lowN_3    FCM  MIT9313  NaN  9313 lowN_FCM3  lowN\n",
       "11  32.0  6.004843e+04  9313_lowN_3    FCM  MIT9313  NaN  9313 lowN_FCM3  lowN\n",
       "12  34.0  0.000000e+00  9313_lowN_3    FCM  MIT9313  NaN  9313 lowN_FCM3  lowN"
      ]
     },
     "execution_count": 533,
     "metadata": {},
     "output_type": "execute_result"
    }
   ],
   "source": [
    "fcm_dfn.loc[fcm_dfn.PRO== 'MIT9313']"
   ]
  },
  {
   "cell_type": "code",
   "execution_count": null,
   "metadata": {},
   "outputs": [],
   "source": []
  },
  {
   "cell_type": "code",
   "execution_count": null,
   "metadata": {},
   "outputs": [],
   "source": []
  },
  {
   "cell_type": "code",
   "execution_count": null,
   "metadata": {},
   "outputs": [],
   "source": []
  },
  {
   "cell_type": "code",
   "execution_count": 493,
   "metadata": {},
   "outputs": [
    {
     "name": "stdout",
     "output_type": "stream",
     "text": [
      "."
     ]
    },
    {
     "data": {
      "text/plain": [
       "80.54656675913363"
      ]
     },
     "execution_count": 493,
     "metadata": {},
     "output_type": "execute_result"
    }
   ],
   "source": [
    "param_values = [1.9e-09, 0.86, 0.11, 7e-10,1.5e-09]\n",
    "param_names = [\n",
    "'v_n_max_p',\n",
    "'mu_inf_p', \n",
    "'k_n_p' ,\n",
    "'q_n_min_p' ,\n",
    "'q_n_max_p' ,\n",
    "]\n",
    "\n",
    "model.basic_model_lib.model_optimize_PRO(param_values, fcm_dfn.loc[fcm_dfn.PRO== 'MIT9313'], param_names)\n"
   ]
  },
  {
   "cell_type": "code",
   "execution_count": 494,
   "metadata": {
    "scrolled": false
   },
   "outputs": [
    {
     "name": "stdout",
     "output_type": "stream",
     "text": [
      ".."
     ]
    },
    {
     "name": "stderr",
     "output_type": "stream",
     "text": [
      "<string>:2: RuntimeWarning: overflow encountered in double_scalars\n",
      "<string>:2: RuntimeWarning: overflow encountered in double_scalars\n",
      "<string>:2: RuntimeWarning: invalid value encountered in double_scalars\n",
      "<string>:2: RuntimeWarning: invalid value encountered in double_scalars\n"
     ]
    },
    {
     "name": "stdout",
     "output_type": "stream",
     "text": [
      "bad\n",
      "....................."
     ]
    },
    {
     "name": "stderr",
     "output_type": "stream",
     "text": [
      "<string>:2: RuntimeWarning: overflow encountered in double_scalars\n",
      "<string>:2: RuntimeWarning: overflow encountered in double_scalars\n",
      "<string>:2: RuntimeWarning: invalid value encountered in double_scalars\n",
      "<string>:2: RuntimeWarning: invalid value encountered in double_scalars\n"
     ]
    },
    {
     "name": "stdout",
     "output_type": "stream",
     "text": [
      "bad\n",
      "................................................................."
     ]
    },
    {
     "name": "stderr",
     "output_type": "stream",
     "text": [
      "<string>:2: RuntimeWarning: overflow encountered in double_scalars\n",
      "<string>:2: RuntimeWarning: overflow encountered in double_scalars\n",
      "<string>:2: RuntimeWarning: invalid value encountered in double_scalars\n",
      "<string>:2: RuntimeWarning: invalid value encountered in double_scalars\n"
     ]
    },
    {
     "name": "stdout",
     "output_type": "stream",
     "text": [
      "bad\n",
      "."
     ]
    },
    {
     "name": "stderr",
     "output_type": "stream",
     "text": [
      "<string>:2: RuntimeWarning: overflow encountered in double_scalars\n",
      "<string>:2: RuntimeWarning: overflow encountered in double_scalars\n",
      "<string>:2: RuntimeWarning: invalid value encountered in double_scalars\n",
      "<string>:2: RuntimeWarning: invalid value encountered in double_scalars\n"
     ]
    },
    {
     "name": "stdout",
     "output_type": "stream",
     "text": [
      "bad\n",
      "....................."
     ]
    },
    {
     "name": "stderr",
     "output_type": "stream",
     "text": [
      "<string>:2: RuntimeWarning: overflow encountered in double_scalars\n",
      "<string>:2: RuntimeWarning: overflow encountered in double_scalars\n",
      "<string>:2: RuntimeWarning: invalid value encountered in double_scalars\n",
      "<string>:2: RuntimeWarning: invalid value encountered in double_scalars\n"
     ]
    },
    {
     "name": "stdout",
     "output_type": "stream",
     "text": [
      "bad\n",
      "."
     ]
    },
    {
     "name": "stderr",
     "output_type": "stream",
     "text": [
      "<string>:2: RuntimeWarning: overflow encountered in double_scalars\n",
      "<string>:2: RuntimeWarning: overflow encountered in double_scalars\n",
      "<string>:2: RuntimeWarning: invalid value encountered in double_scalars\n",
      "<string>:2: RuntimeWarning: invalid value encountered in double_scalars\n"
     ]
    },
    {
     "name": "stdout",
     "output_type": "stream",
     "text": [
      "bad\n",
      "....................................."
     ]
    },
    {
     "name": "stderr",
     "output_type": "stream",
     "text": [
      "<string>:2: RuntimeWarning: overflow encountered in double_scalars\n",
      "<string>:2: RuntimeWarning: overflow encountered in double_scalars\n",
      "<string>:2: RuntimeWarning: invalid value encountered in double_scalars\n",
      "<string>:2: RuntimeWarning: invalid value encountered in double_scalars\n"
     ]
    },
    {
     "name": "stdout",
     "output_type": "stream",
     "text": [
      "bad\n",
      "..differential_evolution step 1: f(x)= 21.0254\n",
      ".........................................."
     ]
    },
    {
     "name": "stderr",
     "output_type": "stream",
     "text": [
      "<string>:2: RuntimeWarning: overflow encountered in double_scalars\n",
      "<string>:2: RuntimeWarning: overflow encountered in double_scalars\n",
      "<string>:2: RuntimeWarning: invalid value encountered in double_scalars\n",
      "<string>:2: RuntimeWarning: invalid value encountered in double_scalars\n"
     ]
    },
    {
     "name": "stdout",
     "output_type": "stream",
     "text": [
      "bad\n",
      "...."
     ]
    },
    {
     "name": "stderr",
     "output_type": "stream",
     "text": [
      "<string>:2: RuntimeWarning: overflow encountered in double_scalars\n",
      "<string>:2: RuntimeWarning: overflow encountered in double_scalars\n",
      "<string>:2: RuntimeWarning: invalid value encountered in double_scalars\n",
      "<string>:2: RuntimeWarning: invalid value encountered in double_scalars\n"
     ]
    },
    {
     "name": "stdout",
     "output_type": "stream",
     "text": [
      "bad\n",
      "................"
     ]
    },
    {
     "name": "stderr",
     "output_type": "stream",
     "text": [
      "<string>:2: RuntimeWarning: overflow encountered in double_scalars\n",
      "<string>:2: RuntimeWarning: overflow encountered in double_scalars\n",
      "<string>:2: RuntimeWarning: invalid value encountered in double_scalars\n",
      "<string>:2: RuntimeWarning: invalid value encountered in double_scalars\n"
     ]
    },
    {
     "name": "stdout",
     "output_type": "stream",
     "text": [
      "bad\n",
      ".............differential_evolution step 2: f(x)= 21.0193\n",
      ".........................."
     ]
    },
    {
     "name": "stderr",
     "output_type": "stream",
     "text": [
      "<string>:2: RuntimeWarning: overflow encountered in double_scalars\n",
      "<string>:2: RuntimeWarning: overflow encountered in double_scalars\n",
      "<string>:2: RuntimeWarning: invalid value encountered in double_scalars\n",
      "<string>:2: RuntimeWarning: invalid value encountered in double_scalars\n"
     ]
    },
    {
     "name": "stdout",
     "output_type": "stream",
     "text": [
      "bad\n",
      "......."
     ]
    },
    {
     "name": "stderr",
     "output_type": "stream",
     "text": [
      "<string>:2: RuntimeWarning: overflow encountered in double_scalars\n",
      "<string>:2: RuntimeWarning: overflow encountered in double_scalars\n",
      "<string>:2: RuntimeWarning: invalid value encountered in double_scalars\n",
      "<string>:2: RuntimeWarning: invalid value encountered in double_scalars\n"
     ]
    },
    {
     "name": "stdout",
     "output_type": "stream",
     "text": [
      ".........................................."
     ]
    },
    {
     "name": "stderr",
     "output_type": "stream",
     "text": [
      "<string>:2: RuntimeWarning: overflow encountered in double_scalars\n",
      "<string>:2: RuntimeWarning: overflow encountered in double_scalars\n",
      "<string>:2: RuntimeWarning: invalid value encountered in double_scalars\n",
      "<string>:2: RuntimeWarning: invalid value encountered in double_scalars\n"
     ]
    },
    {
     "name": "stdout",
     "output_type": "stream",
     "text": [
      "bad\n",
      "differential_evolution step 3: f(x)= 21.0019\n",
      ".........................."
     ]
    },
    {
     "name": "stderr",
     "output_type": "stream",
     "text": [
      "<string>:2: RuntimeWarning: overflow encountered in double_scalars\n",
      "<string>:2: RuntimeWarning: overflow encountered in double_scalars\n",
      "<string>:2: RuntimeWarning: invalid value encountered in double_scalars\n",
      "<string>:2: RuntimeWarning: invalid value encountered in double_scalars\n"
     ]
    },
    {
     "name": "stdout",
     "output_type": "stream",
     "text": [
      "bad\n",
      ".."
     ]
    },
    {
     "name": "stderr",
     "output_type": "stream",
     "text": [
      "<string>:2: RuntimeWarning: overflow encountered in double_scalars\n",
      "<string>:2: RuntimeWarning: overflow encountered in double_scalars\n",
      "<string>:2: RuntimeWarning: invalid value encountered in double_scalars\n",
      "<string>:2: RuntimeWarning: invalid value encountered in double_scalars\n"
     ]
    },
    {
     "name": "stdout",
     "output_type": "stream",
     "text": [
      "bad\n",
      "..........................."
     ]
    },
    {
     "name": "stderr",
     "output_type": "stream",
     "text": [
      "<string>:2: RuntimeWarning: overflow encountered in double_scalars\n",
      "<string>:2: RuntimeWarning: overflow encountered in double_scalars\n",
      "<string>:2: RuntimeWarning: invalid value encountered in double_scalars\n",
      "<string>:2: RuntimeWarning: invalid value encountered in double_scalars\n"
     ]
    },
    {
     "name": "stdout",
     "output_type": "stream",
     "text": [
      "bad\n",
      "........"
     ]
    },
    {
     "name": "stderr",
     "output_type": "stream",
     "text": [
      "<string>:2: RuntimeWarning: overflow encountered in double_scalars\n",
      "<string>:2: RuntimeWarning: overflow encountered in double_scalars\n",
      "<string>:2: RuntimeWarning: invalid value encountered in double_scalars\n",
      "<string>:2: RuntimeWarning: invalid value encountered in double_scalars\n"
     ]
    },
    {
     "name": "stdout",
     "output_type": "stream",
     "text": [
      "bad\n",
      "."
     ]
    },
    {
     "name": "stderr",
     "output_type": "stream",
     "text": [
      "<string>:2: RuntimeWarning: overflow encountered in double_scalars\n",
      "<string>:2: RuntimeWarning: overflow encountered in double_scalars\n",
      "<string>:2: RuntimeWarning: invalid value encountered in double_scalars\n",
      "<string>:2: RuntimeWarning: invalid value encountered in double_scalars\n"
     ]
    },
    {
     "name": "stdout",
     "output_type": "stream",
     "text": [
      "bad\n",
      "...........differential_evolution step 4: f(x)= 21.0019\n",
      "............"
     ]
    },
    {
     "name": "stderr",
     "output_type": "stream",
     "text": [
      "<string>:2: RuntimeWarning: overflow encountered in double_scalars\n",
      "<string>:2: RuntimeWarning: overflow encountered in double_scalars\n",
      "<string>:2: RuntimeWarning: invalid value encountered in double_scalars\n",
      "<string>:2: RuntimeWarning: invalid value encountered in double_scalars\n"
     ]
    },
    {
     "name": "stdout",
     "output_type": "stream",
     "text": [
      "bad\n",
      "......."
     ]
    },
    {
     "name": "stderr",
     "output_type": "stream",
     "text": [
      "<string>:2: RuntimeWarning: overflow encountered in double_scalars\n",
      "<string>:2: RuntimeWarning: overflow encountered in double_scalars\n",
      "<string>:2: RuntimeWarning: invalid value encountered in double_scalars\n",
      "<string>:2: RuntimeWarning: invalid value encountered in double_scalars\n"
     ]
    },
    {
     "name": "stdout",
     "output_type": "stream",
     "text": [
      "bad\n",
      "......................"
     ]
    },
    {
     "name": "stderr",
     "output_type": "stream",
     "text": [
      "<string>:2: RuntimeWarning: overflow encountered in double_scalars\n",
      "<string>:2: RuntimeWarning: overflow encountered in double_scalars\n",
      "<string>:2: RuntimeWarning: invalid value encountered in double_scalars\n",
      "<string>:2: RuntimeWarning: invalid value encountered in double_scalars\n"
     ]
    },
    {
     "name": "stdout",
     "output_type": "stream",
     "text": [
      "bad\n",
      "......"
     ]
    },
    {
     "name": "stderr",
     "output_type": "stream",
     "text": [
      "<string>:2: RuntimeWarning: overflow encountered in double_scalars\n",
      "<string>:2: RuntimeWarning: overflow encountered in double_scalars\n",
      "<string>:2: RuntimeWarning: invalid value encountered in double_scalars\n",
      "<string>:2: RuntimeWarning: invalid value encountered in double_scalars\n"
     ]
    },
    {
     "name": "stdout",
     "output_type": "stream",
     "text": [
      "bad\n",
      "...."
     ]
    },
    {
     "name": "stderr",
     "output_type": "stream",
     "text": [
      "<string>:2: RuntimeWarning: overflow encountered in double_scalars\n",
      "<string>:2: RuntimeWarning: overflow encountered in double_scalars\n",
      "<string>:2: RuntimeWarning: invalid value encountered in double_scalars\n",
      "<string>:2: RuntimeWarning: invalid value encountered in double_scalars\n"
     ]
    },
    {
     "name": "stdout",
     "output_type": "stream",
     "text": [
      "bad\n",
      "..............."
     ]
    },
    {
     "name": "stderr",
     "output_type": "stream",
     "text": [
      "<string>:2: RuntimeWarning: overflow encountered in double_scalars\n",
      "<string>:2: RuntimeWarning: overflow encountered in double_scalars\n",
      "<string>:2: RuntimeWarning: invalid value encountered in double_scalars\n",
      "<string>:2: RuntimeWarning: invalid value encountered in double_scalars\n"
     ]
    },
    {
     "name": "stdout",
     "output_type": "stream",
     "text": [
      "bad\n",
      "....."
     ]
    },
    {
     "name": "stderr",
     "output_type": "stream",
     "text": [
      "<string>:2: RuntimeWarning: overflow encountered in double_scalars\n",
      "<string>:2: RuntimeWarning: overflow encountered in double_scalars\n",
      "<string>:2: RuntimeWarning: invalid value encountered in double_scalars\n",
      "<string>:2: RuntimeWarning: invalid value encountered in double_scalars\n"
     ]
    },
    {
     "name": "stdout",
     "output_type": "stream",
     "text": [
      "bad\n",
      "....differential_evolution step 5: f(x)= 21.0019\n",
      "...."
     ]
    },
    {
     "name": "stderr",
     "output_type": "stream",
     "text": [
      "<string>:2: RuntimeWarning: overflow encountered in double_scalars\n",
      "<string>:2: RuntimeWarning: overflow encountered in double_scalars\n",
      "<string>:2: RuntimeWarning: invalid value encountered in double_scalars\n",
      "<string>:2: RuntimeWarning: invalid value encountered in double_scalars\n"
     ]
    },
    {
     "name": "stdout",
     "output_type": "stream",
     "text": [
      "bad\n",
      "............................."
     ]
    },
    {
     "name": "stderr",
     "output_type": "stream",
     "text": [
      "<string>:2: RuntimeWarning: overflow encountered in double_scalars\n",
      "<string>:2: RuntimeWarning: overflow encountered in double_scalars\n",
      "<string>:2: RuntimeWarning: invalid value encountered in double_scalars\n",
      "<string>:2: RuntimeWarning: invalid value encountered in double_scalars\n"
     ]
    },
    {
     "name": "stdout",
     "output_type": "stream",
     "text": [
      "bad\n",
      "................"
     ]
    },
    {
     "name": "stderr",
     "output_type": "stream",
     "text": [
      "<string>:2: RuntimeWarning: overflow encountered in double_scalars\n",
      "<string>:2: RuntimeWarning: overflow encountered in double_scalars\n",
      "<string>:2: RuntimeWarning: invalid value encountered in double_scalars\n",
      "<string>:2: RuntimeWarning: invalid value encountered in double_scalars\n"
     ]
    },
    {
     "name": "stdout",
     "output_type": "stream",
     "text": [
      "bad\n",
      ".................."
     ]
    },
    {
     "name": "stderr",
     "output_type": "stream",
     "text": [
      "<string>:2: RuntimeWarning: overflow encountered in double_scalars\n",
      "<string>:2: RuntimeWarning: overflow encountered in double_scalars\n",
      "<string>:2: RuntimeWarning: invalid value encountered in double_scalars\n",
      "<string>:2: RuntimeWarning: invalid value encountered in double_scalars\n"
     ]
    },
    {
     "name": "stdout",
     "output_type": "stream",
     "text": [
      "bad\n",
      "......."
     ]
    },
    {
     "name": "stderr",
     "output_type": "stream",
     "text": [
      "<string>:2: RuntimeWarning: overflow encountered in double_scalars\n",
      "<string>:2: RuntimeWarning: overflow encountered in double_scalars\n",
      "<string>:2: RuntimeWarning: invalid value encountered in double_scalars\n",
      "<string>:2: RuntimeWarning: invalid value encountered in double_scalars\n"
     ]
    },
    {
     "name": "stdout",
     "output_type": "stream",
     "text": [
      "bad\n",
      ".differential_evolution step 6: f(x)= 21.0019\n",
      "......."
     ]
    },
    {
     "name": "stderr",
     "output_type": "stream",
     "text": [
      "<string>:2: RuntimeWarning: overflow encountered in double_scalars\n",
      "<string>:2: RuntimeWarning: overflow encountered in double_scalars\n",
      "<string>:2: RuntimeWarning: invalid value encountered in double_scalars\n",
      "<string>:2: RuntimeWarning: invalid value encountered in double_scalars\n"
     ]
    },
    {
     "name": "stdout",
     "output_type": "stream",
     "text": [
      "bad\n",
      "........"
     ]
    },
    {
     "name": "stderr",
     "output_type": "stream",
     "text": [
      "<string>:2: RuntimeWarning: overflow encountered in double_scalars\n",
      "<string>:2: RuntimeWarning: overflow encountered in double_scalars\n",
      "<string>:2: RuntimeWarning: invalid value encountered in double_scalars\n",
      "<string>:2: RuntimeWarning: invalid value encountered in double_scalars\n"
     ]
    },
    {
     "name": "stdout",
     "output_type": "stream",
     "text": [
      "bad\n",
      "....................."
     ]
    },
    {
     "name": "stderr",
     "output_type": "stream",
     "text": [
      "<string>:2: RuntimeWarning: overflow encountered in double_scalars\n",
      "<string>:2: RuntimeWarning: overflow encountered in double_scalars\n",
      "<string>:2: RuntimeWarning: invalid value encountered in double_scalars\n",
      "<string>:2: RuntimeWarning: invalid value encountered in double_scalars\n"
     ]
    },
    {
     "name": "stdout",
     "output_type": "stream",
     "text": [
      "bad\n",
      ".............."
     ]
    },
    {
     "name": "stderr",
     "output_type": "stream",
     "text": [
      "<string>:2: RuntimeWarning: overflow encountered in double_scalars\n",
      "<string>:2: RuntimeWarning: overflow encountered in double_scalars\n",
      "<string>:2: RuntimeWarning: invalid value encountered in double_scalars\n",
      "<string>:2: RuntimeWarning: invalid value encountered in double_scalars\n"
     ]
    },
    {
     "name": "stdout",
     "output_type": "stream",
     "text": [
      "bad\n",
      "........."
     ]
    },
    {
     "name": "stderr",
     "output_type": "stream",
     "text": [
      "<string>:2: RuntimeWarning: overflow encountered in double_scalars\n",
      "<string>:2: RuntimeWarning: overflow encountered in double_scalars\n",
      "<string>:2: RuntimeWarning: invalid value encountered in double_scalars\n",
      "<string>:2: RuntimeWarning: invalid value encountered in double_scalars\n"
     ]
    },
    {
     "name": "stdout",
     "output_type": "stream",
     "text": [
      "bad\n",
      ".."
     ]
    },
    {
     "name": "stderr",
     "output_type": "stream",
     "text": [
      "<string>:2: RuntimeWarning: overflow encountered in double_scalars\n",
      "<string>:2: RuntimeWarning: overflow encountered in double_scalars\n",
      "<string>:2: RuntimeWarning: invalid value encountered in double_scalars\n",
      "<string>:2: RuntimeWarning: invalid value encountered in double_scalars\n"
     ]
    },
    {
     "name": "stdout",
     "output_type": "stream",
     "text": [
      "bad\n",
      "........."
     ]
    },
    {
     "name": "stderr",
     "output_type": "stream",
     "text": [
      "<string>:2: RuntimeWarning: overflow encountered in double_scalars\n",
      "<string>:2: RuntimeWarning: overflow encountered in double_scalars\n",
      "<string>:2: RuntimeWarning: invalid value encountered in double_scalars\n",
      "<string>:2: RuntimeWarning: invalid value encountered in double_scalars\n"
     ]
    },
    {
     "name": "stdout",
     "output_type": "stream",
     "text": [
      "bad\n",
      ".....differential_evolution step 7: f(x)= 21.0019\n",
      "..........."
     ]
    },
    {
     "name": "stderr",
     "output_type": "stream",
     "text": [
      "<string>:2: RuntimeWarning: overflow encountered in double_scalars\n",
      "<string>:2: RuntimeWarning: overflow encountered in double_scalars\n",
      "<string>:2: RuntimeWarning: invalid value encountered in double_scalars\n",
      "<string>:2: RuntimeWarning: invalid value encountered in double_scalars\n"
     ]
    },
    {
     "name": "stdout",
     "output_type": "stream",
     "text": [
      "bad\n",
      ".............."
     ]
    },
    {
     "name": "stderr",
     "output_type": "stream",
     "text": [
      "<string>:2: RuntimeWarning: overflow encountered in double_scalars\n",
      "<string>:2: RuntimeWarning: overflow encountered in double_scalars\n",
      "<string>:2: RuntimeWarning: invalid value encountered in double_scalars\n",
      "<string>:2: RuntimeWarning: invalid value encountered in double_scalars\n"
     ]
    },
    {
     "name": "stdout",
     "output_type": "stream",
     "text": [
      "bad\n",
      "........"
     ]
    },
    {
     "name": "stderr",
     "output_type": "stream",
     "text": [
      "<string>:2: RuntimeWarning: overflow encountered in double_scalars\n",
      "<string>:2: RuntimeWarning: overflow encountered in double_scalars\n",
      "<string>:2: RuntimeWarning: invalid value encountered in double_scalars\n",
      "<string>:2: RuntimeWarning: invalid value encountered in double_scalars\n"
     ]
    },
    {
     "name": "stdout",
     "output_type": "stream",
     "text": [
      "bad\n",
      "."
     ]
    },
    {
     "name": "stderr",
     "output_type": "stream",
     "text": [
      "<string>:2: RuntimeWarning: overflow encountered in double_scalars\n",
      "<string>:2: RuntimeWarning: overflow encountered in double_scalars\n",
      "<string>:2: RuntimeWarning: invalid value encountered in double_scalars\n",
      "<string>:2: RuntimeWarning: invalid value encountered in double_scalars\n"
     ]
    },
    {
     "name": "stdout",
     "output_type": "stream",
     "text": [
      "bad\n",
      ".................."
     ]
    },
    {
     "name": "stderr",
     "output_type": "stream",
     "text": [
      "<string>:2: RuntimeWarning: overflow encountered in double_scalars\n",
      "<string>:2: RuntimeWarning: overflow encountered in double_scalars\n",
      "<string>:2: RuntimeWarning: invalid value encountered in double_scalars\n",
      "<string>:2: RuntimeWarning: invalid value encountered in double_scalars\n"
     ]
    },
    {
     "name": "stdout",
     "output_type": "stream",
     "text": [
      "bad\n",
      "........"
     ]
    },
    {
     "name": "stderr",
     "output_type": "stream",
     "text": [
      "<string>:2: RuntimeWarning: overflow encountered in double_scalars\n",
      "<string>:2: RuntimeWarning: overflow encountered in double_scalars\n",
      "<string>:2: RuntimeWarning: invalid value encountered in double_scalars\n",
      "<string>:2: RuntimeWarning: invalid value encountered in double_scalars\n"
     ]
    },
    {
     "name": "stdout",
     "output_type": "stream",
     "text": [
      "bad\n",
      ".."
     ]
    },
    {
     "name": "stderr",
     "output_type": "stream",
     "text": [
      "<string>:2: RuntimeWarning: overflow encountered in double_scalars\n",
      "<string>:2: RuntimeWarning: overflow encountered in double_scalars\n",
      "<string>:2: RuntimeWarning: invalid value encountered in double_scalars\n",
      "<string>:2: RuntimeWarning: invalid value encountered in double_scalars\n"
     ]
    },
    {
     "name": "stdout",
     "output_type": "stream",
     "text": [
      "bad\n",
      ".............differential_evolution step 8: f(x)= 21.0019\n",
      "........."
     ]
    },
    {
     "name": "stderr",
     "output_type": "stream",
     "text": [
      "<string>:2: RuntimeWarning: overflow encountered in double_scalars\n",
      "<string>:2: RuntimeWarning: overflow encountered in double_scalars\n",
      "<string>:2: RuntimeWarning: invalid value encountered in double_scalars\n",
      "<string>:2: RuntimeWarning: invalid value encountered in double_scalars\n"
     ]
    },
    {
     "name": "stdout",
     "output_type": "stream",
     "text": [
      "bad\n",
      "...................................................."
     ]
    },
    {
     "name": "stderr",
     "output_type": "stream",
     "text": [
      "<string>:2: RuntimeWarning: overflow encountered in double_scalars\n",
      "<string>:2: RuntimeWarning: overflow encountered in double_scalars\n",
      "<string>:2: RuntimeWarning: invalid value encountered in double_scalars\n",
      "<string>:2: RuntimeWarning: invalid value encountered in double_scalars\n"
     ]
    },
    {
     "name": "stdout",
     "output_type": "stream",
     "text": [
      "bad\n",
      "......."
     ]
    },
    {
     "name": "stderr",
     "output_type": "stream",
     "text": [
      "<string>:2: RuntimeWarning: overflow encountered in double_scalars\n",
      "<string>:2: RuntimeWarning: overflow encountered in double_scalars\n",
      "<string>:2: RuntimeWarning: invalid value encountered in double_scalars\n",
      "<string>:2: RuntimeWarning: invalid value encountered in double_scalars\n"
     ]
    },
    {
     "name": "stdout",
     "output_type": "stream",
     "text": [
      "bad\n",
      ".......differential_evolution step 9: f(x)= 21.0019\n",
      "."
     ]
    },
    {
     "name": "stderr",
     "output_type": "stream",
     "text": [
      "<string>:2: RuntimeWarning: overflow encountered in double_scalars\n",
      "<string>:2: RuntimeWarning: overflow encountered in double_scalars\n",
      "<string>:2: RuntimeWarning: invalid value encountered in double_scalars\n",
      "<string>:2: RuntimeWarning: invalid value encountered in double_scalars\n"
     ]
    },
    {
     "name": "stdout",
     "output_type": "stream",
     "text": [
      "bad\n",
      "....."
     ]
    },
    {
     "name": "stderr",
     "output_type": "stream",
     "text": [
      "<string>:2: RuntimeWarning: overflow encountered in double_scalars\n",
      "<string>:2: RuntimeWarning: overflow encountered in double_scalars\n",
      "<string>:2: RuntimeWarning: invalid value encountered in double_scalars\n",
      "<string>:2: RuntimeWarning: invalid value encountered in double_scalars\n"
     ]
    },
    {
     "name": "stdout",
     "output_type": "stream",
     "text": [
      "bad\n",
      "......."
     ]
    },
    {
     "name": "stderr",
     "output_type": "stream",
     "text": [
      "<string>:2: RuntimeWarning: overflow encountered in double_scalars\n",
      "<string>:2: RuntimeWarning: overflow encountered in double_scalars\n",
      "<string>:2: RuntimeWarning: invalid value encountered in double_scalars\n",
      "<string>:2: RuntimeWarning: invalid value encountered in double_scalars\n"
     ]
    },
    {
     "name": "stdout",
     "output_type": "stream",
     "text": [
      "bad\n",
      ".............................."
     ]
    },
    {
     "name": "stderr",
     "output_type": "stream",
     "text": [
      "<string>:2: RuntimeWarning: overflow encountered in double_scalars\n",
      "<string>:2: RuntimeWarning: overflow encountered in double_scalars\n",
      "<string>:2: RuntimeWarning: invalid value encountered in double_scalars\n",
      "<string>:2: RuntimeWarning: invalid value encountered in double_scalars\n"
     ]
    },
    {
     "name": "stdout",
     "output_type": "stream",
     "text": [
      "bad\n",
      "........."
     ]
    },
    {
     "name": "stderr",
     "output_type": "stream",
     "text": [
      "<string>:2: RuntimeWarning: overflow encountered in double_scalars\n",
      "<string>:2: RuntimeWarning: overflow encountered in double_scalars\n",
      "<string>:2: RuntimeWarning: invalid value encountered in double_scalars\n",
      "<string>:2: RuntimeWarning: invalid value encountered in double_scalars\n"
     ]
    },
    {
     "name": "stdout",
     "output_type": "stream",
     "text": [
      "bad\n",
      "."
     ]
    },
    {
     "name": "stderr",
     "output_type": "stream",
     "text": [
      "<string>:2: RuntimeWarning: overflow encountered in double_scalars\n",
      "<string>:2: RuntimeWarning: overflow encountered in double_scalars\n",
      "<string>:2: RuntimeWarning: invalid value encountered in double_scalars\n",
      "<string>:2: RuntimeWarning: invalid value encountered in double_scalars\n"
     ]
    },
    {
     "name": "stdout",
     "output_type": "stream",
     "text": [
      "bad\n",
      "......................"
     ]
    },
    {
     "name": "stderr",
     "output_type": "stream",
     "text": [
      "<string>:2: RuntimeWarning: overflow encountered in double_scalars\n",
      "<string>:2: RuntimeWarning: overflow encountered in double_scalars\n",
      "<string>:2: RuntimeWarning: invalid value encountered in double_scalars\n",
      "<string>:2: RuntimeWarning: invalid value encountered in double_scalars\n"
     ]
    },
    {
     "name": "stdout",
     "output_type": "stream",
     "text": [
      "bad\n",
      "differential_evolution step 10: f(x)= 20.9977\n",
      "....."
     ]
    },
    {
     "name": "stderr",
     "output_type": "stream",
     "text": [
      "<string>:2: RuntimeWarning: overflow encountered in double_scalars\n",
      "<string>:2: RuntimeWarning: overflow encountered in double_scalars\n",
      "<string>:2: RuntimeWarning: invalid value encountered in double_scalars\n",
      "<string>:2: RuntimeWarning: invalid value encountered in double_scalars\n"
     ]
    },
    {
     "name": "stdout",
     "output_type": "stream",
     "text": [
      "bad\n",
      ".."
     ]
    },
    {
     "name": "stderr",
     "output_type": "stream",
     "text": [
      "<string>:2: RuntimeWarning: overflow encountered in double_scalars\n",
      "<string>:2: RuntimeWarning: overflow encountered in double_scalars\n",
      "<string>:2: RuntimeWarning: invalid value encountered in double_scalars\n",
      "<string>:2: RuntimeWarning: invalid value encountered in double_scalars\n"
     ]
    },
    {
     "name": "stdout",
     "output_type": "stream",
     "text": [
      "bad\n",
      "................."
     ]
    },
    {
     "name": "stderr",
     "output_type": "stream",
     "text": [
      "<string>:2: RuntimeWarning: overflow encountered in double_scalars\n",
      "<string>:2: RuntimeWarning: overflow encountered in double_scalars\n",
      "<string>:2: RuntimeWarning: invalid value encountered in double_scalars\n",
      "<string>:2: RuntimeWarning: invalid value encountered in double_scalars\n"
     ]
    },
    {
     "name": "stdout",
     "output_type": "stream",
     "text": [
      "bad\n",
      ".."
     ]
    },
    {
     "name": "stderr",
     "output_type": "stream",
     "text": [
      "<string>:2: RuntimeWarning: overflow encountered in double_scalars\n",
      "<string>:2: RuntimeWarning: overflow encountered in double_scalars\n",
      "<string>:2: RuntimeWarning: invalid value encountered in double_scalars\n",
      "<string>:2: RuntimeWarning: invalid value encountered in double_scalars\n"
     ]
    },
    {
     "name": "stdout",
     "output_type": "stream",
     "text": [
      "bad\n",
      "....."
     ]
    },
    {
     "name": "stderr",
     "output_type": "stream",
     "text": [
      "<string>:2: RuntimeWarning: overflow encountered in double_scalars\n",
      "<string>:2: RuntimeWarning: overflow encountered in double_scalars\n",
      "<string>:2: RuntimeWarning: invalid value encountered in double_scalars\n",
      "<string>:2: RuntimeWarning: invalid value encountered in double_scalars\n"
     ]
    },
    {
     "name": "stdout",
     "output_type": "stream",
     "text": [
      "bad\n",
      "................."
     ]
    },
    {
     "name": "stderr",
     "output_type": "stream",
     "text": [
      "<string>:2: RuntimeWarning: overflow encountered in double_scalars\n",
      "<string>:2: RuntimeWarning: overflow encountered in double_scalars\n",
      "<string>:2: RuntimeWarning: invalid value encountered in double_scalars\n",
      "<string>:2: RuntimeWarning: invalid value encountered in double_scalars\n"
     ]
    },
    {
     "name": "stdout",
     "output_type": "stream",
     "text": [
      "bad\n",
      ".............."
     ]
    },
    {
     "name": "stderr",
     "output_type": "stream",
     "text": [
      "<string>:2: RuntimeWarning: overflow encountered in double_scalars\n",
      "<string>:2: RuntimeWarning: overflow encountered in double_scalars\n",
      "<string>:2: RuntimeWarning: invalid value encountered in double_scalars\n",
      "<string>:2: RuntimeWarning: invalid value encountered in double_scalars\n"
     ]
    },
    {
     "name": "stdout",
     "output_type": "stream",
     "text": [
      "bad\n",
      "............."
     ]
    },
    {
     "name": "stderr",
     "output_type": "stream",
     "text": [
      "<string>:2: RuntimeWarning: overflow encountered in double_scalars\n",
      "<string>:2: RuntimeWarning: overflow encountered in double_scalars\n",
      "<string>:2: RuntimeWarning: invalid value encountered in double_scalars\n",
      "<string>:2: RuntimeWarning: invalid value encountered in double_scalars\n"
     ]
    },
    {
     "name": "stdout",
     "output_type": "stream",
     "text": [
      "bad\n",
      "differential_evolution step 11: f(x)= 20.9977\n",
      "........."
     ]
    },
    {
     "name": "stderr",
     "output_type": "stream",
     "text": [
      "<string>:2: RuntimeWarning: overflow encountered in double_scalars\n",
      "<string>:2: RuntimeWarning: overflow encountered in double_scalars\n",
      "<string>:2: RuntimeWarning: invalid value encountered in double_scalars\n",
      "<string>:2: RuntimeWarning: invalid value encountered in double_scalars\n"
     ]
    },
    {
     "name": "stdout",
     "output_type": "stream",
     "text": [
      "bad\n",
      "...."
     ]
    },
    {
     "name": "stderr",
     "output_type": "stream",
     "text": [
      "<string>:2: RuntimeWarning: overflow encountered in double_scalars\n",
      "<string>:2: RuntimeWarning: overflow encountered in double_scalars\n",
      "<string>:2: RuntimeWarning: invalid value encountered in double_scalars\n",
      "<string>:2: RuntimeWarning: invalid value encountered in double_scalars\n"
     ]
    },
    {
     "name": "stdout",
     "output_type": "stream",
     "text": [
      "bad\n",
      "........"
     ]
    },
    {
     "name": "stderr",
     "output_type": "stream",
     "text": [
      "<string>:2: RuntimeWarning: overflow encountered in double_scalars\n",
      "<string>:2: RuntimeWarning: overflow encountered in double_scalars\n",
      "<string>:2: RuntimeWarning: invalid value encountered in double_scalars\n",
      "<string>:2: RuntimeWarning: invalid value encountered in double_scalars\n"
     ]
    },
    {
     "name": "stdout",
     "output_type": "stream",
     "text": [
      "bad\n",
      "..........."
     ]
    },
    {
     "name": "stderr",
     "output_type": "stream",
     "text": [
      "<string>:2: RuntimeWarning: overflow encountered in double_scalars\n",
      "<string>:2: RuntimeWarning: overflow encountered in double_scalars\n",
      "<string>:2: RuntimeWarning: invalid value encountered in double_scalars\n",
      "<string>:2: RuntimeWarning: invalid value encountered in double_scalars\n"
     ]
    },
    {
     "name": "stdout",
     "output_type": "stream",
     "text": [
      "bad\n",
      "."
     ]
    },
    {
     "name": "stderr",
     "output_type": "stream",
     "text": [
      "<string>:2: RuntimeWarning: overflow encountered in double_scalars\n",
      "<string>:2: RuntimeWarning: overflow encountered in double_scalars\n",
      "<string>:2: RuntimeWarning: invalid value encountered in double_scalars\n",
      "<string>:2: RuntimeWarning: invalid value encountered in double_scalars\n"
     ]
    },
    {
     "name": "stdout",
     "output_type": "stream",
     "text": [
      "bad\n",
      "............."
     ]
    },
    {
     "name": "stderr",
     "output_type": "stream",
     "text": [
      "<string>:2: RuntimeWarning: overflow encountered in double_scalars\n",
      "<string>:2: RuntimeWarning: overflow encountered in double_scalars\n",
      "<string>:2: RuntimeWarning: invalid value encountered in double_scalars\n",
      "<string>:2: RuntimeWarning: invalid value encountered in double_scalars\n"
     ]
    },
    {
     "name": "stdout",
     "output_type": "stream",
     "text": [
      "bad\n",
      "...."
     ]
    },
    {
     "name": "stderr",
     "output_type": "stream",
     "text": [
      "<string>:2: RuntimeWarning: overflow encountered in double_scalars\n",
      "<string>:2: RuntimeWarning: overflow encountered in double_scalars\n",
      "<string>:2: RuntimeWarning: invalid value encountered in double_scalars\n",
      "<string>:2: RuntimeWarning: invalid value encountered in double_scalars\n"
     ]
    },
    {
     "name": "stdout",
     "output_type": "stream",
     "text": [
      "bad\n",
      "."
     ]
    },
    {
     "name": "stderr",
     "output_type": "stream",
     "text": [
      "<string>:2: RuntimeWarning: overflow encountered in double_scalars\n",
      "<string>:2: RuntimeWarning: overflow encountered in double_scalars\n",
      "<string>:2: RuntimeWarning: invalid value encountered in double_scalars\n",
      "<string>:2: RuntimeWarning: invalid value encountered in double_scalars\n"
     ]
    },
    {
     "name": "stdout",
     "output_type": "stream",
     "text": [
      "bad\n",
      "...."
     ]
    },
    {
     "name": "stderr",
     "output_type": "stream",
     "text": [
      "<string>:2: RuntimeWarning: overflow encountered in double_scalars\n",
      "<string>:2: RuntimeWarning: overflow encountered in double_scalars\n",
      "<string>:2: RuntimeWarning: invalid value encountered in double_scalars\n",
      "<string>:2: RuntimeWarning: invalid value encountered in double_scalars\n"
     ]
    },
    {
     "name": "stdout",
     "output_type": "stream",
     "text": [
      "bad\n",
      "......"
     ]
    },
    {
     "name": "stderr",
     "output_type": "stream",
     "text": [
      "<string>:2: RuntimeWarning: overflow encountered in double_scalars\n",
      "<string>:2: RuntimeWarning: overflow encountered in double_scalars\n",
      "<string>:2: RuntimeWarning: invalid value encountered in double_scalars\n",
      "<string>:2: RuntimeWarning: invalid value encountered in double_scalars\n"
     ]
    },
    {
     "name": "stdout",
     "output_type": "stream",
     "text": [
      "bad\n",
      "...."
     ]
    },
    {
     "name": "stderr",
     "output_type": "stream",
     "text": [
      "<string>:2: RuntimeWarning: overflow encountered in double_scalars\n",
      "<string>:2: RuntimeWarning: overflow encountered in double_scalars\n",
      "<string>:2: RuntimeWarning: invalid value encountered in double_scalars\n",
      "<string>:2: RuntimeWarning: invalid value encountered in double_scalars\n"
     ]
    },
    {
     "name": "stdout",
     "output_type": "stream",
     "text": [
      "bad\n",
      "......."
     ]
    },
    {
     "name": "stderr",
     "output_type": "stream",
     "text": [
      "<string>:2: RuntimeWarning: overflow encountered in double_scalars\n",
      "<string>:2: RuntimeWarning: overflow encountered in double_scalars\n",
      "<string>:2: RuntimeWarning: invalid value encountered in double_scalars\n",
      "<string>:2: RuntimeWarning: invalid value encountered in double_scalars\n"
     ]
    },
    {
     "name": "stdout",
     "output_type": "stream",
     "text": [
      "bad\n",
      "."
     ]
    },
    {
     "name": "stderr",
     "output_type": "stream",
     "text": [
      "<string>:2: RuntimeWarning: overflow encountered in double_scalars\n",
      "<string>:2: RuntimeWarning: overflow encountered in double_scalars\n",
      "<string>:2: RuntimeWarning: invalid value encountered in double_scalars\n",
      "<string>:2: RuntimeWarning: invalid value encountered in double_scalars\n"
     ]
    },
    {
     "name": "stdout",
     "output_type": "stream",
     "text": [
      "bad\n",
      "..differential_evolution step 12: f(x)= 20.9977\n",
      "..."
     ]
    },
    {
     "name": "stderr",
     "output_type": "stream",
     "text": [
      "<string>:2: RuntimeWarning: overflow encountered in double_scalars\n",
      "<string>:2: RuntimeWarning: overflow encountered in double_scalars\n",
      "<string>:2: RuntimeWarning: invalid value encountered in double_scalars\n",
      "<string>:2: RuntimeWarning: invalid value encountered in double_scalars\n"
     ]
    },
    {
     "name": "stdout",
     "output_type": "stream",
     "text": [
      "bad\n",
      "...."
     ]
    },
    {
     "name": "stderr",
     "output_type": "stream",
     "text": [
      "<string>:2: RuntimeWarning: overflow encountered in double_scalars\n",
      "<string>:2: RuntimeWarning: overflow encountered in double_scalars\n",
      "<string>:2: RuntimeWarning: invalid value encountered in double_scalars\n",
      "<string>:2: RuntimeWarning: invalid value encountered in double_scalars\n"
     ]
    },
    {
     "name": "stdout",
     "output_type": "stream",
     "text": [
      "bad\n",
      "..."
     ]
    },
    {
     "name": "stderr",
     "output_type": "stream",
     "text": [
      "<string>:2: RuntimeWarning: overflow encountered in double_scalars\n",
      "<string>:2: RuntimeWarning: overflow encountered in double_scalars\n",
      "<string>:2: RuntimeWarning: invalid value encountered in double_scalars\n",
      "<string>:2: RuntimeWarning: invalid value encountered in double_scalars\n"
     ]
    },
    {
     "name": "stdout",
     "output_type": "stream",
     "text": [
      "bad\n",
      "............"
     ]
    },
    {
     "name": "stderr",
     "output_type": "stream",
     "text": [
      "<string>:2: RuntimeWarning: overflow encountered in double_scalars\n",
      "<string>:2: RuntimeWarning: overflow encountered in double_scalars\n",
      "<string>:2: RuntimeWarning: invalid value encountered in double_scalars\n",
      "<string>:2: RuntimeWarning: invalid value encountered in double_scalars\n"
     ]
    },
    {
     "name": "stdout",
     "output_type": "stream",
     "text": [
      "bad\n",
      ".."
     ]
    },
    {
     "name": "stderr",
     "output_type": "stream",
     "text": [
      "<string>:2: RuntimeWarning: overflow encountered in double_scalars\n",
      "<string>:2: RuntimeWarning: overflow encountered in double_scalars\n",
      "<string>:2: RuntimeWarning: invalid value encountered in double_scalars\n",
      "<string>:2: RuntimeWarning: invalid value encountered in double_scalars\n"
     ]
    },
    {
     "name": "stdout",
     "output_type": "stream",
     "text": [
      "bad\n",
      "......."
     ]
    },
    {
     "name": "stderr",
     "output_type": "stream",
     "text": [
      "<string>:2: RuntimeWarning: overflow encountered in double_scalars\n",
      "<string>:2: RuntimeWarning: overflow encountered in double_scalars\n",
      "<string>:2: RuntimeWarning: invalid value encountered in double_scalars\n",
      "<string>:2: RuntimeWarning: invalid value encountered in double_scalars\n"
     ]
    },
    {
     "name": "stdout",
     "output_type": "stream",
     "text": [
      "bad\n",
      "...."
     ]
    },
    {
     "name": "stderr",
     "output_type": "stream",
     "text": [
      "<string>:2: RuntimeWarning: overflow encountered in double_scalars\n",
      "<string>:2: RuntimeWarning: overflow encountered in double_scalars\n",
      "<string>:2: RuntimeWarning: invalid value encountered in double_scalars\n",
      "<string>:2: RuntimeWarning: invalid value encountered in double_scalars\n"
     ]
    },
    {
     "name": "stdout",
     "output_type": "stream",
     "text": [
      "bad\n",
      ".."
     ]
    },
    {
     "name": "stderr",
     "output_type": "stream",
     "text": [
      "<string>:2: RuntimeWarning: overflow encountered in double_scalars\n",
      "<string>:2: RuntimeWarning: overflow encountered in double_scalars\n",
      "<string>:2: RuntimeWarning: invalid value encountered in double_scalars\n",
      "<string>:2: RuntimeWarning: invalid value encountered in double_scalars\n"
     ]
    },
    {
     "name": "stdout",
     "output_type": "stream",
     "text": [
      "bad\n",
      ".........."
     ]
    },
    {
     "name": "stderr",
     "output_type": "stream",
     "text": [
      "<string>:2: RuntimeWarning: overflow encountered in double_scalars\n",
      "<string>:2: RuntimeWarning: overflow encountered in double_scalars\n",
      "<string>:2: RuntimeWarning: invalid value encountered in double_scalars\n",
      "<string>:2: RuntimeWarning: invalid value encountered in double_scalars\n"
     ]
    },
    {
     "name": "stdout",
     "output_type": "stream",
     "text": [
      "bad\n",
      "..."
     ]
    },
    {
     "name": "stderr",
     "output_type": "stream",
     "text": [
      "<string>:2: RuntimeWarning: overflow encountered in double_scalars\n",
      "<string>:2: RuntimeWarning: overflow encountered in double_scalars\n",
      "<string>:2: RuntimeWarning: invalid value encountered in double_scalars\n",
      "<string>:2: RuntimeWarning: invalid value encountered in double_scalars\n"
     ]
    },
    {
     "name": "stdout",
     "output_type": "stream",
     "text": [
      "bad\n",
      "........"
     ]
    },
    {
     "name": "stderr",
     "output_type": "stream",
     "text": [
      "<string>:2: RuntimeWarning: overflow encountered in double_scalars\n",
      "<string>:2: RuntimeWarning: overflow encountered in double_scalars\n",
      "<string>:2: RuntimeWarning: invalid value encountered in double_scalars\n",
      "<string>:2: RuntimeWarning: invalid value encountered in double_scalars\n"
     ]
    },
    {
     "name": "stdout",
     "output_type": "stream",
     "text": [
      "bad\n",
      ".................differential_evolution step 13: f(x)= 20.9977\n",
      "................"
     ]
    },
    {
     "name": "stderr",
     "output_type": "stream",
     "text": [
      "<string>:2: RuntimeWarning: overflow encountered in double_scalars\n",
      "<string>:2: RuntimeWarning: overflow encountered in double_scalars\n",
      "<string>:2: RuntimeWarning: invalid value encountered in double_scalars\n",
      "<string>:2: RuntimeWarning: invalid value encountered in double_scalars\n"
     ]
    },
    {
     "name": "stdout",
     "output_type": "stream",
     "text": [
      "bad\n",
      "...."
     ]
    },
    {
     "name": "stderr",
     "output_type": "stream",
     "text": [
      "<string>:2: RuntimeWarning: overflow encountered in double_scalars\n",
      "<string>:2: RuntimeWarning: overflow encountered in double_scalars\n",
      "<string>:2: RuntimeWarning: invalid value encountered in double_scalars\n",
      "<string>:2: RuntimeWarning: invalid value encountered in double_scalars\n"
     ]
    },
    {
     "name": "stdout",
     "output_type": "stream",
     "text": [
      "bad\n",
      "."
     ]
    },
    {
     "name": "stderr",
     "output_type": "stream",
     "text": [
      "<string>:2: RuntimeWarning: overflow encountered in double_scalars\n",
      "<string>:2: RuntimeWarning: overflow encountered in double_scalars\n",
      "<string>:2: RuntimeWarning: invalid value encountered in double_scalars\n",
      "<string>:2: RuntimeWarning: invalid value encountered in double_scalars\n"
     ]
    },
    {
     "name": "stdout",
     "output_type": "stream",
     "text": [
      "bad\n",
      "...."
     ]
    },
    {
     "name": "stderr",
     "output_type": "stream",
     "text": [
      "<string>:2: RuntimeWarning: overflow encountered in double_scalars\n",
      "<string>:2: RuntimeWarning: overflow encountered in double_scalars\n",
      "<string>:2: RuntimeWarning: invalid value encountered in double_scalars\n",
      "<string>:2: RuntimeWarning: invalid value encountered in double_scalars\n"
     ]
    },
    {
     "name": "stdout",
     "output_type": "stream",
     "text": [
      "bad\n",
      "........"
     ]
    },
    {
     "name": "stderr",
     "output_type": "stream",
     "text": [
      "<string>:2: RuntimeWarning: overflow encountered in double_scalars\n",
      "<string>:2: RuntimeWarning: overflow encountered in double_scalars\n",
      "<string>:2: RuntimeWarning: invalid value encountered in double_scalars\n",
      "<string>:2: RuntimeWarning: invalid value encountered in double_scalars\n"
     ]
    },
    {
     "name": "stdout",
     "output_type": "stream",
     "text": [
      "bad\n",
      ".........."
     ]
    },
    {
     "name": "stderr",
     "output_type": "stream",
     "text": [
      "<string>:2: RuntimeWarning: overflow encountered in double_scalars\n",
      "<string>:2: RuntimeWarning: overflow encountered in double_scalars\n",
      "<string>:2: RuntimeWarning: invalid value encountered in double_scalars\n",
      "<string>:2: RuntimeWarning: invalid value encountered in double_scalars\n"
     ]
    },
    {
     "name": "stdout",
     "output_type": "stream",
     "text": [
      "bad\n",
      "..............."
     ]
    },
    {
     "name": "stderr",
     "output_type": "stream",
     "text": [
      "<string>:2: RuntimeWarning: overflow encountered in double_scalars\n",
      "<string>:2: RuntimeWarning: overflow encountered in double_scalars\n",
      "<string>:2: RuntimeWarning: invalid value encountered in double_scalars\n",
      "<string>:2: RuntimeWarning: invalid value encountered in double_scalars\n"
     ]
    },
    {
     "name": "stdout",
     "output_type": "stream",
     "text": [
      "bad\n",
      ".................differential_evolution step 14: f(x)= 20.9977\n",
      "....."
     ]
    },
    {
     "name": "stderr",
     "output_type": "stream",
     "text": [
      "<string>:2: RuntimeWarning: overflow encountered in double_scalars\n",
      "<string>:2: RuntimeWarning: overflow encountered in double_scalars\n",
      "<string>:2: RuntimeWarning: invalid value encountered in double_scalars\n",
      "<string>:2: RuntimeWarning: invalid value encountered in double_scalars\n"
     ]
    },
    {
     "name": "stdout",
     "output_type": "stream",
     "text": [
      "bad\n",
      "......."
     ]
    },
    {
     "name": "stderr",
     "output_type": "stream",
     "text": [
      "<string>:2: RuntimeWarning: overflow encountered in double_scalars\n",
      "<string>:2: RuntimeWarning: overflow encountered in double_scalars\n",
      "<string>:2: RuntimeWarning: invalid value encountered in double_scalars\n",
      "<string>:2: RuntimeWarning: invalid value encountered in double_scalars\n"
     ]
    },
    {
     "name": "stdout",
     "output_type": "stream",
     "text": [
      "bad\n",
      "...."
     ]
    },
    {
     "name": "stderr",
     "output_type": "stream",
     "text": [
      "<string>:2: RuntimeWarning: overflow encountered in double_scalars\n",
      "<string>:2: RuntimeWarning: overflow encountered in double_scalars\n",
      "<string>:2: RuntimeWarning: invalid value encountered in double_scalars\n",
      "<string>:2: RuntimeWarning: invalid value encountered in double_scalars\n"
     ]
    },
    {
     "name": "stdout",
     "output_type": "stream",
     "text": [
      "bad\n",
      "....."
     ]
    },
    {
     "name": "stderr",
     "output_type": "stream",
     "text": [
      "<string>:2: RuntimeWarning: overflow encountered in double_scalars\n",
      "<string>:2: RuntimeWarning: overflow encountered in double_scalars\n",
      "<string>:2: RuntimeWarning: invalid value encountered in double_scalars\n",
      "<string>:2: RuntimeWarning: invalid value encountered in double_scalars\n"
     ]
    },
    {
     "name": "stdout",
     "output_type": "stream",
     "text": [
      "bad\n",
      "..............."
     ]
    },
    {
     "name": "stderr",
     "output_type": "stream",
     "text": [
      "<string>:2: RuntimeWarning: overflow encountered in double_scalars\n",
      "<string>:2: RuntimeWarning: overflow encountered in double_scalars\n",
      "<string>:2: RuntimeWarning: invalid value encountered in double_scalars\n",
      "<string>:2: RuntimeWarning: invalid value encountered in double_scalars\n"
     ]
    },
    {
     "name": "stdout",
     "output_type": "stream",
     "text": [
      "bad\n",
      "......"
     ]
    },
    {
     "name": "stderr",
     "output_type": "stream",
     "text": [
      "<string>:2: RuntimeWarning: overflow encountered in double_scalars\n",
      "<string>:2: RuntimeWarning: overflow encountered in double_scalars\n",
      "<string>:2: RuntimeWarning: invalid value encountered in double_scalars\n",
      "<string>:2: RuntimeWarning: invalid value encountered in double_scalars\n"
     ]
    },
    {
     "name": "stdout",
     "output_type": "stream",
     "text": [
      "bad\n",
      "..........."
     ]
    },
    {
     "name": "stderr",
     "output_type": "stream",
     "text": [
      "<string>:2: RuntimeWarning: overflow encountered in double_scalars\n",
      "<string>:2: RuntimeWarning: overflow encountered in double_scalars\n",
      "<string>:2: RuntimeWarning: invalid value encountered in double_scalars\n",
      "<string>:2: RuntimeWarning: invalid value encountered in double_scalars\n"
     ]
    },
    {
     "name": "stdout",
     "output_type": "stream",
     "text": [
      "bad\n",
      "...."
     ]
    },
    {
     "name": "stderr",
     "output_type": "stream",
     "text": [
      "<string>:2: RuntimeWarning: overflow encountered in double_scalars\n",
      "<string>:2: RuntimeWarning: overflow encountered in double_scalars\n",
      "<string>:2: RuntimeWarning: invalid value encountered in double_scalars\n",
      "<string>:2: RuntimeWarning: invalid value encountered in double_scalars\n"
     ]
    },
    {
     "name": "stdout",
     "output_type": "stream",
     "text": [
      "bad\n",
      "....."
     ]
    },
    {
     "name": "stderr",
     "output_type": "stream",
     "text": [
      "<string>:2: RuntimeWarning: overflow encountered in double_scalars\n",
      "<string>:2: RuntimeWarning: overflow encountered in double_scalars\n",
      "<string>:2: RuntimeWarning: invalid value encountered in double_scalars\n",
      "<string>:2: RuntimeWarning: invalid value encountered in double_scalars\n"
     ]
    },
    {
     "name": "stdout",
     "output_type": "stream",
     "text": [
      "bad\n",
      "..."
     ]
    },
    {
     "name": "stderr",
     "output_type": "stream",
     "text": [
      "<string>:2: RuntimeWarning: overflow encountered in double_scalars\n",
      "<string>:2: RuntimeWarning: overflow encountered in double_scalars\n",
      "<string>:2: RuntimeWarning: invalid value encountered in double_scalars\n",
      "<string>:2: RuntimeWarning: invalid value encountered in double_scalars\n"
     ]
    },
    {
     "name": "stdout",
     "output_type": "stream",
     "text": [
      "bad\n",
      ".."
     ]
    },
    {
     "name": "stderr",
     "output_type": "stream",
     "text": [
      "<string>:2: RuntimeWarning: overflow encountered in double_scalars\n",
      "<string>:2: RuntimeWarning: overflow encountered in double_scalars\n",
      "<string>:2: RuntimeWarning: invalid value encountered in double_scalars\n",
      "<string>:2: RuntimeWarning: invalid value encountered in double_scalars\n"
     ]
    },
    {
     "name": "stdout",
     "output_type": "stream",
     "text": [
      "bad\n",
      "....."
     ]
    },
    {
     "name": "stderr",
     "output_type": "stream",
     "text": [
      "<string>:2: RuntimeWarning: overflow encountered in double_scalars\n",
      "<string>:2: RuntimeWarning: overflow encountered in double_scalars\n",
      "<string>:2: RuntimeWarning: invalid value encountered in double_scalars\n",
      "<string>:2: RuntimeWarning: invalid value encountered in double_scalars\n"
     ]
    },
    {
     "name": "stdout",
     "output_type": "stream",
     "text": [
      "bad\n",
      "...differential_evolution step 15: f(x)= 20.9977\n",
      "...."
     ]
    },
    {
     "name": "stderr",
     "output_type": "stream",
     "text": [
      "<string>:2: RuntimeWarning: overflow encountered in double_scalars\n",
      "<string>:2: RuntimeWarning: overflow encountered in double_scalars\n",
      "<string>:2: RuntimeWarning: invalid value encountered in double_scalars\n",
      "<string>:2: RuntimeWarning: invalid value encountered in double_scalars\n"
     ]
    },
    {
     "name": "stdout",
     "output_type": "stream",
     "text": [
      ".."
     ]
    },
    {
     "name": "stderr",
     "output_type": "stream",
     "text": [
      "<string>:2: RuntimeWarning: overflow encountered in double_scalars\n",
      "<string>:2: RuntimeWarning: overflow encountered in double_scalars\n",
      "<string>:2: RuntimeWarning: invalid value encountered in double_scalars\n",
      "<string>:2: RuntimeWarning: invalid value encountered in double_scalars\n"
     ]
    },
    {
     "name": "stdout",
     "output_type": "stream",
     "text": [
      "bad\n",
      "................."
     ]
    },
    {
     "name": "stderr",
     "output_type": "stream",
     "text": [
      "<string>:2: RuntimeWarning: overflow encountered in double_scalars\n",
      "<string>:2: RuntimeWarning: overflow encountered in double_scalars\n",
      "<string>:2: RuntimeWarning: invalid value encountered in double_scalars\n",
      "<string>:2: RuntimeWarning: invalid value encountered in double_scalars\n"
     ]
    },
    {
     "name": "stdout",
     "output_type": "stream",
     "text": [
      "bad\n",
      "...."
     ]
    },
    {
     "name": "stderr",
     "output_type": "stream",
     "text": [
      "<string>:2: RuntimeWarning: overflow encountered in double_scalars\n",
      "<string>:2: RuntimeWarning: overflow encountered in double_scalars\n",
      "<string>:2: RuntimeWarning: invalid value encountered in double_scalars\n",
      "<string>:2: RuntimeWarning: invalid value encountered in double_scalars\n"
     ]
    },
    {
     "name": "stdout",
     "output_type": "stream",
     "text": [
      "bad\n",
      "............................."
     ]
    },
    {
     "name": "stderr",
     "output_type": "stream",
     "text": [
      "<string>:2: RuntimeWarning: overflow encountered in double_scalars\n",
      "<string>:2: RuntimeWarning: overflow encountered in double_scalars\n",
      "<string>:2: RuntimeWarning: invalid value encountered in double_scalars\n",
      "<string>:2: RuntimeWarning: invalid value encountered in double_scalars\n"
     ]
    },
    {
     "name": "stdout",
     "output_type": "stream",
     "text": [
      "bad\n",
      "...................differential_evolution step 16: f(x)= 20.9977\n",
      ".."
     ]
    },
    {
     "name": "stderr",
     "output_type": "stream",
     "text": [
      "<string>:2: RuntimeWarning: overflow encountered in double_scalars\n",
      "<string>:2: RuntimeWarning: overflow encountered in double_scalars\n",
      "<string>:2: RuntimeWarning: invalid value encountered in double_scalars\n",
      "<string>:2: RuntimeWarning: invalid value encountered in double_scalars\n"
     ]
    },
    {
     "name": "stdout",
     "output_type": "stream",
     "text": [
      "bad\n",
      "...."
     ]
    },
    {
     "name": "stderr",
     "output_type": "stream",
     "text": [
      "<string>:2: RuntimeWarning: overflow encountered in double_scalars\n",
      "<string>:2: RuntimeWarning: overflow encountered in double_scalars\n",
      "<string>:2: RuntimeWarning: invalid value encountered in double_scalars\n",
      "<string>:2: RuntimeWarning: invalid value encountered in double_scalars\n"
     ]
    },
    {
     "name": "stdout",
     "output_type": "stream",
     "text": [
      "bad\n",
      "....."
     ]
    },
    {
     "name": "stderr",
     "output_type": "stream",
     "text": [
      "<string>:2: RuntimeWarning: overflow encountered in double_scalars\n",
      "<string>:2: RuntimeWarning: overflow encountered in double_scalars\n",
      "<string>:2: RuntimeWarning: invalid value encountered in double_scalars\n",
      "<string>:2: RuntimeWarning: invalid value encountered in double_scalars\n"
     ]
    },
    {
     "name": "stdout",
     "output_type": "stream",
     "text": [
      "bad\n",
      ".."
     ]
    },
    {
     "name": "stderr",
     "output_type": "stream",
     "text": [
      "<string>:2: RuntimeWarning: overflow encountered in double_scalars\n",
      "<string>:2: RuntimeWarning: overflow encountered in double_scalars\n",
      "<string>:2: RuntimeWarning: invalid value encountered in double_scalars\n",
      "<string>:2: RuntimeWarning: invalid value encountered in double_scalars\n"
     ]
    },
    {
     "name": "stdout",
     "output_type": "stream",
     "text": [
      "bad\n",
      "...................."
     ]
    },
    {
     "name": "stderr",
     "output_type": "stream",
     "text": [
      "<string>:2: RuntimeWarning: overflow encountered in double_scalars\n",
      "<string>:2: RuntimeWarning: overflow encountered in double_scalars\n",
      "<string>:2: RuntimeWarning: invalid value encountered in double_scalars\n",
      "<string>:2: RuntimeWarning: invalid value encountered in double_scalars\n"
     ]
    },
    {
     "name": "stdout",
     "output_type": "stream",
     "text": [
      "bad\n",
      ".."
     ]
    },
    {
     "name": "stderr",
     "output_type": "stream",
     "text": [
      "<string>:2: RuntimeWarning: overflow encountered in double_scalars\n",
      "<string>:2: RuntimeWarning: overflow encountered in double_scalars\n",
      "<string>:2: RuntimeWarning: invalid value encountered in double_scalars\n",
      "<string>:2: RuntimeWarning: invalid value encountered in double_scalars\n"
     ]
    },
    {
     "name": "stdout",
     "output_type": "stream",
     "text": [
      "bad\n",
      "........"
     ]
    },
    {
     "name": "stderr",
     "output_type": "stream",
     "text": [
      "<string>:2: RuntimeWarning: overflow encountered in double_scalars\n",
      "<string>:2: RuntimeWarning: overflow encountered in double_scalars\n",
      "<string>:2: RuntimeWarning: invalid value encountered in double_scalars\n",
      "<string>:2: RuntimeWarning: invalid value encountered in double_scalars\n"
     ]
    },
    {
     "name": "stdout",
     "output_type": "stream",
     "text": [
      "bad\n",
      ".............."
     ]
    },
    {
     "name": "stderr",
     "output_type": "stream",
     "text": [
      "<string>:2: RuntimeWarning: overflow encountered in double_scalars\n",
      "<string>:2: RuntimeWarning: overflow encountered in double_scalars\n",
      "<string>:2: RuntimeWarning: invalid value encountered in double_scalars\n",
      "<string>:2: RuntimeWarning: invalid value encountered in double_scalars\n"
     ]
    },
    {
     "name": "stdout",
     "output_type": "stream",
     "text": [
      "bad\n",
      "................"
     ]
    },
    {
     "name": "stderr",
     "output_type": "stream",
     "text": [
      "<string>:2: RuntimeWarning: overflow encountered in double_scalars\n",
      "<string>:2: RuntimeWarning: overflow encountered in double_scalars\n",
      "<string>:2: RuntimeWarning: invalid value encountered in double_scalars\n",
      "<string>:2: RuntimeWarning: invalid value encountered in double_scalars\n"
     ]
    },
    {
     "name": "stdout",
     "output_type": "stream",
     "text": [
      "bad\n",
      "..differential_evolution step 17: f(x)= 20.9977\n",
      "...."
     ]
    },
    {
     "name": "stderr",
     "output_type": "stream",
     "text": [
      "<string>:2: RuntimeWarning: overflow encountered in double_scalars\n",
      "<string>:2: RuntimeWarning: overflow encountered in double_scalars\n",
      "<string>:2: RuntimeWarning: invalid value encountered in double_scalars\n",
      "<string>:2: RuntimeWarning: invalid value encountered in double_scalars\n"
     ]
    },
    {
     "name": "stdout",
     "output_type": "stream",
     "text": [
      "bad\n",
      ".."
     ]
    },
    {
     "name": "stderr",
     "output_type": "stream",
     "text": [
      "<string>:2: RuntimeWarning: overflow encountered in double_scalars\n",
      "<string>:2: RuntimeWarning: overflow encountered in double_scalars\n",
      "<string>:2: RuntimeWarning: invalid value encountered in double_scalars\n",
      "<string>:2: RuntimeWarning: invalid value encountered in double_scalars\n"
     ]
    },
    {
     "name": "stdout",
     "output_type": "stream",
     "text": [
      "bad\n",
      ".............."
     ]
    },
    {
     "name": "stderr",
     "output_type": "stream",
     "text": [
      "<string>:2: RuntimeWarning: overflow encountered in double_scalars\n",
      "<string>:2: RuntimeWarning: overflow encountered in double_scalars\n",
      "<string>:2: RuntimeWarning: invalid value encountered in double_scalars\n",
      "<string>:2: RuntimeWarning: invalid value encountered in double_scalars\n"
     ]
    },
    {
     "name": "stdout",
     "output_type": "stream",
     "text": [
      "bad\n",
      ".."
     ]
    },
    {
     "name": "stderr",
     "output_type": "stream",
     "text": [
      "<string>:2: RuntimeWarning: overflow encountered in double_scalars\n",
      "<string>:2: RuntimeWarning: overflow encountered in double_scalars\n",
      "<string>:2: RuntimeWarning: invalid value encountered in double_scalars\n",
      "<string>:2: RuntimeWarning: invalid value encountered in double_scalars\n"
     ]
    },
    {
     "name": "stdout",
     "output_type": "stream",
     "text": [
      "bad\n",
      ".............."
     ]
    },
    {
     "name": "stderr",
     "output_type": "stream",
     "text": [
      "<string>:2: RuntimeWarning: overflow encountered in double_scalars\n",
      "<string>:2: RuntimeWarning: overflow encountered in double_scalars\n",
      "<string>:2: RuntimeWarning: invalid value encountered in double_scalars\n",
      "<string>:2: RuntimeWarning: invalid value encountered in double_scalars\n"
     ]
    },
    {
     "name": "stdout",
     "output_type": "stream",
     "text": [
      "bad\n",
      "....."
     ]
    },
    {
     "name": "stderr",
     "output_type": "stream",
     "text": [
      "<string>:2: RuntimeWarning: overflow encountered in double_scalars\n",
      "<string>:2: RuntimeWarning: overflow encountered in double_scalars\n",
      "<string>:2: RuntimeWarning: invalid value encountered in double_scalars\n",
      "<string>:2: RuntimeWarning: invalid value encountered in double_scalars\n"
     ]
    },
    {
     "name": "stdout",
     "output_type": "stream",
     "text": [
      "bad\n",
      "."
     ]
    },
    {
     "name": "stderr",
     "output_type": "stream",
     "text": [
      "<string>:2: RuntimeWarning: overflow encountered in double_scalars\n",
      "<string>:2: RuntimeWarning: overflow encountered in double_scalars\n",
      "<string>:2: RuntimeWarning: invalid value encountered in double_scalars\n",
      "<string>:2: RuntimeWarning: invalid value encountered in double_scalars\n"
     ]
    },
    {
     "name": "stdout",
     "output_type": "stream",
     "text": [
      "bad\n",
      "......"
     ]
    },
    {
     "name": "stderr",
     "output_type": "stream",
     "text": [
      "<string>:2: RuntimeWarning: overflow encountered in double_scalars\n",
      "<string>:2: RuntimeWarning: overflow encountered in double_scalars\n",
      "<string>:2: RuntimeWarning: invalid value encountered in double_scalars\n",
      "<string>:2: RuntimeWarning: invalid value encountered in double_scalars\n"
     ]
    },
    {
     "name": "stdout",
     "output_type": "stream",
     "text": [
      "bad\n",
      "..."
     ]
    },
    {
     "name": "stderr",
     "output_type": "stream",
     "text": [
      "<string>:2: RuntimeWarning: overflow encountered in double_scalars\n",
      "<string>:2: RuntimeWarning: overflow encountered in double_scalars\n",
      "<string>:2: RuntimeWarning: invalid value encountered in double_scalars\n",
      "<string>:2: RuntimeWarning: invalid value encountered in double_scalars\n"
     ]
    },
    {
     "name": "stdout",
     "output_type": "stream",
     "text": [
      "bad\n",
      ".."
     ]
    },
    {
     "name": "stderr",
     "output_type": "stream",
     "text": [
      "<string>:2: RuntimeWarning: overflow encountered in double_scalars\n",
      "<string>:2: RuntimeWarning: overflow encountered in double_scalars\n",
      "<string>:2: RuntimeWarning: invalid value encountered in double_scalars\n",
      "<string>:2: RuntimeWarning: invalid value encountered in double_scalars\n"
     ]
    },
    {
     "name": "stdout",
     "output_type": "stream",
     "text": [
      "bad\n",
      "."
     ]
    },
    {
     "name": "stderr",
     "output_type": "stream",
     "text": [
      "<string>:2: RuntimeWarning: overflow encountered in double_scalars\n",
      "<string>:2: RuntimeWarning: overflow encountered in double_scalars\n",
      "<string>:2: RuntimeWarning: invalid value encountered in double_scalars\n",
      "<string>:2: RuntimeWarning: invalid value encountered in double_scalars\n"
     ]
    },
    {
     "name": "stdout",
     "output_type": "stream",
     "text": [
      "bad\n",
      "....."
     ]
    },
    {
     "name": "stderr",
     "output_type": "stream",
     "text": [
      "<string>:2: RuntimeWarning: overflow encountered in double_scalars\n",
      "<string>:2: RuntimeWarning: overflow encountered in double_scalars\n",
      "<string>:2: RuntimeWarning: invalid value encountered in double_scalars\n",
      "<string>:2: RuntimeWarning: invalid value encountered in double_scalars\n"
     ]
    },
    {
     "name": "stdout",
     "output_type": "stream",
     "text": [
      "bad\n",
      "......."
     ]
    },
    {
     "name": "stderr",
     "output_type": "stream",
     "text": [
      "<string>:2: RuntimeWarning: overflow encountered in double_scalars\n",
      "<string>:2: RuntimeWarning: overflow encountered in double_scalars\n",
      "<string>:2: RuntimeWarning: invalid value encountered in double_scalars\n",
      "<string>:2: RuntimeWarning: invalid value encountered in double_scalars\n"
     ]
    },
    {
     "name": "stdout",
     "output_type": "stream",
     "text": [
      "bad\n",
      "........"
     ]
    },
    {
     "name": "stderr",
     "output_type": "stream",
     "text": [
      "<string>:2: RuntimeWarning: overflow encountered in double_scalars\n",
      "<string>:2: RuntimeWarning: overflow encountered in double_scalars\n",
      "<string>:2: RuntimeWarning: invalid value encountered in double_scalars\n",
      "<string>:2: RuntimeWarning: invalid value encountered in double_scalars\n"
     ]
    },
    {
     "name": "stdout",
     "output_type": "stream",
     "text": [
      "bad\n",
      ".differential_evolution step 18: f(x)= 20.9977\n",
      "........"
     ]
    },
    {
     "name": "stderr",
     "output_type": "stream",
     "text": [
      "<string>:2: RuntimeWarning: overflow encountered in double_scalars\n",
      "<string>:2: RuntimeWarning: overflow encountered in double_scalars\n",
      "<string>:2: RuntimeWarning: invalid value encountered in double_scalars\n",
      "<string>:2: RuntimeWarning: invalid value encountered in double_scalars\n"
     ]
    },
    {
     "name": "stdout",
     "output_type": "stream",
     "text": [
      "bad\n",
      "."
     ]
    },
    {
     "name": "stderr",
     "output_type": "stream",
     "text": [
      "<string>:2: RuntimeWarning: overflow encountered in double_scalars\n",
      "<string>:2: RuntimeWarning: overflow encountered in double_scalars\n",
      "<string>:2: RuntimeWarning: invalid value encountered in double_scalars\n",
      "<string>:2: RuntimeWarning: invalid value encountered in double_scalars\n"
     ]
    },
    {
     "name": "stdout",
     "output_type": "stream",
     "text": [
      "bad\n",
      "....................."
     ]
    },
    {
     "name": "stderr",
     "output_type": "stream",
     "text": [
      "<string>:2: RuntimeWarning: overflow encountered in double_scalars\n",
      "<string>:2: RuntimeWarning: overflow encountered in double_scalars\n",
      "<string>:2: RuntimeWarning: invalid value encountered in double_scalars\n",
      "<string>:2: RuntimeWarning: invalid value encountered in double_scalars\n"
     ]
    },
    {
     "name": "stdout",
     "output_type": "stream",
     "text": [
      "bad\n",
      "...................."
     ]
    },
    {
     "name": "stderr",
     "output_type": "stream",
     "text": [
      "<string>:2: RuntimeWarning: overflow encountered in double_scalars\n",
      "<string>:2: RuntimeWarning: overflow encountered in double_scalars\n",
      "<string>:2: RuntimeWarning: invalid value encountered in double_scalars\n",
      "<string>:2: RuntimeWarning: invalid value encountered in double_scalars\n"
     ]
    },
    {
     "name": "stdout",
     "output_type": "stream",
     "text": [
      "bad\n",
      "......"
     ]
    },
    {
     "name": "stderr",
     "output_type": "stream",
     "text": [
      "<string>:2: RuntimeWarning: overflow encountered in double_scalars\n",
      "<string>:2: RuntimeWarning: overflow encountered in double_scalars\n",
      "<string>:2: RuntimeWarning: invalid value encountered in double_scalars\n",
      "<string>:2: RuntimeWarning: invalid value encountered in double_scalars\n"
     ]
    },
    {
     "name": "stdout",
     "output_type": "stream",
     "text": [
      "bad\n",
      "..."
     ]
    },
    {
     "name": "stderr",
     "output_type": "stream",
     "text": [
      "<string>:2: RuntimeWarning: overflow encountered in double_scalars\n",
      "<string>:2: RuntimeWarning: overflow encountered in double_scalars\n",
      "<string>:2: RuntimeWarning: invalid value encountered in double_scalars\n",
      "<string>:2: RuntimeWarning: invalid value encountered in double_scalars\n"
     ]
    },
    {
     "name": "stdout",
     "output_type": "stream",
     "text": [
      "bad\n",
      "....."
     ]
    },
    {
     "name": "stderr",
     "output_type": "stream",
     "text": [
      "<string>:2: RuntimeWarning: overflow encountered in double_scalars\n",
      "<string>:2: RuntimeWarning: overflow encountered in double_scalars\n",
      "<string>:2: RuntimeWarning: invalid value encountered in double_scalars\n",
      "<string>:2: RuntimeWarning: invalid value encountered in double_scalars\n"
     ]
    },
    {
     "name": "stdout",
     "output_type": "stream",
     "text": [
      "bad\n",
      "..."
     ]
    },
    {
     "name": "stderr",
     "output_type": "stream",
     "text": [
      "<string>:2: RuntimeWarning: overflow encountered in double_scalars\n",
      "<string>:2: RuntimeWarning: overflow encountered in double_scalars\n",
      "<string>:2: RuntimeWarning: invalid value encountered in double_scalars\n",
      "<string>:2: RuntimeWarning: invalid value encountered in double_scalars\n"
     ]
    },
    {
     "name": "stdout",
     "output_type": "stream",
     "text": [
      "bad\n",
      "........differential_evolution step 19: f(x)= 20.9977\n",
      "......."
     ]
    },
    {
     "name": "stderr",
     "output_type": "stream",
     "text": [
      "<string>:2: RuntimeWarning: overflow encountered in double_scalars\n",
      "<string>:2: RuntimeWarning: overflow encountered in double_scalars\n",
      "<string>:2: RuntimeWarning: invalid value encountered in double_scalars\n",
      "<string>:2: RuntimeWarning: invalid value encountered in double_scalars\n"
     ]
    },
    {
     "name": "stdout",
     "output_type": "stream",
     "text": [
      "bad\n",
      "......"
     ]
    },
    {
     "name": "stderr",
     "output_type": "stream",
     "text": [
      "<string>:2: RuntimeWarning: overflow encountered in double_scalars\n",
      "<string>:2: RuntimeWarning: overflow encountered in double_scalars\n",
      "<string>:2: RuntimeWarning: invalid value encountered in double_scalars\n",
      "<string>:2: RuntimeWarning: invalid value encountered in double_scalars\n"
     ]
    },
    {
     "name": "stdout",
     "output_type": "stream",
     "text": [
      "bad\n",
      "....."
     ]
    },
    {
     "name": "stderr",
     "output_type": "stream",
     "text": [
      "<string>:2: RuntimeWarning: overflow encountered in double_scalars\n",
      "<string>:2: RuntimeWarning: overflow encountered in double_scalars\n",
      "<string>:2: RuntimeWarning: invalid value encountered in double_scalars\n",
      "<string>:2: RuntimeWarning: invalid value encountered in double_scalars\n"
     ]
    },
    {
     "name": "stdout",
     "output_type": "stream",
     "text": [
      "bad\n",
      ".."
     ]
    },
    {
     "name": "stderr",
     "output_type": "stream",
     "text": [
      "<string>:2: RuntimeWarning: overflow encountered in double_scalars\n",
      "<string>:2: RuntimeWarning: overflow encountered in double_scalars\n",
      "<string>:2: RuntimeWarning: invalid value encountered in double_scalars\n",
      "<string>:2: RuntimeWarning: invalid value encountered in double_scalars\n"
     ]
    },
    {
     "name": "stdout",
     "output_type": "stream",
     "text": [
      "bad\n",
      ".........."
     ]
    },
    {
     "name": "stderr",
     "output_type": "stream",
     "text": [
      "<string>:2: RuntimeWarning: overflow encountered in double_scalars\n",
      "<string>:2: RuntimeWarning: overflow encountered in double_scalars\n",
      "<string>:2: RuntimeWarning: invalid value encountered in double_scalars\n",
      "<string>:2: RuntimeWarning: invalid value encountered in double_scalars\n"
     ]
    },
    {
     "name": "stdout",
     "output_type": "stream",
     "text": [
      "bad\n",
      "...."
     ]
    },
    {
     "name": "stderr",
     "output_type": "stream",
     "text": [
      "<string>:2: RuntimeWarning: overflow encountered in double_scalars\n",
      "<string>:2: RuntimeWarning: overflow encountered in double_scalars\n",
      "<string>:2: RuntimeWarning: invalid value encountered in double_scalars\n",
      "<string>:2: RuntimeWarning: invalid value encountered in double_scalars\n"
     ]
    },
    {
     "name": "stdout",
     "output_type": "stream",
     "text": [
      "bad\n",
      "......."
     ]
    },
    {
     "name": "stderr",
     "output_type": "stream",
     "text": [
      "<string>:2: RuntimeWarning: overflow encountered in double_scalars\n",
      "<string>:2: RuntimeWarning: overflow encountered in double_scalars\n",
      "<string>:2: RuntimeWarning: invalid value encountered in double_scalars\n",
      "<string>:2: RuntimeWarning: invalid value encountered in double_scalars\n"
     ]
    },
    {
     "name": "stdout",
     "output_type": "stream",
     "text": [
      "bad\n",
      "........."
     ]
    },
    {
     "name": "stderr",
     "output_type": "stream",
     "text": [
      "<string>:2: RuntimeWarning: overflow encountered in double_scalars\n",
      "<string>:2: RuntimeWarning: overflow encountered in double_scalars\n",
      "<string>:2: RuntimeWarning: invalid value encountered in double_scalars\n",
      "<string>:2: RuntimeWarning: invalid value encountered in double_scalars\n"
     ]
    },
    {
     "name": "stdout",
     "output_type": "stream",
     "text": [
      "bad\n",
      "..."
     ]
    },
    {
     "name": "stderr",
     "output_type": "stream",
     "text": [
      "<string>:2: RuntimeWarning: overflow encountered in double_scalars\n",
      "<string>:2: RuntimeWarning: overflow encountered in double_scalars\n",
      "<string>:2: RuntimeWarning: invalid value encountered in double_scalars\n",
      "<string>:2: RuntimeWarning: invalid value encountered in double_scalars\n"
     ]
    },
    {
     "name": "stdout",
     "output_type": "stream",
     "text": [
      "bad\n",
      "...."
     ]
    },
    {
     "name": "stderr",
     "output_type": "stream",
     "text": [
      "<string>:2: RuntimeWarning: overflow encountered in double_scalars\n",
      "<string>:2: RuntimeWarning: overflow encountered in double_scalars\n",
      "<string>:2: RuntimeWarning: invalid value encountered in double_scalars\n",
      "<string>:2: RuntimeWarning: invalid value encountered in double_scalars\n"
     ]
    },
    {
     "name": "stdout",
     "output_type": "stream",
     "text": [
      "bad\n",
      ".................."
     ]
    },
    {
     "name": "stderr",
     "output_type": "stream",
     "text": [
      "<string>:2: RuntimeWarning: overflow encountered in double_scalars\n",
      "<string>:2: RuntimeWarning: overflow encountered in double_scalars\n",
      "<string>:2: RuntimeWarning: invalid value encountered in double_scalars\n",
      "<string>:2: RuntimeWarning: invalid value encountered in double_scalars\n"
     ]
    },
    {
     "name": "stdout",
     "output_type": "stream",
     "text": [
      "bad\n",
      "differential_evolution step 20: f(x)= 20.9977\n",
      "...."
     ]
    },
    {
     "name": "stderr",
     "output_type": "stream",
     "text": [
      "<string>:2: RuntimeWarning: overflow encountered in double_scalars\n",
      "<string>:2: RuntimeWarning: overflow encountered in double_scalars\n",
      "<string>:2: RuntimeWarning: invalid value encountered in double_scalars\n",
      "<string>:2: RuntimeWarning: invalid value encountered in double_scalars\n"
     ]
    },
    {
     "name": "stdout",
     "output_type": "stream",
     "text": [
      "bad\n",
      ".."
     ]
    },
    {
     "name": "stderr",
     "output_type": "stream",
     "text": [
      "<string>:2: RuntimeWarning: overflow encountered in double_scalars\n",
      "<string>:2: RuntimeWarning: overflow encountered in double_scalars\n",
      "<string>:2: RuntimeWarning: invalid value encountered in double_scalars\n",
      "<string>:2: RuntimeWarning: invalid value encountered in double_scalars\n"
     ]
    },
    {
     "name": "stdout",
     "output_type": "stream",
     "text": [
      "bad\n",
      "............"
     ]
    },
    {
     "name": "stderr",
     "output_type": "stream",
     "text": [
      "<string>:2: RuntimeWarning: overflow encountered in double_scalars\n",
      "<string>:2: RuntimeWarning: overflow encountered in double_scalars\n",
      "<string>:2: RuntimeWarning: invalid value encountered in double_scalars\n",
      "<string>:2: RuntimeWarning: invalid value encountered in double_scalars\n"
     ]
    },
    {
     "name": "stdout",
     "output_type": "stream",
     "text": [
      "bad\n",
      "....."
     ]
    },
    {
     "name": "stderr",
     "output_type": "stream",
     "text": [
      "<string>:2: RuntimeWarning: overflow encountered in double_scalars\n",
      "<string>:2: RuntimeWarning: overflow encountered in double_scalars\n",
      "<string>:2: RuntimeWarning: invalid value encountered in double_scalars\n",
      "<string>:2: RuntimeWarning: invalid value encountered in double_scalars\n"
     ]
    },
    {
     "name": "stdout",
     "output_type": "stream",
     "text": [
      "bad\n",
      "."
     ]
    },
    {
     "name": "stderr",
     "output_type": "stream",
     "text": [
      "<string>:2: RuntimeWarning: overflow encountered in double_scalars\n",
      "<string>:2: RuntimeWarning: overflow encountered in double_scalars\n",
      "<string>:2: RuntimeWarning: invalid value encountered in double_scalars\n",
      "<string>:2: RuntimeWarning: invalid value encountered in double_scalars\n"
     ]
    },
    {
     "name": "stdout",
     "output_type": "stream",
     "text": [
      "bad\n",
      ".............."
     ]
    },
    {
     "name": "stderr",
     "output_type": "stream",
     "text": [
      "<string>:2: RuntimeWarning: overflow encountered in double_scalars\n",
      "<string>:2: RuntimeWarning: overflow encountered in double_scalars\n",
      "<string>:2: RuntimeWarning: invalid value encountered in double_scalars\n",
      "<string>:2: RuntimeWarning: invalid value encountered in double_scalars\n"
     ]
    },
    {
     "name": "stdout",
     "output_type": "stream",
     "text": [
      "bad\n",
      "......"
     ]
    },
    {
     "name": "stderr",
     "output_type": "stream",
     "text": [
      "<string>:2: RuntimeWarning: overflow encountered in double_scalars\n",
      "<string>:2: RuntimeWarning: overflow encountered in double_scalars\n",
      "<string>:2: RuntimeWarning: invalid value encountered in double_scalars\n",
      "<string>:2: RuntimeWarning: invalid value encountered in double_scalars\n"
     ]
    },
    {
     "name": "stdout",
     "output_type": "stream",
     "text": [
      ".."
     ]
    },
    {
     "name": "stderr",
     "output_type": "stream",
     "text": [
      "<string>:2: RuntimeWarning: overflow encountered in double_scalars\n",
      "<string>:2: RuntimeWarning: overflow encountered in double_scalars\n",
      "<string>:2: RuntimeWarning: invalid value encountered in double_scalars\n",
      "<string>:2: RuntimeWarning: invalid value encountered in double_scalars\n"
     ]
    },
    {
     "name": "stdout",
     "output_type": "stream",
     "text": [
      "bad\n",
      "........."
     ]
    },
    {
     "name": "stderr",
     "output_type": "stream",
     "text": [
      "<string>:2: RuntimeWarning: overflow encountered in double_scalars\n",
      "<string>:2: RuntimeWarning: overflow encountered in double_scalars\n",
      "<string>:2: RuntimeWarning: invalid value encountered in double_scalars\n",
      "<string>:2: RuntimeWarning: invalid value encountered in double_scalars\n"
     ]
    },
    {
     "name": "stdout",
     "output_type": "stream",
     "text": [
      "bad\n",
      ".."
     ]
    },
    {
     "name": "stderr",
     "output_type": "stream",
     "text": [
      "<string>:2: RuntimeWarning: overflow encountered in double_scalars\n",
      "<string>:2: RuntimeWarning: overflow encountered in double_scalars\n",
      "<string>:2: RuntimeWarning: invalid value encountered in double_scalars\n",
      "<string>:2: RuntimeWarning: invalid value encountered in double_scalars\n"
     ]
    },
    {
     "name": "stdout",
     "output_type": "stream",
     "text": [
      "bad\n",
      "................"
     ]
    },
    {
     "name": "stderr",
     "output_type": "stream",
     "text": [
      "<string>:2: RuntimeWarning: overflow encountered in double_scalars\n",
      "<string>:2: RuntimeWarning: overflow encountered in double_scalars\n",
      "<string>:2: RuntimeWarning: invalid value encountered in double_scalars\n",
      "<string>:2: RuntimeWarning: invalid value encountered in double_scalars\n"
     ]
    },
    {
     "name": "stdout",
     "output_type": "stream",
     "text": [
      "bad\n",
      "..differential_evolution step 21: f(x)= 20.9977\n",
      "..............."
     ]
    },
    {
     "name": "stderr",
     "output_type": "stream",
     "text": [
      "<string>:2: RuntimeWarning: overflow encountered in double_scalars\n",
      "<string>:2: RuntimeWarning: overflow encountered in double_scalars\n",
      "<string>:2: RuntimeWarning: invalid value encountered in double_scalars\n",
      "<string>:2: RuntimeWarning: invalid value encountered in double_scalars\n"
     ]
    },
    {
     "name": "stdout",
     "output_type": "stream",
     "text": [
      "bad\n",
      "..................."
     ]
    },
    {
     "name": "stderr",
     "output_type": "stream",
     "text": [
      "<string>:2: RuntimeWarning: overflow encountered in double_scalars\n",
      "<string>:2: RuntimeWarning: overflow encountered in double_scalars\n",
      "<string>:2: RuntimeWarning: invalid value encountered in double_scalars\n",
      "<string>:2: RuntimeWarning: invalid value encountered in double_scalars\n"
     ]
    },
    {
     "name": "stdout",
     "output_type": "stream",
     "text": [
      "bad\n",
      "...."
     ]
    },
    {
     "name": "stderr",
     "output_type": "stream",
     "text": [
      "<string>:2: RuntimeWarning: overflow encountered in double_scalars\n",
      "<string>:2: RuntimeWarning: overflow encountered in double_scalars\n",
      "<string>:2: RuntimeWarning: invalid value encountered in double_scalars\n",
      "<string>:2: RuntimeWarning: invalid value encountered in double_scalars\n"
     ]
    },
    {
     "name": "stdout",
     "output_type": "stream",
     "text": [
      "bad\n",
      "......"
     ]
    },
    {
     "name": "stderr",
     "output_type": "stream",
     "text": [
      "<string>:2: RuntimeWarning: overflow encountered in double_scalars\n",
      "<string>:2: RuntimeWarning: overflow encountered in double_scalars\n",
      "<string>:2: RuntimeWarning: invalid value encountered in double_scalars\n",
      "<string>:2: RuntimeWarning: invalid value encountered in double_scalars\n"
     ]
    },
    {
     "name": "stdout",
     "output_type": "stream",
     "text": [
      "bad\n",
      "............"
     ]
    },
    {
     "name": "stderr",
     "output_type": "stream",
     "text": [
      "<string>:2: RuntimeWarning: overflow encountered in double_scalars\n",
      "<string>:2: RuntimeWarning: overflow encountered in double_scalars\n",
      "<string>:2: RuntimeWarning: invalid value encountered in double_scalars\n",
      "<string>:2: RuntimeWarning: invalid value encountered in double_scalars\n"
     ]
    },
    {
     "name": "stdout",
     "output_type": "stream",
     "text": [
      "bad\n",
      "...................differential_evolution step 22: f(x)= 20.9971\n",
      "......................."
     ]
    },
    {
     "name": "stderr",
     "output_type": "stream",
     "text": [
      "<string>:2: RuntimeWarning: overflow encountered in double_scalars\n",
      "<string>:2: RuntimeWarning: overflow encountered in double_scalars\n",
      "<string>:2: RuntimeWarning: invalid value encountered in double_scalars\n",
      "<string>:2: RuntimeWarning: invalid value encountered in double_scalars\n"
     ]
    },
    {
     "name": "stdout",
     "output_type": "stream",
     "text": [
      "bad\n",
      "............."
     ]
    },
    {
     "name": "stderr",
     "output_type": "stream",
     "text": [
      "<string>:2: RuntimeWarning: overflow encountered in double_scalars\n",
      "<string>:2: RuntimeWarning: overflow encountered in double_scalars\n",
      "<string>:2: RuntimeWarning: invalid value encountered in double_scalars\n",
      "<string>:2: RuntimeWarning: invalid value encountered in double_scalars\n"
     ]
    },
    {
     "name": "stdout",
     "output_type": "stream",
     "text": [
      "bad\n",
      "........."
     ]
    },
    {
     "name": "stderr",
     "output_type": "stream",
     "text": [
      "<string>:2: RuntimeWarning: overflow encountered in double_scalars\n",
      "<string>:2: RuntimeWarning: overflow encountered in double_scalars\n",
      "<string>:2: RuntimeWarning: invalid value encountered in double_scalars\n",
      "<string>:2: RuntimeWarning: invalid value encountered in double_scalars\n"
     ]
    },
    {
     "name": "stdout",
     "output_type": "stream",
     "text": [
      "bad\n",
      "................."
     ]
    },
    {
     "name": "stderr",
     "output_type": "stream",
     "text": [
      "<string>:2: RuntimeWarning: overflow encountered in double_scalars\n",
      "<string>:2: RuntimeWarning: overflow encountered in double_scalars\n",
      "<string>:2: RuntimeWarning: invalid value encountered in double_scalars\n",
      "<string>:2: RuntimeWarning: invalid value encountered in double_scalars\n"
     ]
    },
    {
     "name": "stdout",
     "output_type": "stream",
     "text": [
      "bad\n",
      ".............differential_evolution step 23: f(x)= 20.997\n",
      "................................................"
     ]
    }
   ],
   "source": [
    "from scipy.optimize import differential_evolution\n",
    "opt_func = lambda x : model.basic_model_lib.model_optimize_PRO(x, fcm_dfn.loc[fcm_dfn.PRO== 'MIT9313'], param_names)\n",
    "def compute_bounds(i):\n",
    "    if i < 0.1:\n",
    "        return (0, 0.2)\n",
    "    else:\n",
    "        return (i/10, i*2)\n",
    "    \n",
    "bounds = [compute_bounds(i) for i in param_values]\n",
    "result = differential_evolution(opt_func, bounds, disp=True)\n"
   ]
  },
  {
   "cell_type": "code",
   "execution_count": 495,
   "metadata": {},
   "outputs": [
    {
     "data": {
      "text/plain": [
       "     fun: 20.99685520996328\n",
       "     jac: array([-1.31816336e-02, -1.76036963e-03, -7.46069873e-06,  2.29892549e-02,\n",
       "        1.20969901e-02])\n",
       " message: 'Optimization terminated successfully.'\n",
       "    nfev: 1848\n",
       "     nit: 23\n",
       " success: True\n",
       "       x: array([0.14239125, 1.13288124, 0.09269998, 0.06018957, 0.06296634])"
      ]
     },
     "execution_count": 495,
     "metadata": {},
     "output_type": "execute_result"
    }
   ],
   "source": [
    "result"
   ]
  },
  {
   "cell_type": "code",
   "execution_count": 496,
   "metadata": {},
   "outputs": [
    {
     "data": {
      "text/plain": [
       "'Optimization terminated successfully.'"
      ]
     },
     "execution_count": 496,
     "metadata": {},
     "output_type": "execute_result"
    }
   ],
   "source": [
    "result.message"
   ]
  },
  {
   "cell_type": "code",
   "execution_count": 497,
   "metadata": {},
   "outputs": [],
   "source": [
    "new_param_values = result.x"
   ]
  },
  {
   "cell_type": "code",
   "execution_count": 498,
   "metadata": {},
   "outputs": [],
   "source": [
    "m = model.basic_model_lib.ModelProALT()"
   ]
  },
  {
   "cell_type": "raw",
   "metadata": {},
   "source": [
    "v_n_max_p 1.9e-09\n",
    "mu_inf_p 0.86\n",
    "k_n_p 0.11008885160313818\n",
    "q_n_min_p 7e-10\n",
    "q_c_min_p 3e-11\n"
   ]
  },
  {
   "cell_type": "code",
   "execution_count": 499,
   "metadata": {},
   "outputs": [],
   "source": [
    "m.disable_organism('ALT')\n",
    "m.override_initial_values({\n",
    "'b_n_a': 0, \n",
    "'b_c_a': 0,\n",
    "'x_a' : 0,\n",
    "})\n"
   ]
  },
  {
   "cell_type": "code",
   "execution_count": 500,
   "metadata": {},
   "outputs": [],
   "source": [
    "m.set_referece_times(reference_days)"
   ]
  },
  {
   "cell_type": "code",
   "execution_count": 501,
   "metadata": {},
   "outputs": [],
   "source": [
    "m.override_param_values({i:k for i,k in zip(param_names, new_param_values)})"
   ]
  },
  {
   "cell_type": "code",
   "execution_count": 534,
   "metadata": {},
   "outputs": [
    {
     "data": {
      "text/plain": [
       "{'v_n_max_p': 0.1423912518573166,\n",
       " 'mu_inf_p': 1.1328812352450315,\n",
       " 'k_n_p': 0.09269998245005322,\n",
       " 'q_n_min_p': 0.06018956849247276,\n",
       " 'q_n_max_p': 0.06296633955331679}"
      ]
     },
     "execution_count": 534,
     "metadata": {},
     "output_type": "execute_result"
    }
   ],
   "source": [
    "{i:k for i,k in zip(param_names, new_param_values)}"
   ]
  },
  {
   "cell_type": "code",
   "execution_count": 535,
   "metadata": {},
   "outputs": [
    {
     "data": {
      "text/plain": [
       "{'v_n_max_p': 1.9e-09,\n",
       " 'mu_inf_p': 0.86,\n",
       " 'k_n_p': 0.11,\n",
       " 'q_n_min_p': 7e-10,\n",
       " 'q_n_max_p': 1.5e-09}"
      ]
     },
     "execution_count": 535,
     "metadata": {},
     "output_type": "execute_result"
    }
   ],
   "source": [
    "{i:k for i,k in zip(param_names, param_values)}"
   ]
  },
  {
   "cell_type": "code",
   "execution_count": 536,
   "metadata": {},
   "outputs": [
    {
     "name": "stdout",
     "output_type": "stream",
     "text": [
      "b_n_p 60189.56849247276\n",
      "b_c_p 3e-05\n",
      "b_n_a 0.0\n",
      "b_c_a 0.0\n",
      "x_p 1000000.0\n",
      "x_a 0\n",
      "n 100.0\n",
      "c 3000\n",
      "on 20\n",
      "oc 132.5\n"
     ]
    }
   ],
   "source": [
    "m.print_initial_values()"
   ]
  },
  {
   "cell_type": "code",
   "execution_count": 503,
   "metadata": {},
   "outputs": [
    {
     "name": "stdout",
     "output_type": "stream",
     "text": [
      "gamma_n_p 0.04\n",
      "gamma_c_p 0.04\n",
      "gamma_n_a 0.04\n",
      "gamma_c_a 0.04\n",
      "excretion_n_p 0.01\n",
      "excretion_c_p 0.01\n",
      "excretion_n_a 0.01\n",
      "excretion_c_a 0.01\n",
      "v_n_max_p 0.1423912518573166\n",
      "v_c_max_p 8e-09\n",
      "v_n_max_a 1.9e-09\n",
      "v_c_max_a 8e-09\n",
      "mu_inf_p 1.1328812352450315\n",
      "mu_inf_a 0.86\n",
      "k_n_p 0.09269998245005322\n",
      "k_c_p 0.11008885160313818\n",
      "k_n_a 0.11008885160313818\n",
      "k_c_a 0.11008885160313818\n",
      "q_n_min_p 0.06018956849247276\n",
      "q_c_min_p 3e-11\n",
      "q_n_min_a 7e-10\n",
      "q_c_min_a 3e-11\n",
      "q_n_max_p 0.06296633955331679\n",
      "q_c_max_p 6e-09\n",
      "q_n_max_a 1.5e-09\n",
      "q_c_max_a 6e-09\n",
      "mortality_p 0.1\n",
      "mortality_a 0.1\n",
      "r0_p 0.18\n",
      "r0_a 0.18\n",
      "b_p 0.01\n",
      "b_a 0.01\n",
      "delta_t 1.1574074074074073e-05\n"
     ]
    }
   ],
   "source": [
    "m.print_param_values()"
   ]
  },
  {
   "cell_type": "code",
   "execution_count": 504,
   "metadata": {},
   "outputs": [
    {
     "data": {
      "text/plain": [
       "[('v_n_max_p', 0.1423912518573166),\n",
       " ('mu_inf_p', 1.1328812352450315),\n",
       " ('k_n_p', 0.09269998245005322),\n",
       " ('q_n_min_p', 0.06018956849247276),\n",
       " ('q_n_max_p', 0.06296633955331679)]"
      ]
     },
     "execution_count": 504,
     "metadata": {},
     "output_type": "execute_result"
    }
   ],
   "source": [
    "list(zip(param_names, new_param_values))"
   ]
  },
  {
   "cell_type": "code",
   "execution_count": 505,
   "metadata": {},
   "outputs": [
    {
     "name": "stdout",
     "output_type": "stream",
     "text": [
      ".............................................................................................................................................Wall time: 3min 32s\n"
     ]
    }
   ],
   "source": [
    "# Wall time: 8.66 s - 1 day\n",
    "# Wall time: 40 s - 5 day\n",
    "# Wall time: 2min 36s - 20 days\n",
    "# Wall time: 13min 18s - 100 days\n",
    "#%prun -s cumulative res = m.simulate(num_iterations=3*3600*24, collect_every=3600*6)\n",
    "%time res,refres = m.simulate(num_iterations=35*3600*24, collect_every=3600*6)"
   ]
  },
  {
   "cell_type": "code",
   "execution_count": 506,
   "metadata": {},
   "outputs": [],
   "source": [
    "res_df = pd.DataFrame(res)"
   ]
  },
  {
   "cell_type": "code",
   "execution_count": 507,
   "metadata": {},
   "outputs": [],
   "source": [
    "res_df['q_n_p'] = res_df['b_n_p'] / res_df['x_p']\n",
    "res_df['q_c_p'] = res_df['b_c_p'] / res_df['x_p']\n",
    "#res_df['q_n_a'] = res_df['b_n_a'] / res_df['x_a']\n",
    "#res_df['q_c_a'] = res_df['b_c_a'] / res_df['x_a']\n"
   ]
  },
  {
   "cell_type": "code",
   "execution_count": 508,
   "metadata": {},
   "outputs": [],
   "source": [
    "res_df['qratio_n_p'] = m.get_param_val('q_n_min_p') / res_df['q_n_p']\n",
    "res_df['qratio_c_p'] = m.get_param_val('q_c_min_p') / res_df['q_c_p']\n",
    "#res_df['qratio_n_a'] = m.get_param_val('q_n_min_a') / res_df['q_n_a']\n",
    "#res_df['qratio_c_a'] = m.get_param_val('q_c_min_a') / res_df['q_c_a']\n"
   ]
  },
  {
   "cell_type": "code",
   "execution_count": 509,
   "metadata": {},
   "outputs": [],
   "source": [
    "res_df['maxqratio_p'] = res_df[['qratio_n_p' , 'qratio_c_p']].max(axis=1)\n",
    "#res_df['maxqratio_a'] = res_df[['qratio_n_a' , 'qratio_c_a']].max(axis=1)\n"
   ]
  },
  {
   "cell_type": "code",
   "execution_count": 510,
   "metadata": {},
   "outputs": [],
   "source": [
    "res_df['mu_p'] = m.get_param_val('q_c_min_p') * (1 - res_df['maxqratio_p'])\n",
    "#res_df['mu_a'] = m.get_param_val('q_c_min_a') * (1 - res_df['maxqratio_a'])\n"
   ]
  },
  {
   "cell_type": "code",
   "execution_count": 511,
   "metadata": {},
   "outputs": [],
   "source": [
    "#x1 = x +(x * mu*delta_t)\n",
    "#x1 -x = x * mu*delta_t\n",
    "#(x1 -x)/(x*t) =  mu\n",
    "\n",
    "res_df['act_mu_p'] = (res_df['x_p'] - res_df['x_p'].shift())/(res_df['x_p'].shift()*4)\n",
    "#res_df['act_mu_a'] = (res_df['x_a'] - res_df['x_a'].shift())/(res_df['x_a'].shift()*4)\n",
    "\n"
   ]
  },
  {
   "cell_type": "code",
   "execution_count": 512,
   "metadata": {},
   "outputs": [],
   "source": [
    "res_df['n_ratio'] = res_df['n']/ (res_df['n'] + m.get_param_val('k_n_p'))"
   ]
  },
  {
   "cell_type": "code",
   "execution_count": 513,
   "metadata": {},
   "outputs": [
    {
     "data": {
      "text/html": [
       "<div>\n",
       "<style scoped>\n",
       "    .dataframe tbody tr th:only-of-type {\n",
       "        vertical-align: middle;\n",
       "    }\n",
       "\n",
       "    .dataframe tbody tr th {\n",
       "        vertical-align: top;\n",
       "    }\n",
       "\n",
       "    .dataframe thead th {\n",
       "        text-align: right;\n",
       "    }\n",
       "</style>\n",
       "<table border=\"1\" class=\"dataframe\">\n",
       "  <thead>\n",
       "    <tr style=\"text-align: right;\">\n",
       "      <th></th>\n",
       "      <th>count</th>\n",
       "      <th>mean</th>\n",
       "      <th>std</th>\n",
       "      <th>min</th>\n",
       "      <th>25%</th>\n",
       "      <th>50%</th>\n",
       "      <th>75%</th>\n",
       "      <th>max</th>\n",
       "    </tr>\n",
       "  </thead>\n",
       "  <tbody>\n",
       "    <tr>\n",
       "      <th>b_n_p</th>\n",
       "      <td>140.0</td>\n",
       "      <td>2.936161e+04</td>\n",
       "      <td>1.484980e+04</td>\n",
       "      <td>1.057549e+04</td>\n",
       "      <td>1.651149e+04</td>\n",
       "      <td>2.577909e+04</td>\n",
       "      <td>4.024801e+04</td>\n",
       "      <td>6.203672e+04</td>\n",
       "    </tr>\n",
       "    <tr>\n",
       "      <th>b_c_p</th>\n",
       "      <td>140.0</td>\n",
       "      <td>2.270401e-03</td>\n",
       "      <td>1.099964e-03</td>\n",
       "      <td>3.000000e-05</td>\n",
       "      <td>1.319543e-03</td>\n",
       "      <td>2.033935e-03</td>\n",
       "      <td>3.135061e-03</td>\n",
       "      <td>4.403230e-03</td>\n",
       "    </tr>\n",
       "    <tr>\n",
       "      <th>b_n_a</th>\n",
       "      <td>140.0</td>\n",
       "      <td>0.000000e+00</td>\n",
       "      <td>0.000000e+00</td>\n",
       "      <td>0.000000e+00</td>\n",
       "      <td>0.000000e+00</td>\n",
       "      <td>0.000000e+00</td>\n",
       "      <td>0.000000e+00</td>\n",
       "      <td>0.000000e+00</td>\n",
       "    </tr>\n",
       "    <tr>\n",
       "      <th>b_c_a</th>\n",
       "      <td>140.0</td>\n",
       "      <td>0.000000e+00</td>\n",
       "      <td>0.000000e+00</td>\n",
       "      <td>0.000000e+00</td>\n",
       "      <td>0.000000e+00</td>\n",
       "      <td>0.000000e+00</td>\n",
       "      <td>0.000000e+00</td>\n",
       "      <td>0.000000e+00</td>\n",
       "    </tr>\n",
       "    <tr>\n",
       "      <th>x_p</th>\n",
       "      <td>140.0</td>\n",
       "      <td>4.671476e+05</td>\n",
       "      <td>2.367765e+05</td>\n",
       "      <td>1.681471e+05</td>\n",
       "      <td>2.625276e+05</td>\n",
       "      <td>4.098795e+05</td>\n",
       "      <td>6.399307e+05</td>\n",
       "      <td>1.000000e+06</td>\n",
       "    </tr>\n",
       "    <tr>\n",
       "      <th>x_a</th>\n",
       "      <td>140.0</td>\n",
       "      <td>0.000000e+00</td>\n",
       "      <td>0.000000e+00</td>\n",
       "      <td>0.000000e+00</td>\n",
       "      <td>0.000000e+00</td>\n",
       "      <td>0.000000e+00</td>\n",
       "      <td>0.000000e+00</td>\n",
       "      <td>0.000000e+00</td>\n",
       "    </tr>\n",
       "    <tr>\n",
       "      <th>n</th>\n",
       "      <td>140.0</td>\n",
       "      <td>-3.822335e+04</td>\n",
       "      <td>1.593366e+04</td>\n",
       "      <td>-5.830816e+04</td>\n",
       "      <td>-5.197415e+04</td>\n",
       "      <td>-4.208514e+04</td>\n",
       "      <td>-2.664607e+04</td>\n",
       "      <td>1.000000e+02</td>\n",
       "    </tr>\n",
       "    <tr>\n",
       "      <th>c</th>\n",
       "      <td>140.0</td>\n",
       "      <td>2.999992e+03</td>\n",
       "      <td>1.578776e-03</td>\n",
       "      <td>2.999991e+03</td>\n",
       "      <td>2.999991e+03</td>\n",
       "      <td>2.999992e+03</td>\n",
       "      <td>2.999993e+03</td>\n",
       "      <td>3.000000e+03</td>\n",
       "    </tr>\n",
       "    <tr>\n",
       "      <th>on</th>\n",
       "      <td>140.0</td>\n",
       "      <td>7.569501e+04</td>\n",
       "      <td>3.368413e+04</td>\n",
       "      <td>2.000000e+01</td>\n",
       "      <td>5.111212e+04</td>\n",
       "      <td>8.384162e+04</td>\n",
       "      <td>1.048055e+05</td>\n",
       "      <td>1.182330e+05</td>\n",
       "    </tr>\n",
       "    <tr>\n",
       "      <th>oc</th>\n",
       "      <td>140.0</td>\n",
       "      <td>1.325053e+02</td>\n",
       "      <td>2.476696e-03</td>\n",
       "      <td>1.325000e+02</td>\n",
       "      <td>1.325035e+02</td>\n",
       "      <td>1.325059e+02</td>\n",
       "      <td>1.325074e+02</td>\n",
       "      <td>1.325084e+02</td>\n",
       "    </tr>\n",
       "    <tr>\n",
       "      <th>day</th>\n",
       "      <td>140.0</td>\n",
       "      <td>1.737500e+01</td>\n",
       "      <td>1.013965e+01</td>\n",
       "      <td>0.000000e+00</td>\n",
       "      <td>8.687500e+00</td>\n",
       "      <td>1.737500e+01</td>\n",
       "      <td>2.606250e+01</td>\n",
       "      <td>3.475000e+01</td>\n",
       "    </tr>\n",
       "    <tr>\n",
       "      <th>q_n_p</th>\n",
       "      <td>140.0</td>\n",
       "      <td>6.287500e-02</td>\n",
       "      <td>2.285933e-04</td>\n",
       "      <td>6.018957e-02</td>\n",
       "      <td>6.289432e-02</td>\n",
       "      <td>6.289432e-02</td>\n",
       "      <td>6.289432e-02</td>\n",
       "      <td>6.289432e-02</td>\n",
       "    </tr>\n",
       "    <tr>\n",
       "      <th>q_c_p</th>\n",
       "      <td>140.0</td>\n",
       "      <td>4.980329e-09</td>\n",
       "      <td>5.702177e-10</td>\n",
       "      <td>3.000000e-11</td>\n",
       "      <td>5.091150e-09</td>\n",
       "      <td>5.091156e-09</td>\n",
       "      <td>5.091156e-09</td>\n",
       "      <td>5.091156e-09</td>\n",
       "    </tr>\n",
       "    <tr>\n",
       "      <th>qratio_n_p</th>\n",
       "      <td>140.0</td>\n",
       "      <td>9.573025e-01</td>\n",
       "      <td>3.634561e-03</td>\n",
       "      <td>9.569953e-01</td>\n",
       "      <td>9.569953e-01</td>\n",
       "      <td>9.569953e-01</td>\n",
       "      <td>9.569953e-01</td>\n",
       "      <td>1.000000e+00</td>\n",
       "    </tr>\n",
       "    <tr>\n",
       "      <th>qratio_c_p</th>\n",
       "      <td>140.0</td>\n",
       "      <td>1.316206e-02</td>\n",
       "      <td>8.401045e-02</td>\n",
       "      <td>5.892572e-03</td>\n",
       "      <td>5.892572e-03</td>\n",
       "      <td>5.892572e-03</td>\n",
       "      <td>5.892578e-03</td>\n",
       "      <td>1.000000e+00</td>\n",
       "    </tr>\n",
       "    <tr>\n",
       "      <th>maxqratio_p</th>\n",
       "      <td>140.0</td>\n",
       "      <td>9.573025e-01</td>\n",
       "      <td>3.634561e-03</td>\n",
       "      <td>9.569953e-01</td>\n",
       "      <td>9.569953e-01</td>\n",
       "      <td>9.569953e-01</td>\n",
       "      <td>9.569953e-01</td>\n",
       "      <td>1.000000e+00</td>\n",
       "    </tr>\n",
       "    <tr>\n",
       "      <th>mu_p</th>\n",
       "      <td>140.0</td>\n",
       "      <td>1.280926e-12</td>\n",
       "      <td>1.090368e-13</td>\n",
       "      <td>0.000000e+00</td>\n",
       "      <td>1.290141e-12</td>\n",
       "      <td>1.290141e-12</td>\n",
       "      <td>1.290141e-12</td>\n",
       "      <td>1.290142e-12</td>\n",
       "    </tr>\n",
       "    <tr>\n",
       "      <th>act_mu_p</th>\n",
       "      <td>139.0</td>\n",
       "      <td>-3.186205e-03</td>\n",
       "      <td>1.902277e-05</td>\n",
       "      <td>-3.408867e-03</td>\n",
       "      <td>-3.184592e-03</td>\n",
       "      <td>-3.184592e-03</td>\n",
       "      <td>-3.184592e-03</td>\n",
       "      <td>-3.184591e-03</td>\n",
       "    </tr>\n",
       "    <tr>\n",
       "      <th>n_ratio</th>\n",
       "      <td>140.0</td>\n",
       "      <td>9.999969e-01</td>\n",
       "      <td>7.866323e-05</td>\n",
       "      <td>9.990739e-01</td>\n",
       "      <td>1.000002e+00</td>\n",
       "      <td>1.000002e+00</td>\n",
       "      <td>1.000003e+00</td>\n",
       "      <td>1.000027e+00</td>\n",
       "    </tr>\n",
       "  </tbody>\n",
       "</table>\n",
       "</div>"
      ],
      "text/plain": [
       "             count          mean           std           min           25%  \\\n",
       "b_n_p        140.0  2.936161e+04  1.484980e+04  1.057549e+04  1.651149e+04   \n",
       "b_c_p        140.0  2.270401e-03  1.099964e-03  3.000000e-05  1.319543e-03   \n",
       "b_n_a        140.0  0.000000e+00  0.000000e+00  0.000000e+00  0.000000e+00   \n",
       "b_c_a        140.0  0.000000e+00  0.000000e+00  0.000000e+00  0.000000e+00   \n",
       "x_p          140.0  4.671476e+05  2.367765e+05  1.681471e+05  2.625276e+05   \n",
       "x_a          140.0  0.000000e+00  0.000000e+00  0.000000e+00  0.000000e+00   \n",
       "n            140.0 -3.822335e+04  1.593366e+04 -5.830816e+04 -5.197415e+04   \n",
       "c            140.0  2.999992e+03  1.578776e-03  2.999991e+03  2.999991e+03   \n",
       "on           140.0  7.569501e+04  3.368413e+04  2.000000e+01  5.111212e+04   \n",
       "oc           140.0  1.325053e+02  2.476696e-03  1.325000e+02  1.325035e+02   \n",
       "day          140.0  1.737500e+01  1.013965e+01  0.000000e+00  8.687500e+00   \n",
       "q_n_p        140.0  6.287500e-02  2.285933e-04  6.018957e-02  6.289432e-02   \n",
       "q_c_p        140.0  4.980329e-09  5.702177e-10  3.000000e-11  5.091150e-09   \n",
       "qratio_n_p   140.0  9.573025e-01  3.634561e-03  9.569953e-01  9.569953e-01   \n",
       "qratio_c_p   140.0  1.316206e-02  8.401045e-02  5.892572e-03  5.892572e-03   \n",
       "maxqratio_p  140.0  9.573025e-01  3.634561e-03  9.569953e-01  9.569953e-01   \n",
       "mu_p         140.0  1.280926e-12  1.090368e-13  0.000000e+00  1.290141e-12   \n",
       "act_mu_p     139.0 -3.186205e-03  1.902277e-05 -3.408867e-03 -3.184592e-03   \n",
       "n_ratio      140.0  9.999969e-01  7.866323e-05  9.990739e-01  1.000002e+00   \n",
       "\n",
       "                      50%           75%           max  \n",
       "b_n_p        2.577909e+04  4.024801e+04  6.203672e+04  \n",
       "b_c_p        2.033935e-03  3.135061e-03  4.403230e-03  \n",
       "b_n_a        0.000000e+00  0.000000e+00  0.000000e+00  \n",
       "b_c_a        0.000000e+00  0.000000e+00  0.000000e+00  \n",
       "x_p          4.098795e+05  6.399307e+05  1.000000e+06  \n",
       "x_a          0.000000e+00  0.000000e+00  0.000000e+00  \n",
       "n           -4.208514e+04 -2.664607e+04  1.000000e+02  \n",
       "c            2.999992e+03  2.999993e+03  3.000000e+03  \n",
       "on           8.384162e+04  1.048055e+05  1.182330e+05  \n",
       "oc           1.325059e+02  1.325074e+02  1.325084e+02  \n",
       "day          1.737500e+01  2.606250e+01  3.475000e+01  \n",
       "q_n_p        6.289432e-02  6.289432e-02  6.289432e-02  \n",
       "q_c_p        5.091156e-09  5.091156e-09  5.091156e-09  \n",
       "qratio_n_p   9.569953e-01  9.569953e-01  1.000000e+00  \n",
       "qratio_c_p   5.892572e-03  5.892578e-03  1.000000e+00  \n",
       "maxqratio_p  9.569953e-01  9.569953e-01  1.000000e+00  \n",
       "mu_p         1.290141e-12  1.290141e-12  1.290142e-12  \n",
       "act_mu_p    -3.184592e-03 -3.184592e-03 -3.184591e-03  \n",
       "n_ratio      1.000002e+00  1.000003e+00  1.000027e+00  "
      ]
     },
     "execution_count": 513,
     "metadata": {},
     "output_type": "execute_result"
    }
   ],
   "source": [
    "res_df.describe().T"
   ]
  },
  {
   "cell_type": "code",
   "execution_count": 514,
   "metadata": {},
   "outputs": [
    {
     "data": {
      "text/plain": [
       "Index(['b_n_p', 'b_c_p', 'b_n_a', 'b_c_a', 'x_p', 'x_a', 'n', 'c', 'on', 'oc',\n",
       "       'day', 'q_n_p', 'q_c_p', 'qratio_n_p', 'qratio_c_p', 'maxqratio_p',\n",
       "       'mu_p', 'act_mu_p', 'n_ratio'],\n",
       "      dtype='object')"
      ]
     },
     "execution_count": 514,
     "metadata": {},
     "output_type": "execute_result"
    }
   ],
   "source": [
    "res_df.columns"
   ]
  },
  {
   "cell_type": "code",
   "execution_count": 515,
   "metadata": {},
   "outputs": [
    {
     "data": {
      "text/plain": [
       "(0.06296633955331679, 0.06018956849247276)"
      ]
     },
     "execution_count": 515,
     "metadata": {},
     "output_type": "execute_result"
    }
   ],
   "source": [
    "m.get_param_val('q_n_max_p'), m.get_param_val('q_n_min_p'), "
   ]
  },
  {
   "cell_type": "raw",
   "metadata": {},
   "source": [
    "res_df_full = res_df\n",
    "res_df = res_df.loc[res_df.day < 25]"
   ]
  },
  {
   "cell_type": "raw",
   "metadata": {},
   "source": [
    "res_df = res_df_full"
   ]
  },
  {
   "cell_type": "code",
   "execution_count": 516,
   "metadata": {
    "scrolled": true
   },
   "outputs": [
    {
     "ename": "ValueError",
     "evalue": "Could not interpret input 'mu_a'",
     "output_type": "error",
     "traceback": [
      "\u001b[1;31m---------------------------------------------------------------------------\u001b[0m",
      "\u001b[1;31mValueError\u001b[0m                                Traceback (most recent call last)",
      "\u001b[1;32m<ipython-input-516-82fcd28b7307>\u001b[0m in \u001b[0;36m<module>\u001b[1;34m\u001b[0m\n\u001b[0;32m      6\u001b[0m     \u001b[1;34m'act_mu_p'\u001b[0m\u001b[1;33m\u001b[0m\u001b[1;33m\u001b[0m\u001b[0m\n\u001b[0;32m      7\u001b[0m        ]:\n\u001b[1;32m----> 8\u001b[1;33m     \u001b[0msns\u001b[0m\u001b[1;33m.\u001b[0m\u001b[0mlineplot\u001b[0m\u001b[1;33m(\u001b[0m\u001b[0mdata\u001b[0m\u001b[1;33m=\u001b[0m\u001b[0mres_df\u001b[0m\u001b[1;33m,\u001b[0m \u001b[0mx\u001b[0m\u001b[1;33m=\u001b[0m\u001b[1;34m'day'\u001b[0m\u001b[1;33m,\u001b[0m \u001b[0my\u001b[0m\u001b[1;33m=\u001b[0m\u001b[0mi\u001b[0m\u001b[1;33m,\u001b[0m \u001b[0mlabel\u001b[0m\u001b[1;33m=\u001b[0m\u001b[0mi\u001b[0m\u001b[1;33m,\u001b[0m \u001b[0mlw\u001b[0m\u001b[1;33m=\u001b[0m\u001b[1;36m5\u001b[0m\u001b[1;33m)\u001b[0m\u001b[1;33m\u001b[0m\u001b[1;33m\u001b[0m\u001b[0m\n\u001b[0m\u001b[0;32m      9\u001b[0m     \u001b[1;31m#plt.ylim(0, 2e-11)\u001b[0m\u001b[1;33m\u001b[0m\u001b[1;33m\u001b[0m\u001b[1;33m\u001b[0m\u001b[0m\n\u001b[0;32m     10\u001b[0m \u001b[1;33m\u001b[0m\u001b[0m\n",
      "\u001b[1;32m~\\Anaconda3\\lib\\site-packages\\seaborn\\relational.py\u001b[0m in \u001b[0;36mlineplot\u001b[1;34m(x, y, hue, size, style, data, palette, hue_order, hue_norm, sizes, size_order, size_norm, dashes, markers, style_order, units, estimator, ci, n_boot, sort, err_style, err_kws, legend, ax, **kwargs)\u001b[0m\n\u001b[0;32m   1076\u001b[0m         \u001b[0mdashes\u001b[0m\u001b[1;33m=\u001b[0m\u001b[0mdashes\u001b[0m\u001b[1;33m,\u001b[0m \u001b[0mmarkers\u001b[0m\u001b[1;33m=\u001b[0m\u001b[0mmarkers\u001b[0m\u001b[1;33m,\u001b[0m \u001b[0mstyle_order\u001b[0m\u001b[1;33m=\u001b[0m\u001b[0mstyle_order\u001b[0m\u001b[1;33m,\u001b[0m\u001b[1;33m\u001b[0m\u001b[1;33m\u001b[0m\u001b[0m\n\u001b[0;32m   1077\u001b[0m         \u001b[0munits\u001b[0m\u001b[1;33m=\u001b[0m\u001b[0munits\u001b[0m\u001b[1;33m,\u001b[0m \u001b[0mestimator\u001b[0m\u001b[1;33m=\u001b[0m\u001b[0mestimator\u001b[0m\u001b[1;33m,\u001b[0m \u001b[0mci\u001b[0m\u001b[1;33m=\u001b[0m\u001b[0mci\u001b[0m\u001b[1;33m,\u001b[0m \u001b[0mn_boot\u001b[0m\u001b[1;33m=\u001b[0m\u001b[0mn_boot\u001b[0m\u001b[1;33m,\u001b[0m\u001b[1;33m\u001b[0m\u001b[1;33m\u001b[0m\u001b[0m\n\u001b[1;32m-> 1078\u001b[1;33m         \u001b[0msort\u001b[0m\u001b[1;33m=\u001b[0m\u001b[0msort\u001b[0m\u001b[1;33m,\u001b[0m \u001b[0merr_style\u001b[0m\u001b[1;33m=\u001b[0m\u001b[0merr_style\u001b[0m\u001b[1;33m,\u001b[0m \u001b[0merr_kws\u001b[0m\u001b[1;33m=\u001b[0m\u001b[0merr_kws\u001b[0m\u001b[1;33m,\u001b[0m \u001b[0mlegend\u001b[0m\u001b[1;33m=\u001b[0m\u001b[0mlegend\u001b[0m\u001b[1;33m,\u001b[0m\u001b[1;33m\u001b[0m\u001b[1;33m\u001b[0m\u001b[0m\n\u001b[0m\u001b[0;32m   1079\u001b[0m     )\n\u001b[0;32m   1080\u001b[0m \u001b[1;33m\u001b[0m\u001b[0m\n",
      "\u001b[1;32m~\\Anaconda3\\lib\\site-packages\\seaborn\\relational.py\u001b[0m in \u001b[0;36m__init__\u001b[1;34m(self, x, y, hue, size, style, data, palette, hue_order, hue_norm, sizes, size_order, size_norm, dashes, markers, style_order, units, estimator, ci, n_boot, sort, err_style, err_kws, legend)\u001b[0m\n\u001b[0;32m    661\u001b[0m \u001b[1;33m\u001b[0m\u001b[0m\n\u001b[0;32m    662\u001b[0m         plot_data = self.establish_variables(\n\u001b[1;32m--> 663\u001b[1;33m             \u001b[0mx\u001b[0m\u001b[1;33m,\u001b[0m \u001b[0my\u001b[0m\u001b[1;33m,\u001b[0m \u001b[0mhue\u001b[0m\u001b[1;33m,\u001b[0m \u001b[0msize\u001b[0m\u001b[1;33m,\u001b[0m \u001b[0mstyle\u001b[0m\u001b[1;33m,\u001b[0m \u001b[0munits\u001b[0m\u001b[1;33m,\u001b[0m \u001b[0mdata\u001b[0m\u001b[1;33m\u001b[0m\u001b[1;33m\u001b[0m\u001b[0m\n\u001b[0m\u001b[0;32m    664\u001b[0m         )\n\u001b[0;32m    665\u001b[0m \u001b[1;33m\u001b[0m\u001b[0m\n",
      "\u001b[1;32m~\\Anaconda3\\lib\\site-packages\\seaborn\\relational.py\u001b[0m in \u001b[0;36mestablish_variables\u001b[1;34m(self, x, y, hue, size, style, units, data)\u001b[0m\n\u001b[0;32m    140\u001b[0m                 \u001b[1;32mif\u001b[0m \u001b[0misinstance\u001b[0m\u001b[1;33m(\u001b[0m\u001b[0mvar\u001b[0m\u001b[1;33m,\u001b[0m \u001b[0mstring_types\u001b[0m\u001b[1;33m)\u001b[0m\u001b[1;33m:\u001b[0m\u001b[1;33m\u001b[0m\u001b[1;33m\u001b[0m\u001b[0m\n\u001b[0;32m    141\u001b[0m                     \u001b[0merr\u001b[0m \u001b[1;33m=\u001b[0m \u001b[1;34m\"Could not interpret input '{}'\"\u001b[0m\u001b[1;33m.\u001b[0m\u001b[0mformat\u001b[0m\u001b[1;33m(\u001b[0m\u001b[0mvar\u001b[0m\u001b[1;33m)\u001b[0m\u001b[1;33m\u001b[0m\u001b[1;33m\u001b[0m\u001b[0m\n\u001b[1;32m--> 142\u001b[1;33m                     \u001b[1;32mraise\u001b[0m \u001b[0mValueError\u001b[0m\u001b[1;33m(\u001b[0m\u001b[0merr\u001b[0m\u001b[1;33m)\u001b[0m\u001b[1;33m\u001b[0m\u001b[1;33m\u001b[0m\u001b[0m\n\u001b[0m\u001b[0;32m    143\u001b[0m \u001b[1;33m\u001b[0m\u001b[0m\n\u001b[0;32m    144\u001b[0m             \u001b[1;31m# Extract variable names\u001b[0m\u001b[1;33m\u001b[0m\u001b[1;33m\u001b[0m\u001b[1;33m\u001b[0m\u001b[0m\n",
      "\u001b[1;31mValueError\u001b[0m: Could not interpret input 'mu_a'"
     ]
    }
   ],
   "source": [
    "#sns.set_context('paper')\n",
    "for i in [\n",
    "     'mu_a',\n",
    "    'mu_p',\n",
    "   'act_mu_a',\n",
    "    'act_mu_p'\n",
    "       ]:\n",
    "    sns.lineplot(data=res_df, x='day', y=i, label=i, lw=5)\n",
    "    #plt.ylim(0, 2e-11)\n",
    "    \n",
    "    #plt.show()    \n",
    "\n",
    "for i in [\n",
    "  #   'mu_inf_p', 'mu_inf_a', \n",
    "       ]:\n",
    "    sns.lineplot(data=res_df, x='day', y=m.get_param_val(i), label=i)\n",
    "plt.legend(bbox_to_anchor=(1,1))\n",
    "#plt.ylim(0, 1e-10)\n",
    "plt.show()"
   ]
  },
  {
   "cell_type": "code",
   "execution_count": null,
   "metadata": {},
   "outputs": [],
   "source": [
    "#sns.set_context('paper')\n",
    "for i in [\n",
    "     'qratio_c_p',\n",
    "     'qratio_n_p',\n",
    "     'qratio_c_a',\n",
    "     'qratio_n_a',\n",
    "       ]:\n",
    "    sns.lineplot(data=res_df, x='day', y=i, label=i, lw=5)\n",
    "    #plt.ylim(0, 2e-11)\n",
    "    \n",
    "    #plt.show()    \n",
    "\n",
    "for i in [\n",
    "  #   'mu_inf_p', 'mu_inf_a', \n",
    "       ]:\n",
    "    sns.lineplot(data=res_df, x='day', y=m.get_param_val(i), label=i)\n",
    "plt.legend(bbox_to_anchor=(1,1))\n",
    "#plt.ylim(0, 1e-10)\n",
    "plt.show()"
   ]
  },
  {
   "cell_type": "code",
   "execution_count": 518,
   "metadata": {},
   "outputs": [
    {
     "data": {
      "image/png": "[encoded data removed]",
      "text/plain": [
       "<Figure size 1080x576 with 1 Axes>"
      ]
     },
     "metadata": {},
     "output_type": "display_data"
    }
   ],
   "source": [
    "#sns.set_context('paper')\n",
    "for i in [\n",
    "     'q_n_p', #'q_n_a', \n",
    "       ]:\n",
    "    sns.lineplot(data=res_df, x='day', y=i, label=i, lw=5)\n",
    "\n",
    "for i in [\n",
    "     'q_n_min_p', 'q_n_max_p', \n",
    "     #'q_n_min_a', 'q_n_max_a', \n",
    "       ]:\n",
    "    sns.lineplot(data=res_df, x='day', y=m.get_param_val(i), label=i)\n",
    "plt.legend(bbox_to_anchor=(1,1))\n",
    "#plt.ylim(1e-10, 3e-9)\n",
    "plt.show()"
   ]
  },
  {
   "cell_type": "code",
   "execution_count": 519,
   "metadata": {},
   "outputs": [
    {
     "ename": "ValueError",
     "evalue": "Could not interpret input 'q_c_a'",
     "output_type": "error",
     "traceback": [
      "\u001b[1;31m---------------------------------------------------------------------------\u001b[0m",
      "\u001b[1;31mValueError\u001b[0m                                Traceback (most recent call last)",
      "\u001b[1;32m<ipython-input-519-b2233b21f675>\u001b[0m in \u001b[0;36m<module>\u001b[1;34m\u001b[0m\n\u001b[0;32m      3\u001b[0m      \u001b[1;34m'q_c_p'\u001b[0m\u001b[1;33m,\u001b[0m \u001b[1;34m'q_c_a'\u001b[0m\u001b[1;33m,\u001b[0m\u001b[1;33m\u001b[0m\u001b[1;33m\u001b[0m\u001b[0m\n\u001b[0;32m      4\u001b[0m        ]:\n\u001b[1;32m----> 5\u001b[1;33m     \u001b[0msns\u001b[0m\u001b[1;33m.\u001b[0m\u001b[0mlineplot\u001b[0m\u001b[1;33m(\u001b[0m\u001b[0mdata\u001b[0m\u001b[1;33m=\u001b[0m\u001b[0mres_df\u001b[0m\u001b[1;33m,\u001b[0m \u001b[0mx\u001b[0m\u001b[1;33m=\u001b[0m\u001b[1;34m'day'\u001b[0m\u001b[1;33m,\u001b[0m \u001b[0my\u001b[0m\u001b[1;33m=\u001b[0m\u001b[0mi\u001b[0m\u001b[1;33m,\u001b[0m \u001b[0mlabel\u001b[0m\u001b[1;33m=\u001b[0m\u001b[0mi\u001b[0m\u001b[1;33m,\u001b[0m \u001b[0mlw\u001b[0m\u001b[1;33m=\u001b[0m\u001b[1;36m5\u001b[0m\u001b[1;33m)\u001b[0m\u001b[1;33m\u001b[0m\u001b[1;33m\u001b[0m\u001b[0m\n\u001b[0m\u001b[0;32m      6\u001b[0m \u001b[1;33m\u001b[0m\u001b[0m\n\u001b[0;32m      7\u001b[0m for i in [\n",
      "\u001b[1;32m~\\Anaconda3\\lib\\site-packages\\seaborn\\relational.py\u001b[0m in \u001b[0;36mlineplot\u001b[1;34m(x, y, hue, size, style, data, palette, hue_order, hue_norm, sizes, size_order, size_norm, dashes, markers, style_order, units, estimator, ci, n_boot, sort, err_style, err_kws, legend, ax, **kwargs)\u001b[0m\n\u001b[0;32m   1076\u001b[0m         \u001b[0mdashes\u001b[0m\u001b[1;33m=\u001b[0m\u001b[0mdashes\u001b[0m\u001b[1;33m,\u001b[0m \u001b[0mmarkers\u001b[0m\u001b[1;33m=\u001b[0m\u001b[0mmarkers\u001b[0m\u001b[1;33m,\u001b[0m \u001b[0mstyle_order\u001b[0m\u001b[1;33m=\u001b[0m\u001b[0mstyle_order\u001b[0m\u001b[1;33m,\u001b[0m\u001b[1;33m\u001b[0m\u001b[1;33m\u001b[0m\u001b[0m\n\u001b[0;32m   1077\u001b[0m         \u001b[0munits\u001b[0m\u001b[1;33m=\u001b[0m\u001b[0munits\u001b[0m\u001b[1;33m,\u001b[0m \u001b[0mestimator\u001b[0m\u001b[1;33m=\u001b[0m\u001b[0mestimator\u001b[0m\u001b[1;33m,\u001b[0m \u001b[0mci\u001b[0m\u001b[1;33m=\u001b[0m\u001b[0mci\u001b[0m\u001b[1;33m,\u001b[0m \u001b[0mn_boot\u001b[0m\u001b[1;33m=\u001b[0m\u001b[0mn_boot\u001b[0m\u001b[1;33m,\u001b[0m\u001b[1;33m\u001b[0m\u001b[1;33m\u001b[0m\u001b[0m\n\u001b[1;32m-> 1078\u001b[1;33m         \u001b[0msort\u001b[0m\u001b[1;33m=\u001b[0m\u001b[0msort\u001b[0m\u001b[1;33m,\u001b[0m \u001b[0merr_style\u001b[0m\u001b[1;33m=\u001b[0m\u001b[0merr_style\u001b[0m\u001b[1;33m,\u001b[0m \u001b[0merr_kws\u001b[0m\u001b[1;33m=\u001b[0m\u001b[0merr_kws\u001b[0m\u001b[1;33m,\u001b[0m \u001b[0mlegend\u001b[0m\u001b[1;33m=\u001b[0m\u001b[0mlegend\u001b[0m\u001b[1;33m,\u001b[0m\u001b[1;33m\u001b[0m\u001b[1;33m\u001b[0m\u001b[0m\n\u001b[0m\u001b[0;32m   1079\u001b[0m     )\n\u001b[0;32m   1080\u001b[0m \u001b[1;33m\u001b[0m\u001b[0m\n",
      "\u001b[1;32m~\\Anaconda3\\lib\\site-packages\\seaborn\\relational.py\u001b[0m in \u001b[0;36m__init__\u001b[1;34m(self, x, y, hue, size, style, data, palette, hue_order, hue_norm, sizes, size_order, size_norm, dashes, markers, style_order, units, estimator, ci, n_boot, sort, err_style, err_kws, legend)\u001b[0m\n\u001b[0;32m    661\u001b[0m \u001b[1;33m\u001b[0m\u001b[0m\n\u001b[0;32m    662\u001b[0m         plot_data = self.establish_variables(\n\u001b[1;32m--> 663\u001b[1;33m             \u001b[0mx\u001b[0m\u001b[1;33m,\u001b[0m \u001b[0my\u001b[0m\u001b[1;33m,\u001b[0m \u001b[0mhue\u001b[0m\u001b[1;33m,\u001b[0m \u001b[0msize\u001b[0m\u001b[1;33m,\u001b[0m \u001b[0mstyle\u001b[0m\u001b[1;33m,\u001b[0m \u001b[0munits\u001b[0m\u001b[1;33m,\u001b[0m \u001b[0mdata\u001b[0m\u001b[1;33m\u001b[0m\u001b[1;33m\u001b[0m\u001b[0m\n\u001b[0m\u001b[0;32m    664\u001b[0m         )\n\u001b[0;32m    665\u001b[0m \u001b[1;33m\u001b[0m\u001b[0m\n",
      "\u001b[1;32m~\\Anaconda3\\lib\\site-packages\\seaborn\\relational.py\u001b[0m in \u001b[0;36mestablish_variables\u001b[1;34m(self, x, y, hue, size, style, units, data)\u001b[0m\n\u001b[0;32m    140\u001b[0m                 \u001b[1;32mif\u001b[0m \u001b[0misinstance\u001b[0m\u001b[1;33m(\u001b[0m\u001b[0mvar\u001b[0m\u001b[1;33m,\u001b[0m \u001b[0mstring_types\u001b[0m\u001b[1;33m)\u001b[0m\u001b[1;33m:\u001b[0m\u001b[1;33m\u001b[0m\u001b[1;33m\u001b[0m\u001b[0m\n\u001b[0;32m    141\u001b[0m                     \u001b[0merr\u001b[0m \u001b[1;33m=\u001b[0m \u001b[1;34m\"Could not interpret input '{}'\"\u001b[0m\u001b[1;33m.\u001b[0m\u001b[0mformat\u001b[0m\u001b[1;33m(\u001b[0m\u001b[0mvar\u001b[0m\u001b[1;33m)\u001b[0m\u001b[1;33m\u001b[0m\u001b[1;33m\u001b[0m\u001b[0m\n\u001b[1;32m--> 142\u001b[1;33m                     \u001b[1;32mraise\u001b[0m \u001b[0mValueError\u001b[0m\u001b[1;33m(\u001b[0m\u001b[0merr\u001b[0m\u001b[1;33m)\u001b[0m\u001b[1;33m\u001b[0m\u001b[1;33m\u001b[0m\u001b[0m\n\u001b[0m\u001b[0;32m    143\u001b[0m \u001b[1;33m\u001b[0m\u001b[0m\n\u001b[0;32m    144\u001b[0m             \u001b[1;31m# Extract variable names\u001b[0m\u001b[1;33m\u001b[0m\u001b[1;33m\u001b[0m\u001b[1;33m\u001b[0m\u001b[0m\n",
      "\u001b[1;31mValueError\u001b[0m: Could not interpret input 'q_c_a'"
     ]
    },
    {
     "data": {
      "image/png": "[encoded data removed]",
      "text/plain": [
       "<Figure size 1080x576 with 1 Axes>"
      ]
     },
     "metadata": {},
     "output_type": "display_data"
    }
   ],
   "source": [
    "#sns.set_context('paper')\n",
    "for i in [\n",
    "     'q_c_p', 'q_c_a', \n",
    "       ]:\n",
    "    sns.lineplot(data=res_df, x='day', y=i, label=i, lw=5)\n",
    "\n",
    "for i in [\n",
    "     'q_c_min_p', 'q_c_max_p', \n",
    "     'q_c_min_a', 'q_c_max_a', \n",
    "       ]:\n",
    "    sns.lineplot(data=res_df, x='day', y=m.get_param_val(i), label=i)\n",
    "plt.legend(bbox_to_anchor=(1,1))\n",
    "plt.ylim(0, 7e-9)\n",
    "plt.show()"
   ]
  },
  {
   "cell_type": "code",
   "execution_count": 520,
   "metadata": {},
   "outputs": [
    {
     "data": {
      "image/png": "[encoded data removed]",
      "text/plain": [
       "<Figure size 1080x576 with 1 Axes>"
      ]
     },
     "metadata": {},
     "output_type": "display_data"
    }
   ],
   "source": [
    "#sns.set_context('paper')\n",
    "for i in [\n",
    "     'q_c_p', #'q_c_a', \n",
    "       ]:\n",
    "    sns.lineplot(data=res_df, x='day', y=i, label=i, lw=5)\n",
    "\n",
    "for i in [\n",
    "     'q_c_min_p', 'q_c_max_p', \n",
    "     'q_c_min_a', 'q_c_max_a', \n",
    "       ]:\n",
    "    sns.lineplot(data=res_df, x='day', y=m.get_param_val(i), label=i)\n",
    "plt.legend(bbox_to_anchor=(1,1))\n",
    "plt.ylim(0, 7e-9)\n",
    "plt.show()"
   ]
  },
  {
   "cell_type": "code",
   "execution_count": 521,
   "metadata": {},
   "outputs": [
    {
     "data": {
      "image/png": "[encoded data removed]",
      "text/plain": [
       "<Figure size 1080x576 with 1 Axes>"
      ]
     },
     "metadata": {},
     "output_type": "display_data"
    }
   ],
   "source": [
    "sns.set_context('paper')\n",
    "for i in [\n",
    "    'b_n_p', 'b_n_a',  'n', 'on',\n",
    "       #'delta_b_n_p_uptake', 'delta_b_n_p_mortality', 'delta_b_n_p_excretion',\n",
    "       #'delta_b_n_a_uptake', 'delta_b_n_a_mortality', 'delta_b_n_a_excretion',\n",
    "       ]:\n",
    "    sns.lineplot(data=res_df, x='day', y=i, label=i, lw=5)\n",
    "plt.legend(bbox_to_anchor=(1,1))\n",
    "#plt.yscale('log')\n",
    "#plt.ylim(0,200)\n",
    "plt.show()"
   ]
  },
  {
   "cell_type": "code",
   "execution_count": 522,
   "metadata": {},
   "outputs": [
    {
     "data": {
      "image/png": "[encoded data removed]",
      "text/plain": [
       "<Figure size 1080x576 with 1 Axes>"
      ]
     },
     "metadata": {},
     "output_type": "display_data"
    }
   ],
   "source": [
    "sns.set_context('paper')\n",
    "for i in [\n",
    "    'b_c_p', 'b_c_a',  'c', 'oc',\n",
    "       #'delta_b_n_p_uptake', 'delta_b_n_p_mortality', 'delta_b_n_p_excretion',\n",
    "       #'delta_b_n_a_uptake', 'delta_b_n_a_mortality', 'delta_b_n_a_excretion',\n",
    "       ]:\n",
    "    sns.lineplot(data=res_df, x='day', y=i, label=i, lw=5)\n",
    "plt.legend(bbox_to_anchor=(1,1))\n",
    "#plt.yscale('log')\n",
    "#plt.ylim(0,200)\n",
    "plt.show()"
   ]
  },
  {
   "cell_type": "code",
   "execution_count": 523,
   "metadata": {},
   "outputs": [
    {
     "data": {
      "image/png": "[encoded data removed]",
      "text/plain": [
       "<Figure size 1080x576 with 1 Axes>"
      ]
     },
     "metadata": {},
     "output_type": "display_data"
    }
   ],
   "source": [
    "sns.set_context('paper')\n",
    "for i in [\n",
    "    'x_p', 'x_a',#  'c', 'oc',\n",
    "       #'delta_b_n_p_uptake', 'delta_b_n_p_mortality', 'delta_b_n_p_excretion',\n",
    "       #'delta_b_n_a_uptake', 'delta_b_n_a_mortality', 'delta_b_n_a_excretion',\n",
    "       ]:\n",
    "    sns.lineplot(data=res_df, x='day', y=i, label=i, lw=5)\n",
    "plt.legend(bbox_to_anchor=(1,1))\n",
    "plt.yscale('log')\n",
    "#plt.ylim(0,200)\n",
    "plt.show()"
   ]
  },
  {
   "cell_type": "code",
   "execution_count": 524,
   "metadata": {},
   "outputs": [
    {
     "data": {
      "image/png": "[encoded data removed]",
      "text/plain": [
       "<Figure size 1080x576 with 1 Axes>"
      ]
     },
     "metadata": {},
     "output_type": "display_data"
    }
   ],
   "source": [
    "sns.set_context('paper')\n",
    "for i in [\n",
    "    'x_p', 'x_a',#  'c', 'oc',\n",
    "       #'delta_b_n_p_uptake', 'delta_b_n_p_mortality', 'delta_b_n_p_excretion',\n",
    "       #'delta_b_n_a_uptake', 'delta_b_n_a_mortality', 'delta_b_n_a_excretion',\n",
    "       ]:\n",
    "    sns.lineplot(data=res_df, x='day', y=i, label=i, lw=5)\n",
    "plt.legend(bbox_to_anchor=(1,1))\n",
    "#plt.yscale('log')\n",
    "#plt.ylim(0,200)\n",
    "plt.show()"
   ]
  },
  {
   "cell_type": "code",
   "execution_count": 525,
   "metadata": {
    "scrolled": false
   },
   "outputs": [
    {
     "data": {
      "image/png": "[encoded data removed]",
      "text/plain": [
       "<Figure size 360x360 with 1 Axes>"
      ]
     },
     "metadata": {},
     "output_type": "display_data"
    },
    {
     "data": {
      "image/png": "[encoded data removed]",
      "text/plain": [
       "<Figure size 360x360 with 1 Axes>"
      ]
     },
     "metadata": {},
     "output_type": "display_data"
    },
    {
     "data": {
      "image/png": "[encoded data removed]",
      "text/plain": [
       "<Figure size 360x360 with 1 Axes>"
      ]
     },
     "metadata": {},
     "output_type": "display_data"
    },
    {
     "data": {
      "image/png": "[encoded data removed]",
      "text/plain": [
       "<Figure size 360x360 with 1 Axes>"
      ]
     },
     "metadata": {},
     "output_type": "display_data"
    },
    {
     "data": {
      "image/png": "[encoded data removed]",
      "text/plain": [
       "<Figure size 360x360 with 1 Axes>"
      ]
     },
     "metadata": {},
     "output_type": "display_data"
    },
    {
     "data": {
      "image/png": "[encoded data removed]",
      "text/plain": [
       "<Figure size 360x360 with 1 Axes>"
      ]
     },
     "metadata": {},
     "output_type": "display_data"
    },
    {
     "data": {
      "image/png": "[encoded data removed]",
      "text/plain": [
       "<Figure size 360x360 with 1 Axes>"
      ]
     },
     "metadata": {},
     "output_type": "display_data"
    },
    {
     "data": {
      "image/png": "[encoded data removed]",
      "text/plain": [
       "<Figure size 360x360 with 1 Axes>"
      ]
     },
     "metadata": {},
     "output_type": "display_data"
    },
    {
     "data": {
      "image/png": "[encoded data removed]",
      "text/plain": [
       "<Figure size 360x360 with 1 Axes>"
      ]
     },
     "metadata": {},
     "output_type": "display_data"
    },
    {
     "data": {
      "image/png": "[encoded data removed]",
      "text/plain": [
       "<Figure size 360x360 with 1 Axes>"
      ]
     },
     "metadata": {},
     "output_type": "display_data"
    },
    {
     "data": {
      "image/png": "[encoded data removed]",
      "text/plain": [
       "<Figure size 360x360 with 1 Axes>"
      ]
     },
     "metadata": {},
     "output_type": "display_data"
    },
    {
     "data": {
      "image/png": "[encoded data removed]",
      "text/plain": [
       "<Figure size 360x360 with 1 Axes>"
      ]
     },
     "metadata": {},
     "output_type": "display_data"
    },
    {
     "data": {
      "image/png": "[encoded data removed]",
      "text/plain": [
       "<Figure size 360x360 with 1 Axes>"
      ]
     },
     "metadata": {},
     "output_type": "display_data"
    },
    {
     "data": {
      "image/png": "[encoded data removed]",
      "text/plain": [
       "<Figure size 360x360 with 1 Axes>"
      ]
     },
     "metadata": {},
     "output_type": "display_data"
    },
    {
     "data": {
      "image/png": "[encoded data removed]",
      "text/plain": [
       "<Figure size 360x360 with 1 Axes>"
      ]
     },
     "metadata": {},
     "output_type": "display_data"
    },
    {
     "data": {
      "image/png": "[encoded data removed]",
      "text/plain": [
       "<Figure size 360x360 with 1 Axes>"
      ]
     },
     "metadata": {},
     "output_type": "display_data"
    },
    {
     "data": {
      "image/png": "[encoded data removed]",
      "text/plain": [
       "<Figure size 360x360 with 1 Axes>"
      ]
     },
     "metadata": {},
     "output_type": "display_data"
    },
    {
     "data": {
      "image/png": "[encoded data removed]",
      "text/plain": [
       "<Figure size 360x360 with 1 Axes>"
      ]
     },
     "metadata": {},
     "output_type": "display_data"
    },
    {
     "data": {
      "image/png": "[encoded data removed]",
      "text/plain": [
       "<Figure size 360x360 with 1 Axes>"
      ]
     },
     "metadata": {},
     "output_type": "display_data"
    }
   ],
   "source": [
    "for i in res_df.columns:\n",
    "    sns.relplot(data=res_df, x='day', y=i)"
   ]
  },
  {
   "cell_type": "code",
   "execution_count": 396,
   "metadata": {},
   "outputs": [
    {
     "data": {
      "text/html": [
       "<div>\n",
       "<style scoped>\n",
       "    .dataframe tbody tr th:only-of-type {\n",
       "        vertical-align: middle;\n",
       "    }\n",
       "\n",
       "    .dataframe tbody tr th {\n",
       "        vertical-align: top;\n",
       "    }\n",
       "\n",
       "    .dataframe thead th {\n",
       "        text-align: right;\n",
       "    }\n",
       "</style>\n",
       "<table border=\"1\" class=\"dataframe\">\n",
       "  <thead>\n",
       "    <tr style=\"text-align: right;\">\n",
       "      <th></th>\n",
       "      <th>b_n_p</th>\n",
       "      <th>b_c_p</th>\n",
       "      <th>b_n_a</th>\n",
       "      <th>b_c_a</th>\n",
       "      <th>x_p</th>\n",
       "      <th>x_a</th>\n",
       "      <th>n</th>\n",
       "      <th>c</th>\n",
       "      <th>on</th>\n",
       "      <th>oc</th>\n",
       "      <th>day</th>\n",
       "      <th>q_n_p</th>\n",
       "      <th>q_c_p</th>\n",
       "      <th>qratio_n_p</th>\n",
       "      <th>qratio_c_p</th>\n",
       "      <th>maxqratio_p</th>\n",
       "      <th>mu_p</th>\n",
       "      <th>act_mu_p</th>\n",
       "      <th>n_ratio</th>\n",
       "    </tr>\n",
       "  </thead>\n",
       "  <tbody>\n",
       "  </tbody>\n",
       "</table>\n",
       "</div>"
      ],
      "text/plain": [
       "Empty DataFrame\n",
       "Columns: [b_n_p, b_c_p, b_n_a, b_c_a, x_p, x_a, n, c, on, oc, day, q_n_p, q_c_p, qratio_n_p, qratio_c_p, maxqratio_p, mu_p, act_mu_p, n_ratio]\n",
       "Index: []"
      ]
     },
     "execution_count": 396,
     "metadata": {},
     "output_type": "execute_result"
    }
   ],
   "source": [
    "res_df.loc[res_df.oc <0].head()"
   ]
  },
  {
   "cell_type": "code",
   "execution_count": 397,
   "metadata": {},
   "outputs": [
    {
     "data": {
      "text/html": [
       "<div>\n",
       "<style scoped>\n",
       "    .dataframe tbody tr th:only-of-type {\n",
       "        vertical-align: middle;\n",
       "    }\n",
       "\n",
       "    .dataframe tbody tr th {\n",
       "        vertical-align: top;\n",
       "    }\n",
       "\n",
       "    .dataframe thead th {\n",
       "        text-align: right;\n",
       "    }\n",
       "</style>\n",
       "<table border=\"1\" class=\"dataframe\">\n",
       "  <thead>\n",
       "    <tr style=\"text-align: right;\">\n",
       "      <th></th>\n",
       "      <th>b_n_p</th>\n",
       "      <th>b_c_p</th>\n",
       "      <th>b_n_a</th>\n",
       "      <th>b_c_a</th>\n",
       "      <th>x_p</th>\n",
       "      <th>x_a</th>\n",
       "      <th>n</th>\n",
       "      <th>c</th>\n",
       "      <th>on</th>\n",
       "      <th>oc</th>\n",
       "      <th>day</th>\n",
       "      <th>q_n_p</th>\n",
       "      <th>q_c_p</th>\n",
       "      <th>qratio_n_p</th>\n",
       "      <th>qratio_c_p</th>\n",
       "      <th>maxqratio_p</th>\n",
       "      <th>mu_p</th>\n",
       "      <th>act_mu_p</th>\n",
       "      <th>n_ratio</th>\n",
       "    </tr>\n",
       "  </thead>\n",
       "  <tbody>\n",
       "  </tbody>\n",
       "</table>\n",
       "</div>"
      ],
      "text/plain": [
       "Empty DataFrame\n",
       "Columns: [b_n_p, b_c_p, b_n_a, b_c_a, x_p, x_a, n, c, on, oc, day, q_n_p, q_c_p, qratio_n_p, qratio_c_p, maxqratio_p, mu_p, act_mu_p, n_ratio]\n",
       "Index: []"
      ]
     },
     "execution_count": 397,
     "metadata": {},
     "output_type": "execute_result"
    }
   ],
   "source": [
    "res_df.loc[res_df.n <0].head()"
   ]
  },
  {
   "cell_type": "code",
   "execution_count": null,
   "metadata": {},
   "outputs": [],
   "source": []
  },
  {
   "cell_type": "code",
   "execution_count": 398,
   "metadata": {},
   "outputs": [
    {
     "data": {
      "text/html": [
       "<div>\n",
       "<style scoped>\n",
       "    .dataframe tbody tr th:only-of-type {\n",
       "        vertical-align: middle;\n",
       "    }\n",
       "\n",
       "    .dataframe tbody tr th {\n",
       "        vertical-align: top;\n",
       "    }\n",
       "\n",
       "    .dataframe thead th {\n",
       "        text-align: right;\n",
       "    }\n",
       "</style>\n",
       "<table border=\"1\" class=\"dataframe\">\n",
       "  <thead>\n",
       "    <tr style=\"text-align: right;\">\n",
       "      <th></th>\n",
       "      <th>b_n_p</th>\n",
       "      <th>b_c_p</th>\n",
       "      <th>b_n_a</th>\n",
       "      <th>b_c_a</th>\n",
       "      <th>x_p</th>\n",
       "      <th>x_a</th>\n",
       "      <th>n</th>\n",
       "      <th>c</th>\n",
       "      <th>on</th>\n",
       "      <th>oc</th>\n",
       "      <th>day</th>\n",
       "      <th>q_n_p</th>\n",
       "      <th>q_c_p</th>\n",
       "      <th>qratio_n_p</th>\n",
       "      <th>qratio_c_p</th>\n",
       "      <th>maxqratio_p</th>\n",
       "      <th>mu_p</th>\n",
       "      <th>act_mu_p</th>\n",
       "      <th>n_ratio</th>\n",
       "    </tr>\n",
       "  </thead>\n",
       "  <tbody>\n",
       "    <tr>\n",
       "      <th>135</th>\n",
       "      <td>21.544338</td>\n",
       "      <td>70.137045</td>\n",
       "      <td>0.0</td>\n",
       "      <td>0.0</td>\n",
       "      <td>1.679059e+10</td>\n",
       "      <td>0</td>\n",
       "      <td>70.604617</td>\n",
       "      <td>2904.302859</td>\n",
       "      <td>28.592476</td>\n",
       "      <td>158.060126</td>\n",
       "      <td>33.75</td>\n",
       "      <td>1.283120e-09</td>\n",
       "      <td>4.177164e-09</td>\n",
       "      <td>0.545545</td>\n",
       "      <td>0.007182</td>\n",
       "      <td>0.545545</td>\n",
       "      <td>1.363364e-11</td>\n",
       "      <td>0.018854</td>\n",
       "      <td>0.998443</td>\n",
       "    </tr>\n",
       "    <tr>\n",
       "      <th>136</th>\n",
       "      <td>23.168995</td>\n",
       "      <td>75.426560</td>\n",
       "      <td>0.0</td>\n",
       "      <td>0.0</td>\n",
       "      <td>1.805686e+10</td>\n",
       "      <td>0</td>\n",
       "      <td>68.387769</td>\n",
       "      <td>2897.085478</td>\n",
       "      <td>29.240533</td>\n",
       "      <td>159.987992</td>\n",
       "      <td>34.00</td>\n",
       "      <td>1.283113e-09</td>\n",
       "      <td>4.177168e-09</td>\n",
       "      <td>0.545548</td>\n",
       "      <td>0.007182</td>\n",
       "      <td>0.545548</td>\n",
       "      <td>1.363355e-11</td>\n",
       "      <td>0.018854</td>\n",
       "      <td>0.998393</td>\n",
       "    </tr>\n",
       "    <tr>\n",
       "      <th>137</th>\n",
       "      <td>24.916133</td>\n",
       "      <td>81.114951</td>\n",
       "      <td>0.0</td>\n",
       "      <td>0.0</td>\n",
       "      <td>1.941862e+10</td>\n",
       "      <td>0</td>\n",
       "      <td>66.003785</td>\n",
       "      <td>2889.323829</td>\n",
       "      <td>29.937459</td>\n",
       "      <td>162.061250</td>\n",
       "      <td>34.25</td>\n",
       "      <td>1.283105e-09</td>\n",
       "      <td>4.177173e-09</td>\n",
       "      <td>0.545552</td>\n",
       "      <td>0.007182</td>\n",
       "      <td>0.545552</td>\n",
       "      <td>1.363345e-11</td>\n",
       "      <td>0.018854</td>\n",
       "      <td>0.998335</td>\n",
       "    </tr>\n",
       "    <tr>\n",
       "      <th>138</th>\n",
       "      <td>26.794974</td>\n",
       "      <td>87.232286</td>\n",
       "      <td>0.0</td>\n",
       "      <td>0.0</td>\n",
       "      <td>2.088306e+10</td>\n",
       "      <td>0</td>\n",
       "      <td>63.440075</td>\n",
       "      <td>2880.976879</td>\n",
       "      <td>30.686939</td>\n",
       "      <td>164.290865</td>\n",
       "      <td>34.50</td>\n",
       "      <td>1.283096e-09</td>\n",
       "      <td>4.177179e-09</td>\n",
       "      <td>0.545555</td>\n",
       "      <td>0.007182</td>\n",
       "      <td>0.545555</td>\n",
       "      <td>1.363334e-11</td>\n",
       "      <td>0.018854</td>\n",
       "      <td>0.998268</td>\n",
       "    </tr>\n",
       "    <tr>\n",
       "      <th>139</th>\n",
       "      <td>28.815433</td>\n",
       "      <td>93.810899</td>\n",
       "      <td>0.0</td>\n",
       "      <td>0.0</td>\n",
       "      <td>2.245792e+10</td>\n",
       "      <td>0</td>\n",
       "      <td>60.683103</td>\n",
       "      <td>2872.000504</td>\n",
       "      <td>31.492934</td>\n",
       "      <td>166.688627</td>\n",
       "      <td>34.75</td>\n",
       "      <td>1.283086e-09</td>\n",
       "      <td>4.177185e-09</td>\n",
       "      <td>0.545560</td>\n",
       "      <td>0.007182</td>\n",
       "      <td>0.545560</td>\n",
       "      <td>1.363320e-11</td>\n",
       "      <td>0.018853</td>\n",
       "      <td>0.998189</td>\n",
       "    </tr>\n",
       "  </tbody>\n",
       "</table>\n",
       "</div>"
      ],
      "text/plain": [
       "         b_n_p      b_c_p  b_n_a  b_c_a           x_p  x_a          n  \\\n",
       "135  21.544338  70.137045    0.0    0.0  1.679059e+10    0  70.604617   \n",
       "136  23.168995  75.426560    0.0    0.0  1.805686e+10    0  68.387769   \n",
       "137  24.916133  81.114951    0.0    0.0  1.941862e+10    0  66.003785   \n",
       "138  26.794974  87.232286    0.0    0.0  2.088306e+10    0  63.440075   \n",
       "139  28.815433  93.810899    0.0    0.0  2.245792e+10    0  60.683103   \n",
       "\n",
       "               c         on          oc    day         q_n_p         q_c_p  \\\n",
       "135  2904.302859  28.592476  158.060126  33.75  1.283120e-09  4.177164e-09   \n",
       "136  2897.085478  29.240533  159.987992  34.00  1.283113e-09  4.177168e-09   \n",
       "137  2889.323829  29.937459  162.061250  34.25  1.283105e-09  4.177173e-09   \n",
       "138  2880.976879  30.686939  164.290865  34.50  1.283096e-09  4.177179e-09   \n",
       "139  2872.000504  31.492934  166.688627  34.75  1.283086e-09  4.177185e-09   \n",
       "\n",
       "     qratio_n_p  qratio_c_p  maxqratio_p          mu_p  act_mu_p   n_ratio  \n",
       "135    0.545545    0.007182     0.545545  1.363364e-11  0.018854  0.998443  \n",
       "136    0.545548    0.007182     0.545548  1.363355e-11  0.018854  0.998393  \n",
       "137    0.545552    0.007182     0.545552  1.363345e-11  0.018854  0.998335  \n",
       "138    0.545555    0.007182     0.545555  1.363334e-11  0.018854  0.998268  \n",
       "139    0.545560    0.007182     0.545560  1.363320e-11  0.018853  0.998189  "
      ]
     },
     "execution_count": 398,
     "metadata": {},
     "output_type": "execute_result"
    }
   ],
   "source": [
    "res_df.tail()"
   ]
  },
  {
   "cell_type": "code",
   "execution_count": 399,
   "metadata": {},
   "outputs": [
    {
     "data": {
      "text/plain": [
       "1.1574074074074073e-05"
      ]
     },
     "execution_count": 399,
     "metadata": {},
     "output_type": "execute_result"
    }
   ],
   "source": [
    "m.get_param_val('delta_t')"
   ]
  },
  {
   "cell_type": "code",
   "execution_count": 400,
   "metadata": {},
   "outputs": [
    {
     "data": {
      "text/plain": [
       "1.1574074074074073e-05"
      ]
     },
     "execution_count": 400,
     "metadata": {},
     "output_type": "execute_result"
    }
   ],
   "source": [
    "1/(3600*24)"
   ]
  },
  {
   "cell_type": "code",
   "execution_count": 401,
   "metadata": {},
   "outputs": [
    {
     "data": {
      "text/plain": [
       "34.75000535836762"
      ]
     },
     "execution_count": 401,
     "metadata": {},
     "output_type": "execute_result"
    }
   ],
   "source": [
    "2.594074e+11 * m.get_param_val('delta_t') * m.get_param_val('delta_t')"
   ]
  },
  {
   "cell_type": "code",
   "execution_count": 527,
   "metadata": {
    "scrolled": false
   },
   "outputs": [],
   "source": [
    "ref_res_df = pd.DataFrame(refres)"
   ]
  },
  {
   "cell_type": "code",
   "execution_count": 528,
   "metadata": {},
   "outputs": [
    {
     "data": {
      "text/html": [
       "<div>\n",
       "<style scoped>\n",
       "    .dataframe tbody tr th:only-of-type {\n",
       "        vertical-align: middle;\n",
       "    }\n",
       "\n",
       "    .dataframe tbody tr th {\n",
       "        vertical-align: top;\n",
       "    }\n",
       "\n",
       "    .dataframe thead th {\n",
       "        text-align: right;\n",
       "    }\n",
       "</style>\n",
       "<table border=\"1\" class=\"dataframe\">\n",
       "  <thead>\n",
       "    <tr style=\"text-align: right;\">\n",
       "      <th></th>\n",
       "      <th>b_n_p</th>\n",
       "      <th>b_c_p</th>\n",
       "      <th>b_n_a</th>\n",
       "      <th>b_c_a</th>\n",
       "      <th>x_p</th>\n",
       "      <th>x_a</th>\n",
       "      <th>n</th>\n",
       "      <th>c</th>\n",
       "      <th>on</th>\n",
       "      <th>oc</th>\n",
       "      <th>day</th>\n",
       "    </tr>\n",
       "  </thead>\n",
       "  <tbody>\n",
       "    <tr>\n",
       "      <th>0</th>\n",
       "      <td>41691.636169</td>\n",
       "      <td>0.003375</td>\n",
       "      <td>0.0</td>\n",
       "      <td>0.0</td>\n",
       "      <td>662883.958152</td>\n",
       "      <td>0</td>\n",
       "      <td>-25105.636161</td>\n",
       "      <td>2999.993446</td>\n",
       "      <td>47846.546648</td>\n",
       "      <td>132.503209</td>\n",
       "      <td>8.0</td>\n",
       "    </tr>\n",
       "    <tr>\n",
       "      <th>1</th>\n",
       "      <td>35746.707959</td>\n",
       "      <td>0.002894</td>\n",
       "      <td>0.0</td>\n",
       "      <td>0.0</td>\n",
       "      <td>568361.461904</td>\n",
       "      <td>0</td>\n",
       "      <td>-31449.181453</td>\n",
       "      <td>2999.992932</td>\n",
       "      <td>61294.310105</td>\n",
       "      <td>132.504204</td>\n",
       "      <td>11.0</td>\n",
       "    </tr>\n",
       "    <tr>\n",
       "      <th>2</th>\n",
       "      <td>32262.211000</td>\n",
       "      <td>0.002612</td>\n",
       "      <td>0.0</td>\n",
       "      <td>0.0</td>\n",
       "      <td>512959.051663</td>\n",
       "      <td>0</td>\n",
       "      <td>-35167.319514</td>\n",
       "      <td>2999.992631</td>\n",
       "      <td>69176.438995</td>\n",
       "      <td>132.504787</td>\n",
       "      <td>13.0</td>\n",
       "    </tr>\n",
       "    <tr>\n",
       "      <th>3</th>\n",
       "      <td>29117.373807</td>\n",
       "      <td>0.002357</td>\n",
       "      <td>0.0</td>\n",
       "      <td>0.0</td>\n",
       "      <td>462957.125260</td>\n",
       "      <td>0</td>\n",
       "      <td>-38523.023041</td>\n",
       "      <td>2999.992360</td>\n",
       "      <td>76290.238275</td>\n",
       "      <td>132.505313</td>\n",
       "      <td>15.0</td>\n",
       "    </tr>\n",
       "    <tr>\n",
       "      <th>4</th>\n",
       "      <td>24965.445120</td>\n",
       "      <td>0.002021</td>\n",
       "      <td>0.0</td>\n",
       "      <td>0.0</td>\n",
       "      <td>396942.759448</td>\n",
       "      <td>0</td>\n",
       "      <td>-42953.345107</td>\n",
       "      <td>2999.992001</td>\n",
       "      <td>85682.135326</td>\n",
       "      <td>132.506008</td>\n",
       "      <td>18.0</td>\n",
       "    </tr>\n",
       "    <tr>\n",
       "      <th>5</th>\n",
       "      <td>22531.877843</td>\n",
       "      <td>0.001824</td>\n",
       "      <td>0.0</td>\n",
       "      <td>0.0</td>\n",
       "      <td>358249.801855</td>\n",
       "      <td>0</td>\n",
       "      <td>-45550.086896</td>\n",
       "      <td>2999.991791</td>\n",
       "      <td>91187.001853</td>\n",
       "      <td>132.506415</td>\n",
       "      <td>20.0</td>\n",
       "    </tr>\n",
       "    <tr>\n",
       "      <th>6</th>\n",
       "      <td>20335.528429</td>\n",
       "      <td>0.001646</td>\n",
       "      <td>0.0</td>\n",
       "      <td>0.0</td>\n",
       "      <td>323328.534001</td>\n",
       "      <td>0</td>\n",
       "      <td>-47893.704980</td>\n",
       "      <td>2999.991601</td>\n",
       "      <td>96155.268171</td>\n",
       "      <td>132.506783</td>\n",
       "      <td>22.0</td>\n",
       "    </tr>\n",
       "    <tr>\n",
       "      <th>7</th>\n",
       "      <td>17435.827890</td>\n",
       "      <td>0.001411</td>\n",
       "      <td>0.0</td>\n",
       "      <td>0.0</td>\n",
       "      <td>277224.203505</td>\n",
       "      <td>0</td>\n",
       "      <td>-50987.834970</td>\n",
       "      <td>2999.991351</td>\n",
       "      <td>102714.554411</td>\n",
       "      <td>132.507268</td>\n",
       "      <td>25.0</td>\n",
       "    </tr>\n",
       "    <tr>\n",
       "      <th>8</th>\n",
       "      <td>14949.603851</td>\n",
       "      <td>0.001210</td>\n",
       "      <td>0.0</td>\n",
       "      <td>0.0</td>\n",
       "      <td>237694.019853</td>\n",
       "      <td>0</td>\n",
       "      <td>-53640.764204</td>\n",
       "      <td>2999.991136</td>\n",
       "      <td>108338.533465</td>\n",
       "      <td>132.507684</td>\n",
       "      <td>28.0</td>\n",
       "    </tr>\n",
       "    <tr>\n",
       "      <th>9</th>\n",
       "      <td>14202.301285</td>\n",
       "      <td>0.001150</td>\n",
       "      <td>0.0</td>\n",
       "      <td>0.0</td>\n",
       "      <td>225812.143067</td>\n",
       "      <td>0</td>\n",
       "      <td>-54438.174570</td>\n",
       "      <td>2999.991071</td>\n",
       "      <td>110028.974032</td>\n",
       "      <td>132.507809</td>\n",
       "      <td>29.0</td>\n",
       "    </tr>\n",
       "    <tr>\n",
       "      <th>10</th>\n",
       "      <td>12177.154950</td>\n",
       "      <td>0.000986</td>\n",
       "      <td>0.0</td>\n",
       "      <td>0.0</td>\n",
       "      <td>193612.950524</td>\n",
       "      <td>0</td>\n",
       "      <td>-56599.110111</td>\n",
       "      <td>2999.990896</td>\n",
       "      <td>114609.969293</td>\n",
       "      <td>132.508148</td>\n",
       "      <td>32.0</td>\n",
       "    </tr>\n",
       "    <tr>\n",
       "      <th>11</th>\n",
       "      <td>10990.157243</td>\n",
       "      <td>0.000890</td>\n",
       "      <td>0.0</td>\n",
       "      <td>0.0</td>\n",
       "      <td>174740.058688</td>\n",
       "      <td>0</td>\n",
       "      <td>-57865.697855</td>\n",
       "      <td>2999.990794</td>\n",
       "      <td>117295.025070</td>\n",
       "      <td>132.508346</td>\n",
       "      <td>34.0</td>\n",
       "    </tr>\n",
       "  </tbody>\n",
       "</table>\n",
       "</div>"
      ],
      "text/plain": [
       "           b_n_p     b_c_p  b_n_a  b_c_a            x_p  x_a             n  \\\n",
       "0   41691.636169  0.003375    0.0    0.0  662883.958152    0 -25105.636161   \n",
       "1   35746.707959  0.002894    0.0    0.0  568361.461904    0 -31449.181453   \n",
       "2   32262.211000  0.002612    0.0    0.0  512959.051663    0 -35167.319514   \n",
       "3   29117.373807  0.002357    0.0    0.0  462957.125260    0 -38523.023041   \n",
       "4   24965.445120  0.002021    0.0    0.0  396942.759448    0 -42953.345107   \n",
       "5   22531.877843  0.001824    0.0    0.0  358249.801855    0 -45550.086896   \n",
       "6   20335.528429  0.001646    0.0    0.0  323328.534001    0 -47893.704980   \n",
       "7   17435.827890  0.001411    0.0    0.0  277224.203505    0 -50987.834970   \n",
       "8   14949.603851  0.001210    0.0    0.0  237694.019853    0 -53640.764204   \n",
       "9   14202.301285  0.001150    0.0    0.0  225812.143067    0 -54438.174570   \n",
       "10  12177.154950  0.000986    0.0    0.0  193612.950524    0 -56599.110111   \n",
       "11  10990.157243  0.000890    0.0    0.0  174740.058688    0 -57865.697855   \n",
       "\n",
       "              c             on          oc   day  \n",
       "0   2999.993446   47846.546648  132.503209   8.0  \n",
       "1   2999.992932   61294.310105  132.504204  11.0  \n",
       "2   2999.992631   69176.438995  132.504787  13.0  \n",
       "3   2999.992360   76290.238275  132.505313  15.0  \n",
       "4   2999.992001   85682.135326  132.506008  18.0  \n",
       "5   2999.991791   91187.001853  132.506415  20.0  \n",
       "6   2999.991601   96155.268171  132.506783  22.0  \n",
       "7   2999.991351  102714.554411  132.507268  25.0  \n",
       "8   2999.991136  108338.533465  132.507684  28.0  \n",
       "9   2999.991071  110028.974032  132.507809  29.0  \n",
       "10  2999.990896  114609.969293  132.508148  32.0  \n",
       "11  2999.990794  117295.025070  132.508346  34.0  "
      ]
     },
     "execution_count": 528,
     "metadata": {},
     "output_type": "execute_result"
    }
   ],
   "source": [
    "ref_res_df"
   ]
  },
  {
   "cell_type": "code",
   "execution_count": 529,
   "metadata": {},
   "outputs": [
    {
     "data": {
      "text/plain": [
       "{691200,\n",
       " 950400,\n",
       " 1123200,\n",
       " 1296000,\n",
       " 1555200,\n",
       " 1728000,\n",
       " 1900800,\n",
       " 2160000,\n",
       " 2419200,\n",
       " 2505600,\n",
       " 2764800,\n",
       " 2937600}"
      ]
     },
     "execution_count": 529,
     "metadata": {},
     "output_type": "execute_result"
    }
   ],
   "source": [
    "m.reference_iterations"
   ]
  },
  {
   "cell_type": "code",
   "execution_count": 530,
   "metadata": {},
   "outputs": [
    {
     "data": {
      "image/png": "[encoded data removed]",
      "text/plain": [
       "<Figure size 1080x576 with 1 Axes>"
      ]
     },
     "metadata": {},
     "output_type": "display_data"
    }
   ],
   "source": [
    "sns.scatterplot(x=fcm_dfn.loc[fcm_dfn.PRO== 'MIT9313'].day,\n",
    "                y =fcm_dfn.loc[fcm_dfn.PRO== 'MIT9313'].VALUE, label='ref')\n",
    "sns.scatterplot(x=ref_res_df.day, y=ref_res_df.x_p, label='simulation', color='red')\n",
    "plt.yscale('log')"
   ]
  },
  {
   "cell_type": "code",
   "execution_count": 531,
   "metadata": {},
   "outputs": [
    {
     "data": {
      "text/plain": [
       "20.99685520996328"
      ]
     },
     "execution_count": 531,
     "metadata": {},
     "output_type": "execute_result"
    }
   ],
   "source": [
    "t = pd.merge(res_df[['day', 'x_p']], fcm_dfn.loc[fcm_dfn.PRO== 'MIT9313', ['day', 'VALUE']], on='day')\n",
    "metrics.mean_squared_log_error(t['VALUE'], t['x_p'])\n"
   ]
  },
  {
   "cell_type": "code",
   "execution_count": 532,
   "metadata": {},
   "outputs": [
    {
     "data": {
      "text/html": [
       "<div>\n",
       "<style scoped>\n",
       "    .dataframe tbody tr th:only-of-type {\n",
       "        vertical-align: middle;\n",
       "    }\n",
       "\n",
       "    .dataframe tbody tr th {\n",
       "        vertical-align: top;\n",
       "    }\n",
       "\n",
       "    .dataframe thead th {\n",
       "        text-align: right;\n",
       "    }\n",
       "</style>\n",
       "<table border=\"1\" class=\"dataframe\">\n",
       "  <thead>\n",
       "    <tr style=\"text-align: right;\">\n",
       "      <th></th>\n",
       "      <th>day</th>\n",
       "      <th>x_p</th>\n",
       "      <th>VALUE</th>\n",
       "    </tr>\n",
       "  </thead>\n",
       "  <tbody>\n",
       "    <tr>\n",
       "      <th>0</th>\n",
       "      <td>8.0</td>\n",
       "      <td>662883.958152</td>\n",
       "      <td>2.115254e+06</td>\n",
       "    </tr>\n",
       "    <tr>\n",
       "      <th>1</th>\n",
       "      <td>8.0</td>\n",
       "      <td>662883.958152</td>\n",
       "      <td>2.917191e+06</td>\n",
       "    </tr>\n",
       "    <tr>\n",
       "      <th>2</th>\n",
       "      <td>8.0</td>\n",
       "      <td>662883.958152</td>\n",
       "      <td>2.657627e+06</td>\n",
       "    </tr>\n",
       "    <tr>\n",
       "      <th>3</th>\n",
       "      <td>11.0</td>\n",
       "      <td>568361.461904</td>\n",
       "      <td>4.784504e+06</td>\n",
       "    </tr>\n",
       "    <tr>\n",
       "      <th>4</th>\n",
       "      <td>11.0</td>\n",
       "      <td>568361.461904</td>\n",
       "      <td>5.952542e+06</td>\n",
       "    </tr>\n",
       "    <tr>\n",
       "      <th>5</th>\n",
       "      <td>11.0</td>\n",
       "      <td>568361.461904</td>\n",
       "      <td>4.513317e+06</td>\n",
       "    </tr>\n",
       "    <tr>\n",
       "      <th>6</th>\n",
       "      <td>13.0</td>\n",
       "      <td>512959.051663</td>\n",
       "      <td>1.158547e+07</td>\n",
       "    </tr>\n",
       "    <tr>\n",
       "      <th>7</th>\n",
       "      <td>13.0</td>\n",
       "      <td>512959.051663</td>\n",
       "      <td>1.972107e+07</td>\n",
       "    </tr>\n",
       "    <tr>\n",
       "      <th>8</th>\n",
       "      <td>13.0</td>\n",
       "      <td>512959.051663</td>\n",
       "      <td>1.384019e+07</td>\n",
       "    </tr>\n",
       "    <tr>\n",
       "      <th>9</th>\n",
       "      <td>15.0</td>\n",
       "      <td>462957.125260</td>\n",
       "      <td>2.935981e+07</td>\n",
       "    </tr>\n",
       "    <tr>\n",
       "      <th>10</th>\n",
       "      <td>15.0</td>\n",
       "      <td>462957.125260</td>\n",
       "      <td>2.553027e+07</td>\n",
       "    </tr>\n",
       "    <tr>\n",
       "      <th>11</th>\n",
       "      <td>15.0</td>\n",
       "      <td>462957.125260</td>\n",
       "      <td>2.964068e+07</td>\n",
       "    </tr>\n",
       "    <tr>\n",
       "      <th>12</th>\n",
       "      <td>18.0</td>\n",
       "      <td>396942.759448</td>\n",
       "      <td>4.145666e+07</td>\n",
       "    </tr>\n",
       "    <tr>\n",
       "      <th>13</th>\n",
       "      <td>18.0</td>\n",
       "      <td>396942.759448</td>\n",
       "      <td>3.481259e+07</td>\n",
       "    </tr>\n",
       "    <tr>\n",
       "      <th>14</th>\n",
       "      <td>18.0</td>\n",
       "      <td>396942.759448</td>\n",
       "      <td>3.786538e+07</td>\n",
       "    </tr>\n",
       "    <tr>\n",
       "      <th>15</th>\n",
       "      <td>20.0</td>\n",
       "      <td>358249.801855</td>\n",
       "      <td>3.365617e+07</td>\n",
       "    </tr>\n",
       "    <tr>\n",
       "      <th>16</th>\n",
       "      <td>20.0</td>\n",
       "      <td>358249.801855</td>\n",
       "      <td>3.946538e+07</td>\n",
       "    </tr>\n",
       "    <tr>\n",
       "      <th>17</th>\n",
       "      <td>20.0</td>\n",
       "      <td>358249.801855</td>\n",
       "      <td>2.691913e+07</td>\n",
       "    </tr>\n",
       "    <tr>\n",
       "      <th>18</th>\n",
       "      <td>22.0</td>\n",
       "      <td>323328.534001</td>\n",
       "      <td>2.762228e+07</td>\n",
       "    </tr>\n",
       "    <tr>\n",
       "      <th>19</th>\n",
       "      <td>22.0</td>\n",
       "      <td>323328.534001</td>\n",
       "      <td>1.928329e+07</td>\n",
       "    </tr>\n",
       "    <tr>\n",
       "      <th>20</th>\n",
       "      <td>22.0</td>\n",
       "      <td>323328.534001</td>\n",
       "      <td>2.287845e+07</td>\n",
       "    </tr>\n",
       "    <tr>\n",
       "      <th>21</th>\n",
       "      <td>25.0</td>\n",
       "      <td>277224.203505</td>\n",
       "      <td>2.921065e+06</td>\n",
       "    </tr>\n",
       "    <tr>\n",
       "      <th>22</th>\n",
       "      <td>25.0</td>\n",
       "      <td>277224.203505</td>\n",
       "      <td>1.876998e+06</td>\n",
       "    </tr>\n",
       "    <tr>\n",
       "      <th>23</th>\n",
       "      <td>25.0</td>\n",
       "      <td>277224.203505</td>\n",
       "      <td>1.528329e+06</td>\n",
       "    </tr>\n",
       "    <tr>\n",
       "      <th>24</th>\n",
       "      <td>28.0</td>\n",
       "      <td>237694.019853</td>\n",
       "      <td>1.468281e+06</td>\n",
       "    </tr>\n",
       "    <tr>\n",
       "      <th>25</th>\n",
       "      <td>28.0</td>\n",
       "      <td>237694.019853</td>\n",
       "      <td>8.523002e+05</td>\n",
       "    </tr>\n",
       "    <tr>\n",
       "      <th>26</th>\n",
       "      <td>28.0</td>\n",
       "      <td>237694.019853</td>\n",
       "      <td>1.154479e+06</td>\n",
       "    </tr>\n",
       "    <tr>\n",
       "      <th>27</th>\n",
       "      <td>29.0</td>\n",
       "      <td>225812.143067</td>\n",
       "      <td>7.360775e+04</td>\n",
       "    </tr>\n",
       "    <tr>\n",
       "      <th>28</th>\n",
       "      <td>29.0</td>\n",
       "      <td>225812.143067</td>\n",
       "      <td>5.617433e+04</td>\n",
       "    </tr>\n",
       "    <tr>\n",
       "      <th>29</th>\n",
       "      <td>29.0</td>\n",
       "      <td>225812.143067</td>\n",
       "      <td>9.878935e+04</td>\n",
       "    </tr>\n",
       "    <tr>\n",
       "      <th>30</th>\n",
       "      <td>32.0</td>\n",
       "      <td>193612.950524</td>\n",
       "      <td>7.748184e+03</td>\n",
       "    </tr>\n",
       "    <tr>\n",
       "      <th>31</th>\n",
       "      <td>32.0</td>\n",
       "      <td>193612.950524</td>\n",
       "      <td>7.748184e+04</td>\n",
       "    </tr>\n",
       "    <tr>\n",
       "      <th>32</th>\n",
       "      <td>32.0</td>\n",
       "      <td>193612.950524</td>\n",
       "      <td>6.004843e+04</td>\n",
       "    </tr>\n",
       "    <tr>\n",
       "      <th>33</th>\n",
       "      <td>34.0</td>\n",
       "      <td>174740.058688</td>\n",
       "      <td>0.000000e+00</td>\n",
       "    </tr>\n",
       "    <tr>\n",
       "      <th>34</th>\n",
       "      <td>34.0</td>\n",
       "      <td>174740.058688</td>\n",
       "      <td>0.000000e+00</td>\n",
       "    </tr>\n",
       "    <tr>\n",
       "      <th>35</th>\n",
       "      <td>34.0</td>\n",
       "      <td>174740.058688</td>\n",
       "      <td>0.000000e+00</td>\n",
       "    </tr>\n",
       "  </tbody>\n",
       "</table>\n",
       "</div>"
      ],
      "text/plain": [
       "     day            x_p         VALUE\n",
       "0    8.0  662883.958152  2.115254e+06\n",
       "1    8.0  662883.958152  2.917191e+06\n",
       "2    8.0  662883.958152  2.657627e+06\n",
       "3   11.0  568361.461904  4.784504e+06\n",
       "4   11.0  568361.461904  5.952542e+06\n",
       "5   11.0  568361.461904  4.513317e+06\n",
       "6   13.0  512959.051663  1.158547e+07\n",
       "7   13.0  512959.051663  1.972107e+07\n",
       "8   13.0  512959.051663  1.384019e+07\n",
       "9   15.0  462957.125260  2.935981e+07\n",
       "10  15.0  462957.125260  2.553027e+07\n",
       "11  15.0  462957.125260  2.964068e+07\n",
       "12  18.0  396942.759448  4.145666e+07\n",
       "13  18.0  396942.759448  3.481259e+07\n",
       "14  18.0  396942.759448  3.786538e+07\n",
       "15  20.0  358249.801855  3.365617e+07\n",
       "16  20.0  358249.801855  3.946538e+07\n",
       "17  20.0  358249.801855  2.691913e+07\n",
       "18  22.0  323328.534001  2.762228e+07\n",
       "19  22.0  323328.534001  1.928329e+07\n",
       "20  22.0  323328.534001  2.287845e+07\n",
       "21  25.0  277224.203505  2.921065e+06\n",
       "22  25.0  277224.203505  1.876998e+06\n",
       "23  25.0  277224.203505  1.528329e+06\n",
       "24  28.0  237694.019853  1.468281e+06\n",
       "25  28.0  237694.019853  8.523002e+05\n",
       "26  28.0  237694.019853  1.154479e+06\n",
       "27  29.0  225812.143067  7.360775e+04\n",
       "28  29.0  225812.143067  5.617433e+04\n",
       "29  29.0  225812.143067  9.878935e+04\n",
       "30  32.0  193612.950524  7.748184e+03\n",
       "31  32.0  193612.950524  7.748184e+04\n",
       "32  32.0  193612.950524  6.004843e+04\n",
       "33  34.0  174740.058688  0.000000e+00\n",
       "34  34.0  174740.058688  0.000000e+00\n",
       "35  34.0  174740.058688  0.000000e+00"
      ]
     },
     "execution_count": 532,
     "metadata": {},
     "output_type": "execute_result"
    }
   ],
   "source": [
    "t"
   ]
  },
  {
   "cell_type": "code",
   "execution_count": null,
   "metadata": {},
   "outputs": [],
   "source": [
    "def model_optimize_PRO(param_values, ref_df):\n",
    "    m = ModelProALT()\n",
    "    m.disable_organism('ALT')\n",
    "    m.override_initial_values({\n",
    "        'b_n_a': 0,\n",
    "        'b_c_a': 0,\n",
    "        'x_a': 0,\n",
    "    })\n",
    "    m.set_referece_times([0,0.5,0.6])\n",
    "    _, ref_res = m.simulate(num_iterations=1*3600*24)\n",
    "\n",
    "    t = pd.merge(res_df[['day', 'x_p']], fcm_dfn.loc[fcm_dfn.PRO== 'MIT9313', ['day', 'VALUE']], on='day')\n",
    "    metrics.mean_squared_log_error(t['VALUE'], t['x_p'])\n"
   ]
  }
 ],
 "metadata": {
  "kernelspec": {
   "display_name": "Python 3",
   "language": "python",
   "name": "python3"
  },
  "language_info": {
   "codemirror_mode": {
    "name": "ipython",
    "version": 3
   },
   "file_extension": ".py",
   "mimetype": "text/x-python",
   "name": "python",
   "nbconvert_exporter": "python",
   "pygments_lexer": "ipython3",
   "version": "3.7.1"
  }
 },
 "nbformat": 4,
 "nbformat_minor": 2
}
