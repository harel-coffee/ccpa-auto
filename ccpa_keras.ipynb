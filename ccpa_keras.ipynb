{
 "cells": [
  {
   "cell_type": "code",
   "execution_count": 1,
   "metadata": {},
   "outputs": [],
   "source": [
    "import itertools\n",
    "import sys, os\n",
    "\n",
    "import numpy as np\n",
    "import pandas as pd\n",
    "from scipy.special import comb\n",
    "from scipy import stats\n",
    "import scipy.cluster.hierarchy as hac\n",
    "from scipy.optimize import curve_fit\n",
    "\n",
    "import matplotlib.pyplot as plt\n",
    "plt.style.use('classic')\n",
    "%matplotlib inline\n",
    "import numpy as np\n",
    "import pandas as pd\n",
    "import seaborn as sns\n",
    "from sklearn.decomposition import PCA\n",
    "from sklearn.preprocessing import StandardScaler\n",
    "sns.set(rc={'figure.figsize':(15,8)})\n",
    "sns.set_context('poster')"
   ]
  },
  {
   "cell_type": "code",
   "execution_count": 2,
   "metadata": {},
   "outputs": [],
   "source": [
    "from sklearn.metrics import r2_score\n",
    "from sklearn.metrics import mean_squared_log_error"
   ]
  },
  {
   "cell_type": "code",
   "execution_count": 3,
   "metadata": {},
   "outputs": [],
   "source": [
    "%load_ext autoreload\n",
    "%autoreload 2\n",
    "import CCPA_lib as cp\n"
   ]
  },
  {
   "cell_type": "code",
   "execution_count": 4,
   "metadata": {},
   "outputs": [],
   "source": [
    "sns.set_context('poster')"
   ]
  },
  {
   "cell_type": "code",
   "execution_count": 5,
   "metadata": {},
   "outputs": [],
   "source": [
    "ppallete = \"BuGn\"\n",
    "porder = ['MIT9313', 'Natl2A', 'C9B', 'MIT9312', 'MED4']\n",
    "pedge = 'green'\n",
    "apallete = \"Oranges\"\n",
    "aorder = ['1A3', 'DE', 'DE1', 'ATCC', 'BS11']\n",
    "aedge='orange'              "
   ]
  },
  {
   "cell_type": "raw",
   "metadata": {
    "collapsed": true
   },
   "source": [
    "df = cp.load_experiment_csvs()\n",
    "df = cp.update_calculated_fields(df)"
   ]
  },
  {
   "cell_type": "raw",
   "metadata": {},
   "source": [
    "df.head()"
   ]
  },
  {
   "cell_type": "raw",
   "metadata": {
    "collapsed": true
   },
   "source": [
    "df.to_pickle('CCPA.pkl.gz')"
   ]
  },
  {
   "cell_type": "code",
   "execution_count": 6,
   "metadata": {},
   "outputs": [],
   "source": [
    "df = pd.read_pickle('CCPA.pkl.gz')"
   ]
  },
  {
   "cell_type": "code",
   "execution_count": 7,
   "metadata": {},
   "outputs": [],
   "source": [
    "dfc = df.loc[(df.experiment.isin(['e1','e3', 'e4','e5', 'e6'])) & (df.culture == 'Co_Culture')]"
   ]
  },
  {
   "cell_type": "code",
   "execution_count": 8,
   "metadata": {},
   "outputs": [],
   "source": [
    "df3 = df.loc[(df.experiment.isin(['e3'])) & (df.culture == 'Co_Culture') & (df.ALT == 'DE1')]"
   ]
  },
  {
   "cell_type": "code",
   "execution_count": 86,
   "metadata": {},
   "outputs": [],
   "source": [
    "d = cp.generate_decline(dfc, scale=False)\n",
    "d = d.loc[d.day < 85]"
   ]
  },
  {
   "cell_type": "code",
   "execution_count": 12,
   "metadata": {},
   "outputs": [
    {
     "data": {
      "text/plain": [
       "140.708333    73\n",
       "140.900000    72\n",
       "140.930000    69\n",
       "122.760000    65\n",
       "120.900000    64\n",
       "Name: day, dtype: int64"
      ]
     },
     "execution_count": 12,
     "metadata": {},
     "output_type": "execute_result"
    }
   ],
   "source": [
    "dfc.groupby('experiment_sample')['day'].max().value_counts()"
   ]
  },
  {
   "cell_type": "code",
   "execution_count": null,
   "metadata": {},
   "outputs": [],
   "source": []
  },
  {
   "cell_type": "code",
   "execution_count": 13,
   "metadata": {},
   "outputs": [],
   "source": [
    "train_df_orig, test_df_orig = cp.split_train_test(dfc,test_size=0.4)"
   ]
  },
  {
   "cell_type": "code",
   "execution_count": 30,
   "metadata": {},
   "outputs": [],
   "source": [
    "max_day = 120\n",
    "train_df = cp.augment_training(train_df_orig)\n",
    "#train_df = train_df.loc[train_df.day <= max_day]\n",
    "test_df = cp.resample_df(test_df_orig, period='1d', dropna=False)\n",
    "#test_df = test_df.loc[test_df.day <= max_day]"
   ]
  },
  {
   "cell_type": "code",
   "execution_count": 31,
   "metadata": {
    "scrolled": true
   },
   "outputs": [
    {
     "data": {
      "text/html": [
       "<div>\n",
       "<style scoped>\n",
       "    .dataframe tbody tr th:only-of-type {\n",
       "        vertical-align: middle;\n",
       "    }\n",
       "\n",
       "    .dataframe tbody tr th {\n",
       "        vertical-align: top;\n",
       "    }\n",
       "\n",
       "    .dataframe thead th {\n",
       "        text-align: right;\n",
       "    }\n",
       "</style>\n",
       "<table border=\"1\" class=\"dataframe\">\n",
       "  <thead>\n",
       "    <tr style=\"text-align: right;\">\n",
       "      <th></th>\n",
       "      <th>experiment_sample</th>\n",
       "      <th>experiment</th>\n",
       "      <th>sample</th>\n",
       "      <th>PRO</th>\n",
       "      <th>ALT</th>\n",
       "      <th>culture</th>\n",
       "      <th>day</th>\n",
       "      <th>FL</th>\n",
       "      <th>augment_name</th>\n",
       "      <th>experiment_sample_orig</th>\n",
       "    </tr>\n",
       "  </thead>\n",
       "  <tbody>\n",
       "    <tr>\n",
       "      <th>0</th>\n",
       "      <td>e1, 10A, original_mean</td>\n",
       "      <td>e1</td>\n",
       "      <td>10A</td>\n",
       "      <td>C9B</td>\n",
       "      <td>DE</td>\n",
       "      <td>Co_Culture</td>\n",
       "      <td>0</td>\n",
       "      <td>0.078</td>\n",
       "      <td>original_mean</td>\n",
       "      <td>e1, 10A</td>\n",
       "    </tr>\n",
       "    <tr>\n",
       "      <th>1</th>\n",
       "      <td>e1, 10A, original_mean</td>\n",
       "      <td>e1</td>\n",
       "      <td>10A</td>\n",
       "      <td>C9B</td>\n",
       "      <td>DE</td>\n",
       "      <td>Co_Culture</td>\n",
       "      <td>1</td>\n",
       "      <td>0.147</td>\n",
       "      <td>original_mean</td>\n",
       "      <td>e1, 10A</td>\n",
       "    </tr>\n",
       "    <tr>\n",
       "      <th>2</th>\n",
       "      <td>e1, 10A, original_mean</td>\n",
       "      <td>e1</td>\n",
       "      <td>10A</td>\n",
       "      <td>C9B</td>\n",
       "      <td>DE</td>\n",
       "      <td>Co_Culture</td>\n",
       "      <td>2</td>\n",
       "      <td>0.175</td>\n",
       "      <td>original_mean</td>\n",
       "      <td>e1, 10A</td>\n",
       "    </tr>\n",
       "    <tr>\n",
       "      <th>3</th>\n",
       "      <td>e1, 10A, original_mean</td>\n",
       "      <td>e1</td>\n",
       "      <td>10A</td>\n",
       "      <td>C9B</td>\n",
       "      <td>DE</td>\n",
       "      <td>Co_Culture</td>\n",
       "      <td>3</td>\n",
       "      <td>NaN</td>\n",
       "      <td>original_mean</td>\n",
       "      <td>e1, 10A</td>\n",
       "    </tr>\n",
       "    <tr>\n",
       "      <th>4</th>\n",
       "      <td>e1, 10A, original_mean</td>\n",
       "      <td>e1</td>\n",
       "      <td>10A</td>\n",
       "      <td>C9B</td>\n",
       "      <td>DE</td>\n",
       "      <td>Co_Culture</td>\n",
       "      <td>4</td>\n",
       "      <td>NaN</td>\n",
       "      <td>original_mean</td>\n",
       "      <td>e1, 10A</td>\n",
       "    </tr>\n",
       "  </tbody>\n",
       "</table>\n",
       "</div>"
      ],
      "text/plain": [
       "        experiment_sample experiment sample  PRO ALT     culture  day     FL  \\\n",
       "0  e1, 10A, original_mean         e1    10A  C9B  DE  Co_Culture    0  0.078   \n",
       "1  e1, 10A, original_mean         e1    10A  C9B  DE  Co_Culture    1  0.147   \n",
       "2  e1, 10A, original_mean         e1    10A  C9B  DE  Co_Culture    2  0.175   \n",
       "3  e1, 10A, original_mean         e1    10A  C9B  DE  Co_Culture    3    NaN   \n",
       "4  e1, 10A, original_mean         e1    10A  C9B  DE  Co_Culture    4    NaN   \n",
       "\n",
       "    augment_name experiment_sample_orig  \n",
       "0  original_mean                e1, 10A  \n",
       "1  original_mean                e1, 10A  \n",
       "2  original_mean                e1, 10A  \n",
       "3  original_mean                e1, 10A  \n",
       "4  original_mean                e1, 10A  "
      ]
     },
     "execution_count": 31,
     "metadata": {},
     "output_type": "execute_result"
    }
   ],
   "source": [
    "train_df.head()"
   ]
  },
  {
   "cell_type": "code",
   "execution_count": 32,
   "metadata": {},
   "outputs": [],
   "source": [
    "X_train = cp.experiments2X(train_df, cumsummode=False, value_col='FL')\n",
    "metadf_train = cp.get_meta(train_df)\n",
    "metadf_train.index = metadf_train.experiment_sample"
   ]
  },
  {
   "cell_type": "code",
   "execution_count": 36,
   "metadata": {},
   "outputs": [],
   "source": [
    "X_test = cp.experiments2X(test_df, cumsummode=False, value_col='FL', dropna=False)\n",
    "metadf_test = cp.get_meta(test_df)\n",
    "metadf_test.index = metadf_test.experiment_sample\n"
   ]
  },
  {
   "cell_type": "raw",
   "metadata": {},
   "source": [
    "y_train = metadf_train.PRO + ','+ metadf_train.ALT\n",
    "y_test = metadf_test.PRO + ','+ metadf_test.ALT\n"
   ]
  },
  {
   "cell_type": "code",
   "execution_count": 38,
   "metadata": {},
   "outputs": [
    {
     "data": {
      "text/plain": [
       "(Int64Index([  0,   1,   2,   3,   4,   5,   6,   7,   8,   9,\n",
       "             ...\n",
       "             133, 134, 135, 136, 137, 138, 139, 140, 141, 142],\n",
       "            dtype='int64', name='day', length=143),\n",
       " Int64Index([  0,   1,   2,   3,   4,   5,   6,   7,   8,   9,\n",
       "             ...\n",
       "             131, 132, 133, 134, 135, 136, 137, 138, 139, 140],\n",
       "            dtype='int64', name='day', length=141))"
      ]
     },
     "execution_count": 38,
     "metadata": {},
     "output_type": "execute_result"
    }
   ],
   "source": [
    "X_train.columns, X_test.columns"
   ]
  },
  {
   "cell_type": "code",
   "execution_count": 40,
   "metadata": {},
   "outputs": [],
   "source": [
    "X_train = X_train.loc[:, range(max_day+1)]\n",
    "X_test = X_test.loc[:, range(max_day+1)]"
   ]
  },
  {
   "cell_type": "code",
   "execution_count": 41,
   "metadata": {},
   "outputs": [
    {
     "data": {
      "text/plain": [
       "((12300, 121), (138, 121))"
      ]
     },
     "execution_count": 41,
     "metadata": {},
     "output_type": "execute_result"
    }
   ],
   "source": [
    "X_train.shape, X_test.shape"
   ]
  },
  {
   "cell_type": "code",
   "execution_count": null,
   "metadata": {},
   "outputs": [],
   "source": []
  },
  {
   "cell_type": "code",
   "execution_count": 42,
   "metadata": {},
   "outputs": [],
   "source": [
    "y_train = metadf_train.PRO \n",
    "y_test = metadf_test.PRO \n"
   ]
  },
  {
   "cell_type": "code",
   "execution_count": 43,
   "metadata": {
    "scrolled": true
   },
   "outputs": [
    {
     "data": {
      "text/plain": [
       "((12300, 121), (12300,), (138, 121), (138,))"
      ]
     },
     "execution_count": 43,
     "metadata": {},
     "output_type": "execute_result"
    }
   ],
   "source": [
    "X_train.shape, y_train.shape, X_test.shape, y_test.shape"
   ]
  },
  {
   "cell_type": "code",
   "execution_count": 44,
   "metadata": {},
   "outputs": [],
   "source": [
    "# cnn model\n",
    "from numpy import mean\n",
    "from numpy import std\n",
    "from numpy import dstack\n",
    "from pandas import read_csv\n",
    "from matplotlib import pyplot\n",
    "from keras.models import Sequential\n",
    "from keras.layers import Dense\n",
    "from keras.layers import Flatten\n",
    "from keras.layers import Dropout\n",
    "from keras.layers.convolutional import Conv1D\n",
    "from keras.layers.convolutional import MaxPooling1D\n",
    "from keras.utils import to_categorical\n",
    "from keras.layers.normalization import BatchNormalization\n",
    "# # fit and evaluate a model\n",
    "# def evaluate_model(trainX, trainy, testX, testy):\n",
    "#     verbose, epochs, batch_size = 0, 10, 32\n",
    "#     n_timesteps, n_features, n_outputs = trainX.shape[1], 1, trainy.nunique()\n",
    "#     model = Sequential()\n",
    "#     model.add(Conv1D(filters=64, kernel_size=3, activation='relu', input_shape=(n_timesteps,n_features)))\n",
    "#     model.add(Conv1D(filters=64, kernel_size=3, activation='relu'))\n",
    "#     model.add(Dropout(0.5))\n",
    "#     model.add(MaxPooling1D(pool_size=2))\n",
    "#     model.add(Flatten())\n",
    "#     model.add(Dense(100, activation='relu'))\n",
    "#     model.add(Dense(n_outputs, activation='softmax'))\n",
    "#     model.compile(loss='categorical_crossentropy', optimizer='adam', metrics=['accuracy'])\n",
    "#     # fit network\n",
    "#     model.fit(trainX, trainy, epochs=epochs, batch_size=batch_size, verbose=verbose)\n",
    "#     # evaluate model\n",
    "#     _, accuracy = model.evaluate(testX, testy, batch_size=batch_size, verbose=0)\n",
    "#     return accuracy\n",
    "\n",
    "# # summarize scores\n",
    "# def summarize_results(scores):\n",
    "#     print(scores)\n",
    "#     m, s = mean(scores), std(scores)\n",
    "#     print('Accuracy: %.3f%% (+/-%.3f)' % (m, s))\n",
    "\n",
    "# # run an experiment\n",
    "# def run_experiment(repeats=10):\n",
    "#     # load data\n",
    "#     trainX, trainy, testX, testy = load_dataset()\n",
    "#     # repeat experiment\n",
    "#     scores = list()\n",
    "#     for r in range(repeats):\n",
    "#         score = evaluate_model(trainX, trainy, testX, testy)\n",
    "#         score = score * 100.0\n",
    "#         print('>#%d: %.3f' % (r+1, score))\n",
    "#         scores.append(score)\n",
    "#     # summarize results\n",
    "#     summarize_results(scores)\n",
    "\n",
    "# run the experiment\n",
    "#run_experiment()"
   ]
  },
  {
   "cell_type": "code",
   "execution_count": 45,
   "metadata": {},
   "outputs": [],
   "source": [
    "    scalar = StandardScaler()\n",
    "    scaledX_train = scalar.fit_transform(X_train)\n",
    "    scaledX_test = scalar.transform(X_test)\n"
   ]
  },
  {
   "cell_type": "code",
   "execution_count": 47,
   "metadata": {},
   "outputs": [
    {
     "name": "stderr",
     "output_type": "stream",
     "text": [
      "C:\\Users\\wosnat\\Anaconda3\\lib\\site-packages\\ipykernel_launcher.py:1: DeprecationWarning: Both axis > a.ndim and axis < -a.ndim - 1 are deprecated and will raise an AxisError in the future.\n",
      "  \"\"\"Entry point for launching an IPython kernel.\n",
      "C:\\Users\\wosnat\\Anaconda3\\lib\\site-packages\\ipykernel_launcher.py:2: DeprecationWarning: Both axis > a.ndim and axis < -a.ndim - 1 are deprecated and will raise an AxisError in the future.\n",
      "  \n"
     ]
    }
   ],
   "source": [
    "X_train_keras = np.expand_dims(np.array(scaledX_train), axis=3).astype(np.float32)\n",
    "X_test_keras = np.expand_dims(np.array(scaledX_test), axis=3).astype(np.float32)"
   ]
  },
  {
   "cell_type": "code",
   "execution_count": 48,
   "metadata": {},
   "outputs": [],
   "source": [
    "from sklearn.preprocessing import LabelBinarizer\n",
    "# convert the labels from integers to vectors (for 2-class, binary\n",
    "# classification you should use Keras' to_categorical function\n",
    "# instead as the scikit-learn's LabelBinarizer will not return a\n",
    "# vector)\n",
    "lb = LabelBinarizer()\n",
    "y_train_keras = lb.fit_transform(y_train)\n",
    "y_test_keras = lb.transform(y_test)\n",
    "\n",
    "# y_test_keras_df = pd.get_dummies(y_test)\n",
    "# y_test_keras = y_test_keras_df.values.astype(np.float32)"
   ]
  },
  {
   "cell_type": "code",
   "execution_count": 67,
   "metadata": {},
   "outputs": [],
   "source": [
    "    verbose, epochs, batch_size = 1, 10, 32\n",
    "    n_timesteps, n_features, n_outputs = X_train_keras.shape[1], X_train_keras.shape[2], y_train_keras.shape[1]\n",
    "    n_timesteps, n_features, n_outputs \n",
    "    model = Sequential()\n",
    "    model.add(Conv1D(filters=64, kernel_size=7, activation='relu', input_shape=(n_timesteps,n_features)))\n",
    "    model.add(Conv1D(filters=64, kernel_size=7, activation='relu'))\n",
    "    model.add(MaxPooling1D(pool_size=2))\n",
    "    model.add(BatchNormalization())\n",
    "    model.add(Dropout(0.5))\n",
    "    model.add(Flatten())\n",
    "    model.add(Dense(64, activation='relu'))\n",
    "    model.add(Dense(n_outputs, activation='softmax'))\n",
    "    model.compile(loss='categorical_crossentropy', optimizer='adam', metrics=['accuracy'])"
   ]
  },
  {
   "cell_type": "code",
   "execution_count": 68,
   "metadata": {},
   "outputs": [
    {
     "name": "stdout",
     "output_type": "stream",
     "text": [
      "Train on 12300 samples, validate on 138 samples\n",
      "Epoch 1/10\n",
      "12300/12300 [==============================] - 24s 2ms/step - loss: 0.1513 - acc: 0.9516 - val_loss: 1.3388 - val_acc: 0.8478\n",
      "Epoch 2/10\n",
      "12300/12300 [==============================] - 9s 697us/step - loss: 0.0256 - acc: 0.9920 - val_loss: 1.3612 - val_acc: 0.8406\n",
      "Epoch 3/10\n",
      "12300/12300 [==============================] - 9s 734us/step - loss: 0.0224 - acc: 0.9930 - val_loss: 1.6521 - val_acc: 0.8551\n",
      "Epoch 4/10\n",
      "12300/12300 [==============================] - 9s 722us/step - loss: 0.0123 - acc: 0.9962 - val_loss: 1.4686 - val_acc: 0.8478\n",
      "Epoch 5/10\n",
      "12300/12300 [==============================] - 10s 773us/step - loss: 0.0161 - acc: 0.9946 - val_loss: 1.8922 - val_acc: 0.8261\n",
      "Epoch 6/10\n",
      "12300/12300 [==============================] - 10s 776us/step - loss: 0.0075 - acc: 0.9972 - val_loss: 1.7838 - val_acc: 0.8333\n",
      "Epoch 7/10\n",
      "12300/12300 [==============================] - 10s 830us/step - loss: 0.0083 - acc: 0.9973 - val_loss: 1.6295 - val_acc: 0.8551\n",
      "Epoch 8/10\n",
      "12300/12300 [==============================] - 10s 798us/step - loss: 0.0180 - acc: 0.9948 - val_loss: 1.5414 - val_acc: 0.8406\n",
      "Epoch 9/10\n",
      "12300/12300 [==============================] - 10s 781us/step - loss: 0.0138 - acc: 0.9953 - val_loss: 1.4818 - val_acc: 0.8333\n",
      "Epoch 10/10\n",
      "12300/12300 [==============================] - 9s 707us/step - loss: 0.0173 - acc: 0.9955 - val_loss: 1.4125 - val_acc: 0.8333\n"
     ]
    }
   ],
   "source": [
    "    # fit network\n",
    "    H = model.fit(X_train_keras, y_train_keras, epochs=epochs, batch_size=batch_size, verbose=verbose,\n",
    "                 validation_data=(X_test_keras, y_test_keras))\n",
    "#     # evaluate model\n",
    "#     _, accuracy = model.evaluate(testX, testy, batch_size=batch_size, verbose=0)\n",
    "#     return accuracy"
   ]
  },
  {
   "cell_type": "code",
   "execution_count": 60,
   "metadata": {},
   "outputs": [
    {
     "name": "stdout",
     "output_type": "stream",
     "text": [
      "12300/12300 [==============================] - 2s 187us/step\n"
     ]
    },
    {
     "data": {
      "text/plain": [
       "[0.0001337822761763711, 1.0]"
      ]
     },
     "execution_count": 60,
     "metadata": {},
     "output_type": "execute_result"
    }
   ],
   "source": [
    "model.evaluate(X_train_keras, y_train_keras, batch_size=batch_size, verbose=1)"
   ]
  },
  {
   "cell_type": "code",
   "execution_count": 61,
   "metadata": {},
   "outputs": [
    {
     "name": "stdout",
     "output_type": "stream",
     "text": [
      "138/138 [==============================] - 0s 226us/step\n"
     ]
    },
    {
     "data": {
      "text/plain": [
       "[1.7222804159357927, 0.8333333324694979]"
      ]
     },
     "execution_count": 61,
     "metadata": {},
     "output_type": "execute_result"
    }
   ],
   "source": [
    "model.evaluate(X_test_keras, y_test_keras, batch_size=batch_size, verbose=1)"
   ]
  },
  {
   "cell_type": "code",
   "execution_count": 62,
   "metadata": {},
   "outputs": [
    {
     "name": "stdout",
     "output_type": "stream",
     "text": [
      "[INFO] evaluating network...\n",
      "              precision    recall  f1-score   support\n",
      "\n",
      "         C9B       0.95      0.77      0.85        26\n",
      "        MED4       0.90      0.70      0.79        27\n",
      "     MIT9312       0.77      0.93      0.84        29\n",
      "     MIT9313       0.84      1.00      0.92        27\n",
      "      Natl2A       0.76      0.76      0.76        29\n",
      "\n",
      "    accuracy                           0.83       138\n",
      "   macro avg       0.85      0.83      0.83       138\n",
      "weighted avg       0.84      0.83      0.83       138\n",
      "\n"
     ]
    }
   ],
   "source": [
    "from sklearn.metrics import classification_report\n",
    "# evaluate the network\n",
    "print(\"[INFO] evaluating network...\")\n",
    "predictions = model.predict(X_test_keras, batch_size=32)\n",
    "print(classification_report(y_test_keras.argmax(axis=1),\n",
    "    predictions.argmax(axis=1), target_names=lb.classes_))"
   ]
  },
  {
   "cell_type": "code",
   "execution_count": 63,
   "metadata": {},
   "outputs": [
    {
     "data": {
      "text/plain": [
       "array([0, 0, 1, 3, 2, 2, 4, 0, 1, 3, 2, 4, 1, 0, 1, 3, 2, 4, 4, 3, 2, 2,\n",
       "       4, 0, 0, 2, 4, 4, 0, 4, 1, 3, 3, 2, 2, 4, 0, 0, 1, 3, 2, 2, 4, 1,\n",
       "       0, 3, 3, 2, 4, 4, 2, 4, 0, 1, 3, 2, 2, 4, 0, 0, 2, 0, 1, 3, 3, 4,\n",
       "       1, 1, 0, 1, 1, 3, 2, 2, 4, 3, 3, 4, 0, 1, 1, 3, 2, 2, 0, 3, 3, 2,\n",
       "       2, 4, 0, 4, 3, 3, 2, 2, 2, 4, 4, 3, 3, 4, 3, 2, 4, 3, 2, 4, 2, 0,\n",
       "       2, 2, 3, 3, 4, 0, 1, 3, 3, 2, 4, 3, 1, 2, 4, 3, 1, 2, 1, 1, 3, 2,\n",
       "       2, 0, 1, 3, 4, 4], dtype=int64)"
      ]
     },
     "execution_count": 63,
     "metadata": {},
     "output_type": "execute_result"
    }
   ],
   "source": [
    "predictions.argmax(axis=1)"
   ]
  },
  {
   "cell_type": "code",
   "execution_count": 64,
   "metadata": {},
   "outputs": [],
   "source": [
    "h_df = pd.DataFrame(data=H.history)"
   ]
  },
  {
   "cell_type": "code",
   "execution_count": 65,
   "metadata": {},
   "outputs": [
    {
     "data": {
      "text/plain": [
       "<seaborn.axisgrid.FacetGrid at 0x1ee365ec1d0>"
      ]
     },
     "execution_count": 65,
     "metadata": {},
     "output_type": "execute_result"
    },
    {
     "data": {
      "image/png": "[encoded data removed]",
      "text/plain": [
       "<Figure size 518.575x360 with 1 Axes>"
      ]
     },
     "metadata": {
      "needs_background": "light"
     },
     "output_type": "display_data"
    }
   ],
   "source": [
    "sns.relplot(data=h_df, kind='line')"
   ]
  },
  {
   "cell_type": "code",
   "execution_count": 66,
   "metadata": {},
   "outputs": [
    {
     "name": "stdout",
     "output_type": "stream",
     "text": [
      "_________________________________________________________________\n",
      "Layer (type)                 Output Shape              Param #   \n",
      "=================================================================\n",
      "conv1d_3 (Conv1D)            (None, 115, 64)           512       \n",
      "_________________________________________________________________\n",
      "conv1d_4 (Conv1D)            (None, 109, 64)           28736     \n",
      "_________________________________________________________________\n",
      "max_pooling1d_2 (MaxPooling1 (None, 54, 64)            0         \n",
      "_________________________________________________________________\n",
      "dropout_2 (Dropout)          (None, 54, 64)            0         \n",
      "_________________________________________________________________\n",
      "flatten_2 (Flatten)          (None, 3456)              0         \n",
      "_________________________________________________________________\n",
      "dense_3 (Dense)              (None, 64)                221248    \n",
      "_________________________________________________________________\n",
      "dense_4 (Dense)              (None, 5)                 325       \n",
      "=================================================================\n",
      "Total params: 250,821\n",
      "Trainable params: 250,821\n",
      "Non-trainable params: 0\n",
      "_________________________________________________________________\n"
     ]
    }
   ],
   "source": [
    "model.summary()"
   ]
  },
  {
   "cell_type": "code",
   "execution_count": null,
   "metadata": {},
   "outputs": [],
   "source": []
  },
  {
   "cell_type": "code",
   "execution_count": null,
   "metadata": {},
   "outputs": [],
   "source": []
  }
 ],
 "metadata": {
  "kernelspec": {
   "display_name": "Python 3",
   "language": "python",
   "name": "python3"
  },
  "language_info": {
   "codemirror_mode": {
    "name": "ipython",
    "version": 3
   },
   "file_extension": ".py",
   "mimetype": "text/x-python",
   "name": "python",
   "nbconvert_exporter": "python",
   "pygments_lexer": "ipython3",
   "version": "3.6.7"
  }
 },
 "nbformat": 4,
 "nbformat_minor": 2
}
