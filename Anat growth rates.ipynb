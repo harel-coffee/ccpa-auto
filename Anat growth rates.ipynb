{
 "cells": [
  {
   "cell_type": "code",
   "execution_count": 1,
   "metadata": {},
   "outputs": [],
   "source": [
    "import itertools\n",
    "import sys, os\n",
    "\n",
    "import numpy as np\n",
    "import pandas as pd\n",
    "from scipy.special import comb\n",
    "from scipy import stats\n",
    "import scipy.cluster.hierarchy as hac\n",
    "import matplotlib.pyplot as plt\n",
    "plt.style.use('classic')\n",
    "%matplotlib inline\n",
    "import numpy as np\n",
    "import pandas as pd\n",
    "import seaborn as sns\n",
    "from sklearn.decomposition import PCA\n",
    "from sklearn.preprocessing import StandardScaler\n",
    "from sklearn import metrics\n",
    "import statsmodels.api as sm\n",
    "\n",
    "sns.set(rc={'figure.figsize':(15,8)})\n",
    "sns.set_context('poster')\n",
    "from sklearn.model_selection import train_test_split"
   ]
  },
  {
   "cell_type": "code",
   "execution_count": 2,
   "metadata": {},
   "outputs": [],
   "source": [
    "%load_ext autoreload\n",
    "%autoreload 2\n",
    "import CCPA_lib as cp\n"
   ]
  },
  {
   "cell_type": "code",
   "execution_count": 3,
   "metadata": {},
   "outputs": [],
   "source": [
    "sns.set_context('poster')\n",
    "sns.set_style('white')"
   ]
  },
  {
   "cell_type": "code",
   "execution_count": 4,
   "metadata": {},
   "outputs": [],
   "source": [
    "ppallete = 'RdYlGn'#'YlGn_d' #\"BuGn_d\"\n",
    "porder = ['MED4',  'MIT9312','MIT0604', 'Natl2A', 'MIT9313']\n",
    "ppallete = [ '#62A586', '#face6e','#f79934', '#7A9BC8', '#F47681', ]\n",
    "# #ffd7a1\n",
    "    \n",
    "pedge = 'green'\n",
    "apallete = \"spring\"\n",
    "aorder = ['DE', 'DE1', '1A3', 'ATCC', 'BS11']\n",
    "amarkers = ['X', 'P', 's', 'D', 'o']\n",
    "aedge='orange'\n",
    "epallete = ['#6cf0ba', '#d13f75', '#eeb7cb', '#b9d2d8', '#407f90']\n",
    "#sns.diverging_palette(355, 217, s=74, l=50, n=4) #'Paired' # 'BrBG'# \"coolwarm\"\n",
    "eorder = ['e1','e3', 'e4', 'e5', 'e6']\n",
    "#aedge='orange'\n",
    "e2_color= '#f2f2f2'\n",
    "eallorder= ['e1','e2', 'e3', 'e4', 'e5', 'e6']\n",
    "eallpallete = ['#6cf0ba', '#f2f2f2', '#d13f75', '#eeb7cb', '#b9d2d8', '#407f90']\n",
    "\n",
    "efcmorder= ['e1','e2', 'e4', 'e5', ]\n",
    "efcmpallete = ['#6cf0ba', '#f2f2f2',  '#eeb7cb', '#b9d2d8',]\n",
    "\n",
    "espallete = ['#6cf0ba', '#D55282', '#538B9B']\n",
    "#  604 #FCC479\n",
    "#     #ffd7a1\n",
    "#     #fcb14c\n",
    "#     MED4 = #62A586\n",
    "#     9313 #F47681\n",
    "#     natl #7A9BC8"
   ]
  },
  {
   "cell_type": "code",
   "execution_count": 5,
   "metadata": {},
   "outputs": [],
   "source": [
    "ppallete = 'RdYlGn'#'YlGn_d' #\"BuGn_d\"\n",
    "porder = ['MED4',  'MIT9312','MIT0604', 'Natl2A', 'MIT9313']\n",
    "ppallete = [ '#62A586', '#face6e','#f79934', '#7A9BC8', '#F47681', ]\n",
    "psizes = [150,120,200,120,350]\n",
    "pmarkers = ['o', 's', '^', 'D', '*']\n",
    "\n",
    "# #ffd7a1\n",
    "    \n",
    "pedge = 'green'\n",
    "apallete = \"spring\"\n",
    "aorder = ['DE', 'DE1', '1A3', 'ATCC', 'BS11']\n",
    "amarkers = ['P', 'X', 'h', '<','>']\n",
    "apallete = ['#6dad36', '#c7e89f', '#f5c4e1', '#d5579d', '#8a0850']\n",
    "\n",
    "aedge='orange'\n",
    "epallete = ['#6cf0ba', '#d13f75', '#eeb7cb', '#b9d2d8', '#407f90']\n",
    "#sns.diverging_palette(355, 217, s=74, l=50, n=4) #'Paired' # 'BrBG'# \"coolwarm\"\n",
    "eorder = ['e1','e3', 'e4', 'e5', 'e6']\n",
    "#aedge='orange'\n",
    "\n",
    "espallete = ['#6cf0ba', '#D55282', '#538B9B']"
   ]
  },
  {
   "cell_type": "code",
   "execution_count": 6,
   "metadata": {},
   "outputs": [],
   "source": [
    "fpath = 'anat'\n",
    "xlsx_fnames = os.listdir(fpath)\n"
   ]
  },
  {
   "cell_type": "code",
   "execution_count": 7,
   "metadata": {},
   "outputs": [],
   "source": [
    "xlsx_dfs = pd.read_excel(os.path.join(fpath, xlsx_fnames[0]), sheet_name=None, index_col=0)"
   ]
  },
  {
   "cell_type": "code",
   "execution_count": 25,
   "metadata": {},
   "outputs": [],
   "source": [
    "def clean_df(d, fname, sheetname):\n",
    "    df = d.T\n",
    "    df = df.replace(to_replace=r'^n=[0-9]+', value=np.nan, regex=True)\n",
    "    df = df.dropna(how='all', axis=1)\n",
    "    df = df.dropna(how='all', axis=0)\n",
    "    df = df.reset_index(drop=True)\n",
    "    experiments = df.columns.str.replace(' day', '').str.strip()\n",
    "    experiments = experiments.str.replace('_DAY', '').str.strip()\n",
    "    \n",
    "    #colnames = \n",
    "    colnames = (pd.Series(df.columns.str.endswith(' day')) | pd.Series(df.columns.str.endswith('_DAY'))).map({True: 'day', False: 'FL'})\n",
    "    df.columns = pd.MultiIndex.from_frame(pd.DataFrame({'experiment': experiments, 'colname': colnames}))\n",
    "    df = df.stack(level='experiment').reset_index().drop(columns=['level_0']).reset_index(drop=True)\n",
    "    df['excelfile'] = fname\n",
    "    df['sheet'] = sheetname\n",
    "    return df\n"
   ]
  },
  {
   "cell_type": "code",
   "execution_count": 34,
   "metadata": {},
   "outputs": [],
   "source": [
    "dfs = []\n",
    "for fname in xlsx_fnames:\n",
    "    xlsx_dfs = pd.read_excel(os.path.join(fpath, fname), sheet_name=None, index_col=0)\n",
    "    dfs.extend([clean_df(d, fname, sheet) for sheet, d in xlsx_dfs.items()])"
   ]
  },
  {
   "cell_type": "code",
   "execution_count": 35,
   "metadata": {},
   "outputs": [],
   "source": [
    "df = pd.concat(dfs)"
   ]
  },
  {
   "cell_type": "code",
   "execution_count": 36,
   "metadata": {},
   "outputs": [
    {
     "data": {
      "text/plain": [
       "colname\n",
       "experiment     0\n",
       "FL            16\n",
       "day            0\n",
       "excelfile      0\n",
       "sheet          0\n",
       "dtype: int64"
      ]
     },
     "execution_count": 36,
     "metadata": {},
     "output_type": "execute_result"
    }
   ],
   "source": [
    "df.isna().sum()"
   ]
  },
  {
   "cell_type": "code",
   "execution_count": 37,
   "metadata": {},
   "outputs": [
    {
     "data": {
      "text/html": [
       "<div>\n",
       "<style scoped>\n",
       "    .dataframe tbody tr th:only-of-type {\n",
       "        vertical-align: middle;\n",
       "    }\n",
       "\n",
       "    .dataframe tbody tr th {\n",
       "        vertical-align: top;\n",
       "    }\n",
       "\n",
       "    .dataframe thead th {\n",
       "        text-align: right;\n",
       "    }\n",
       "</style>\n",
       "<table border=\"1\" class=\"dataframe\">\n",
       "  <thead>\n",
       "    <tr style=\"text-align: right;\">\n",
       "      <th>colname</th>\n",
       "      <th>experiment</th>\n",
       "      <th>FL</th>\n",
       "      <th>day</th>\n",
       "      <th>excelfile</th>\n",
       "      <th>sheet</th>\n",
       "    </tr>\n",
       "  </thead>\n",
       "  <tbody>\n",
       "    <tr>\n",
       "      <th>5</th>\n",
       "      <td>MED4_10UE_17C 31.5</td>\n",
       "      <td>NaN</td>\n",
       "      <td>0.000000</td>\n",
       "      <td>MED4 סיכום עקומות גדילה.xlsx</td>\n",
       "      <td>MED4_10UE_17C</td>\n",
       "    </tr>\n",
       "    <tr>\n",
       "      <th>5</th>\n",
       "      <td>MED4_50UE_17C 31.5</td>\n",
       "      <td>NaN</td>\n",
       "      <td>0.000000</td>\n",
       "      <td>MED4 סיכום עקומות גדילה.xlsx</td>\n",
       "      <td>MED4_50UE_17C</td>\n",
       "    </tr>\n",
       "    <tr>\n",
       "      <th>4</th>\n",
       "      <td>9312_10UE_17C 31.5</td>\n",
       "      <td>NaN</td>\n",
       "      <td>0.000000</td>\n",
       "      <td>MIT9312 סיכום עקומות גדילה.xlsx</td>\n",
       "      <td>9312_10UE_17C</td>\n",
       "    </tr>\n",
       "    <tr>\n",
       "      <th>3</th>\n",
       "      <td>9312_50UE_17C 31.5</td>\n",
       "      <td>NaN</td>\n",
       "      <td>0.000000</td>\n",
       "      <td>MIT9312 סיכום עקומות גדילה.xlsx</td>\n",
       "      <td>9312_50UE_17C</td>\n",
       "    </tr>\n",
       "    <tr>\n",
       "      <th>43</th>\n",
       "      <td>MIT9312_10UE_20C_1A3 8.6</td>\n",
       "      <td>NaN</td>\n",
       "      <td>3.101389</td>\n",
       "      <td>MIT9312 סיכום עקומות גדילה.xlsx</td>\n",
       "      <td>9312_10UE_20C_1A3</td>\n",
       "    </tr>\n",
       "    <tr>\n",
       "      <th>4</th>\n",
       "      <td>MIT9313_10UE_17C 31.5</td>\n",
       "      <td>NaN</td>\n",
       "      <td>0.000000</td>\n",
       "      <td>MIT9313 סיכום עקומות גדילה.xlsx</td>\n",
       "      <td>9313_10UE_17C</td>\n",
       "    </tr>\n",
       "    <tr>\n",
       "      <th>43</th>\n",
       "      <td>MIT9313_10UE_20C_1A3 8.6</td>\n",
       "      <td>NaN</td>\n",
       "      <td>3.101389</td>\n",
       "      <td>MIT9313 סיכום עקומות גדילה.xlsx</td>\n",
       "      <td>9313_10UE_20C_1A3</td>\n",
       "    </tr>\n",
       "    <tr>\n",
       "      <th>4</th>\n",
       "      <td>NATL2A_10UE_17C 31.5</td>\n",
       "      <td>NaN</td>\n",
       "      <td>0.000000</td>\n",
       "      <td>NATL סיכום עקומות גדילה.xlsx</td>\n",
       "      <td>NATL_10UE_17C</td>\n",
       "    </tr>\n",
       "    <tr>\n",
       "      <th>39</th>\n",
       "      <td>NATL2A_10UE_20C 8.6</td>\n",
       "      <td>NaN</td>\n",
       "      <td>3.097222</td>\n",
       "      <td>NATL סיכום עקומות גדילה.xlsx</td>\n",
       "      <td>NATL_10UE_20C</td>\n",
       "    </tr>\n",
       "    <tr>\n",
       "      <th>39</th>\n",
       "      <td>NATL2A_50UE_20C 8.6</td>\n",
       "      <td>NaN</td>\n",
       "      <td>3.098611</td>\n",
       "      <td>NATL סיכום עקומות גדילה.xlsx</td>\n",
       "      <td>NATL_50UE_20C</td>\n",
       "    </tr>\n",
       "    <tr>\n",
       "      <th>43</th>\n",
       "      <td>NATL2A_100UE_20C 8.6</td>\n",
       "      <td>NaN</td>\n",
       "      <td>3.097917</td>\n",
       "      <td>NATL סיכום עקומות גדילה.xlsx</td>\n",
       "      <td>NATL_100UE_20C</td>\n",
       "    </tr>\n",
       "    <tr>\n",
       "      <th>39</th>\n",
       "      <td>NATL2A_10UE_20C_1A3 8.6</td>\n",
       "      <td>NaN</td>\n",
       "      <td>3.101389</td>\n",
       "      <td>NATL סיכום עקומות גדילה.xlsx</td>\n",
       "      <td>NATL_10UE_20C_1A3</td>\n",
       "    </tr>\n",
       "    <tr>\n",
       "      <th>35</th>\n",
       "      <td>NATL2A_100UE_20C_1A3 8.6</td>\n",
       "      <td>NaN</td>\n",
       "      <td>3.101389</td>\n",
       "      <td>NATL סיכום עקומות גדילה.xlsx</td>\n",
       "      <td>NATL_100UE_20C_1A3</td>\n",
       "    </tr>\n",
       "    <tr>\n",
       "      <th>5</th>\n",
       "      <td>WH8102_10UE_17C 31.5</td>\n",
       "      <td>NaN</td>\n",
       "      <td>0.000000</td>\n",
       "      <td>WH8102 סיכום עקומות גדילה.xlsx</td>\n",
       "      <td>8102_10UE_17C</td>\n",
       "    </tr>\n",
       "    <tr>\n",
       "      <th>2</th>\n",
       "      <td>WH8102_50UE_17C 31.5</td>\n",
       "      <td>NaN</td>\n",
       "      <td>0.000000</td>\n",
       "      <td>WH8102 סיכום עקומות גדילה.xlsx</td>\n",
       "      <td>8102_50UE_17C</td>\n",
       "    </tr>\n",
       "    <tr>\n",
       "      <th>47</th>\n",
       "      <td>WH8102_10UE_20C_1A3 8.6</td>\n",
       "      <td>NaN</td>\n",
       "      <td>3.101389</td>\n",
       "      <td>WH8102 סיכום עקומות גדילה.xlsx</td>\n",
       "      <td>8102_10UE_20C_1A3</td>\n",
       "    </tr>\n",
       "  </tbody>\n",
       "</table>\n",
       "</div>"
      ],
      "text/plain": [
       "colname                experiment  FL       day  \\\n",
       "5              MED4_10UE_17C 31.5 NaN  0.000000   \n",
       "5              MED4_50UE_17C 31.5 NaN  0.000000   \n",
       "4              9312_10UE_17C 31.5 NaN  0.000000   \n",
       "3              9312_50UE_17C 31.5 NaN  0.000000   \n",
       "43       MIT9312_10UE_20C_1A3 8.6 NaN  3.101389   \n",
       "4           MIT9313_10UE_17C 31.5 NaN  0.000000   \n",
       "43       MIT9313_10UE_20C_1A3 8.6 NaN  3.101389   \n",
       "4            NATL2A_10UE_17C 31.5 NaN  0.000000   \n",
       "39            NATL2A_10UE_20C 8.6 NaN  3.097222   \n",
       "39            NATL2A_50UE_20C 8.6 NaN  3.098611   \n",
       "43           NATL2A_100UE_20C 8.6 NaN  3.097917   \n",
       "39        NATL2A_10UE_20C_1A3 8.6 NaN  3.101389   \n",
       "35       NATL2A_100UE_20C_1A3 8.6 NaN  3.101389   \n",
       "5            WH8102_10UE_17C 31.5 NaN  0.000000   \n",
       "2            WH8102_50UE_17C 31.5 NaN  0.000000   \n",
       "47        WH8102_10UE_20C_1A3 8.6 NaN  3.101389   \n",
       "\n",
       "colname                        excelfile               sheet  \n",
       "5           MED4 סיכום עקומות גדילה.xlsx       MED4_10UE_17C  \n",
       "5           MED4 סיכום עקומות גדילה.xlsx       MED4_50UE_17C  \n",
       "4        MIT9312 סיכום עקומות גדילה.xlsx       9312_10UE_17C  \n",
       "3        MIT9312 סיכום עקומות גדילה.xlsx       9312_50UE_17C  \n",
       "43       MIT9312 סיכום עקומות גדילה.xlsx   9312_10UE_20C_1A3  \n",
       "4        MIT9313 סיכום עקומות גדילה.xlsx       9313_10UE_17C  \n",
       "43       MIT9313 סיכום עקומות גדילה.xlsx   9313_10UE_20C_1A3  \n",
       "4           NATL סיכום עקומות גדילה.xlsx       NATL_10UE_17C  \n",
       "39          NATL סיכום עקומות גדילה.xlsx       NATL_10UE_20C  \n",
       "39          NATL סיכום עקומות גדילה.xlsx       NATL_50UE_20C  \n",
       "43          NATL סיכום עקומות גדילה.xlsx      NATL_100UE_20C  \n",
       "39          NATL סיכום עקומות גדילה.xlsx   NATL_10UE_20C_1A3  \n",
       "35          NATL סיכום עקומות גדילה.xlsx  NATL_100UE_20C_1A3  \n",
       "5         WH8102 סיכום עקומות גדילה.xlsx       8102_10UE_17C  \n",
       "2         WH8102 סיכום עקומות גדילה.xlsx       8102_50UE_17C  \n",
       "47        WH8102 סיכום עקומות גדילה.xlsx   8102_10UE_20C_1A3  "
      ]
     },
     "execution_count": 37,
     "metadata": {},
     "output_type": "execute_result"
    }
   ],
   "source": [
    "df.loc[df.FL.isna()]"
   ]
  },
  {
   "cell_type": "code",
   "execution_count": 38,
   "metadata": {},
   "outputs": [],
   "source": [
    "def calculate_lag(d):\n",
    "    minday_fl_threshold = 0.1\n",
    "    r2_threshold = 0.9\n",
    "    reg = None \n",
    "    intercept = None\n",
    "    coef = None\n",
    "    r2 = -1000 \n",
    "    L = None\n",
    "    maxday = None\n",
    "    maxFL = None\n",
    "\n",
    "    d = d.reset_index(drop=True)\n",
    "    if d.shape[0] > 2:\n",
    "        maxindex = d.FL.idxmax()\n",
    "        maxday = d.loc[maxindex]['day']\n",
    "        maxFL = d.loc[maxindex]['FL']\n",
    "        minday = d.loc[(d.day < maxday) & (d.FL <= minday_fl_threshold), 'day'].max()\n",
    "        if minday is np.NaN:\n",
    "            minday = d.day.min()\n",
    "\n",
    "        minday = min(maxday-7,minday)\n",
    "        dfit = d.loc[(d.day > minday) & (d.day <= maxday)]\n",
    "        if dfit.shape[0] > 2:\n",
    "            reg, intercept, coef, r2 = cp.fit_regression(dfit, 'day', 'logFL')\n",
    "\n",
    "            L = maxday - ((d.loc[maxindex]['logFL'] - d.loc[0]['logFL']) / coef)\n",
    "    return pd.Series({\n",
    "         'maxday' : maxday,\n",
    "#         'minday' : minday,\n",
    "         'maxFL' : maxFL,\n",
    "#         'logFL0' : d.loc[0]['logFL'],\n",
    "#         'log10FL0' : np.log10(d.loc[0]['FL']),\n",
    "        'intercept': intercept,\n",
    "        'Growth Rate': coef,\n",
    "        'r2': r2,\n",
    "        'Lag' : L,\n",
    "    })\n",
    "\n",
    "def get_prev_max_day_df(d, minmaxday_threshold):\n",
    "    d = d.reset_index(drop=True)\n",
    "    if d.shape[0] < 3:\n",
    "        return None\n",
    "    \n",
    "    maxindex = d.FL.idxmax()\n",
    "    maxday = d.loc[maxindex]['day']\n",
    "    maxdaysdf = d.loc[(d.FL > d.FL.shift()) & (d.FL > d.FL.shift(-1)) & \n",
    "                    (d.day < maxday)].reset_index(drop=True)\n",
    "    if maxdaysdf.shape[0] > 0:\n",
    "        newmaxindex = maxdaysdf.FL.idxmax()\n",
    "        newmaxday = maxdaysdf.loc[newmaxindex]['day']\n",
    "\n",
    "        if ((newmaxday is not np.NaN) and #(newmaxday >= minmaxday_threshold) and \n",
    "            (d.loc[d.day == newmaxday, 'FL'].max() > (d.FL.max() / 2))):\n",
    "            df_prevmax = d.loc[d.day < newmaxday]\n",
    "            return df_prevmax\n",
    "    return None\n",
    "\n",
    "def get_no_outlier_df(d, minday_fl_threshold):\n",
    "    d_no_outlier = d.loc[(d.FL > minday_fl_threshold) | \n",
    "                         (d.FL.shift() < minday_fl_threshold*2) |\n",
    "                         (d.FL.shift(-1) < minday_fl_threshold*2)\n",
    "                        ]\n",
    "    return d_no_outlier\n",
    "\n",
    "def get_without_max_df(d):\n",
    "    d = d.reset_index(drop=True)\n",
    "    maxindex = d.FL.idxmax()\n",
    "    maxday = d.loc[maxindex]['day']\n",
    "    d_withoutmaxday = d.loc[d.day < maxday]\n",
    "    return d_withoutmaxday\n",
    "\n",
    "def get_df_list(d, minday_fl_threshold, minmaxday_threshold):\n",
    "    df_list = [d]\n",
    "    try:\n",
    "        dnomax = get_without_max_df(d)\n",
    "        df_list.append(dnomax)\n",
    "        dnomax2 = get_without_max_df(dnomax)\n",
    "        df_list.append(dnomax2)\n",
    "        df_list1 = df_list.copy()\n",
    "        for x in df_list1:\n",
    "            df_list.append(get_no_outlier_df(x, minday_fl_threshold))\n",
    "    except Exception:\n",
    "        pass\n",
    "\n",
    "    return df_list\n",
    "\n",
    "def calculate_lag_wrap(d):\n",
    "    minday_fl_threshold = 0.07\n",
    "    minmaxday_threshold = 4\n",
    "    df_list = get_df_list(d, minday_fl_threshold, minmaxday_threshold)\n",
    "    d2 = get_prev_max_day_df(d,minmaxday_threshold)\n",
    "    if d2 is not None:\n",
    "        df_list.extend(get_df_list(d2, minday_fl_threshold, minmaxday_threshold))\n",
    "    reslist = [calculate_lag(x) for x in df_list]\n",
    "\n",
    "    sorted_reslist = sorted(reslist, key=lambda x : x['r2'], reverse=True)\n",
    "    print('.', end='')\n",
    "    return sorted_reslist[0]           "
   ]
  },
  {
   "cell_type": "code",
   "execution_count": 39,
   "metadata": {},
   "outputs": [],
   "source": [
    "def computeL(maxday, maxlogcells, logcells0, coef):\n",
    "    L = maxday - ((maxlogcells - logcells0) / coef)\n",
    "    return L\n"
   ]
  },
  {
   "cell_type": "code",
   "execution_count": 40,
   "metadata": {},
   "outputs": [],
   "source": [
    "def computeMaxDay(maxlogcells, logcells0, coef, L):\n",
    "    maxday = ((maxlogcells - logcells0) / coef) + L\n",
    "    return maxday\n"
   ]
  },
  {
   "cell_type": "raw",
   "metadata": {},
   "source": [
    "ln(Nt) = u * d + intercept\n",
    "\n",
    "intercept = ln(N0)\n",
    "ln(Nt) = u * d + ln(N0)\n",
    "\n",
    "d = (ln(Nt) - ln(N0)) u\n",
    "\n",
    "deltad = maxday - d\n",
    "\n",
    "\n"
   ]
  },
  {
   "cell_type": "code",
   "execution_count": 41,
   "metadata": {},
   "outputs": [
    {
     "data": {
      "text/plain": [
       "Index(['experiment', 'FL', 'day', 'excelfile', 'sheet'], dtype='object', name='colname')"
      ]
     },
     "execution_count": 41,
     "metadata": {},
     "output_type": "execute_result"
    }
   ],
   "source": [
    "df.columns"
   ]
  },
  {
   "cell_type": "code",
   "execution_count": 42,
   "metadata": {},
   "outputs": [],
   "source": [
    "df.dropna(axis=0, subset=['FL'], inplace=True)"
   ]
  },
  {
   "cell_type": "code",
   "execution_count": 43,
   "metadata": {},
   "outputs": [
    {
     "name": "stderr",
     "output_type": "stream",
     "text": [
      "C:\\Users\\wosnat\\Anaconda3\\lib\\site-packages\\pandas\\core\\series.py:853: RuntimeWarning: divide by zero encountered in log\n",
      "  result = getattr(ufunc, method)(*inputs, **kwargs)\n"
     ]
    }
   ],
   "source": [
    "df['logFL'] = np.log(df['FL'])"
   ]
  },
  {
   "cell_type": "code",
   "execution_count": 44,
   "metadata": {},
   "outputs": [
    {
     "data": {
      "text/plain": [
       "colname\n",
       "experiment    0\n",
       "FL            0\n",
       "day           0\n",
       "excelfile     0\n",
       "sheet         0\n",
       "logFL         0\n",
       "dtype: int64"
      ]
     },
     "execution_count": 44,
     "metadata": {},
     "output_type": "execute_result"
    }
   ],
   "source": [
    "df.isna().sum()"
   ]
  },
  {
   "cell_type": "code",
   "execution_count": 45,
   "metadata": {},
   "outputs": [
    {
     "data": {
      "text/html": [
       "<div>\n",
       "<style scoped>\n",
       "    .dataframe tbody tr th:only-of-type {\n",
       "        vertical-align: middle;\n",
       "    }\n",
       "\n",
       "    .dataframe tbody tr th {\n",
       "        vertical-align: top;\n",
       "    }\n",
       "\n",
       "    .dataframe thead th {\n",
       "        text-align: right;\n",
       "    }\n",
       "</style>\n",
       "<table border=\"1\" class=\"dataframe\">\n",
       "  <thead>\n",
       "    <tr style=\"text-align: right;\">\n",
       "      <th>colname</th>\n",
       "      <th>experiment</th>\n",
       "      <th>FL</th>\n",
       "      <th>day</th>\n",
       "      <th>excelfile</th>\n",
       "      <th>sheet</th>\n",
       "      <th>logFL</th>\n",
       "    </tr>\n",
       "  </thead>\n",
       "  <tbody>\n",
       "  </tbody>\n",
       "</table>\n",
       "</div>"
      ],
      "text/plain": [
       "Empty DataFrame\n",
       "Columns: [experiment, FL, day, excelfile, sheet, logFL]\n",
       "Index: []"
      ]
     },
     "execution_count": 45,
     "metadata": {},
     "output_type": "execute_result"
    }
   ],
   "source": [
    "df.loc[df.day.isna()]"
   ]
  },
  {
   "cell_type": "code",
   "execution_count": 46,
   "metadata": {
    "scrolled": false
   },
   "outputs": [
    {
     "name": "stdout",
     "output_type": "stream",
     "text": [
      "..........................................................................................................................................................................................................................................................................................................................................................................................."
     ]
    }
   ],
   "source": [
    "lagsdf = df.groupby([ 'excelfile', 'sheet', 'experiment']).apply(calculate_lag_wrap)\\\n",
    "        .reset_index()"
   ]
  },
  {
   "cell_type": "code",
   "execution_count": 47,
   "metadata": {
    "scrolled": true
   },
   "outputs": [
    {
     "data": {
      "text/html": [
       "<div>\n",
       "<style scoped>\n",
       "    .dataframe tbody tr th:only-of-type {\n",
       "        vertical-align: middle;\n",
       "    }\n",
       "\n",
       "    .dataframe tbody tr th {\n",
       "        vertical-align: top;\n",
       "    }\n",
       "\n",
       "    .dataframe thead th {\n",
       "        text-align: right;\n",
       "    }\n",
       "</style>\n",
       "<table border=\"1\" class=\"dataframe\">\n",
       "  <thead>\n",
       "    <tr style=\"text-align: right;\">\n",
       "      <th></th>\n",
       "      <th>excelfile</th>\n",
       "      <th>sheet</th>\n",
       "      <th>experiment</th>\n",
       "      <th>maxday</th>\n",
       "      <th>maxFL</th>\n",
       "      <th>intercept</th>\n",
       "      <th>Growth Rate</th>\n",
       "      <th>r2</th>\n",
       "      <th>Lag</th>\n",
       "    </tr>\n",
       "  </thead>\n",
       "  <tbody>\n",
       "    <tr>\n",
       "      <th>0</th>\n",
       "      <td>MED4 סיכום עקומות גדילה.xlsx</td>\n",
       "      <td>MED4_100UE_17C</td>\n",
       "      <td>MED4_100UE_17C 13.7</td>\n",
       "      <td>5.872222</td>\n",
       "      <td>2.203</td>\n",
       "      <td>-1.784376</td>\n",
       "      <td>0.448097</td>\n",
       "      <td>0.994012</td>\n",
       "      <td>-0.008153</td>\n",
       "    </tr>\n",
       "    <tr>\n",
       "      <th>1</th>\n",
       "      <td>MED4 סיכום עקומות גדילה.xlsx</td>\n",
       "      <td>MED4_100UE_17C</td>\n",
       "      <td>MED4_100UE_17C 19.7</td>\n",
       "      <td>3.113889</td>\n",
       "      <td>1.101</td>\n",
       "      <td>-1.591101</td>\n",
       "      <td>0.558810</td>\n",
       "      <td>0.992691</td>\n",
       "      <td>0.034540</td>\n",
       "    </tr>\n",
       "    <tr>\n",
       "      <th>2</th>\n",
       "      <td>MED4 סיכום עקומות גדילה.xlsx</td>\n",
       "      <td>MED4_100UE_17C</td>\n",
       "      <td>MED4_100UE_17C 21.6</td>\n",
       "      <td>2.907639</td>\n",
       "      <td>0.833</td>\n",
       "      <td>-1.855727</td>\n",
       "      <td>0.578663</td>\n",
       "      <td>0.944086</td>\n",
       "      <td>-0.199141</td>\n",
       "    </tr>\n",
       "    <tr>\n",
       "      <th>3</th>\n",
       "      <td>MED4 סיכום עקומות גדילה.xlsx</td>\n",
       "      <td>MED4_100UE_17C</td>\n",
       "      <td>MED4_100UE_17C 28.6</td>\n",
       "      <td>3.043750</td>\n",
       "      <td>1.045</td>\n",
       "      <td>-2.077794</td>\n",
       "      <td>0.717871</td>\n",
       "      <td>0.994077</td>\n",
       "      <td>0.040451</td>\n",
       "    </tr>\n",
       "    <tr>\n",
       "      <th>4</th>\n",
       "      <td>MED4 סיכום עקומות גדילה.xlsx</td>\n",
       "      <td>MED4_100UE_20C</td>\n",
       "      <td>MED4_100UE_20C 10.5</td>\n",
       "      <td>6.256944</td>\n",
       "      <td>1.516</td>\n",
       "      <td>-1.460676</td>\n",
       "      <td>0.343780</td>\n",
       "      <td>0.918491</td>\n",
       "      <td>0.465122</td>\n",
       "    </tr>\n",
       "  </tbody>\n",
       "</table>\n",
       "</div>"
      ],
      "text/plain": [
       "                      excelfile           sheet           experiment  \\\n",
       "0  MED4 סיכום עקומות גדילה.xlsx  MED4_100UE_17C  MED4_100UE_17C 13.7   \n",
       "1  MED4 סיכום עקומות גדילה.xlsx  MED4_100UE_17C  MED4_100UE_17C 19.7   \n",
       "2  MED4 סיכום עקומות גדילה.xlsx  MED4_100UE_17C  MED4_100UE_17C 21.6   \n",
       "3  MED4 סיכום עקומות גדילה.xlsx  MED4_100UE_17C  MED4_100UE_17C 28.6   \n",
       "4  MED4 סיכום עקומות גדילה.xlsx  MED4_100UE_20C  MED4_100UE_20C 10.5   \n",
       "\n",
       "     maxday  maxFL  intercept  Growth Rate        r2       Lag  \n",
       "0  5.872222  2.203  -1.784376     0.448097  0.994012 -0.008153  \n",
       "1  3.113889  1.101  -1.591101     0.558810  0.992691  0.034540  \n",
       "2  2.907639  0.833  -1.855727     0.578663  0.944086 -0.199141  \n",
       "3  3.043750  1.045  -2.077794     0.717871  0.994077  0.040451  \n",
       "4  6.256944  1.516  -1.460676     0.343780  0.918491  0.465122  "
      ]
     },
     "execution_count": 47,
     "metadata": {},
     "output_type": "execute_result"
    }
   ],
   "source": [
    "lagsdf.head()"
   ]
  },
  {
   "cell_type": "code",
   "execution_count": 48,
   "metadata": {},
   "outputs": [],
   "source": [
    "lagsdf.to_excel('anat_growth_rates.xlsx')"
   ]
  },
  {
   "cell_type": "code",
   "execution_count": 49,
   "metadata": {},
   "outputs": [
    {
     "data": {
      "text/html": [
       "<div>\n",
       "<style scoped>\n",
       "    .dataframe tbody tr th:only-of-type {\n",
       "        vertical-align: middle;\n",
       "    }\n",
       "\n",
       "    .dataframe tbody tr th {\n",
       "        vertical-align: top;\n",
       "    }\n",
       "\n",
       "    .dataframe thead th {\n",
       "        text-align: right;\n",
       "    }\n",
       "</style>\n",
       "<table border=\"1\" class=\"dataframe\">\n",
       "  <thead>\n",
       "    <tr style=\"text-align: right;\">\n",
       "      <th></th>\n",
       "      <th>maxday</th>\n",
       "      <th>maxFL</th>\n",
       "      <th>intercept</th>\n",
       "      <th>Growth Rate</th>\n",
       "      <th>r2</th>\n",
       "      <th>Lag</th>\n",
       "    </tr>\n",
       "  </thead>\n",
       "  <tbody>\n",
       "    <tr>\n",
       "      <th>count</th>\n",
       "      <td>379.000000</td>\n",
       "      <td>379.000000</td>\n",
       "      <td>367.000000</td>\n",
       "      <td>367.000000</td>\n",
       "      <td>379.000000</td>\n",
       "      <td>367.000000</td>\n",
       "    </tr>\n",
       "    <tr>\n",
       "      <th>mean</th>\n",
       "      <td>7.005207</td>\n",
       "      <td>2.462773</td>\n",
       "      <td>-1.426496</td>\n",
       "      <td>0.354199</td>\n",
       "      <td>-30.722508</td>\n",
       "      <td>-inf</td>\n",
       "    </tr>\n",
       "    <tr>\n",
       "      <th>std</th>\n",
       "      <td>4.130141</td>\n",
       "      <td>1.937544</td>\n",
       "      <td>1.083278</td>\n",
       "      <td>0.181911</td>\n",
       "      <td>175.500940</td>\n",
       "      <td>NaN</td>\n",
       "    </tr>\n",
       "    <tr>\n",
       "      <th>min</th>\n",
       "      <td>0.000000</td>\n",
       "      <td>0.149000</td>\n",
       "      <td>-6.344043</td>\n",
       "      <td>0.029658</td>\n",
       "      <td>-1000.000000</td>\n",
       "      <td>-inf</td>\n",
       "    </tr>\n",
       "    <tr>\n",
       "      <th>25%</th>\n",
       "      <td>3.703472</td>\n",
       "      <td>0.914500</td>\n",
       "      <td>-2.142174</td>\n",
       "      <td>0.232353</td>\n",
       "      <td>0.966555</td>\n",
       "      <td>-0.077486</td>\n",
       "    </tr>\n",
       "    <tr>\n",
       "      <th>50%</th>\n",
       "      <td>6.820833</td>\n",
       "      <td>1.911000</td>\n",
       "      <td>-1.455617</td>\n",
       "      <td>0.328204</td>\n",
       "      <td>0.987135</td>\n",
       "      <td>0.040451</td>\n",
       "    </tr>\n",
       "    <tr>\n",
       "      <th>75%</th>\n",
       "      <td>9.127778</td>\n",
       "      <td>3.679500</td>\n",
       "      <td>-0.672281</td>\n",
       "      <td>0.441964</td>\n",
       "      <td>0.995229</td>\n",
       "      <td>0.432859</td>\n",
       "    </tr>\n",
       "    <tr>\n",
       "      <th>max</th>\n",
       "      <td>21.962500</td>\n",
       "      <td>9.072000</td>\n",
       "      <td>1.387176</td>\n",
       "      <td>1.043177</td>\n",
       "      <td>1.000000</td>\n",
       "      <td>10.228003</td>\n",
       "    </tr>\n",
       "  </tbody>\n",
       "</table>\n",
       "</div>"
      ],
      "text/plain": [
       "           maxday       maxFL   intercept  Growth Rate           r2  \\\n",
       "count  379.000000  379.000000  367.000000   367.000000   379.000000   \n",
       "mean     7.005207    2.462773   -1.426496     0.354199   -30.722508   \n",
       "std      4.130141    1.937544    1.083278     0.181911   175.500940   \n",
       "min      0.000000    0.149000   -6.344043     0.029658 -1000.000000   \n",
       "25%      3.703472    0.914500   -2.142174     0.232353     0.966555   \n",
       "50%      6.820833    1.911000   -1.455617     0.328204     0.987135   \n",
       "75%      9.127778    3.679500   -0.672281     0.441964     0.995229   \n",
       "max     21.962500    9.072000    1.387176     1.043177     1.000000   \n",
       "\n",
       "              Lag  \n",
       "count  367.000000  \n",
       "mean         -inf  \n",
       "std           NaN  \n",
       "min          -inf  \n",
       "25%     -0.077486  \n",
       "50%      0.040451  \n",
       "75%      0.432859  \n",
       "max     10.228003  "
      ]
     },
     "execution_count": 49,
     "metadata": {},
     "output_type": "execute_result"
    }
   ],
   "source": [
    "lagsdf.describe()"
   ]
  },
  {
   "cell_type": "code",
   "execution_count": 50,
   "metadata": {},
   "outputs": [
    {
     "data": {
      "text/plain": [
       "-1000.000000    12\n",
       " 0.994948        2\n",
       " 0.992691        2\n",
       " 0.947788        1\n",
       " 0.991120        1\n",
       "                ..\n",
       " 0.994306        1\n",
       " 0.977541        1\n",
       " 0.995851        1\n",
       " 0.985112        1\n",
       " 0.963825        1\n",
       "Name: r2, Length: 366, dtype: int64"
      ]
     },
     "execution_count": 50,
     "metadata": {},
     "output_type": "execute_result"
    }
   ],
   "source": [
    "lagsdf.r2.value_counts()"
   ]
  },
  {
   "cell_type": "code",
   "execution_count": 51,
   "metadata": {},
   "outputs": [
    {
     "data": {
      "text/plain": [
       "excelfile                                r2          \n",
       "MED4 סיכום עקומות גדילה.xlsx             -1000.000000    1\n",
       "                                          0.865814       1\n",
       "                                          0.918491       1\n",
       "                                          0.944086       1\n",
       "                                          0.957135       1\n",
       "                                                        ..\n",
       "קצב גדילה ניסויי זמנים (version 1).xlsx   0.993473       1\n",
       "                                          0.995640       1\n",
       "                                          0.999253       1\n",
       "                                          0.999829       1\n",
       "                                          0.999993       1\n",
       "Name: r2, Length: 372, dtype: int64"
      ]
     },
     "execution_count": 51,
     "metadata": {},
     "output_type": "execute_result"
    }
   ],
   "source": [
    "lagsdf.groupby('excelfile')['r2'].value_counts()"
   ]
  },
  {
   "cell_type": "code",
   "execution_count": null,
   "metadata": {},
   "outputs": [],
   "source": []
  }
 ],
 "metadata": {
  "kernelspec": {
   "display_name": "Python 3",
   "language": "python",
   "name": "python3"
  },
  "language_info": {
   "codemirror_mode": {
    "name": "ipython",
    "version": 3
   },
   "file_extension": ".py",
   "mimetype": "text/x-python",
   "name": "python",
   "nbconvert_exporter": "python",
   "pygments_lexer": "ipython3",
   "version": "3.7.1"
  }
 },
 "nbformat": 4,
 "nbformat_minor": 2
}
