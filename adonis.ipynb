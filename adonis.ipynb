{
 "cells": [
  {
   "cell_type": "code",
   "execution_count": 24,
   "id": "9155ad78",
   "metadata": {},
   "outputs": [],
   "source": [
    "library(vegan)"
   ]
  },
  {
   "cell_type": "code",
   "execution_count": 25,
   "id": "e88dfe80",
   "metadata": {},
   "outputs": [
    {
     "data": {
      "text/plain": [
       "R version 3.6.1 (2019-07-05)\n",
       "Platform: x86_64-w64-mingw32/x64 (64-bit)\n",
       "Running under: Windows 10 x64 (build 19043)\n",
       "\n",
       "Matrix products: default\n",
       "\n",
       "locale:\n",
       "[1] LC_COLLATE=English_United States.1252 \n",
       "[2] LC_CTYPE=English_United States.1252   \n",
       "[3] LC_MONETARY=English_United States.1252\n",
       "[4] LC_NUMERIC=C                          \n",
       "[5] LC_TIME=English_United States.1252    \n",
       "\n",
       "attached base packages:\n",
       "[1] stats     graphics  grDevices utils     datasets  methods   base     \n",
       "\n",
       "other attached packages:\n",
       "[1] vegan_2.5-7     lattice_0.20-41 permute_0.9-5  \n",
       "\n",
       "loaded via a namespace (and not attached):\n",
       " [1] digest_0.6.27   crayon_1.3.4    MASS_7.3-53     IRdisplay_0.7.0\n",
       " [5] repr_0.19.2     grid_3.6.1      nlme_3.1-151    jsonlite_1.7.2 \n",
       " [9] evaluate_0.14   rlang_0.4.10    uuid_0.1-2      Matrix_1.3-2   \n",
       "[13] IRkernel_0.8.15 splines_3.6.1   tools_3.6.1     parallel_3.6.1 \n",
       "[17] compiler_3.6.1  base64enc_0.1-3 cluster_2.1.0   mgcv_1.8-33    \n",
       "[21] htmltools_0.5.1 pbdZMQ_0.3-3   "
      ]
     },
     "metadata": {},
     "output_type": "display_data"
    }
   ],
   "source": [
    "sessionInfo()"
   ]
  },
  {
   "cell_type": "code",
   "execution_count": 26,
   "id": "e8dff0c7",
   "metadata": {},
   "outputs": [
    {
     "name": "stdout",
     "output_type": "stream",
     "text": [
      "Permutation test for adonis under reduced model\n",
      "Terms added sequentially (first to last)\n",
      "Permutation: free\n",
      "Number of permutations: 999\n",
      "\n",
      "adonis2(formula = e1_X ~ e1_meta$PRO, permutations = 999, method = \"euclidian\")\n",
      "            Df SumOfSqs      R2      F Pr(>F)    \n",
      "e1_meta$PRO  4  3841149 0.82551 80.425  0.001 ***\n",
      "Residual    68   811930 0.17449                  \n",
      "Total       72  4653079 1.00000                  \n",
      "---\n",
      "Signif. codes:  0 '***' 0.001 '**' 0.01 '*' 0.05 '.' 0.1 ' ' 1\n",
      "Permutation test for adonis under reduced model\n",
      "Terms added sequentially (first to last)\n",
      "Permutation: free\n",
      "Number of permutations: 999\n",
      "\n",
      "adonis2(formula = e1_X ~ e1_meta$ALT, permutations = 999, method = \"euclidian\")\n",
      "            Df SumOfSqs      R2      F Pr(>F)\n",
      "e1_meta$ALT  4   422257 0.09075 1.6967   0.17\n",
      "Residual    68  4230822 0.90925              \n",
      "Total       72  4653079 1.00000              \n"
     ]
    }
   ],
   "source": [
    "e1_X <- read.csv(file = 'adonis/pca_e1_X.csv', row.names='experiment_sample')\n",
    "e1_meta <- read.csv(file = 'adonis/pca_e1_meta.csv', row.names='experiment_sample', stringsAsFactors=TRUE)\n",
    "\n",
    "print(adonis2(e1_X~ e1_meta$PRO,method = \"euclidian\", permutations = 999) )\n",
    "print(adonis2(e1_X~ e1_meta$ALT,method = \"euclidian\", permutations = 999) )\n"
   ]
  },
  {
   "cell_type": "code",
   "execution_count": 19,
   "id": "0071ae89",
   "metadata": {},
   "outputs": [
    {
     "name": "stdout",
     "output_type": "stream",
     "text": [
      "Permutation test for adonis under reduced model\n",
      "Terms added sequentially (first to last)\n",
      "Permutation: free\n",
      "Number of permutations: 999\n",
      "\n",
      "adonis2(formula = e3_X ~ e3_meta$PRO, permutations = 999, method = \"euclidian\")\n",
      "            Df SumOfSqs     R2      F Pr(>F)    \n",
      "e3_meta$PRO  4   381442 0.6808 34.125  0.001 ***\n",
      "Residual    64   178846 0.3192                  \n",
      "Total       68   560289 1.0000                  \n",
      "---\n",
      "Signif. codes:  0 '***' 0.001 '**' 0.01 '*' 0.05 '.' 0.1 ' ' 1\n",
      "Permutation test for adonis under reduced model\n",
      "Terms added sequentially (first to last)\n",
      "Permutation: free\n",
      "Number of permutations: 999\n",
      "\n",
      "adonis2(formula = e3_X ~ e3_meta$ALT, permutations = 999, method = \"euclidian\")\n",
      "            Df SumOfSqs      R2      F Pr(>F)\n",
      "e3_meta$ALT  4    55483 0.09903 1.7585  0.142\n",
      "Residual    64   504806 0.90097              \n",
      "Total       68   560289 1.00000              \n"
     ]
    }
   ],
   "source": [
    "e3_X <- read.csv(file = 'adonis/pca_e3_X.csv', row.names='experiment_sample')\n",
    "e3_meta <- read.csv(file = 'adonis/pca_e3_meta.csv', row.names='experiment_sample', stringsAsFactors=TRUE)\n",
    "\n",
    "print(adonis2(e3_X~ e3_meta$PRO,method = \"euclidian\", permutations = 999) )\n",
    "print(adonis2(e3_X~ e3_meta$ALT,method = \"euclidian\", permutations = 999) )\n"
   ]
  },
  {
   "cell_type": "code",
   "execution_count": 20,
   "id": "ef766ab9",
   "metadata": {},
   "outputs": [
    {
     "name": "stdout",
     "output_type": "stream",
     "text": [
      "Permutation test for adonis under reduced model\n",
      "Terms added sequentially (first to last)\n",
      "Permutation: free\n",
      "Number of permutations: 999\n",
      "\n",
      "adonis2(formula = e4_X ~ e4_meta$PRO, permutations = 999, method = \"euclidian\")\n",
      "            Df SumOfSqs      R2      F Pr(>F)    \n",
      "e4_meta$PRO  4   330546 0.84927 94.373  0.001 ***\n",
      "Residual    67    58667 0.15073                  \n",
      "Total       71   389213 1.00000                  \n",
      "---\n",
      "Signif. codes:  0 '***' 0.001 '**' 0.01 '*' 0.05 '.' 0.1 ' ' 1\n",
      "Permutation test for adonis under reduced model\n",
      "Terms added sequentially (first to last)\n",
      "Permutation: free\n",
      "Number of permutations: 999\n",
      "\n",
      "adonis2(formula = e4_X ~ e4_meta$ALT, permutations = 999, method = \"euclidian\")\n",
      "            Df SumOfSqs      R2      F Pr(>F)\n",
      "e4_meta$ALT  4     8333 0.02141 0.3665  0.862\n",
      "Residual    67   380880 0.97859              \n",
      "Total       71   389213 1.00000              \n"
     ]
    }
   ],
   "source": [
    "e4_X <- read.csv(file = 'adonis/pca_e4_X.csv', row.names='experiment_sample')\n",
    "e4_meta <- read.csv(file = 'adonis/pca_e4_meta.csv', row.names='experiment_sample', stringsAsFactors=TRUE)\n",
    "\n",
    "print(adonis2(e4_X~ e4_meta$PRO,method = \"euclidian\", permutations = 999) )\n",
    "print(adonis2(e4_X~ e4_meta$ALT,method = \"euclidian\", permutations = 999) )\n"
   ]
  },
  {
   "cell_type": "code",
   "execution_count": 21,
   "id": "bc3281d6",
   "metadata": {},
   "outputs": [
    {
     "name": "stdout",
     "output_type": "stream",
     "text": [
      "Permutation test for adonis under reduced model\n",
      "Terms added sequentially (first to last)\n",
      "Permutation: free\n",
      "Number of permutations: 999\n",
      "\n",
      "adonis2(formula = e5_X ~ e5_meta$PRO, permutations = 999, method = \"euclidian\")\n",
      "            Df SumOfSqs      R2      F Pr(>F)    \n",
      "e5_meta$PRO  4   173792 0.61483 23.545  0.001 ***\n",
      "Residual    59   108874 0.38517                  \n",
      "Total       63   282666 1.00000                  \n",
      "---\n",
      "Signif. codes:  0 '***' 0.001 '**' 0.01 '*' 0.05 '.' 0.1 ' ' 1\n",
      "Permutation test for adonis under reduced model\n",
      "Terms added sequentially (first to last)\n",
      "Permutation: free\n",
      "Number of permutations: 999\n",
      "\n",
      "adonis2(formula = e5_X ~ e5_meta$ALT, permutations = 999, method = \"euclidian\")\n",
      "            Df SumOfSqs      R2      F Pr(>F)\n",
      "e5_meta$ALT  4     2926 0.01035 0.1543   0.99\n",
      "Residual    59   279740 0.98965              \n",
      "Total       63   282666 1.00000              \n"
     ]
    }
   ],
   "source": [
    "e5_X <- read.csv(file = 'adonis/pca_e5_X.csv', row.names='experiment_sample')\n",
    "e5_meta <- read.csv(file = 'adonis/pca_e5_meta.csv', row.names='experiment_sample', stringsAsFactors=TRUE)\n",
    "\n",
    "print(adonis2(e5_X~ e5_meta$PRO,method = \"euclidian\", permutations = 999) )\n",
    "print(adonis2(e5_X~ e5_meta$ALT,method = \"euclidian\", permutations = 999) )\n"
   ]
  },
  {
   "cell_type": "code",
   "execution_count": 22,
   "id": "c85cf56d",
   "metadata": {},
   "outputs": [
    {
     "name": "stdout",
     "output_type": "stream",
     "text": [
      "Permutation test for adonis under reduced model\n",
      "Terms added sequentially (first to last)\n",
      "Permutation: free\n",
      "Number of permutations: 999\n",
      "\n",
      "adonis2(formula = e6_X ~ e6_meta$PRO, permutations = 999, method = \"euclidian\")\n",
      "            Df SumOfSqs      R2      F Pr(>F)    \n",
      "e6_meta$PRO  4    62353 0.73138 40.841  0.001 ***\n",
      "Residual    60    22901 0.26862                  \n",
      "Total       64    85254 1.00000                  \n",
      "---\n",
      "Signif. codes:  0 '***' 0.001 '**' 0.01 '*' 0.05 '.' 0.1 ' ' 1\n",
      "Permutation test for adonis under reduced model\n",
      "Terms added sequentially (first to last)\n",
      "Permutation: free\n",
      "Number of permutations: 999\n",
      "\n",
      "adonis2(formula = e6_X ~ e6_meta$ALT, permutations = 999, method = \"euclidian\")\n",
      "            Df SumOfSqs      R2      F Pr(>F)\n",
      "e6_meta$ALT  4     7831 0.09185 1.5171  0.195\n",
      "Residual    60    77423 0.90815              \n",
      "Total       64    85254 1.00000              \n"
     ]
    }
   ],
   "source": [
    "e6_X <- read.csv(file = 'adonis/pca_e6_X.csv', row.names='experiment_sample')\n",
    "e6_meta <- read.csv(file = 'adonis/pca_e6_meta.csv', row.names='experiment_sample', stringsAsFactors=TRUE)\n",
    "\n",
    "print(adonis2(e6_X~ e6_meta$PRO,method = \"euclidian\", permutations = 999) )\n",
    "print(adonis2(e6_X~ e6_meta$ALT,method = \"euclidian\", permutations = 999) )\n"
   ]
  },
  {
   "cell_type": "code",
   "execution_count": 27,
   "id": "ff0585b7",
   "metadata": {},
   "outputs": [
    {
     "data": {
      "text/html": [
       "<table>\n",
       "<thead><tr><th scope=col>X</th><th scope=col>PRO</th><th scope=col>ALT</th><th scope=col>sample</th><th scope=col>PRO.1</th><th scope=col>ALT.1</th><th scope=col>experiment</th><th scope=col>day</th><th scope=col>FL</th><th scope=col>PA</th></tr></thead>\n",
       "<tbody>\n",
       "\t<tr><td>0          </td><td>MED4       </td><td>1A3        </td><td>1A         </td><td> 7485642.3 </td><td>29923510   </td><td>exp1       </td><td>100        </td><td>0.356      </td><td>MED4,1A3   </td></tr>\n",
       "\t<tr><td>1          </td><td>MED4       </td><td>1A3        </td><td>1B         </td><td> 6720906.8 </td><td>21597642   </td><td>exp1       </td><td>100        </td><td>0.403      </td><td>MED4,1A3   </td></tr>\n",
       "\t<tr><td>2          </td><td>MED4       </td><td>1A3        </td><td>1C         </td><td>11213350.1 </td><td>17420563   </td><td>exp1       </td><td>100        </td><td>0.626      </td><td>MED4,1A3   </td></tr>\n",
       "\t<tr><td>3          </td><td>MIT9313    </td><td>1A3        </td><td>2A         </td><td> 1415617.1 </td><td> 5134250   </td><td>exp1       </td><td>100        </td><td>0.101      </td><td>MIT9313,1A3</td></tr>\n",
       "\t<tr><td>4          </td><td>MIT9313    </td><td>1A3        </td><td>2B         </td><td> 1018639.8 </td><td> 4885134   </td><td>exp1       </td><td>100        </td><td>0.050      </td><td>MIT9313,1A3</td></tr>\n",
       "\t<tr><td>5          </td><td>MIT9313    </td><td>1A3        </td><td>2C         </td><td>  973047.9 </td><td> 4232613   </td><td>exp1       </td><td>100        </td><td>0.155      </td><td>MIT9313,1A3</td></tr>\n",
       "</tbody>\n",
       "</table>\n"
      ],
      "text/latex": [
       "\\begin{tabular}{r|llllllllll}\n",
       " X & PRO & ALT & sample & PRO.1 & ALT.1 & experiment & day & FL & PA\\\\\n",
       "\\hline\n",
       "\t 0           & MED4        & 1A3         & 1A          &  7485642.3  & 29923510    & exp1        & 100         & 0.356       & MED4,1A3   \\\\\n",
       "\t 1           & MED4        & 1A3         & 1B          &  6720906.8  & 21597642    & exp1        & 100         & 0.403       & MED4,1A3   \\\\\n",
       "\t 2           & MED4        & 1A3         & 1C          & 11213350.1  & 17420563    & exp1        & 100         & 0.626       & MED4,1A3   \\\\\n",
       "\t 3           & MIT9313     & 1A3         & 2A          &  1415617.1  &  5134250    & exp1        & 100         & 0.101       & MIT9313,1A3\\\\\n",
       "\t 4           & MIT9313     & 1A3         & 2B          &  1018639.8  &  4885134    & exp1        & 100         & 0.050       & MIT9313,1A3\\\\\n",
       "\t 5           & MIT9313     & 1A3         & 2C          &   973047.9  &  4232613    & exp1        & 100         & 0.155       & MIT9313,1A3\\\\\n",
       "\\end{tabular}\n"
      ],
      "text/markdown": [
       "\n",
       "| X | PRO | ALT | sample | PRO.1 | ALT.1 | experiment | day | FL | PA |\n",
       "|---|---|---|---|---|---|---|---|---|---|\n",
       "| 0           | MED4        | 1A3         | 1A          |  7485642.3  | 29923510    | exp1        | 100         | 0.356       | MED4,1A3    |\n",
       "| 1           | MED4        | 1A3         | 1B          |  6720906.8  | 21597642    | exp1        | 100         | 0.403       | MED4,1A3    |\n",
       "| 2           | MED4        | 1A3         | 1C          | 11213350.1  | 17420563    | exp1        | 100         | 0.626       | MED4,1A3    |\n",
       "| 3           | MIT9313     | 1A3         | 2A          |  1415617.1  |  5134250    | exp1        | 100         | 0.101       | MIT9313,1A3 |\n",
       "| 4           | MIT9313     | 1A3         | 2B          |  1018639.8  |  4885134    | exp1        | 100         | 0.050       | MIT9313,1A3 |\n",
       "| 5           | MIT9313     | 1A3         | 2C          |   973047.9  |  4232613    | exp1        | 100         | 0.155       | MIT9313,1A3 |\n",
       "\n"
      ],
      "text/plain": [
       "  X PRO     ALT sample PRO.1      ALT.1    experiment day FL    PA         \n",
       "1 0 MED4    1A3 1A      7485642.3 29923510 exp1       100 0.356 MED4,1A3   \n",
       "2 1 MED4    1A3 1B      6720906.8 21597642 exp1       100 0.403 MED4,1A3   \n",
       "3 2 MED4    1A3 1C     11213350.1 17420563 exp1       100 0.626 MED4,1A3   \n",
       "4 3 MIT9313 1A3 2A      1415617.1  5134250 exp1       100 0.101 MIT9313,1A3\n",
       "5 4 MIT9313 1A3 2B      1018639.8  4885134 exp1       100 0.050 MIT9313,1A3\n",
       "6 5 MIT9313 1A3 2C       973047.9  4232613 exp1       100 0.155 MIT9313,1A3"
      ]
     },
     "metadata": {},
     "output_type": "display_data"
    }
   ],
   "source": [
    "fcm_df <- read.csv(file = 'adonis/fcm_data.csv')\n",
    "head(fcm_df)\n",
    "#print(adonis2(e6_X~ e6_meta$PRO,method = \"euclidian\", permutations = 999) )\n",
    "#print(adonis2(e6_X~ e6_meta$ALT,method = \"euclidian\", permutations = 999) )\n"
   ]
  },
  {
   "cell_type": "code",
   "execution_count": 35,
   "id": "e5ac31bc",
   "metadata": {},
   "outputs": [
    {
     "name": "stdout",
     "output_type": "stream",
     "text": [
      "Permutation test for adonis under reduced model\n",
      "Terms added sequentially (first to last)\n",
      "Permutation: free\n",
      "Number of permutations: 999\n",
      "\n",
      "adonis2(formula = df60[, c(\"PRO.1\", \"ALT.1\")] ~ df60$PRO, permutations = 999, method = \"euclidian\", na.rm = TRUE)\n",
      "         Df   SumOfSqs      R2      F Pr(>F)    \n",
      "df60$PRO  4 5.3237e+16 0.65995 32.993  0.001 ***\n",
      "Residual 68 2.7431e+16 0.34005                  \n",
      "Total    72 8.0668e+16 1.00000                  \n",
      "---\n",
      "Signif. codes:  0 '***' 0.001 '**' 0.01 '*' 0.05 '.' 0.1 ' ' 1\n",
      "Permutation test for adonis under reduced model\n",
      "Terms added sequentially (first to last)\n",
      "Permutation: free\n",
      "Number of permutations: 999\n",
      "\n",
      "adonis2(formula = df60[, c(\"PRO.1\", \"ALT.1\")] ~ df60$ALT, permutations = 999, method = \"euclidian\", na.rm = TRUE)\n",
      "         Df   SumOfSqs      R2      F Pr(>F)\n",
      "df60$ALT  4 6.9370e+15 0.08599 1.5994  0.149\n",
      "Residual 68 7.3731e+16 0.91401              \n",
      "Total    72 8.0668e+16 1.00000              \n"
     ]
    }
   ],
   "source": [
    "df60 = fcm_df[which(fcm_df$day == 60), ]\n",
    "print(adonis2(df60[,c('PRO.1', 'ALT.1')]~ df60$PRO,method = \"euclidian\", permutations = 999, na.rm=TRUE) )\n",
    "print(adonis2(df60[,c('PRO.1', 'ALT.1')]~ df60$ALT,method = \"euclidian\", permutations = 999, na.rm=TRUE) )\n"
   ]
  },
  {
   "cell_type": "code",
   "execution_count": 36,
   "id": "e512e8c6",
   "metadata": {},
   "outputs": [
    {
     "name": "stdout",
     "output_type": "stream",
     "text": [
      "Permutation test for adonis under reduced model\n",
      "Terms added sequentially (first to last)\n",
      "Permutation: free\n",
      "Number of permutations: 999\n",
      "\n",
      "adonis2(formula = df100[, c(\"PRO.1\", \"ALT.1\")] ~ df100$PRO, permutations = 999, method = \"euclidian\")\n",
      "          Df   SumOfSqs      R2     F Pr(>F)    \n",
      "df100$PRO  4 5.1059e+15 0.62826 28.73  0.001 ***\n",
      "Residual  68 3.0212e+15 0.37174                 \n",
      "Total     72 8.1270e+15 1.00000                 \n",
      "---\n",
      "Signif. codes:  0 '***' 0.001 '**' 0.01 '*' 0.05 '.' 0.1 ' ' 1\n",
      "Permutation test for adonis under reduced model\n",
      "Terms added sequentially (first to last)\n",
      "Permutation: free\n",
      "Number of permutations: 999\n",
      "\n",
      "adonis2(formula = df100[, c(\"PRO.1\", \"ALT.1\")] ~ df100$ALT, permutations = 999, method = \"euclidian\")\n",
      "          Df   SumOfSqs      R2      F Pr(>F)  \n",
      "df100$ALT  4 8.5507e+14 0.10521 1.9989  0.074 .\n",
      "Residual  68 7.2720e+15 0.89479                \n",
      "Total     72 8.1270e+15 1.00000                \n",
      "---\n",
      "Signif. codes:  0 '***' 0.001 '**' 0.01 '*' 0.05 '.' 0.1 ' ' 1\n"
     ]
    }
   ],
   "source": [
    "df100 = fcm_df[which(fcm_df$day == 100), ]\n",
    "print(adonis2(df100[,c('PRO.1', 'ALT.1')]~ df100$PRO,method = \"euclidian\", permutations = 999) )\n",
    "print(adonis2(df100[,c('PRO.1', 'ALT.1')]~ df100$ALT,method = \"euclidian\", permutations = 999) )\n"
   ]
  },
  {
   "cell_type": "code",
   "execution_count": 38,
   "id": "8530c4d1",
   "metadata": {},
   "outputs": [
    {
     "name": "stdout",
     "output_type": "stream",
     "text": [
      "Permutation test for adonis under reduced model\n",
      "Terms added sequentially (first to last)\n",
      "Permutation: free\n",
      "Number of permutations: 999\n",
      "\n",
      "adonis2(formula = df140[, c(\"PRO.1\", \"ALT.1\")] ~ df140$PRO, permutations = 999, method = \"euclidian\", na.rm = TRUE)\n",
      "          Df   SumOfSqs      R2      F Pr(>F)    \n",
      "df140$PRO  4 9.2549e+13 0.49542 16.691  0.001 ***\n",
      "Residual  68 9.4261e+13 0.50458                  \n",
      "Total     72 1.8681e+14 1.00000                  \n",
      "---\n",
      "Signif. codes:  0 '***' 0.001 '**' 0.01 '*' 0.05 '.' 0.1 ' ' 1\n",
      "Permutation test for adonis under reduced model\n",
      "Terms added sequentially (first to last)\n",
      "Permutation: free\n",
      "Number of permutations: 999\n",
      "\n",
      "adonis2(formula = df140[, c(\"PRO.1\", \"ALT.1\")] ~ df140$ALT, permutations = 999, method = \"euclidian\", na.rm = TRUE)\n",
      "          Df   SumOfSqs      R2      F Pr(>F)  \n",
      "df140$ALT  4 2.1511e+13 0.11515 2.2122  0.043 *\n",
      "Residual  68 1.6530e+14 0.88485                \n",
      "Total     72 1.8681e+14 1.00000                \n",
      "---\n",
      "Signif. codes:  0 '***' 0.001 '**' 0.01 '*' 0.05 '.' 0.1 ' ' 1\n"
     ]
    }
   ],
   "source": [
    "df140 = fcm_df[which(fcm_df$day == 140), ]\n",
    "print(adonis2(df140[,c('PRO.1', 'ALT.1')]~ df140$PRO,method = \"euclidian\", permutations = 999, na.rm=TRUE) )\n",
    "print(adonis2(df140[,c('PRO.1', 'ALT.1')]~ df140$ALT,method = \"euclidian\", permutations = 999, na.rm=TRUE) )\n"
   ]
  },
  {
   "cell_type": "code",
   "execution_count": null,
   "id": "047b7cc0",
   "metadata": {},
   "outputs": [],
   "source": []
  }
 ],
 "metadata": {
  "kernelspec": {
   "display_name": "R",
   "language": "R",
   "name": "ir"
  },
  "language_info": {
   "codemirror_mode": "r",
   "file_extension": ".r",
   "mimetype": "text/x-r-source",
   "name": "R",
   "pygments_lexer": "r",
   "version": "3.6.1"
  }
 },
 "nbformat": 4,
 "nbformat_minor": 5
}
