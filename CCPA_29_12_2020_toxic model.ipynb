{
 "cells": [
  {
   "cell_type": "code",
   "execution_count": 1,
   "metadata": {},
   "outputs": [],
   "source": [
    "import itertools\n",
    "import sys, os\n",
    "\n",
    "import numpy as np\n",
    "import pandas as pd\n",
    "from scipy.special import comb\n",
    "from scipy import stats\n",
    "import scipy.cluster.hierarchy as hac\n",
    "import matplotlib.pyplot as plt\n",
    "plt.style.use('classic')\n",
    "%matplotlib inline\n",
    "import numpy as np\n",
    "import pandas as pd\n",
    "import seaborn as sns\n",
    "from sklearn.decomposition import PCA\n",
    "from sklearn.preprocessing import StandardScaler\n",
    "from sklearn import metrics\n",
    "import statsmodels.api as sm\n",
    "\n",
    "sns.set(rc={'figure.figsize':(15,8)})\n",
    "sns.set_context('poster')\n",
    "from sklearn.model_selection import train_test_split"
   ]
  },
  {
   "cell_type": "code",
   "execution_count": 2,
   "metadata": {},
   "outputs": [],
   "source": [
    "%load_ext autoreload\n",
    "%autoreload 2\n",
    "import model.toxic_model_lib as mdl\n",
    "import CCPA_lib as cp\n"
   ]
  },
  {
   "cell_type": "code",
   "execution_count": 3,
   "metadata": {},
   "outputs": [],
   "source": [
    "sns.set(rc={'figure.figsize':(15,8)})\n",
    "sns.set_context('poster')\n",
    "sns.set_style('white')"
   ]
  },
  {
   "cell_type": "code",
   "execution_count": 4,
   "metadata": {},
   "outputs": [],
   "source": [
    "\n",
    "ppallete = 'RdYlGn'#'YlGn_d' #\"BuGn_d\"\n",
    "porder = ['MED4',  'MIT9312','MIT0604', 'Natl2A', 'MIT9313']\n",
    "ppallete = [ '#62A586', '#face6e','#f79934', '#7A9BC8', '#F47681', ]\n",
    "psizes = [150,120,200,120,350]\n",
    "pmarkers = ['o', 's', '^', 'D', '*']\n",
    "\n",
    "# #ffd7a1\n",
    "    \n",
    "pedge = 'green'\n",
    "apallete = \"spring\"\n",
    "aorder = ['DE', 'DE1', '1A3', 'ATCC', 'BS11']\n",
    "amarkers = ['P', 'X', 'h', '<','>']\n",
    "apallete = ['#6dad36', '#c7e89f', '#f5c4e1', '#d5579d', '#8a0850']\n",
    "\n",
    "aedge='orange'\n",
    "epallete = ['#6cf0ba', '#d13f75', '#eeb7cb', '#b9d2d8', '#407f90']\n",
    "#sns.diverging_palette(355, 217, s=74, l=50, n=4) #'Paired' # 'BrBG'# \"coolwarm\"\n",
    "eorder = ['e1','e3', 'e4', 'e5', 'e6']\n",
    "#aedge='orange'\n"
   ]
  },
  {
   "cell_type": "code",
   "execution_count": 5,
   "metadata": {},
   "outputs": [],
   "source": [
    "from sympy import *"
   ]
  },
  {
   "cell_type": "code",
   "execution_count": 6,
   "metadata": {},
   "outputs": [],
   "source": [
    "df = pd.read_pickle('CCPA.pkl.gz')\n",
    "df.loc[df.PRO == 'C9B', 'PRO'] = 'MIT0604'"
   ]
  },
  {
   "cell_type": "code",
   "execution_count": 7,
   "metadata": {},
   "outputs": [
    {
     "name": "stdout",
     "output_type": "stream",
     "text": [
      "                            OLS Regression Results                            \n",
      "==============================================================================\n",
      "Dep. Variable:                    FCM   R-squared:                       0.692\n",
      "Model:                            OLS   Adj. R-squared:                  0.691\n",
      "Method:                 Least Squares   F-statistic:                     776.5\n",
      "Date:                Tue, 29 Dec 2020   Prob (F-statistic):           2.49e-90\n",
      "Time:                        12:54:43   Log-Likelihood:                -6527.3\n",
      "No. Observations:                 347   AIC:                         1.306e+04\n",
      "Df Residuals:                     345   BIC:                         1.307e+04\n",
      "Df Model:                           1                                         \n",
      "Covariance Type:            nonrobust                                         \n",
      "==============================================================================\n",
      "                 coef    std err          t      P>|t|      [0.025      0.975]\n",
      "------------------------------------------------------------------------------\n",
      "const      -5.769e+05   3.27e+06     -0.177      0.860      -7e+06    5.85e+06\n",
      "FL          3.521e+07   1.26e+06     27.866      0.000    3.27e+07    3.77e+07\n",
      "==============================================================================\n",
      "Omnibus:                       25.759   Durbin-Watson:                   1.544\n",
      "Prob(Omnibus):                  0.000   Jarque-Bera (JB):               57.283\n",
      "Skew:                           0.373   Prob(JB):                     3.64e-13\n",
      "Kurtosis:                       4.845   Cond. No.                         4.84\n",
      "==============================================================================\n",
      "\n",
      "Warnings:\n",
      "[1] Standard Errors assume that the covariance matrix of the errors is correctly specified.\n"
     ]
    },
    {
     "name": "stderr",
     "output_type": "stream",
     "text": [
      "C:\\Users\\wosnat\\Anaconda3\\lib\\site-packages\\numpy\\core\\fromnumeric.py:2580: FutureWarning: Method .ptp is deprecated and will be removed in a future version. Use numpy.ptp instead.\n",
      "  return ptp(axis=axis, out=out, **kwargs)\n"
     ]
    }
   ],
   "source": [
    "fl2cell_model, compdf = cp.gen_FL2cells_model()\n",
    "df['cells'] = cp.compute_FL2cells(df['FL'], fl2cell_model)"
   ]
  },
  {
   "cell_type": "code",
   "execution_count": 8,
   "metadata": {},
   "outputs": [
    {
     "data": {
      "text/html": [
       "<div>\n",
       "<style scoped>\n",
       "    .dataframe tbody tr th:only-of-type {\n",
       "        vertical-align: middle;\n",
       "    }\n",
       "\n",
       "    .dataframe tbody tr th {\n",
       "        vertical-align: top;\n",
       "    }\n",
       "\n",
       "    .dataframe thead th {\n",
       "        text-align: right;\n",
       "    }\n",
       "</style>\n",
       "<table border=\"1\" class=\"dataframe\">\n",
       "  <thead>\n",
       "    <tr style=\"text-align: right;\">\n",
       "      <th></th>\n",
       "      <th>day</th>\n",
       "      <th>experiment</th>\n",
       "      <th>sample</th>\n",
       "      <th>FL</th>\n",
       "      <th>PRO</th>\n",
       "      <th>ALT</th>\n",
       "      <th>culture</th>\n",
       "      <th>FL_orig</th>\n",
       "      <th>logFL</th>\n",
       "      <th>cumsumFL</th>\n",
       "      <th>cumsumlogFL</th>\n",
       "      <th>zscoreFL</th>\n",
       "      <th>diffFL</th>\n",
       "      <th>difflogFL</th>\n",
       "      <th>diffday</th>\n",
       "      <th>rateFL</th>\n",
       "      <th>ratelogFL</th>\n",
       "      <th>experiment_sample</th>\n",
       "      <th>cells</th>\n",
       "    </tr>\n",
       "  </thead>\n",
       "  <tbody>\n",
       "    <tr>\n",
       "      <th>0</th>\n",
       "      <td>0.000000</td>\n",
       "      <td>e1</td>\n",
       "      <td>1A</td>\n",
       "      <td>0.133</td>\n",
       "      <td>MED4</td>\n",
       "      <td>1A3</td>\n",
       "      <td>Co_Culture</td>\n",
       "      <td>0.133</td>\n",
       "      <td>-2.017406</td>\n",
       "      <td>0.133</td>\n",
       "      <td>-2.017406</td>\n",
       "      <td>-0.588889</td>\n",
       "      <td>NaN</td>\n",
       "      <td>NaN</td>\n",
       "      <td>NaN</td>\n",
       "      <td>NaN</td>\n",
       "      <td>NaN</td>\n",
       "      <td>e1, 1A</td>\n",
       "      <td>4.105691e+06</td>\n",
       "    </tr>\n",
       "    <tr>\n",
       "      <th>1</th>\n",
       "      <td>0.715972</td>\n",
       "      <td>e1</td>\n",
       "      <td>1A</td>\n",
       "      <td>0.159</td>\n",
       "      <td>MED4</td>\n",
       "      <td>1A3</td>\n",
       "      <td>Co_Culture</td>\n",
       "      <td>0.159</td>\n",
       "      <td>-1.838851</td>\n",
       "      <td>0.292</td>\n",
       "      <td>-3.856257</td>\n",
       "      <td>-0.575917</td>\n",
       "      <td>0.026</td>\n",
       "      <td>0.178555</td>\n",
       "      <td>0.715972</td>\n",
       "      <td>0.036314</td>\n",
       "      <td>0.249388</td>\n",
       "      <td>e1, 1A</td>\n",
       "      <td>5.021082e+06</td>\n",
       "    </tr>\n",
       "    <tr>\n",
       "      <th>2</th>\n",
       "      <td>1.925694</td>\n",
       "      <td>e1</td>\n",
       "      <td>1A</td>\n",
       "      <td>0.155</td>\n",
       "      <td>MED4</td>\n",
       "      <td>1A3</td>\n",
       "      <td>Co_Culture</td>\n",
       "      <td>0.155</td>\n",
       "      <td>-1.864330</td>\n",
       "      <td>0.447</td>\n",
       "      <td>-5.720587</td>\n",
       "      <td>-0.577913</td>\n",
       "      <td>-0.004</td>\n",
       "      <td>-0.025479</td>\n",
       "      <td>1.209722</td>\n",
       "      <td>-0.003307</td>\n",
       "      <td>-0.021062</td>\n",
       "      <td>e1, 1A</td>\n",
       "      <td>4.880252e+06</td>\n",
       "    </tr>\n",
       "    <tr>\n",
       "      <th>3</th>\n",
       "      <td>2.831250</td>\n",
       "      <td>e1</td>\n",
       "      <td>1A</td>\n",
       "      <td>0.180</td>\n",
       "      <td>MED4</td>\n",
       "      <td>1A3</td>\n",
       "      <td>Co_Culture</td>\n",
       "      <td>0.180</td>\n",
       "      <td>-1.714798</td>\n",
       "      <td>0.627</td>\n",
       "      <td>-7.435386</td>\n",
       "      <td>-0.565440</td>\n",
       "      <td>0.025</td>\n",
       "      <td>0.149532</td>\n",
       "      <td>0.905556</td>\n",
       "      <td>0.027607</td>\n",
       "      <td>0.165127</td>\n",
       "      <td>e1, 1A</td>\n",
       "      <td>5.760436e+06</td>\n",
       "    </tr>\n",
       "    <tr>\n",
       "      <th>4</th>\n",
       "      <td>6.674306</td>\n",
       "      <td>e1</td>\n",
       "      <td>1A</td>\n",
       "      <td>0.632</td>\n",
       "      <td>MED4</td>\n",
       "      <td>1A3</td>\n",
       "      <td>Co_Culture</td>\n",
       "      <td>0.632</td>\n",
       "      <td>-0.458866</td>\n",
       "      <td>1.259</td>\n",
       "      <td>-7.894252</td>\n",
       "      <td>-0.339936</td>\n",
       "      <td>0.452</td>\n",
       "      <td>1.255933</td>\n",
       "      <td>3.843056</td>\n",
       "      <td>0.117615</td>\n",
       "      <td>0.326806</td>\n",
       "      <td>e1, 1A</td>\n",
       "      <td>2.167415e+07</td>\n",
       "    </tr>\n",
       "  </tbody>\n",
       "</table>\n",
       "</div>"
      ],
      "text/plain": [
       "        day experiment sample     FL   PRO  ALT     culture  FL_orig  \\\n",
       "0  0.000000         e1     1A  0.133  MED4  1A3  Co_Culture    0.133   \n",
       "1  0.715972         e1     1A  0.159  MED4  1A3  Co_Culture    0.159   \n",
       "2  1.925694         e1     1A  0.155  MED4  1A3  Co_Culture    0.155   \n",
       "3  2.831250         e1     1A  0.180  MED4  1A3  Co_Culture    0.180   \n",
       "4  6.674306         e1     1A  0.632  MED4  1A3  Co_Culture    0.632   \n",
       "\n",
       "      logFL  cumsumFL  cumsumlogFL  zscoreFL  diffFL  difflogFL   diffday  \\\n",
       "0 -2.017406     0.133    -2.017406 -0.588889     NaN        NaN       NaN   \n",
       "1 -1.838851     0.292    -3.856257 -0.575917   0.026   0.178555  0.715972   \n",
       "2 -1.864330     0.447    -5.720587 -0.577913  -0.004  -0.025479  1.209722   \n",
       "3 -1.714798     0.627    -7.435386 -0.565440   0.025   0.149532  0.905556   \n",
       "4 -0.458866     1.259    -7.894252 -0.339936   0.452   1.255933  3.843056   \n",
       "\n",
       "     rateFL  ratelogFL experiment_sample         cells  \n",
       "0       NaN        NaN            e1, 1A  4.105691e+06  \n",
       "1  0.036314   0.249388            e1, 1A  5.021082e+06  \n",
       "2 -0.003307  -0.021062            e1, 1A  4.880252e+06  \n",
       "3  0.027607   0.165127            e1, 1A  5.760436e+06  \n",
       "4  0.117615   0.326806            e1, 1A  2.167415e+07  "
      ]
     },
     "execution_count": 8,
     "metadata": {},
     "output_type": "execute_result"
    }
   ],
   "source": [
    "df.head()"
   ]
  },
  {
   "cell_type": "code",
   "execution_count": 9,
   "metadata": {},
   "outputs": [],
   "source": [
    "fcmdflist=list()\n",
    "for i in os.listdir('fcmfiles'):\n",
    "    if i.endswith('.csv'):\n",
    "        d = pd.read_csv(os.path.join('fcmfiles', i))\n",
    "        n = os.path.splitext(i)[0]\n",
    "        _, experiment, day = n.split('_')\n",
    "        d['experiment'] = experiment\n",
    "        d['day'] = day.replace('Days','')\n",
    "        fcmdflist.append(d)\n",
    "fcmdf = pd.concat(fcmdflist)\n",
    "fcmdf.loc[fcmdf.PRO == 'C9B', 'PRO'] = 'MIT0604'\n",
    "fcmdf['day'] = pd.to_numeric(fcmdf['day'])"
   ]
  },
  {
   "cell_type": "code",
   "execution_count": null,
   "metadata": {},
   "outputs": [],
   "source": []
  },
  {
   "cell_type": "raw",
   "metadata": {},
   "source": [
    "dfw = df.loc[(df.experiment.isin(['e1', 'e3', 'e4','e5', 'e6']))]"
   ]
  },
  {
   "cell_type": "code",
   "execution_count": 198,
   "metadata": {},
   "outputs": [],
   "source": [
    "m = mdl.ModelProALT()"
   ]
  },
  {
   "cell_type": "code",
   "execution_count": 199,
   "metadata": {},
   "outputs": [
    {
     "name": "stdout",
     "output_type": "stream",
     "text": [
      "P 50\n",
      "A 50\n",
      "N 100\n",
      "T 0\n"
     ]
    }
   ],
   "source": [
    "m.print_initial_values()"
   ]
  },
  {
   "cell_type": "code",
   "execution_count": 200,
   "metadata": {
    "scrolled": false
   },
   "outputs": [
    {
     "data": {
      "image/png": "[encoded data removed]",
      "text/latex": [
       "$\\displaystyle P$"
      ],
      "text/plain": [
       "P"
      ]
     },
     "metadata": {},
     "output_type": "display_data"
    },
    {
     "data": {
      "image/png": "[encoded data removed]",
      "text/latex": [
       "$\\displaystyle \\Delta_{t} \\left(\\frac{N P v^{P}_{N}}{N + k^{P}_{N}} - \\frac{P T m_{P}}{T + k^{P}_{T}} - P m_{P}\\right) + P$"
      ],
      "text/plain": [
       "   ⎛N⋅P⋅v_N__P    P⋅T⋅m_P          ⎞    \n",
       "Δₜ⋅⎜────────── - ────────── - P⋅m_P⎟ + P\n",
       "   ⎝N + k_N__P   T + k_T__P        ⎠    "
      ]
     },
     "metadata": {},
     "output_type": "display_data"
    },
    {
     "name": "stdout",
     "output_type": "stream",
     "text": [
      "\n"
     ]
    },
    {
     "data": {
      "image/png": "[encoded data removed]",
      "text/latex": [
       "$\\displaystyle A$"
      ],
      "text/plain": [
       "A"
      ]
     },
     "metadata": {},
     "output_type": "display_data"
    },
    {
     "data": {
      "image/png": "[encoded data removed]",
      "text/latex": [
       "$\\displaystyle A + \\Delta_{t} \\left(\\frac{A N v^{A}_{N}}{N + k^{A}_{N}} - A m_{A}\\right)$"
      ],
      "text/plain": [
       "       ⎛A⋅N⋅v_N__A        ⎞\n",
       "A + Δₜ⋅⎜────────── - A⋅m_A⎟\n",
       "       ⎝N + k_N__A        ⎠"
      ]
     },
     "metadata": {},
     "output_type": "display_data"
    },
    {
     "name": "stdout",
     "output_type": "stream",
     "text": [
      "\n"
     ]
    },
    {
     "data": {
      "image/png": "[encoded data removed]",
      "text/latex": [
       "$\\displaystyle N$"
      ],
      "text/plain": [
       "N"
      ]
     },
     "metadata": {},
     "output_type": "display_data"
    },
    {
     "data": {
      "image/png": "[encoded data removed]",
      "text/latex": [
       "$\\displaystyle \\Delta_{t} \\left(- \\frac{A N v^{A}_{N}}{N + k^{A}_{N}} + A m_{A} - \\frac{N P v^{P}_{N}}{N + k^{P}_{N}} + \\frac{P T m_{P}}{T + k^{P}_{T}} + P m_{P}\\right) + N$"
      ],
      "text/plain": [
       "   ⎛  A⋅N⋅v_N__A           N⋅P⋅v_N__P    P⋅T⋅m_P          ⎞    \n",
       "Δₜ⋅⎜- ────────── + A⋅m_A - ────────── + ────────── + P⋅m_P⎟ + N\n",
       "   ⎝  N + k_N__A           N + k_N__P   T + k_T__P        ⎠    "
      ]
     },
     "metadata": {},
     "output_type": "display_data"
    },
    {
     "name": "stdout",
     "output_type": "stream",
     "text": [
      "\n"
     ]
    },
    {
     "data": {
      "image/png": "[encoded data removed]",
      "text/latex": [
       "$\\displaystyle T$"
      ],
      "text/plain": [
       "T"
      ]
     },
     "metadata": {},
     "output_type": "display_data"
    },
    {
     "data": {
      "image/png": "[encoded data removed]",
      "text/latex": [
       "$\\displaystyle \\Delta_{t} \\left(- \\frac{A T v^{A}_{T}}{T + k^{A}_{T}} + P v^{P}_{T}\\right) + T$"
      ],
      "text/plain": [
       "   ⎛  A⋅T⋅v_T__A           ⎞    \n",
       "Δₜ⋅⎜- ────────── + P⋅v_T__P⎟ + T\n",
       "   ⎝  T + k_T__A           ⎠    "
      ]
     },
     "metadata": {},
     "output_type": "display_data"
    },
    {
     "name": "stdout",
     "output_type": "stream",
     "text": [
      "\n"
     ]
    }
   ],
   "source": [
    "init_printing()\n",
    "for i in m.intermediate_variables.values():\n",
    "    display(i.symbol, i.formula)\n",
    "    print()\n",
    "\n",
    "for i in m.variables.values():\n",
    "    display(i.symbol, i.formula)\n",
    "    print()\n"
   ]
  },
  {
   "cell_type": "code",
   "execution_count": 201,
   "metadata": {},
   "outputs": [
    {
     "name": "stdout",
     "output_type": "stream",
     "text": [
      "k_N_A 0.2502723352076287\n",
      "k_N_P 0.11008885160313818\n",
      "v_N_A 1.4582177199759882e-08\n",
      "v_N_P 1.9e-09\n",
      "k_T_A 0.05\n",
      "k_T_P 0.05\n",
      "v_T_A 1.4582177199759882e-08\n",
      "v_T_P 1.9e-09\n",
      "m_A 0.1\n",
      "m_P 0.1\n",
      "delta_t 1.1574074074074073e-05\n"
     ]
    }
   ],
   "source": [
    "m.print_param_values()"
   ]
  },
  {
   "cell_type": "code",
   "execution_count": 202,
   "metadata": {},
   "outputs": [
    {
     "data": {
      "text/plain": [
       "{'k_N_A': 0.2502723352076287,\n",
       " 'k_N_P': 0.11008885160313818,\n",
       " 'v_N_A': 1.4582177199759882e-08,\n",
       " 'v_N_P': 1.9e-09,\n",
       " 'k_T_A': 0.05,\n",
       " 'k_T_P': 0.05,\n",
       " 'v_T_A': 1.4582177199759882e-08,\n",
       " 'v_T_P': 1.9e-09,\n",
       " 'm_A': 0.1,\n",
       " 'm_P': 0.1,\n",
       " 'delta_t': 1.1574074074074073e-05}"
      ]
     },
     "execution_count": 202,
     "metadata": {},
     "output_type": "execute_result"
    }
   ],
   "source": [
    "{i : m.parameters[i].value for i in m.parameters}"
   ]
  },
  {
   "cell_type": "code",
   "execution_count": 208,
   "metadata": {},
   "outputs": [],
   "source": [
    "params_try = {\n",
    "    'k_N_A': 1,\n",
    " 'k_N_P': 1,\n",
    " 'v_N_A': 0.5,\n",
    " 'v_N_P': 0.5,\n",
    "# 'k_T_A': 0.05,\n",
    "# 'k_T_P': 0.05,\n",
    "# 'v_T_A': 1.4582177199759882e-08,\n",
    " 'v_T_P': 0,\n",
    " 'm_A': 0,\n",
    " 'm_P': 1e-2,\n",
    "}"
   ]
  },
  {
   "cell_type": "code",
   "execution_count": 213,
   "metadata": {},
   "outputs": [
    {
     "name": "stdout",
     "output_type": "stream",
     "text": [
      "................................................................................................................................................................."
     ]
    }
   ],
   "source": [
    "m = mdl.ModelProALT()\n",
    "#m.disable_organism('ALT')\n",
    "# m.override_initial_values({\n",
    "#     'A': 0,\n",
    "#     'P': 0,\n",
    "#     'x_a': 0,\n",
    "# })\n",
    "#m.override_param_values(params_try)\n",
    "#reference_days = ref_df['day'].unique().tolist()\n",
    "#max_day = int(ref_df['day'].max()) + 1\n",
    "max_day = 20\n",
    "#m.set_referece_times(reference_days)\n",
    "res, ref_res = m.simulate(num_iterations=max_day*3600*24, collect_every=3600*3)\n"
   ]
  },
  {
   "cell_type": "code",
   "execution_count": 214,
   "metadata": {},
   "outputs": [],
   "source": [
    "res_df = pd.DataFrame(res)"
   ]
  },
  {
   "cell_type": "raw",
   "metadata": {
    "scrolled": false
   },
   "source": [
    "df1 = df.loc[df.experiment.isin(['e1']) & df.PRO.isin(['MED4']) & df.culture.isin(['Co_Culture']) &\n",
    "            df.ALT.isin(['1A3'])]\n",
    "fcmdf1 = fcmdf.loc[fcmdf.experiment.isin(['exp1']) & \n",
    "                   fcmdf.PRO.isin(['MED4']) & \n",
    "                   fcmdf.ALT.isin(['1A3'])]\n",
    "compdf1 = compdf.loc[compdf.MODE.isin(['1A3']) & \n",
    "                   compdf.PRO.isin(['MED4']) ]\n",
    "compdf1.rename(columns={'FCM': 'PRO.1'}, inplace=True)\n",
    "reffcmdf1 = pd.concat([fcmdf1.loc[:,['day', 'PRO.1', 'ALT.1']], compdf1.loc[:,['day', 'PRO.1']], ])\n",
    "\n",
    "\n",
    "model.basic_model_lib.display_simulation_results(\n",
    "    res_df, m, 'co-culture', \n",
    "    reference_FL_df=df1, reference_FCM_df=reffcmdf1)"
   ]
  },
  {
   "cell_type": "code",
   "execution_count": 215,
   "metadata": {},
   "outputs": [
    {
     "data": {
      "text/html": [
       "<div>\n",
       "<style scoped>\n",
       "    .dataframe tbody tr th:only-of-type {\n",
       "        vertical-align: middle;\n",
       "    }\n",
       "\n",
       "    .dataframe tbody tr th {\n",
       "        vertical-align: top;\n",
       "    }\n",
       "\n",
       "    .dataframe thead th {\n",
       "        text-align: right;\n",
       "    }\n",
       "</style>\n",
       "<table border=\"1\" class=\"dataframe\">\n",
       "  <thead>\n",
       "    <tr style=\"text-align: right;\">\n",
       "      <th></th>\n",
       "      <th>P</th>\n",
       "      <th>A</th>\n",
       "      <th>N</th>\n",
       "      <th>T</th>\n",
       "      <th>day</th>\n",
       "    </tr>\n",
       "  </thead>\n",
       "  <tbody>\n",
       "    <tr>\n",
       "      <th>0</th>\n",
       "      <td>50.000000</td>\n",
       "      <td>50.000000</td>\n",
       "      <td>100.000000</td>\n",
       "      <td>0.000000e+00</td>\n",
       "      <td>0.000</td>\n",
       "    </tr>\n",
       "    <tr>\n",
       "      <th>1</th>\n",
       "      <td>49.378890</td>\n",
       "      <td>49.378890</td>\n",
       "      <td>101.242221</td>\n",
       "      <td>1.180109e-08</td>\n",
       "      <td>0.125</td>\n",
       "    </tr>\n",
       "    <tr>\n",
       "      <th>2</th>\n",
       "      <td>48.765495</td>\n",
       "      <td>48.765495</td>\n",
       "      <td>102.469010</td>\n",
       "      <td>2.345555e-08</td>\n",
       "      <td>0.250</td>\n",
       "    </tr>\n",
       "    <tr>\n",
       "      <th>3</th>\n",
       "      <td>48.159719</td>\n",
       "      <td>48.159720</td>\n",
       "      <td>103.680561</td>\n",
       "      <td>3.496523e-08</td>\n",
       "      <td>0.375</td>\n",
       "    </tr>\n",
       "    <tr>\n",
       "      <th>4</th>\n",
       "      <td>47.561469</td>\n",
       "      <td>47.561470</td>\n",
       "      <td>104.877061</td>\n",
       "      <td>4.633191e-08</td>\n",
       "      <td>0.500</td>\n",
       "    </tr>\n",
       "  </tbody>\n",
       "</table>\n",
       "</div>"
      ],
      "text/plain": [
       "           P          A           N             T    day\n",
       "0  50.000000  50.000000  100.000000  0.000000e+00  0.000\n",
       "1  49.378890  49.378890  101.242221  1.180109e-08  0.125\n",
       "2  48.765495  48.765495  102.469010  2.345555e-08  0.250\n",
       "3  48.159719  48.159720  103.680561  3.496523e-08  0.375\n",
       "4  47.561469  47.561470  104.877061  4.633191e-08  0.500"
      ]
     },
     "execution_count": 215,
     "metadata": {},
     "output_type": "execute_result"
    }
   ],
   "source": [
    "res_df.head()"
   ]
  },
  {
   "cell_type": "code",
   "execution_count": 216,
   "metadata": {},
   "outputs": [
    {
     "data": {
      "image/png": "[encoded data removed]",
      "text/plain": [
       "<Figure size 360x360 with 1 Axes>"
      ]
     },
     "metadata": {},
     "output_type": "display_data"
    },
    {
     "data": {
      "image/png": "[encoded data removed]",
      "text/plain": [
       "<Figure size 360x360 with 1 Axes>"
      ]
     },
     "metadata": {},
     "output_type": "display_data"
    },
    {
     "data": {
      "image/png": "[encoded data removed]",
      "text/plain": [
       "<Figure size 360x360 with 1 Axes>"
      ]
     },
     "metadata": {},
     "output_type": "display_data"
    },
    {
     "data": {
      "image/png": "[encoded data removed]",
      "text/plain": [
       "<Figure size 360x360 with 1 Axes>"
      ]
     },
     "metadata": {},
     "output_type": "display_data"
    }
   ],
   "source": [
    "for i in ['A', 'P', 'T', 'N']:\n",
    "    sns.relplot(data=res_df, x='day', y=i, kind='line')\n"
   ]
  },
  {
   "cell_type": "code",
   "execution_count": null,
   "metadata": {},
   "outputs": [],
   "source": []
  },
  {
   "cell_type": "code",
   "execution_count": null,
   "metadata": {},
   "outputs": [],
   "source": []
  },
  {
   "cell_type": "code",
   "execution_count": null,
   "metadata": {},
   "outputs": [],
   "source": []
  }
 ],
 "metadata": {
  "kernelspec": {
   "display_name": "Python 3",
   "language": "python",
   "name": "python3"
  },
  "language_info": {
   "codemirror_mode": {
    "name": "ipython",
    "version": 3
   },
   "file_extension": ".py",
   "mimetype": "text/x-python",
   "name": "python",
   "nbconvert_exporter": "python",
   "pygments_lexer": "ipython3",
   "version": "3.7.1"
  }
 },
 "nbformat": 4,
 "nbformat_minor": 2
}
