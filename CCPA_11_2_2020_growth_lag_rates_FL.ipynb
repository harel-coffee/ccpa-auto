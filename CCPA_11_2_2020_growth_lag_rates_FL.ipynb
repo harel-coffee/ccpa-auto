{
 "cells": [
  {
   "cell_type": "code",
   "execution_count": 1,
   "metadata": {},
   "outputs": [],
   "source": [
    "import itertools\n",
    "import sys, os\n",
    "\n",
    "import numpy as np\n",
    "import pandas as pd\n",
    "from scipy.special import comb\n",
    "from scipy import stats\n",
    "import scipy.cluster.hierarchy as hac\n",
    "import matplotlib.pyplot as plt\n",
    "plt.style.use('classic')\n",
    "%matplotlib inline\n",
    "import numpy as np\n",
    "import pandas as pd\n",
    "import seaborn as sns\n",
    "from sklearn.decomposition import PCA\n",
    "from sklearn.preprocessing import StandardScaler\n",
    "from sklearn import metrics\n",
    "import statsmodels.api as sm\n",
    "\n",
    "sns.set(rc={'figure.figsize':(15,8)})\n",
    "sns.set_context('poster')\n",
    "from sklearn.model_selection import train_test_split"
   ]
  },
  {
   "cell_type": "code",
   "execution_count": 2,
   "metadata": {},
   "outputs": [],
   "source": [
    "%load_ext autoreload\n",
    "%autoreload 2\n",
    "import CCPA_lib as cp\n"
   ]
  },
  {
   "cell_type": "code",
   "execution_count": 3,
   "metadata": {},
   "outputs": [],
   "source": [
    "sns.set_context('poster')\n",
    "sns.set_style('white')"
   ]
  },
  {
   "cell_type": "code",
   "execution_count": 4,
   "metadata": {},
   "outputs": [],
   "source": [
    "ppallete = 'RdYlGn'#'YlGn_d' #\"BuGn_d\"\n",
    "porder = ['MED4',  'MIT9312','MIT0604', 'Natl2A', 'MIT9313']\n",
    "ppallete = [ '#62A586', '#face6e','#f79934', '#7A9BC8', '#F47681', ]\n",
    "# #ffd7a1\n",
    "    \n",
    "pedge = 'green'\n",
    "apallete = \"spring\"\n",
    "aorder = ['DE', 'DE1', '1A3', 'ATCC', 'BS11']\n",
    "amarkers = ['X', 'P', 's', 'D', 'o']\n",
    "aedge='orange'\n",
    "epallete = ['#6cf0ba', '#d13f75', '#eeb7cb', '#b9d2d8', '#407f90']\n",
    "#sns.diverging_palette(355, 217, s=74, l=50, n=4) #'Paired' # 'BrBG'# \"coolwarm\"\n",
    "eorder = ['e1','e3', 'e4', 'e5', 'e6']\n",
    "#aedge='orange'\n",
    "e2_color= '#f2f2f2'\n",
    "eallorder= ['e1','e2', 'e3', 'e4', 'e5', 'e6']\n",
    "eallpallete = ['#6cf0ba', '#f2f2f2', '#d13f75', '#eeb7cb', '#b9d2d8', '#407f90']\n",
    "\n",
    "efcmorder= ['e1','e2', 'e4', 'e5', ]\n",
    "efcmpallete = ['#6cf0ba', '#f2f2f2',  '#eeb7cb', '#b9d2d8',]\n",
    "\n",
    "espallete = ['#6cf0ba', '#D55282', '#538B9B']\n",
    "#  604 #FCC479\n",
    "#     #ffd7a1\n",
    "#     #fcb14c\n",
    "#     MED4 = #62A586\n",
    "#     9313 #F47681\n",
    "#     natl #7A9BC8"
   ]
  },
  {
   "cell_type": "code",
   "execution_count": 5,
   "metadata": {},
   "outputs": [],
   "source": [
    "ppallete = 'RdYlGn'#'YlGn_d' #\"BuGn_d\"\n",
    "porder = ['MED4',  'MIT9312','MIT0604', 'Natl2A', 'MIT9313']\n",
    "ppallete = [ '#62A586', '#face6e','#f79934', '#7A9BC8', '#F47681', ]\n",
    "psizes = [150,120,200,120,350]\n",
    "pmarkers = ['o', 's', '^', 'D', '*']\n",
    "\n",
    "# #ffd7a1\n",
    "    \n",
    "pedge = 'green'\n",
    "apallete = \"spring\"\n",
    "aorder = ['DE', 'DE1', '1A3', 'ATCC', 'BS11']\n",
    "amarkers = ['P', 'X', 'h', '<','>']\n",
    "apallete = ['#6dad36', '#c7e89f', '#f5c4e1', '#d5579d', '#8a0850']\n",
    "\n",
    "aedge='orange'\n",
    "epallete = ['#6cf0ba', '#d13f75', '#eeb7cb', '#b9d2d8', '#407f90']\n",
    "#sns.diverging_palette(355, 217, s=74, l=50, n=4) #'Paired' # 'BrBG'# \"coolwarm\"\n",
    "eorder = ['e1','e3', 'e4', 'e5', 'e6']\n",
    "#aedge='orange'\n",
    "\n",
    "espallete = ['#6cf0ba', '#D55282', '#538B9B']"
   ]
  },
  {
   "cell_type": "code",
   "execution_count": null,
   "metadata": {},
   "outputs": [],
   "source": []
  },
  {
   "cell_type": "code",
   "execution_count": null,
   "metadata": {},
   "outputs": [],
   "source": []
  },
  {
   "cell_type": "raw",
   "metadata": {
    "collapsed": true
   },
   "source": [
    "df = cp.load_experiment_csvs()\n",
    "df = cp.update_calculated_fields(df)"
   ]
  },
  {
   "cell_type": "raw",
   "metadata": {},
   "source": [
    "df.head()"
   ]
  },
  {
   "cell_type": "raw",
   "metadata": {
    "collapsed": true
   },
   "source": [
    "df.to_pickle('CCPA.pkl.gz')"
   ]
  },
  {
   "cell_type": "code",
   "execution_count": 6,
   "metadata": {},
   "outputs": [],
   "source": [
    "df = pd.read_pickle('CCPA.pkl.gz')\n",
    "df.loc[df.PRO == 'C9B', 'PRO'] = 'MIT0604'"
   ]
  },
  {
   "cell_type": "raw",
   "metadata": {},
   "source": [
    "def _load_fcm_fl_csv(data_dpath, fname):\n",
    "    df = pd.read_csv(os.path.join(data_dpath, fname), index_col=0, header=None).T\n",
    "    #df = df.reset_index()\n",
    "    # remove rows and columns that are all nan\n",
    "    df = df.dropna(how='all')\n",
    "    df = df.loc[:, df.columns.notnull()] \n",
    "    df['Sample'] = os.path.splitext(fname)[0]\n",
    "    df.VALUE = pd.to_numeric(df.VALUE)\n",
    "    df.day = pd.to_numeric(df.day)\n",
    "    df['MODE'] = df.EXP.str.split('_', expand=True)[1]\n",
    "    return df"
   ]
  },
  {
   "cell_type": "raw",
   "metadata": {},
   "source": [
    "data_dpath = r'fcm_and_fl'\n",
    "csv_fnames = [ n for n in os.listdir(data_dpath) if n.endswith('.csv')]\n",
    "temp_dfs = [_load_fcm_fl_csv(data_dpath, fname) for fname in csv_fnames]\n",
    "prevfcm_df = pd.concat(temp_dfs)\n",
    "prevfcm_df.loc[prevfcm_df['MODE']== 'PRO99','MODE'] = 'pro99'\n",
    "prevfcm_df.loc[prevfcm_df.Sample == '9313 LD_FL1', 'PRO'] = 'MIT9313'\n",
    "prevfcm_df = prevfcm_df.fillna({'ALT': 'N/A'}, )"
   ]
  },
  {
   "cell_type": "code",
   "execution_count": 17,
   "metadata": {},
   "outputs": [],
   "source": [
    "fcmdflist=list()\n",
    "for i in os.listdir('fcmfiles'):\n",
    "    if i.endswith('.csv'):\n",
    "        d = pd.read_csv(os.path.join('fcmfiles', i))\n",
    "        n = os.path.splitext(i)[0]\n",
    "        _, experiment, day = n.split('_')\n",
    "        d['experiment'] = experiment\n",
    "        d['day'] = day.replace('Days','')\n",
    "        fcmdflist.append(d)\n",
    "fcmdf = pd.concat(fcmdflist)\n",
    "fcmdf.loc[fcmdf.PRO == 'C9B', 'PRO'] = 'MIT0604'\n",
    "fcmdf['day'] = pd.to_numeric(fcmdf['day'])"
   ]
  },
  {
   "cell_type": "raw",
   "metadata": {
    "scrolled": true
   },
   "source": [
    "def get_fl_day(df, row):\n",
    "    x = row['day']\n",
    "    e = row['EXP']\n",
    "    \n",
    "    possible_days = df.loc[(df.METHOD == 'FL') & (df.EXP == e) & (df.day >= x) & (df.day < x+1), 'day' ].unique()\n",
    "    if len(possible_days) == 0:\n",
    "        possible_days = df.loc[(df.METHOD == 'FL') & (df.EXP == e) & (df.day >x-1) & (df.day < x+1), 'day' ].unique()\n",
    "    if len(possible_days) == 0:\n",
    "        flday =  None\n",
    "        flval = None\n",
    "    else: \n",
    "        flday =  possible_days[0]\n",
    "        flval = df.loc[(df.METHOD == 'FL') & (df.EXP == e) & (df.day == flday), 'VALUE' ].unique()[0]\n",
    "    return pd.Series({'fl_day': flday, 'FL': flval})\n",
    "        \n",
    "    \n",
    "\n",
    "d = prevfcm_df.apply(lambda x: get_fl_day(prevfcm_df,x), axis=1)\n",
    "prevfcm_df = pd.concat([prevfcm_df, d], axis=1)\n",
    "compdf = prevfcm_df.loc[prevfcm_df.METHOD == 'FCM']\n",
    "compdf.rename(columns={'VALUE': 'FCM'}, inplace=True)\n",
    "compdf.dropna(axis='rows', inplace=True)"
   ]
  },
  {
   "cell_type": "raw",
   "metadata": {
    "scrolled": false
   },
   "source": [
    "X = compdf['FL']\n",
    "y = compdf['FCM']\n",
    "res = sm.OLS(y, X).fit()\n",
    "print(res.summary())"
   ]
  },
  {
   "cell_type": "raw",
   "metadata": {},
   "source": [
    "dt = res.get_prediction(df['FL']).summary_frame(alpha = 0.05)\n",
    "y_pred = dt['mean']\n",
    "df['cells'] = dt['mean']\n",
    "df['logcells'] = np.log(df['cells'])"
   ]
  },
  {
   "cell_type": "code",
   "execution_count": 7,
   "metadata": {},
   "outputs": [
    {
     "data": {
      "text/html": [
       "<div>\n",
       "<style scoped>\n",
       "    .dataframe tbody tr th:only-of-type {\n",
       "        vertical-align: middle;\n",
       "    }\n",
       "\n",
       "    .dataframe tbody tr th {\n",
       "        vertical-align: top;\n",
       "    }\n",
       "\n",
       "    .dataframe thead th {\n",
       "        text-align: right;\n",
       "    }\n",
       "</style>\n",
       "<table border=\"1\" class=\"dataframe\">\n",
       "  <thead>\n",
       "    <tr style=\"text-align: right;\">\n",
       "      <th></th>\n",
       "      <th>day</th>\n",
       "      <th>experiment</th>\n",
       "      <th>sample</th>\n",
       "      <th>FL</th>\n",
       "      <th>PRO</th>\n",
       "      <th>ALT</th>\n",
       "      <th>culture</th>\n",
       "      <th>FL_orig</th>\n",
       "      <th>logFL</th>\n",
       "      <th>cumsumFL</th>\n",
       "      <th>cumsumlogFL</th>\n",
       "      <th>zscoreFL</th>\n",
       "      <th>diffFL</th>\n",
       "      <th>difflogFL</th>\n",
       "      <th>diffday</th>\n",
       "      <th>rateFL</th>\n",
       "      <th>ratelogFL</th>\n",
       "      <th>experiment_sample</th>\n",
       "    </tr>\n",
       "  </thead>\n",
       "  <tbody>\n",
       "    <tr>\n",
       "      <th>0</th>\n",
       "      <td>0.000000</td>\n",
       "      <td>e1</td>\n",
       "      <td>1A</td>\n",
       "      <td>0.133</td>\n",
       "      <td>MED4</td>\n",
       "      <td>1A3</td>\n",
       "      <td>Co_Culture</td>\n",
       "      <td>0.133</td>\n",
       "      <td>-2.017406</td>\n",
       "      <td>0.133</td>\n",
       "      <td>-2.017406</td>\n",
       "      <td>-0.588889</td>\n",
       "      <td>NaN</td>\n",
       "      <td>NaN</td>\n",
       "      <td>NaN</td>\n",
       "      <td>NaN</td>\n",
       "      <td>NaN</td>\n",
       "      <td>e1, 1A</td>\n",
       "    </tr>\n",
       "    <tr>\n",
       "      <th>1</th>\n",
       "      <td>0.715972</td>\n",
       "      <td>e1</td>\n",
       "      <td>1A</td>\n",
       "      <td>0.159</td>\n",
       "      <td>MED4</td>\n",
       "      <td>1A3</td>\n",
       "      <td>Co_Culture</td>\n",
       "      <td>0.159</td>\n",
       "      <td>-1.838851</td>\n",
       "      <td>0.292</td>\n",
       "      <td>-3.856257</td>\n",
       "      <td>-0.575917</td>\n",
       "      <td>0.026</td>\n",
       "      <td>0.178555</td>\n",
       "      <td>0.715972</td>\n",
       "      <td>0.036314</td>\n",
       "      <td>0.249388</td>\n",
       "      <td>e1, 1A</td>\n",
       "    </tr>\n",
       "    <tr>\n",
       "      <th>2</th>\n",
       "      <td>1.925694</td>\n",
       "      <td>e1</td>\n",
       "      <td>1A</td>\n",
       "      <td>0.155</td>\n",
       "      <td>MED4</td>\n",
       "      <td>1A3</td>\n",
       "      <td>Co_Culture</td>\n",
       "      <td>0.155</td>\n",
       "      <td>-1.864330</td>\n",
       "      <td>0.447</td>\n",
       "      <td>-5.720587</td>\n",
       "      <td>-0.577913</td>\n",
       "      <td>-0.004</td>\n",
       "      <td>-0.025479</td>\n",
       "      <td>1.209722</td>\n",
       "      <td>-0.003307</td>\n",
       "      <td>-0.021062</td>\n",
       "      <td>e1, 1A</td>\n",
       "    </tr>\n",
       "    <tr>\n",
       "      <th>3</th>\n",
       "      <td>2.831250</td>\n",
       "      <td>e1</td>\n",
       "      <td>1A</td>\n",
       "      <td>0.180</td>\n",
       "      <td>MED4</td>\n",
       "      <td>1A3</td>\n",
       "      <td>Co_Culture</td>\n",
       "      <td>0.180</td>\n",
       "      <td>-1.714798</td>\n",
       "      <td>0.627</td>\n",
       "      <td>-7.435386</td>\n",
       "      <td>-0.565440</td>\n",
       "      <td>0.025</td>\n",
       "      <td>0.149532</td>\n",
       "      <td>0.905556</td>\n",
       "      <td>0.027607</td>\n",
       "      <td>0.165127</td>\n",
       "      <td>e1, 1A</td>\n",
       "    </tr>\n",
       "    <tr>\n",
       "      <th>4</th>\n",
       "      <td>6.674306</td>\n",
       "      <td>e1</td>\n",
       "      <td>1A</td>\n",
       "      <td>0.632</td>\n",
       "      <td>MED4</td>\n",
       "      <td>1A3</td>\n",
       "      <td>Co_Culture</td>\n",
       "      <td>0.632</td>\n",
       "      <td>-0.458866</td>\n",
       "      <td>1.259</td>\n",
       "      <td>-7.894252</td>\n",
       "      <td>-0.339936</td>\n",
       "      <td>0.452</td>\n",
       "      <td>1.255933</td>\n",
       "      <td>3.843056</td>\n",
       "      <td>0.117615</td>\n",
       "      <td>0.326806</td>\n",
       "      <td>e1, 1A</td>\n",
       "    </tr>\n",
       "  </tbody>\n",
       "</table>\n",
       "</div>"
      ],
      "text/plain": [
       "        day experiment sample     FL   PRO  ALT     culture  FL_orig  \\\n",
       "0  0.000000         e1     1A  0.133  MED4  1A3  Co_Culture    0.133   \n",
       "1  0.715972         e1     1A  0.159  MED4  1A3  Co_Culture    0.159   \n",
       "2  1.925694         e1     1A  0.155  MED4  1A3  Co_Culture    0.155   \n",
       "3  2.831250         e1     1A  0.180  MED4  1A3  Co_Culture    0.180   \n",
       "4  6.674306         e1     1A  0.632  MED4  1A3  Co_Culture    0.632   \n",
       "\n",
       "      logFL  cumsumFL  cumsumlogFL  zscoreFL  diffFL  difflogFL   diffday  \\\n",
       "0 -2.017406     0.133    -2.017406 -0.588889     NaN        NaN       NaN   \n",
       "1 -1.838851     0.292    -3.856257 -0.575917   0.026   0.178555  0.715972   \n",
       "2 -1.864330     0.447    -5.720587 -0.577913  -0.004  -0.025479  1.209722   \n",
       "3 -1.714798     0.627    -7.435386 -0.565440   0.025   0.149532  0.905556   \n",
       "4 -0.458866     1.259    -7.894252 -0.339936   0.452   1.255933  3.843056   \n",
       "\n",
       "     rateFL  ratelogFL experiment_sample  \n",
       "0       NaN        NaN            e1, 1A  \n",
       "1  0.036314   0.249388            e1, 1A  \n",
       "2 -0.003307  -0.021062            e1, 1A  \n",
       "3  0.027607   0.165127            e1, 1A  \n",
       "4  0.117615   0.326806            e1, 1A  "
      ]
     },
     "execution_count": 7,
     "metadata": {},
     "output_type": "execute_result"
    }
   ],
   "source": [
    "df.head()"
   ]
  },
  {
   "cell_type": "code",
   "execution_count": 8,
   "metadata": {},
   "outputs": [],
   "source": [
    "def calculate_lag(d):\n",
    "    minday_fl_threshold = 0.1\n",
    "    r2_threshold = 0.9\n",
    "\n",
    "    d = d.reset_index(drop=True)\n",
    "    maxindex = d.FL.idxmax()\n",
    "    maxday = d.loc[maxindex]['day']\n",
    "    minday = d.loc[(d.day < maxday) & (d.FL <= minday_fl_threshold), 'day'].max()\n",
    "    if minday is np.NaN:\n",
    "        minday = d.day.min()\n",
    "    \n",
    "    minday = min(maxday-7,minday)\n",
    "    \n",
    "    reg, intercept, coef, r2 = cp.fit_regression(d.loc[(d.day > minday) & \n",
    "                                                       (d.day <= maxday)], 'day', 'logFL')\n",
    "                        \n",
    "    L = maxday - ((d.loc[maxindex]['logFL'] - d.loc[0]['logFL']) / coef)\n",
    "    return pd.Series({\n",
    "        'maxday' : maxday,\n",
    "        'minday' : minday,\n",
    "        'maxlogFL' : d.loc[maxindex]['logFL'],\n",
    "        'logFL0' : d.loc[0]['logFL'],\n",
    "        'log10FL0' : np.log10(d.loc[0]['FL']),\n",
    "        'intercept': intercept,\n",
    "        'coef': coef,\n",
    "        'r2': r2,\n",
    "        'L' : L,\n",
    "    })\n",
    "\n",
    "def get_prev_max_day_df(d, minmaxday_threshold):\n",
    "    d = d.reset_index(drop=True)\n",
    "    maxindex = d.FL.idxmax()\n",
    "    maxday = d.loc[maxindex]['day']\n",
    "    maxdaysdf = d.loc[(d.FL > d.FL.shift()) & (d.FL > d.FL.shift(-1)) & \n",
    "                    (d.day < maxday)].reset_index(drop=True)\n",
    "    if maxdaysdf.shape[0] > 0:\n",
    "        newmaxindex = maxdaysdf.FL.idxmax()\n",
    "        newmaxday = maxdaysdf.loc[newmaxindex]['day']\n",
    "\n",
    "        if ((newmaxday is not np.NaN) and #(newmaxday >= minmaxday_threshold) and \n",
    "            (d.loc[d.day == newmaxday, 'FL'].max() > (d.FL.max() / 2))):\n",
    "            df_prevmax = d.loc[d.day < newmaxday]\n",
    "            return df_prevmax\n",
    "    return None\n",
    "\n",
    "def get_no_outlier_df(d, minday_fl_threshold):\n",
    "    d_no_outlier = d.loc[(d.FL > minday_fl_threshold) | \n",
    "                         (d.FL.shift() < minday_fl_threshold*2) |\n",
    "                         (d.FL.shift(-1) < minday_fl_threshold*2)\n",
    "                        ]\n",
    "    return d_no_outlier\n",
    "\n",
    "def get_without_max_df(d):\n",
    "    d = d.reset_index(drop=True)\n",
    "    maxindex = d.FL.idxmax()\n",
    "    maxday = d.loc[maxindex]['day']\n",
    "    d_withoutmaxday = d.loc[d.day < maxday]\n",
    "    return d_withoutmaxday\n",
    "\n",
    "def get_df_list(d, minday_fl_threshold, minmaxday_threshold):\n",
    "    dnomax = get_without_max_df(d)\n",
    "    dnomax2 = get_without_max_df(dnomax)\n",
    "    \n",
    "    df_list = [d, dnomax, dnomax2]\n",
    "    df_list.extend([get_no_outlier_df(x, minday_fl_threshold) for x in df_list])\n",
    "    return df_list\n",
    "\n",
    "def calculate_lag_wrap(d):\n",
    "    minday_fl_threshold = 0.07\n",
    "    minmaxday_threshold = 4\n",
    "    df_list = get_df_list(d, minday_fl_threshold, minmaxday_threshold)\n",
    "    d2 = get_prev_max_day_df(d,minmaxday_threshold)\n",
    "    if d2 is not None:\n",
    "        df_list.extend(get_df_list(d2, minday_fl_threshold, minmaxday_threshold))\n",
    "    reslist = [calculate_lag(x) for x in df_list]\n",
    "\n",
    "    sorted_reslist = sorted(reslist, key=lambda x : x['r2'], reverse=True)\n",
    "    return sorted_reslist[0]           "
   ]
  },
  {
   "cell_type": "code",
   "execution_count": 9,
   "metadata": {},
   "outputs": [],
   "source": [
    "def computeL(maxday, maxlogcells, logcells0, coef):\n",
    "    L = maxday - ((maxlogcells - logcells0) / coef)\n",
    "    return L\n"
   ]
  },
  {
   "cell_type": "code",
   "execution_count": 10,
   "metadata": {},
   "outputs": [],
   "source": [
    "def computeMaxDay(maxlogcells, logcells0, coef, L):\n",
    "    maxday = ((maxlogcells - logcells0) / coef) + L\n",
    "    return maxday\n"
   ]
  },
  {
   "cell_type": "raw",
   "metadata": {},
   "source": [
    "ln(Nt) = u * d + intercept\n",
    "\n",
    "intercept = ln(N0)\n",
    "ln(Nt) = u * d + ln(N0)\n",
    "\n",
    "d = (ln(Nt) - ln(N0)) u\n",
    "\n",
    "deltad = maxday - d\n",
    "\n",
    "\n"
   ]
  },
  {
   "cell_type": "code",
   "execution_count": 11,
   "metadata": {},
   "outputs": [],
   "source": [
    "df = df.loc[~df.experiment.isin(['e7'])]"
   ]
  },
  {
   "cell_type": "code",
   "execution_count": 12,
   "metadata": {
    "scrolled": false
   },
   "outputs": [],
   "source": [
    "lagsdf = df.groupby(['experiment', 'sample', 'PRO', 'ALT', 'culture', 'experiment_sample']).apply(calculate_lag_wrap)\\\n",
    "        .reset_index()"
   ]
  },
  {
   "cell_type": "code",
   "execution_count": 13,
   "metadata": {
    "scrolled": true
   },
   "outputs": [
    {
     "data": {
      "text/html": [
       "<div>\n",
       "<style scoped>\n",
       "    .dataframe tbody tr th:only-of-type {\n",
       "        vertical-align: middle;\n",
       "    }\n",
       "\n",
       "    .dataframe tbody tr th {\n",
       "        vertical-align: top;\n",
       "    }\n",
       "\n",
       "    .dataframe thead th {\n",
       "        text-align: right;\n",
       "    }\n",
       "</style>\n",
       "<table border=\"1\" class=\"dataframe\">\n",
       "  <thead>\n",
       "    <tr style=\"text-align: right;\">\n",
       "      <th></th>\n",
       "      <th>experiment</th>\n",
       "      <th>sample</th>\n",
       "      <th>PRO</th>\n",
       "      <th>ALT</th>\n",
       "      <th>culture</th>\n",
       "      <th>experiment_sample</th>\n",
       "      <th>maxday</th>\n",
       "      <th>minday</th>\n",
       "      <th>maxlogFL</th>\n",
       "      <th>logFL0</th>\n",
       "      <th>log10FL0</th>\n",
       "      <th>intercept</th>\n",
       "      <th>coef</th>\n",
       "      <th>r2</th>\n",
       "      <th>L</th>\n",
       "    </tr>\n",
       "  </thead>\n",
       "  <tbody>\n",
       "    <tr>\n",
       "      <th>0</th>\n",
       "      <td>e1</td>\n",
       "      <td>10A</td>\n",
       "      <td>MIT0604</td>\n",
       "      <td>DE</td>\n",
       "      <td>Co_Culture</td>\n",
       "      <td>e1, 10A</td>\n",
       "      <td>14.960417</td>\n",
       "      <td>0.715972</td>\n",
       "      <td>1.726510</td>\n",
       "      <td>-2.813411</td>\n",
       "      <td>-1.221849</td>\n",
       "      <td>-2.590074</td>\n",
       "      <td>0.297113</td>\n",
       "      <td>0.991489</td>\n",
       "      <td>-0.319707</td>\n",
       "    </tr>\n",
       "    <tr>\n",
       "      <th>1</th>\n",
       "      <td>e1</td>\n",
       "      <td>10B</td>\n",
       "      <td>MIT0604</td>\n",
       "      <td>DE</td>\n",
       "      <td>Co_Culture</td>\n",
       "      <td>e1, 10B</td>\n",
       "      <td>14.960417</td>\n",
       "      <td>0.715972</td>\n",
       "      <td>1.733424</td>\n",
       "      <td>-2.975930</td>\n",
       "      <td>-1.292430</td>\n",
       "      <td>-2.679265</td>\n",
       "      <td>0.304705</td>\n",
       "      <td>0.982196</td>\n",
       "      <td>-0.495052</td>\n",
       "    </tr>\n",
       "    <tr>\n",
       "      <th>2</th>\n",
       "      <td>e1</td>\n",
       "      <td>10C</td>\n",
       "      <td>MIT0604</td>\n",
       "      <td>DE</td>\n",
       "      <td>Co_Culture</td>\n",
       "      <td>e1, 10C</td>\n",
       "      <td>14.960417</td>\n",
       "      <td>0.000000</td>\n",
       "      <td>1.741168</td>\n",
       "      <td>-2.718101</td>\n",
       "      <td>-1.180456</td>\n",
       "      <td>-2.626339</td>\n",
       "      <td>0.299733</td>\n",
       "      <td>0.989606</td>\n",
       "      <td>0.082945</td>\n",
       "    </tr>\n",
       "    <tr>\n",
       "      <th>3</th>\n",
       "      <td>e1</td>\n",
       "      <td>11A</td>\n",
       "      <td>MED4</td>\n",
       "      <td>DE1</td>\n",
       "      <td>Co_Culture</td>\n",
       "      <td>e1, 11A</td>\n",
       "      <td>10.603472</td>\n",
       "      <td>0.000000</td>\n",
       "      <td>1.076026</td>\n",
       "      <td>-1.890475</td>\n",
       "      <td>-0.821023</td>\n",
       "      <td>-2.380434</td>\n",
       "      <td>0.326145</td>\n",
       "      <td>0.998481</td>\n",
       "      <td>1.507826</td>\n",
       "    </tr>\n",
       "    <tr>\n",
       "      <th>4</th>\n",
       "      <td>e1</td>\n",
       "      <td>11B</td>\n",
       "      <td>MED4</td>\n",
       "      <td>DE1</td>\n",
       "      <td>Co_Culture</td>\n",
       "      <td>e1, 11B</td>\n",
       "      <td>13.694444</td>\n",
       "      <td>0.000000</td>\n",
       "      <td>1.810418</td>\n",
       "      <td>-1.698269</td>\n",
       "      <td>-0.737549</td>\n",
       "      <td>-2.258576</td>\n",
       "      <td>0.293950</td>\n",
       "      <td>0.998751</td>\n",
       "      <td>1.758092</td>\n",
       "    </tr>\n",
       "  </tbody>\n",
       "</table>\n",
       "</div>"
      ],
      "text/plain": [
       "  experiment sample      PRO  ALT     culture experiment_sample     maxday  \\\n",
       "0         e1    10A  MIT0604   DE  Co_Culture           e1, 10A  14.960417   \n",
       "1         e1    10B  MIT0604   DE  Co_Culture           e1, 10B  14.960417   \n",
       "2         e1    10C  MIT0604   DE  Co_Culture           e1, 10C  14.960417   \n",
       "3         e1    11A     MED4  DE1  Co_Culture           e1, 11A  10.603472   \n",
       "4         e1    11B     MED4  DE1  Co_Culture           e1, 11B  13.694444   \n",
       "\n",
       "     minday  maxlogFL    logFL0  log10FL0  intercept      coef        r2  \\\n",
       "0  0.715972  1.726510 -2.813411 -1.221849  -2.590074  0.297113  0.991489   \n",
       "1  0.715972  1.733424 -2.975930 -1.292430  -2.679265  0.304705  0.982196   \n",
       "2  0.000000  1.741168 -2.718101 -1.180456  -2.626339  0.299733  0.989606   \n",
       "3  0.000000  1.076026 -1.890475 -0.821023  -2.380434  0.326145  0.998481   \n",
       "4  0.000000  1.810418 -1.698269 -0.737549  -2.258576  0.293950  0.998751   \n",
       "\n",
       "          L  \n",
       "0 -0.319707  \n",
       "1 -0.495052  \n",
       "2  0.082945  \n",
       "3  1.507826  \n",
       "4  1.758092  "
      ]
     },
     "execution_count": 13,
     "metadata": {},
     "output_type": "execute_result"
    }
   ],
   "source": [
    "lagsdf.head()"
   ]
  },
  {
   "cell_type": "code",
   "execution_count": 14,
   "metadata": {},
   "outputs": [
    {
     "data": {
      "text/plain": [
       "Index(['experiment', 'sample', 'PRO', 'ALT', 'culture', 'experiment_sample',\n",
       "       'maxday', 'minday', 'maxlogFL', 'logFL0', 'log10FL0', 'intercept',\n",
       "       'coef', 'r2', 'L'],\n",
       "      dtype='object')"
      ]
     },
     "execution_count": 14,
     "metadata": {},
     "output_type": "execute_result"
    }
   ],
   "source": [
    "lagsdf.columns"
   ]
  },
  {
   "cell_type": "code",
   "execution_count": 15,
   "metadata": {},
   "outputs": [],
   "source": [
    "lagsdf = lagsdf.loc[~lagsdf.experiment.isin(['e7'])]"
   ]
  },
  {
   "cell_type": "code",
   "execution_count": 16,
   "metadata": {},
   "outputs": [
    {
     "ename": "NameError",
     "evalue": "name 'fcmdf' is not defined",
     "output_type": "error",
     "traceback": [
      "\u001b[1;31m---------------------------------------------------------------------------\u001b[0m",
      "\u001b[1;31mNameError\u001b[0m                                 Traceback (most recent call last)",
      "\u001b[1;32m<ipython-input-16-e9b9b763509a>\u001b[0m in \u001b[0;36m<module>\u001b[1;34m\u001b[0m\n\u001b[1;32m----> 1\u001b[1;33m \u001b[0mfcmdf\u001b[0m\u001b[1;33m.\u001b[0m\u001b[0mhead\u001b[0m\u001b[1;33m(\u001b[0m\u001b[1;33m)\u001b[0m\u001b[1;33m\u001b[0m\u001b[1;33m\u001b[0m\u001b[0m\n\u001b[0m",
      "\u001b[1;31mNameError\u001b[0m: name 'fcmdf' is not defined"
     ]
    }
   ],
   "source": [
    "fcmdf.head()"
   ]
  },
  {
   "cell_type": "code",
   "execution_count": null,
   "metadata": {},
   "outputs": [],
   "source": [
    "fcmdf.loc[(fcmdf.experiment == 'exp1') & (fcmdf.day == 60), 'e'] = 'e2'\n",
    "fcmdf.loc[(fcmdf.experiment == 'exp1') & (fcmdf.day == 100), 'e'] = 'e4'\n",
    "fcmdf.loc[(fcmdf.experiment == 'exp1') & (fcmdf.day == 140), 'e'] = 'e5'\n",
    "fdf = fcmdf.dropna(subset=['e'])\n",
    "fdf.loc[:,'experiment_sample'] = fdf['e'] + ', '+ fdf['sample']\n",
    "fdf['initialcells'] = fdf['PRO.1']/20\n",
    "fdf['initiallogcells'] = np.log(fdf['PRO.1']/20)\n",
    "fdf['initiallog10cells'] = np.log10(fdf['PRO.1']/20)\n",
    "\n",
    "fdf.head()"
   ]
  },
  {
   "cell_type": "code",
   "execution_count": null,
   "metadata": {},
   "outputs": [],
   "source": [
    "fdf.columns"
   ]
  },
  {
   "cell_type": "code",
   "execution_count": null,
   "metadata": {},
   "outputs": [],
   "source": [
    "lagsdf = pd.merge(lagsdf, fdf[['experiment_sample', 'initialcells', 'initiallogcells',\n",
    "       'initiallog10cells']], on='experiment_sample', how='left')\n",
    "lagsdf.loc[lagsdf.experiment == 'e1', 'initiallogcells'] = np.log(1e6)\n"
   ]
  },
  {
   "cell_type": "code",
   "execution_count": null,
   "metadata": {},
   "outputs": [],
   "source": [
    "lagsdf.loc[lagsdf.experiment == 'e1', 'initialcells'] = 1e6\n",
    "lagsdf.loc[lagsdf.experiment == 'e1', 'initiallog10cells'] = np.log10(1e6)\n"
   ]
  },
  {
   "cell_type": "code",
   "execution_count": null,
   "metadata": {},
   "outputs": [],
   "source": [
    "lagsdf.loc[lagsdf['sample'] == '8C']"
   ]
  },
  {
   "cell_type": "code",
   "execution_count": null,
   "metadata": {},
   "outputs": [],
   "source": [
    "lagsdf.groupby('experiment')['initiallogcells'].describe().T"
   ]
  },
  {
   "cell_type": "code",
   "execution_count": null,
   "metadata": {},
   "outputs": [],
   "source": [
    "lagsdf['L_init'] = lagsdf.apply(lambda x: computeL(x['maxday'], x['maxlogcells'], x['initiallogcells'], x['coef']), axis=1)"
   ]
  },
  {
   "cell_type": "code",
   "execution_count": null,
   "metadata": {},
   "outputs": [],
   "source": [
    "e1coef_df = lagsdf.loc[lagsdf.experiment == 'e1', ['sample', 'coef', 'L_init'] ]\n",
    "e1coef_df.index = e1coef_df['sample']\n",
    "\n",
    "lagsdf['e1 coef'] = lagsdf['sample'].map(e1coef_df['coef'])\n",
    "lagsdf['e1 L_init'] = lagsdf['sample'].map(e1coef_df['L_init'])\n"
   ]
  },
  {
   "cell_type": "code",
   "execution_count": null,
   "metadata": {},
   "outputs": [],
   "source": [
    "lagsdf['L_init_e1coef'] = lagsdf.apply(\n",
    "    lambda x: computeL(x['maxday'], x['maxlogcells'], x['initiallogcells'], x['e1 coef']), axis=1)"
   ]
  },
  {
   "cell_type": "code",
   "execution_count": null,
   "metadata": {},
   "outputs": [],
   "source": [
    "lagsdf['maxday_e1'] = lagsdf.apply(\n",
    "    lambda x: computeMaxDay(x['maxlogcells'], x['initiallogcells'], x['e1 coef'], x['e1 L_init']), axis=1)"
   ]
  },
  {
   "cell_type": "code",
   "execution_count": null,
   "metadata": {},
   "outputs": [],
   "source": [
    "le1df = lagsdf.loc[lagsdf.experiment == 'e1']"
   ]
  },
  {
   "cell_type": "code",
   "execution_count": null,
   "metadata": {},
   "outputs": [],
   "source": [
    "le1df.columns"
   ]
  },
  {
   "cell_type": "code",
   "execution_count": null,
   "metadata": {},
   "outputs": [],
   "source": [
    "(le1df.maxday - le1df.maxday_e1).value_counts()"
   ]
  },
  {
   "cell_type": "code",
   "execution_count": null,
   "metadata": {},
   "outputs": [],
   "source": [
    "sns.relplot(data=le1df, x='maxday', y='maxday_e1')"
   ]
  },
  {
   "cell_type": "code",
   "execution_count": null,
   "metadata": {},
   "outputs": [],
   "source": [
    "sns.set_context('talk')\n",
    "sns.set_style('white')\n"
   ]
  },
  {
   "cell_type": "code",
   "execution_count": null,
   "metadata": {},
   "outputs": [],
   "source": [
    "lagsdf.columns"
   ]
  },
  {
   "cell_type": "code",
   "execution_count": null,
   "metadata": {},
   "outputs": [],
   "source": [
    "maxdf = df.groupby(['experiment', 'sample', 'PRO', 'ALT', 'culture', 'experiment_sample'])['cells'].max()\\\n",
    "        .reset_index()"
   ]
  },
  {
   "cell_type": "code",
   "execution_count": null,
   "metadata": {},
   "outputs": [],
   "source": [
    "sns.catplot(data=maxdf, x='experiment', y='cells', kind='box', aspect=1.3,\n",
    "           order=eallorder, palette=eallpallete)\n",
    "#plt.yscale('log')\n",
    "plt.title('maximum number of cells')"
   ]
  },
  {
   "cell_type": "code",
   "execution_count": null,
   "metadata": {},
   "outputs": [],
   "source": [
    "sns.catplot(data=maxdf, x='experiment', y='cells', kind='box', \n",
    "           order=eallorder, palette=eallpallete,\n",
    "            aspect=0.8, height=5,\n",
    "            col='PRO', col_order=porder)\n",
    "plt.suptitle('maximum number of cells', y=1.05)\n",
    "    "
   ]
  },
  {
   "cell_type": "code",
   "execution_count": null,
   "metadata": {},
   "outputs": [],
   "source": []
  },
  {
   "cell_type": "code",
   "execution_count": null,
   "metadata": {
    "scrolled": false
   },
   "outputs": [],
   "source": [
    "for i in ['maxday', 'maxlogcells', 'logcells0', 'log10cells0', 'intercept', 'coef', 'r2', 'L', \n",
    "          'L_init', 'e1 coef','L_init_e1coef', 'initialcells', 'initiallogcells',\n",
    "       'initiallog10cells', 'maxday_e1']:\n",
    "    sns.catplot(data=lagsdf, x='experiment', y=i, kind='box', aspect=1.3,\n",
    "               order=eallorder, palette=eallpallete)\n",
    "    plt.title(i)"
   ]
  },
  {
   "cell_type": "code",
   "execution_count": null,
   "metadata": {
    "scrolled": false
   },
   "outputs": [],
   "source": [
    "sns.set_style('white')\n",
    "sns.set_context('poster')\n",
    "for i in [#'maxday', 'maxlogcells', 'logcells0', 'log10cells0', 'intercept', 'coef', 'r2', \n",
    "    'L', \n",
    "          'L_init', #'e1 coef','L_init_e1coef', 'initialcells', 'initiallogcells',\n",
    "       #'initiallog10cells', 'maxday_e1'\n",
    "]:\n",
    "    sns.catplot(data=lagsdf, x='experiment', y=i, kind='box', aspect=1.3, \n",
    "                order=efcmorder, palette=efcmpallete,\n",
    "                facet_kws=dict(ylim=(-10,60))\n",
    "                \n",
    "               )\n",
    "    plt.title(i)"
   ]
  },
  {
   "cell_type": "code",
   "execution_count": null,
   "metadata": {
    "scrolled": false
   },
   "outputs": [],
   "source": [
    "for i in [#'maxday', 'maxlogcells', 'logcells0', 'log10cells0', 'intercept', 'coef', 'r2',\n",
    "    'L', \n",
    "          'L_init', #'e1 coef','L_init_e1coef', 'initialcells', 'initiallogcells',\n",
    "       #'initiallog10cells', 'maxday_e1'\n",
    "]:\n",
    "    sns.catplot(data=lagsdf, x='experiment', y=i, kind='box', aspect=0.8, height=5,\n",
    "                order=efcmorder,palette=efcmpallete,\n",
    "                col='PRO', col_order=porder,\n",
    "                facet_kws=dict(ylim=(-10,60))\n",
    "               )\n",
    "    plt.suptitle(i, y=1.05)"
   ]
  },
  {
   "cell_type": "code",
   "execution_count": null,
   "metadata": {
    "scrolled": false
   },
   "outputs": [],
   "source": [
    "for i in ['maxday', 'maxlogcells', 'logcells0', 'log10cells0', 'intercept', 'coef', 'r2', 'L', \n",
    "          'L_init', 'e1 coef','L_init_e1coef', 'initialcells', 'initiallogcells',\n",
    "       'initiallog10cells', 'maxday_e1']:\n",
    "    sns.catplot(data=lagsdf, x='experiment', y=i, kind='box', aspect=0.8, height=5,\n",
    "                order=eallorder,palette=eallpallete,\n",
    "                \n",
    "                col='PRO', col_order=porder)\n",
    "    plt.suptitle(i, y=1.05)"
   ]
  },
  {
   "cell_type": "code",
   "execution_count": null,
   "metadata": {
    "scrolled": false
   },
   "outputs": [],
   "source": [
    "#for e in ['e1', 'e2', 'e4', 'e5']: \n",
    "g = sns.relplot(data=lagsdf.loc[lagsdf.culture.isin(['Co_Culture', 'Axenic'])], \n",
    "                                x='log10cells0', y='initiallog10cells', hue='PRO', \n",
    "                height=4, aspect=1,\n",
    "            col='experiment', col_wrap=2, col_order=['e1', 'e2', 'e4', 'e5'], \n",
    "                palette=ppallete, hue_order=porder,\n",
    "                style='PRO', style_order=porder, markers=pmarkers,\n",
    "                size='PRO', size_order=porder, sizes=psizes,\n",
    "                facet_kws=dict(ylim=(1,8), xlim=(6,8), legend_out=True)\n",
    "            )\n",
    "g.map(sns.lineplot, x=lagsdf['log10cells0'], y=lagsdf['log10cells0'], linestyle='dashed' )\n",
    "g.set_axis_labels('log10(cells) (fit from FL)', 'log10(cells) - FCM')\n",
    "plt.legend(bbox_to_anchor=(1.6,1), frameon=False)"
   ]
  },
  {
   "cell_type": "code",
   "execution_count": null,
   "metadata": {
    "scrolled": false
   },
   "outputs": [],
   "source": [
    "#for e in ['e1', 'e2', 'e4', 'e5']: \n",
    "g = sns.relplot(data=lagsdf.loc[lagsdf.culture.isin(['Co_Culture', 'Axenic'])], \n",
    "                                x='maxday', y='maxday_e1', hue='PRO', \n",
    "            col='experiment', col_wrap=2, col_order=['e1', 'e2', 'e4', 'e5'], \n",
    "                palette=ppallete, hue_order=porder,\n",
    "                style='PRO', style_order=porder, markers=pmarkers,\n",
    "                size='PRO', size_order=porder, sizes=psizes,\n",
    "                facet_kws=dict(ylim=(0,80), xlim=(0,80))\n",
    "            )\n",
    "g.map(sns.lineplot, x=lagsdf['maxday'], y=lagsdf['maxday'], linestyle='dashed' )\n",
    "g.set_axis_labels('actual max day', 'computed max day')\n"
   ]
  },
  {
   "cell_type": "code",
   "execution_count": null,
   "metadata": {
    "scrolled": false
   },
   "outputs": [],
   "source": [
    "#for e in ['e1', 'e2', 'e4', 'e5']: \n",
    "sns.set_context('talk')\n",
    "sns.set_style('white')\n",
    "g = sns.relplot(data=lagsdf.loc[lagsdf.culture.isin(['Co_Culture', 'Axenic'])], \n",
    "                                x='e1 coef', y='coef', hue='PRO', \n",
    "            col='experiment', #col_wrap=2,\n",
    "                col_order=['e2', 'e4', 'e5'], \n",
    "                palette=ppallete, hue_order=porder,\n",
    "                style='PRO', style_order=porder, markers=pmarkers,\n",
    "                size='PRO', size_order=porder, sizes=psizes,\n",
    "                facet_kws=dict(ylim=(0,0.6), xlim=(0,0.6)),\n",
    "                legend=False\n",
    "                \n",
    "            )\n",
    "g.map(sns.lineplot, x=lagsdf['e1 coef'], y=lagsdf['e1 coef'], linestyle='dashed' )\n",
    "g.set_axis_labels('experiment 1 growth rate', 'growth rate')\n",
    "#plt.legend(False)"
   ]
  },
  {
   "cell_type": "code",
   "execution_count": null,
   "metadata": {},
   "outputs": [],
   "source": [
    "lagsdf.columns"
   ]
  },
  {
   "cell_type": "code",
   "execution_count": null,
   "metadata": {
    "scrolled": false
   },
   "outputs": [],
   "source": [
    "#for e in ['e1', 'e2', 'e4', 'e5']: \n",
    "g = sns.relplot(data=lagsdf.loc[lagsdf.culture.isin(['Co_Culture', 'Axenic'])], \n",
    "                                x='L_init_e1coef', y='L_init', hue='PRO', \n",
    "            col='experiment', col_wrap=2, col_order=['e1', 'e2', 'e4', 'e5'], \n",
    "                palette=ppallete, hue_order=porder,\n",
    "                style='PRO', style_order=porder, markers=pmarkers,\n",
    "                size='PRO', size_order=porder, sizes=psizes,\n",
    "                #facet_kws=dict(ylim=(0,0.6), xlim=(0,0.6))\n",
    "            )\n",
    "g.map(sns.lineplot, x=lagsdf['L_init_e1coef'], y=lagsdf['L_init_e1coef'], linestyle='dashed' )\n",
    "g.set_axis_labels('Lag based on experiment 1 rate (days)', 'Lag based on FCM (days)')\n"
   ]
  },
  {
   "cell_type": "code",
   "execution_count": null,
   "metadata": {
    "scrolled": false
   },
   "outputs": [],
   "source": [
    "#for e in ['e1', 'e2', 'e4', 'e5']: \n",
    "g = sns.relplot(data=lagsdf.loc[lagsdf.culture.isin(['Co_Culture', 'Axenic'])], \n",
    "                                x='L_init_e1coef', y='L', hue='PRO', \n",
    "            col='experiment', col_wrap=2, col_order=['e1', 'e2', 'e4', 'e5'], \n",
    "                palette=ppallete, hue_order=porder,\n",
    "                style='PRO', style_order=porder, markers=pmarkers,\n",
    "                size='PRO', size_order=porder, sizes=psizes,\n",
    "                #facet_kws=dict(ylim=(0,0.6), xlim=(0,0.6))\n",
    "            )\n",
    "g.map(sns.lineplot, x=lagsdf['L_init_e1coef'], y=lagsdf['L_init_e1coef'], linestyle='dashed' )\n",
    "g.set_axis_labels('Lag based on experiment 1 rate (days)', 'Lag (days)')\n"
   ]
  },
  {
   "cell_type": "code",
   "execution_count": null,
   "metadata": {
    "scrolled": false
   },
   "outputs": [],
   "source": [
    "#for e in ['e1', 'e2', 'e4', 'e5']: \n",
    "g = sns.relplot(data=lagsdf.loc[lagsdf.culture.isin(['Co_Culture', 'Axenic'])], \n",
    "                                x='L', y='L_init', hue='PRO', \n",
    "            col='experiment', col_wrap=2, col_order=['e1', 'e2', 'e4', 'e5'], \n",
    "                palette=ppallete, hue_order=porder,\n",
    "                style='PRO', style_order=porder, markers=pmarkers,\n",
    "                size='PRO', size_order=porder, sizes=psizes,\n",
    "                #facet_kws=dict(ylim=(0,0.6), xlim=(0,0.6))\n",
    "            )\n",
    "g.map(sns.lineplot, x=lagsdf['L_init_e1coef'], y=lagsdf['L_init_e1coef'], linestyle='dashed' )\n",
    "g.set_axis_labels('Lag (FL) (days)', 'Lag (FCM) (days)')\n"
   ]
  },
  {
   "cell_type": "code",
   "execution_count": null,
   "metadata": {
    "scrolled": false
   },
   "outputs": [],
   "source": [
    "#for e in ['e1', 'e2', 'e4', 'e5']: \n",
    "g = sns.relplot(data=lagsdf.loc[lagsdf.culture.isin(['Co_Culture', 'Axenic'])], \n",
    "                                x='maxday', y='maxday_e1', hue='ALT', \n",
    "            col='experiment', col_wrap=2, col_order=['e1', 'e2', 'e4', 'e5'], \n",
    "                palette=apallete + ['black'], hue_order=aorder + ['Ax_Pro'],\n",
    "                s=100,\n",
    "                style='ALT', style_order=aorder+ ['Ax_Pro'], markers=amarkers + ['D'],\n",
    "                facet_kws=dict(ylim=(0,80), xlim=(0,80))\n",
    "            )\n",
    "g.map(sns.lineplot, x=lagsdf['maxday'], y=lagsdf['maxday'], linestyle='dashed' )\n",
    "g.set_axis_labels('actual max day', 'computed max day')\n"
   ]
  },
  {
   "cell_type": "code",
   "execution_count": null,
   "metadata": {},
   "outputs": [],
   "source": [
    "lagsdf['max day diff (actual - computed)'] = lagsdf['maxday'] - lagsdf['maxday_e1']\n",
    "g = sns.catplot(data=lagsdf.loc[lagsdf.culture.isin(['Co_Culture', 'Axenic'])], \n",
    "                                x='PRO', y='max day diff (actual - computed)', #hue='PRO', \n",
    "            col='experiment', col_wrap=2, col_order=['e1', 'e2', 'e4', 'e5'], \n",
    "                palette=ppallete, order=porder,\n",
    "                aspect=1.2,\n",
    "                #style='PRO', style_order=porder, markers=pmarkers,\n",
    "                #size='PRO', size_order=porder, sizes=psizes,\n",
    "                #facet_kws=dict(ylim=(0,80))\n",
    "                kind='box',\n",
    "            )\n",
    "def plot_axhline0(**kwargs):\n",
    "    plt.axhline(0,**kwargs)\n",
    "g.map(plot_axhline0, ls=':')\n"
   ]
  },
  {
   "cell_type": "code",
   "execution_count": null,
   "metadata": {
    "scrolled": true
   },
   "outputs": [],
   "source": [
    "sns.set_context('talk')\n",
    "sns.set_style('white')\n",
    "for e in ['e1','e2','e4','e5']:\n",
    "    g = sns.relplot(data=lagsdf.loc[lagsdf.experiment.isin([e]) & lagsdf.PRO.isin(porder)], \n",
    "            x='L', y='L_init',  hue='PRO', s=50, #legend=False,\n",
    "                    hue_order=porder, palette=ppallete,\n",
    "                    style='PRO', style_order=porder, markers=pmarkers,\n",
    "                    size='PRO', size_order=porder, sizes=psizes,\n",
    "                   )\n",
    "    sns.lineplot(x=lagsdf.loc[lagsdf.experiment.isin([e]),'L'], \n",
    "                 y=lagsdf.loc[lagsdf.experiment.isin([e]),'L'], color='black', ax=g.ax, legend=False )\n",
    "    g.set_axis_labels('L (days)', 'L based on FCM (days)')\n",
    "    plt.suptitle(f'Lag vs Lag based on initial PRO cells - {e}', y=1.05)"
   ]
  },
  {
   "cell_type": "code",
   "execution_count": null,
   "metadata": {},
   "outputs": [],
   "source": [
    "lagsdf.columns"
   ]
  },
  {
   "cell_type": "code",
   "execution_count": null,
   "metadata": {
    "scrolled": true
   },
   "outputs": [],
   "source": [
    "sns.set_context('talk')\n",
    "sns.set_style('white')\n",
    "for e in ['e1','e2','e4','e5']:\n",
    "    g = sns.relplot(data=lagsdf.loc[lagsdf.experiment.isin([e]) & lagsdf.PRO.isin(porder)], \n",
    "            y='logcells0', x='initiallogcells',  hue='PRO', s=50, #legend=False,\n",
    "                    hue_order=porder, palette=ppallete,\n",
    "                    style='PRO', style_order=porder, markers=pmarkers,\n",
    "                    size='PRO', size_order=porder, sizes=psizes,\n",
    "                   )\n",
    "    sns.lineplot(x=lagsdf.loc[lagsdf.experiment.isin([e]),'initiallogcells'], \n",
    "                 y=lagsdf.loc[lagsdf.experiment.isin([e]),'initiallogcells'], color='black', ax=g.ax, legend=False )\n",
    "    g.set_axis_labels('log cells (FCM)', 'log cells (from FL)', )\n",
    "    plt.suptitle(f'cells from FL vs FCM - {e}', y=1.05)\n",
    "    plt.ticklabel_format(useOffset=False)"
   ]
  },
  {
   "cell_type": "code",
   "execution_count": null,
   "metadata": {},
   "outputs": [],
   "source": [
    "worse_l = lagsdf.nsmallest(10, 'L')['experiment_sample']"
   ]
  },
  {
   "cell_type": "code",
   "execution_count": null,
   "metadata": {},
   "outputs": [],
   "source": [
    "lagsdf.nsmallest(10, 'r2')"
   ]
  },
  {
   "cell_type": "code",
   "execution_count": null,
   "metadata": {},
   "outputs": [],
   "source": [
    "def plot_growth(es):\n",
    "    sns.set(rc={'figure.figsize':(10,5)})\n",
    "    maxday = lagsdf.loc[lagsdf.experiment_sample == es, 'maxday'].unique()[0]\n",
    "    minday = lagsdf.loc[lagsdf.experiment_sample == es, 'minday'].unique()[0]\n",
    "    r2 = lagsdf.loc[lagsdf.experiment_sample == es, 'r2'].unique()[0]\n",
    "    L = lagsdf.loc[lagsdf.experiment_sample == es, 'L'].unique()[0]\n",
    "    \n",
    "    d = df.loc[df.experiment_sample == es].reset_index()\n",
    "    d['fitted_growth'] = d.day*lagsdf.loc[lagsdf.experiment_sample == es, 'coef'].unique() + lagsdf.loc[lagsdf.experiment_sample == es, 'intercept'].unique()\n",
    "    d.loc[d.day > maxday, 'fitted_growth'] = np.NaN\n",
    "    d.loc[d.day < minday, 'fitted_growth'] = np.NaN\n",
    "    sns.lineplot(data=d,\n",
    "                 x='day', y='logcells',  style=True, markers=True,label='logcells')\n",
    "    sns.lineplot(data=d,\n",
    "        x='day', y='fitted_growth',  style=True, markers=True,label='fit')\n",
    "    plt.title(f'{es}: L={L:.2f}, r2={r2:.2f}')\n",
    "    plt.show()\n"
   ]
  },
  {
   "cell_type": "code",
   "execution_count": null,
   "metadata": {
    "scrolled": false
   },
   "outputs": [],
   "source": [
    "for es in worse_l:\n",
    "    plot_growth(es)"
   ]
  },
  {
   "cell_type": "code",
   "execution_count": null,
   "metadata": {
    "scrolled": false
   },
   "outputs": [],
   "source": [
    "worse_r2 = lagsdf.nsmallest(10, 'r2')['experiment_sample']\n",
    "for es in worse_r2:\n",
    "    plot_growth(es)"
   ]
  },
  {
   "cell_type": "code",
   "execution_count": null,
   "metadata": {},
   "outputs": [],
   "source": []
  },
  {
   "cell_type": "code",
   "execution_count": null,
   "metadata": {},
   "outputs": [],
   "source": [
    "sns.relplot(data=lagsdf, x='maxday', y='L', hue='experiment', size='r2')"
   ]
  },
  {
   "cell_type": "code",
   "execution_count": null,
   "metadata": {},
   "outputs": [],
   "source": [
    "lagsdf.loc[lagsdf.maxday>60]"
   ]
  },
  {
   "cell_type": "code",
   "execution_count": null,
   "metadata": {},
   "outputs": [],
   "source": [
    "def plot_growth(es):\n",
    "    maxday = lagsdf.loc[lagsdf.experiment_sample == es, 'maxday'].unique()[0]\n",
    "    minday = lagsdf.loc[lagsdf.experiment_sample == es, 'minday'].unique()[0]\n",
    "    r2 = lagsdf.loc[lagsdf.experiment_sample == es, 'r2'].unique()[0]\n",
    "    L = lagsdf.loc[lagsdf.experiment_sample == es, 'L'].unique()[0]\n",
    "    \n",
    "    d = df.loc[df.experiment_sample == es].reset_index()\n",
    "    d['fitted_growth'] = d.day*lagsdf.loc[lagsdf.experiment_sample == es, 'coef'].unique() + lagsdf.loc[lagsdf.experiment_sample == es, 'intercept'].unique()\n",
    "    d.loc[d.day > maxday, 'fitted_growth'] = np.NaN\n",
    "    d.loc[d.day < minday, 'fitted_growth'] = np.NaN\n",
    "    sns.lineplot(data=d,\n",
    "                 x='day', y='logcells',  style=True, markers=True,label='logcells')\n",
    "    sns.lineplot(data=d,\n",
    "        x='day', y='fitted_growth',  style=True, markers=True,label='fit')\n",
    "    plt.title(f'{es}: L={L:.2f}, r2={r2:.2f}')\n",
    "    plt.show()\n"
   ]
  },
  {
   "cell_type": "code",
   "execution_count": null,
   "metadata": {},
   "outputs": [],
   "source": [
    "def add_fit(d):\n",
    "    es = d.name\n",
    "    lagsdf_row = lagsdf.loc[lagsdf.experiment_sample == es].iloc[0]\n",
    "    maxday = lagsdf_row['maxday']\n",
    "    minday = lagsdf_row['minday']\n",
    "    coef = lagsdf_row['coef']\n",
    "    intercept = lagsdf_row['intercept']\n",
    "    \n",
    "    d['fitted_growth'] = d.day*coef + intercept\n",
    "    d.loc[d.day > maxday, 'fitted_growth'] = np.NaN\n",
    "    d.loc[d.day < minday, 'fitted_growth'] = np.NaN\n",
    "    return d\n",
    "    \n",
    "\n",
    "df_fit = df.reset_index(drop=True).groupby(['experiment_sample']).apply(add_fit)\n"
   ]
  },
  {
   "cell_type": "code",
   "execution_count": null,
   "metadata": {},
   "outputs": [],
   "source": [
    "df_fit.columns"
   ]
  },
  {
   "cell_type": "code",
   "execution_count": null,
   "metadata": {},
   "outputs": [],
   "source": [
    "df_fit_m = df_fit.melt(id_vars=['day', 'experiment', 'sample', 'PRO', 'ALT', 'culture', 'experiment_sample'],\n",
    "            value_vars=['logcells', 'fitted_growth'], value_name='ln(cell/ml)', var_name='var' )"
   ]
  },
  {
   "cell_type": "code",
   "execution_count": null,
   "metadata": {
    "scrolled": false
   },
   "outputs": [],
   "source": [
    "\n",
    "g = sns.relplot(data=df_fit_m.loc[df_fit_m['sample'].isin(['11C']) &\n",
    "                               df_fit_m.experiment.isin(['e1','e2','e4','e5'])],\n",
    "             x='day', y='ln(cell/ml)', hue='var',\n",
    "                style=True, markers=True, col='experiment', col_wrap=2, kind='line')\n",
    "\n"
   ]
  },
  {
   "cell_type": "code",
   "execution_count": null,
   "metadata": {},
   "outputs": [],
   "source": [
    "with pd.option_context(\"display.precision\", 2,):\n",
    "    display(lagsdf.loc[lagsdf['sample'].isin(['11C'])&\n",
    "           lagsdf.experiment.isin(['e1','e2','e4','e5']),]\n",
    "                       \n",
    "#           #['experiment', \n",
    "#         'log10cells0', 'initiallog10cells',\n",
    "#        'coef', 'r2', 'L', \n",
    "#        'L_init', 'L_init_e1coef', \n",
    "#       'maxday', 'maxday_e1', ]]\n",
    "           )"
   ]
  },
  {
   "cell_type": "code",
   "execution_count": null,
   "metadata": {},
   "outputs": [],
   "source": [
    "### es = 'e5, 11C'\n",
    "69 , (16.04 - 3.33) / 0.11, 69  - (16.04 - 14) / 0.11, \n",
    "#L = maxday - ((maxlogcells - logcells0) / coef)\n"
   ]
  },
  {
   "cell_type": "code",
   "execution_count": null,
   "metadata": {},
   "outputs": [],
   "source": [
    "lagsdf.nsmallest(10, 'initiallogcells')"
   ]
  },
  {
   "cell_type": "code",
   "execution_count": null,
   "metadata": {},
   "outputs": [],
   "source": [
    "lagsdf.nsmallest(10, 'L_init').T"
   ]
  },
  {
   "cell_type": "code",
   "execution_count": null,
   "metadata": {},
   "outputs": [],
   "source": [
    "sns.set(rc={'figure.figsize':(15,8)})\n",
    "es = 'e3, 8B'\n",
    "d = df.loc[df.experiment_sample == es].reset_index()\n",
    "d['fitted_growth'] = d.day*lagsdf.loc[lagsdf.experiment_sample == es, 'coef'].unique() + lagsdf.loc[lagsdf.experiment_sample == es, 'intercept'].unique()\n",
    "sns.lineplot(data=d,\n",
    "             x='day', y='logcells',  style=True, markers=True,label='logFL')\n",
    "sns.lineplot(data=d,\n",
    "    x='day', y='fitted_growth',  style=True, markers=True,label='fit')\n",
    "\n",
    "#sns.lineplot(data=d, x='day', y='first_deriviative',  style=True, markers=True,label='1')\n",
    "#sns.lineplot(data=d, x='day', y='second_deriviative',  style=True, markers=True,label='2')"
   ]
  },
  {
   "cell_type": "code",
   "execution_count": null,
   "metadata": {},
   "outputs": [],
   "source": []
  },
  {
   "cell_type": "code",
   "execution_count": null,
   "metadata": {
    "scrolled": false
   },
   "outputs": [],
   "source": [
    "sns.relplot(data=df.loc[df.experiment == 'e2'], x='day', y='FL', \n",
    "            col='sample', hue='PRO', col_wrap=4, kind='line')"
   ]
  },
  {
   "cell_type": "code",
   "execution_count": null,
   "metadata": {},
   "outputs": [],
   "source": []
  },
  {
   "cell_type": "code",
   "execution_count": null,
   "metadata": {},
   "outputs": [],
   "source": [
    "sns.catplot(data=lagsdf.loc[lagsdf.experiment == 'e1'],\n",
    "            x='culture', y='coef', kind='box',\n",
    "           )"
   ]
  },
  {
   "cell_type": "code",
   "execution_count": null,
   "metadata": {},
   "outputs": [],
   "source": [
    "sns.catplot(data=lagsdf.loc[lagsdf.experiment == 'e1'],\n",
    "            hue='culture', y='coef', kind='box', x='PRO', aspect=3,\n",
    "           )"
   ]
  },
  {
   "cell_type": "code",
   "execution_count": null,
   "metadata": {},
   "outputs": [],
   "source": []
  }
 ],
 "metadata": {
  "kernelspec": {
   "display_name": "Python 3",
   "language": "python",
   "name": "python3"
  },
  "language_info": {
   "codemirror_mode": {
    "name": "ipython",
    "version": 3
   },
   "file_extension": ".py",
   "mimetype": "text/x-python",
   "name": "python",
   "nbconvert_exporter": "python",
   "pygments_lexer": "ipython3",
   "version": "3.7.1"
  }
 },
 "nbformat": 4,
 "nbformat_minor": 2
}
