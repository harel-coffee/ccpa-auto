{
 "cells": [
  {
   "cell_type": "code",
   "execution_count": 1,
   "metadata": {},
   "outputs": [],
   "source": [
    "import itertools\n",
    "import sys, os\n",
    "\n",
    "import numpy as np\n",
    "import pandas as pd\n",
    "from scipy.special import comb\n",
    "from scipy import stats\n",
    "import scipy.cluster.hierarchy as hac\n",
    "import matplotlib.pyplot as plt\n",
    "plt.style.use('classic')\n",
    "%matplotlib inline\n",
    "import numpy as np\n",
    "import pandas as pd\n",
    "import seaborn as sns\n",
    "from sklearn.decomposition import PCA\n",
    "from sklearn.preprocessing import StandardScaler\n",
    "from scipy.stats import zscore\n",
    "sns.set(rc={'figure.figsize':(15,8)})\n",
    "sns.set_context('poster')\n",
    "sns.set_style('white')\n"
   ]
  },
  {
   "cell_type": "code",
   "execution_count": 2,
   "metadata": {},
   "outputs": [],
   "source": [
    "import os\n",
    "from Bio.Seq import Seq\n",
    "from Bio.SeqRecord import SeqRecord\n",
    "from Bio.SeqFeature import SeqFeature, FeatureLocation\n",
    "from Bio import SeqIO"
   ]
  },
  {
   "cell_type": "code",
   "execution_count": 3,
   "metadata": {},
   "outputs": [],
   "source": [
    "def gb_to_record(i, genome='MIT9313'):\n",
    "    q = i.qualifiers\n",
    "    g = lambda x : ','.join(q.get(x, []))\n",
    "    pmtid = [i for i in q.get('old_locus_tag',[]) if i.startswith('PMT')]\n",
    "    record = {\n",
    "        'contig_id' : genome, \n",
    "        'gene_id' : g('locus_tag'), \n",
    "        'pmt_id': ','.join(pmtid), \n",
    "        'type' : i.type, \n",
    "        'location' : g('locus_tag'),  \n",
    "        'strand' : '+' if i.location.strand == 1 else '-',\n",
    "        'start' : int(i.location.start),\n",
    "        'stop' : int(i.location.end),\n",
    "        'left' : int(i.location.start),\n",
    "        'right' : int(i.location.end),\n",
    "        'function' : g('product'), \n",
    "        'genome' : genome, \n",
    "        'old_locus_tag' : g('old_locus_tag'), \n",
    "        'product' : g('product'), \n",
    "        'db_xref' : g('db_xref'), \n",
    "        'protein_id' : g('protein_id'), \n",
    "        'figfam' : '',\n",
    "        'nucleotide_sequence' : '', \n",
    "        'aa_sequence' : g('translation'), \n",
    "    }\n",
    "    return record\n"
   ]
  },
  {
   "cell_type": "code",
   "execution_count": 4,
   "metadata": {},
   "outputs": [],
   "source": [
    "def gb2feather(gb_fpath, feather_fpath):\n",
    "    # get all sequence records for the specified genbank file\n",
    "    recs = [rec for rec in SeqIO.parse(gb_fpath, \"genbank\")]\n",
    "\n",
    "    # print the number of sequence records that were extracted\n",
    "    len(recs)\n",
    "\n",
    "    types_to_collect = ['CDS', 'ncRNA', 'rRNA', 'regulatory', 'tRNA', 'tmRNA']\n",
    "    records = [gb_to_record(i) for i in recs[0].features if i.type in types_to_collect]\n",
    "    gdf = pd.DataFrame(records)\n",
    "    gdf.to_pickle(feather_fpath)\n"
   ]
  },
  {
   "cell_type": "code",
   "execution_count": 5,
   "metadata": {},
   "outputs": [],
   "source": [
    "def genome2feather(genome):\n",
    "    gb_fpath = os.path.join('DNA','genomes', f\"{genome}.gb\")\n",
    "    feather_fpath = os.path.join('DNA','genomes', f'{genome}.ncbi.gb.pkl.gz')\n",
    "    gb2feather(gb_fpath, feather_fpath)\n"
   ]
  },
  {
   "cell_type": "code",
   "execution_count": 6,
   "metadata": {},
   "outputs": [],
   "source": [
    "genome2feather('MIT0604')\n"
   ]
  },
  {
   "cell_type": "code",
   "execution_count": 7,
   "metadata": {},
   "outputs": [],
   "source": [
    "genome2feather('DE')\n"
   ]
  },
  {
   "cell_type": "code",
   "execution_count": 8,
   "metadata": {},
   "outputs": [],
   "source": [
    "genome2feather('1A3')\n"
   ]
  },
  {
   "cell_type": "code",
   "execution_count": 9,
   "metadata": {},
   "outputs": [],
   "source": [
    "genome2feather('MIT9313')\n"
   ]
  },
  {
   "cell_type": "code",
   "execution_count": null,
   "metadata": {},
   "outputs": [],
   "source": []
  }
 ],
 "metadata": {
  "kernelspec": {
   "display_name": "Python 3",
   "language": "python",
   "name": "python3"
  },
  "language_info": {
   "codemirror_mode": {
    "name": "ipython",
    "version": 3
   },
   "file_extension": ".py",
   "mimetype": "text/x-python",
   "name": "python",
   "nbconvert_exporter": "python",
   "pygments_lexer": "ipython3",
   "version": "3.7.1"
  }
 },
 "nbformat": 4,
 "nbformat_minor": 2
}
